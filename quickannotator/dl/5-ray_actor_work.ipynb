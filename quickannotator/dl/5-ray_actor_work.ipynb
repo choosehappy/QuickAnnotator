{
 "cells": [
  {
   "cell_type": "code",
   "execution_count": null,
   "metadata": {},
   "outputs": [],
   "source": []
  },
  {
   "cell_type": "code",
   "execution_count": 1,
   "metadata": {},
   "outputs": [],
   "source": [
    "%load_ext autoreload\n",
    "%autoreload 2"
   ]
  },
  {
   "cell_type": "code",
   "execution_count": 2,
   "metadata": {},
   "outputs": [],
   "source": [
    "#!pip install ray[train]"
   ]
  },
  {
   "cell_type": "code",
   "execution_count": 3,
   "metadata": {},
   "outputs": [],
   "source": [
    "#!pip install -U ipywidgets\n",
    "# not needed for production, only for jupyter notebook"
   ]
  },
  {
   "cell_type": "code",
   "execution_count": 4,
   "metadata": {},
   "outputs": [],
   "source": [
    "#--- need to run \n",
    "#memcached -m 10240 -I 20m -vv -u www-data &"
   ]
  },
  {
   "cell_type": "code",
   "execution_count": null,
   "metadata": {},
   "outputs": [],
   "source": [
    "#--- should clean imports - copy paste\n",
    "import ray\n",
    "from ray.train import ScalingConfig\n",
    "import torch\n",
    "from torch.nn import CrossEntropyLoss\n",
    "from torch.optim import Adam\n",
    "from torch.utils.data import DataLoader\n",
    "from torchvision.models import resnet18\n",
    "from torchvision.datasets import FashionMNIST\n",
    "from torchvision.transforms import ToTensor, Normalize, Compose\n",
    "import ray.train.torch\n",
    "import ray.util.state\n",
    "import ray\n",
    "import torch\n",
    "import torch.nn as nn\n",
    "import ray.train.torch\n",
    "import ray.train\n",
    "from torch.nn import CrossEntropyLoss, MSELoss\n",
    "from torch.optim import Adam\n",
    "from quickannotator.constants import TileStatus"
   ]
  },
  {
   "cell_type": "code",
   "execution_count": 6,
   "metadata": {},
   "outputs": [
    {
     "name": "stderr",
     "output_type": "stream",
     "text": [
      "2025-01-22 01:10:25,337\tINFO worker.py:1777 -- Started a local Ray instance. View the dashboard at \u001b[1m\u001b[32m127.0.0.1:8265 \u001b[39m\u001b[22m\n"
     ]
    },
    {
     "data": {
      "application/vnd.jupyter.widget-view+json": {
       "model_id": "b9366db806d6415aaba212d8a120bded",
       "version_major": 2,
       "version_minor": 0
      },
      "text/html": [
       "<div class=\"lm-Widget p-Widget lm-Panel p-Panel jp-Cell-outputWrapper\">\n",
       "    <div style=\"margin-left: 50px;display: flex;flex-direction: row;align-items: center\">\n",
       "        <div class=\"jp-RenderedHTMLCommon\" style=\"display: flex; flex-direction: row;\">\n",
       "  <svg viewBox=\"0 0 567 224\" fill=\"none\" xmlns=\"http://www.w3.org/2000/svg\" style=\"height: 3em;\">\n",
       "    <g clip-path=\"url(#clip0_4338_178347)\">\n",
       "        <path d=\"M341.29 165.561H355.29L330.13 129.051C345.63 123.991 354.21 112.051 354.21 94.2307C354.21 71.3707 338.72 58.1807 311.88 58.1807H271V165.561H283.27V131.661H311.8C314.25 131.661 316.71 131.501 319.01 131.351L341.25 165.561H341.29ZM283.29 119.851V70.0007H311.82C331.3 70.0007 342.34 78.2907 342.34 94.5507C342.34 111.271 331.34 119.861 311.82 119.861L283.29 119.851ZM451.4 138.411L463.4 165.561H476.74L428.74 58.1807H416L367.83 165.561H380.83L392.83 138.411H451.4ZM446.19 126.601H398L422 72.1407L446.24 126.601H446.19ZM526.11 128.741L566.91 58.1807H554.35L519.99 114.181L485.17 58.1807H472.44L514.01 129.181V165.541H526.13V128.741H526.11Z\" fill=\"var(--jp-ui-font-color0)\"/>\n",
       "        <path d=\"M82.35 104.44C84.0187 97.8827 87.8248 92.0678 93.1671 87.9146C98.5094 83.7614 105.083 81.5067 111.85 81.5067C118.617 81.5067 125.191 83.7614 130.533 87.9146C135.875 92.0678 139.681 97.8827 141.35 104.44H163.75C164.476 101.562 165.622 98.8057 167.15 96.2605L127.45 56.5605C121.071 60.3522 113.526 61.6823 106.235 60.3005C98.9443 58.9187 92.4094 54.9203 87.8602 49.0574C83.3109 43.1946 81.0609 35.8714 81.5332 28.4656C82.0056 21.0599 85.1679 14.0819 90.4252 8.8446C95.6824 3.60726 102.672 0.471508 110.08 0.0272655C117.487 -0.416977 124.802 1.86091 130.647 6.4324C136.493 11.0039 140.467 17.5539 141.821 24.8501C143.175 32.1463 141.816 39.6859 138 46.0505L177.69 85.7505C182.31 82.9877 187.58 81.4995 192.962 81.4375C198.345 81.3755 203.648 82.742 208.33 85.3976C213.012 88.0532 216.907 91.9029 219.616 96.5544C222.326 101.206 223.753 106.492 223.753 111.875C223.753 117.258 222.326 122.545 219.616 127.197C216.907 131.848 213.012 135.698 208.33 138.353C203.648 141.009 198.345 142.375 192.962 142.313C187.58 142.251 182.31 140.763 177.69 138L138 177.7C141.808 184.071 143.155 191.614 141.79 198.91C140.424 206.205 136.44 212.75 130.585 217.313C124.731 221.875 117.412 224.141 110.004 223.683C102.596 223.226 95.6103 220.077 90.3621 214.828C85.1139 209.58 81.9647 202.595 81.5072 195.187C81.0497 187.779 83.3154 180.459 87.878 174.605C92.4405 168.751 98.9853 164.766 106.281 163.401C113.576 162.035 121.119 163.383 127.49 167.19L167.19 127.49C165.664 124.941 164.518 122.182 163.79 119.3H141.39C139.721 125.858 135.915 131.673 130.573 135.826C125.231 139.98 118.657 142.234 111.89 142.234C105.123 142.234 98.5494 139.98 93.2071 135.826C87.8648 131.673 84.0587 125.858 82.39 119.3H60C58.1878 126.495 53.8086 132.78 47.6863 136.971C41.5641 141.163 34.1211 142.972 26.7579 142.059C19.3947 141.146 12.6191 137.574 7.70605 132.014C2.79302 126.454 0.0813599 119.29 0.0813599 111.87C0.0813599 104.451 2.79302 97.2871 7.70605 91.7272C12.6191 86.1673 19.3947 82.5947 26.7579 81.6817C34.1211 80.7686 41.5641 82.5781 47.6863 86.7696C53.8086 90.9611 58.1878 97.2456 60 104.44H82.35ZM100.86 204.32C103.407 206.868 106.759 208.453 110.345 208.806C113.93 209.159 117.527 208.258 120.522 206.256C123.517 204.254 125.725 201.276 126.771 197.828C127.816 194.38 127.633 190.677 126.253 187.349C124.874 184.021 122.383 181.274 119.205 179.577C116.027 177.88 112.359 177.337 108.826 178.042C105.293 178.746 102.113 180.654 99.8291 183.44C97.5451 186.226 96.2979 189.718 96.3 193.32C96.2985 195.364 96.7006 197.388 97.4831 199.275C98.2656 201.163 99.4132 202.877 100.86 204.32ZM204.32 122.88C206.868 120.333 208.453 116.981 208.806 113.396C209.159 109.811 208.258 106.214 206.256 103.219C204.254 100.223 201.275 98.0151 197.827 96.97C194.38 95.9249 190.676 96.1077 187.348 97.4873C184.02 98.8669 181.274 101.358 179.577 104.536C177.879 107.714 177.337 111.382 178.041 114.915C178.746 118.448 180.653 121.627 183.439 123.911C186.226 126.195 189.717 127.443 193.32 127.44C195.364 127.443 197.388 127.042 199.275 126.259C201.163 125.476 202.878 124.328 204.32 122.88ZM122.88 19.4205C120.333 16.8729 116.981 15.2876 113.395 14.9347C109.81 14.5817 106.213 15.483 103.218 17.4849C100.223 19.4868 98.0146 22.4654 96.9696 25.9131C95.9245 29.3608 96.1073 33.0642 97.4869 36.3922C98.8665 39.7202 101.358 42.4668 104.535 44.1639C107.713 45.861 111.381 46.4036 114.914 45.6992C118.447 44.9949 121.627 43.0871 123.911 40.301C126.195 37.515 127.442 34.0231 127.44 30.4205C127.44 28.3772 127.038 26.3539 126.255 24.4664C125.473 22.5788 124.326 20.8642 122.88 19.4205ZM19.42 100.86C16.8725 103.408 15.2872 106.76 14.9342 110.345C14.5813 113.93 15.4826 117.527 17.4844 120.522C19.4863 123.518 22.4649 125.726 25.9127 126.771C29.3604 127.816 33.0638 127.633 36.3918 126.254C39.7198 124.874 42.4664 122.383 44.1635 119.205C45.8606 116.027 46.4032 112.359 45.6988 108.826C44.9944 105.293 43.0866 102.114 40.3006 99.8296C37.5145 97.5455 34.0227 96.2983 30.42 96.3005C26.2938 96.3018 22.337 97.9421 19.42 100.86ZM100.86 100.86C98.3125 103.408 96.7272 106.76 96.3742 110.345C96.0213 113.93 96.9226 117.527 98.9244 120.522C100.926 123.518 103.905 125.726 107.353 126.771C110.8 127.816 114.504 127.633 117.832 126.254C121.16 124.874 123.906 122.383 125.604 119.205C127.301 116.027 127.843 112.359 127.139 108.826C126.434 105.293 124.527 102.114 121.741 99.8296C118.955 97.5455 115.463 96.2983 111.86 96.3005C109.817 96.299 107.793 96.701 105.905 97.4835C104.018 98.2661 102.303 99.4136 100.86 100.86Z\" fill=\"#00AEEF\"/>\n",
       "    </g>\n",
       "    <defs>\n",
       "        <clipPath id=\"clip0_4338_178347\">\n",
       "            <rect width=\"566.93\" height=\"223.75\" fill=\"white\"/>\n",
       "        </clipPath>\n",
       "    </defs>\n",
       "  </svg>\n",
       "</div>\n",
       "\n",
       "        <table class=\"jp-RenderedHTMLCommon\" style=\"border-collapse: collapse;color: var(--jp-ui-font-color1);font-size: var(--jp-ui-font-size1);\">\n",
       "    <tr>\n",
       "        <td style=\"text-align: left\"><b>Python version:</b></td>\n",
       "        <td style=\"text-align: left\"><b>3.10.12</b></td>\n",
       "    </tr>\n",
       "    <tr>\n",
       "        <td style=\"text-align: left\"><b>Ray version:</b></td>\n",
       "        <td style=\"text-align: left\"><b>2.37.0</b></td>\n",
       "    </tr>\n",
       "    <tr>\n",
       "    <td style=\"text-align: left\"><b>Dashboard:</b></td>\n",
       "    <td style=\"text-align: left\"><b><a href=\"http://127.0.0.1:8265\" target=\"_blank\">http://127.0.0.1:8265</a></b></td>\n",
       "</tr>\n",
       "\n",
       "</table>\n",
       "\n",
       "    </div>\n",
       "</div>\n"
      ],
      "text/plain": [
       "RayContext(dashboard_url='127.0.0.1:8265', python_version='3.10.12', ray_version='2.37.0', ray_commit='1b620f244c4fb67d80661046091573fb6eefecb6')"
      ]
     },
     "execution_count": 6,
     "metadata": {},
     "output_type": "execute_result"
    }
   ],
   "source": [
    "ray.init()"
   ]
  },
  {
   "cell_type": "code",
   "execution_count": null,
   "metadata": {},
   "outputs": [
    {
     "ename": "ModuleNotFoundError",
     "evalue": "No module named 'quickannotator'",
     "output_type": "error",
     "traceback": [
      "\u001b[0;31m---------------------------------------------------------------------------\u001b[0m",
      "\u001b[0;31mModuleNotFoundError\u001b[0m                       Traceback (most recent call last)",
      "Cell \u001b[0;32mIn[7], line 1\u001b[0m\n\u001b[0;32m----> 1\u001b[0m \u001b[38;5;28;01mfrom\u001b[39;00m \u001b[38;5;21;01mquickannotator\u001b[39;00m\u001b[38;5;21;01m.\u001b[39;00m\u001b[38;5;21;01mdl\u001b[39;00m\u001b[38;5;21;01m.\u001b[39;00m\u001b[38;5;21;01mtraining\u001b[39;00m \u001b[38;5;28;01mimport\u001b[39;00m train_model\n\u001b[1;32m      3\u001b[0m \u001b[38;5;129m@ray\u001b[39m\u001b[38;5;241m.\u001b[39mremote\n\u001b[1;32m      4\u001b[0m \u001b[38;5;28;01mclass\u001b[39;00m \u001b[38;5;21;01mDLActor\u001b[39;00m:\n\u001b[1;32m      5\u001b[0m     \u001b[38;5;28;01mdef\u001b[39;00m \u001b[38;5;21m__init__\u001b[39m(\u001b[38;5;28mself\u001b[39m,classid,status\u001b[38;5;241m=\u001b[39m\u001b[38;5;241m-\u001b[39m\u001b[38;5;241m1\u001b[39m):\n",
      "\u001b[0;31mModuleNotFoundError\u001b[0m: No module named 'quickannotator'"
     ]
    }
   ],
   "source": [
    "from quickannotator.dl.training import train_model\n",
    "\n",
    "@ray.remote\n",
    "class DLActor:\n",
    "    def __init__(self,classid,status=-1):\n",
    "        self.classid=classid\n",
    "        self.status=status\n",
    "        \n",
    "    def start_dlproc(self,is_train=True,allow_pred=True, tile_size=2_048):\n",
    "        #need to check if is already training, if yes, no opt\n",
    "        print(\"starting up\")\n",
    "        \n",
    "        \n",
    "        \n",
    "        #scaling_config = ray.train.ScalingConfig(num_workers=2, use_gpu=True,resources_per_worker={\"GPU\":.5})\n",
    "        ## will fail on single node single gpu --- (DLActor pid=174521) Duplicate GPU detected : rank 1 and rank 0 both on CUDA device 1000\n",
    "\n",
    "        #--- NEED A GPU CONTAINER TO TEST THIS        \n",
    "        total_gpus  = ray.cluster_resources().get(\"GPU\", 0)\n",
    "        total_gpus_available=  ray.available_resources().get(\"GPU\", 0)\n",
    "        print(total_gpus,total_gpus_available)\n",
    "        resource_to_request = (total_gpus_available/total_gpus)/2 * 1.01\n",
    "        print(f\"resource_to_request: {resource_to_request}\")\n",
    "\n",
    "        scaling_config = ray.train.ScalingConfig(num_workers=int(total_gpus), use_gpu=True, resources_per_worker={\"GPU\":resource_to_request})\n",
    "        \n",
    "\n",
    "        #----\n",
    "#        scaling_config = ray.train.ScalingConfig(num_workers=1, use_gpu=False)\n",
    "        trainer = ray.train.torch.TorchTrainer(train_model,\n",
    "                                       scaling_config=scaling_config,\n",
    "                                       train_loop_config={'is_train':is_train, \n",
    "                                                          'allow_pred':allow_pred,\n",
    "                                                         'classid':self.classid,\n",
    "                                                         'tile_size':tile_size})\n",
    "        self.status = trainer.fit().hex() ##widly -- this doesn't save the result in the actor\n",
    "        return self.status\n",
    "    \n",
    "    def infer(self,image_id,tileids,status=TileStatus.PROCESSING.value): #only bulk should be performed, there is no difference between doing 1 versus 100 tiles, so this reduces code complexity\n",
    "        import sqlalchemy, datetime\n",
    "        from quickannotator.dl.database import create_db_engine, get_database_path, get_session_aj\n",
    "        from quickannotator.db import db_session, Project, Image, AnnotationClass, Notification, Tile, Setting, Annotation, SearchCache\n",
    "\n",
    "        #open question --- seems like we're getting a lot of seessions, should be a factory process somewhere which also has a pool of existing sessions for reuse\n",
    "\n",
    "\n",
    "        # probably need to *Delete* the tiles that are associated with this tileid before executing the below, so that they're not duplicated\n",
    "        # i would do that in a seperate function as \"infer\" doesn't logically mean \"delete\", so the expected behavior might be weird if it delets stuff unprompted\n",
    "        # perhaps that could be clarified with a e.g., named function paramter - or perhaps a seperate function is really needed\n",
    "        session = get_session_aj(create_db_engine(get_database_path()))\n",
    "\n",
    "                #id should be modified one we have https://github.com/choosehappy/QuickAnnotator/pull/58\n",
    "                #imageid will need to be included - end result is a multikey -(imageid, tileid, classid)\n",
    "        stmt = sqlalchemy.update(Tile).where(Tile.id.in_(tileids), Tile.image_id == image_id,\n",
    "                                              Tile.annotation_class_id == self.classid)\\\n",
    "                                                .values(seen=status) #  ,date=datetime.datetime.now())) ## should add date time\n",
    "\n",
    "        # Execute the update\n",
    "        session.execute(stmt)\n",
    "        session.commit()\n",
    "        \n",
    "        # Close the session\n",
    "        session.close()\n",
    "\n",
    "\n",
    "        #need a similar statement to get the DL starting\n",
    "        return True\n",
    "    \n",
    "\n",
    "    def getTileStatus(self,tileids): #probably belongs else where but need this for debug\n",
    "        import sqlalchemy, datetime\n",
    "        from quickannotator.dl.database import create_db_engine, get_database_path, get_session_aj\n",
    "        from quickannotator.db import db_session, Project, Image, AnnotationClass, Notification, Tile, Setting, Annotation, SearchCache\n",
    "\n",
    "        \n",
    "        session = get_session_aj(create_db_engine(get_database_path()))\n",
    "\n",
    "        stmt = session.query(Tile).filter(Tile.id.in_(tileids),\n",
    "                          Tile.annotation_class_id == self.classid)\n",
    "\n",
    "        # Execute the query\n",
    "        result = stmt.all()\n",
    "        \n",
    "        # Close the session\n",
    "        session.close()\n",
    "\n",
    "        return result\n",
    "\n",
    "\n",
    "    def getclassid(self):\n",
    "        return self.classid\n",
    "        \n",
    "    \n",
    "    def getstatus(self):\n",
    "        print(\"in get status!\")\n",
    "        print(f\"self.status:\\t {self.status}\")\n",
    "        return self.status\n",
    "\n",
    "    def setstatus(self,status):\n",
    "        self.status=status\n",
    "        return self.status\n",
    "\n"
   ]
  },
  {
   "cell_type": "code",
   "execution_count": null,
   "metadata": {},
   "outputs": [],
   "source": []
  },
  {
   "cell_type": "markdown",
   "metadata": {},
   "source": [
    "this section  is some non-ray testing to see if things work as expected. to use these, remove the @ray annotator in the actor above "
   ]
  },
  {
   "cell_type": "code",
   "execution_count": 6,
   "metadata": {},
   "outputs": [],
   "source": [
    "##not ray test\n",
    "class2=DLActor(classid=2)\n"
   ]
  },
  {
   "cell_type": "code",
   "execution_count": null,
   "metadata": {},
   "outputs": [],
   "source": [
    "class2.infer(image_id=1,tileids=[323],status=1)"
   ]
  },
  {
   "cell_type": "code",
   "execution_count": null,
   "metadata": {},
   "outputs": [],
   "source": [
    "# -- check it was set\n",
    "tile=class2.getTileStatus([323])\n",
    "tile[0].seen"
   ]
  },
  {
   "cell_type": "code",
   "execution_count": null,
   "metadata": {},
   "outputs": [],
   "source": [
    "ref2=class2.start_dlproc()\n"
   ]
  },
  {
   "cell_type": "markdown",
   "metadata": {},
   "source": [
    "This section is when the @Ray actor is enabled, and thus has remote. note we need max_concurrency = 2 for this to work"
   ]
  },
  {
   "cell_type": "code",
   "execution_count": 14,
   "metadata": {},
   "outputs": [],
   "source": [
    "class2 = DLActor.options(max_concurrency=2).remote(classid=2)"
   ]
  },
  {
   "cell_type": "code",
   "execution_count": 15,
   "metadata": {},
   "outputs": [
    {
     "name": "stderr",
     "output_type": "stream",
     "text": [
      "\u001b[36m(pid=33913)\u001b[0m InitSpatiaMetaData() error:\"table spatial_ref_sys already exists\"\n",
      "\u001b[36m(DLActor pid=33913)\u001b[0m InitSpatiaMetaData() error:\"table spatial_ref_sys already exists\"\n"
     ]
    },
    {
     "name": "stdout",
     "output_type": "stream",
     "text": [
      "2\n"
     ]
    }
   ],
   "source": [
    "print(ray.get(class2.getclassid.remote()))\n"
   ]
  },
  {
   "cell_type": "code",
   "execution_count": 16,
   "metadata": {},
   "outputs": [
    {
     "name": "stdout",
     "output_type": "stream",
     "text": [
      "True\n"
     ]
    }
   ],
   "source": [
    "print(ray.get(class2.infer.remote(image_id=1,tileids=[323],status=1)))"
   ]
  },
  {
   "cell_type": "code",
   "execution_count": 17,
   "metadata": {},
   "outputs": [
    {
     "name": "stdout",
     "output_type": "stream",
     "text": [
      "1\n"
     ]
    }
   ],
   "source": [
    "tile=(ray.get(class2.getTileStatus.remote([323])))\n",
    "print(tile[0].seen)\n"
   ]
  },
  {
   "cell_type": "code",
   "execution_count": 18,
   "metadata": {},
   "outputs": [
    {
     "name": "stdout",
     "output_type": "stream",
     "text": [
      "ObjectRef(80e22aed7718a125e07aa470902f18f1f27993e90100000001000000)\n"
     ]
    },
    {
     "name": "stderr",
     "output_type": "stream",
     "text": [
      "2025-01-21 23:42:04,767\tERROR worker.py:406 -- Unhandled error (suppress with 'RAY_IGNORE_UNHANDLED_ERRORS=1'): ray.exceptions.RayTaskError(ValueError): \u001b[36mray::_Inner.train()\u001b[39m (pid=33985, ip=172.17.0.2, actor_id=f40a15eae28830e4752362e701000000, repr=TorchTrainer)\n",
      "  File \"/opt/venv/lib/python3.10/site-packages/ray/air/_internal/util.py\", line 98, in run\n",
      "    self._ret = self._target(*self._args, **self._kwargs)\n",
      "  File \"/opt/venv/lib/python3.10/site-packages/ray/tune/trainable/function_trainable.py\", line 45, in <lambda>\n",
      "    training_func=lambda: self._trainable_func(self.config),\n",
      "  File \"/opt/venv/lib/python3.10/site-packages/ray/train/base_trainer.py\", line 799, in _trainable_func\n",
      "    super()._trainable_func(self._merged_config)\n",
      "  File \"/opt/venv/lib/python3.10/site-packages/ray/tune/trainable/function_trainable.py\", line 248, in _trainable_func\n",
      "    output = fn()\n",
      "  File \"/opt/venv/lib/python3.10/site-packages/ray/train/base_trainer.py\", line 107, in _train_coordinator_fn\n",
      "    trainer.training_loop()\n",
      "  File \"/opt/venv/lib/python3.10/site-packages/ray/train/data_parallel_trainer.py\", line 458, in training_loop\n",
      "    backend_executor.start()\n",
      "  File \"/opt/venv/lib/python3.10/site-packages/ray/train/_internal/backend_executor.py\", line 190, in start\n",
      "    self._backend.on_start(self.worker_group, self._backend_config)\n",
      "  File \"/opt/venv/lib/python3.10/site-packages/ray/train/torch/config.py\", line 197, in on_start\n",
      "    ray.get(setup_futures)\n",
      "ray.exceptions.RayTaskError(ValueError): \u001b[36mray::_RayTrainWorker__execute._setup_torch_process_group()\u001b[39m (pid=34065, ip=172.17.0.2, actor_id=c6b987fb862850730326eaca01000000, repr=<ray.train._internal.worker_group.RayTrainWorker object at 0x7f0e30297340>)\n",
      "  File \"/opt/venv/lib/python3.10/site-packages/ray/train/_internal/worker_group.py\", line 33, in __execute\n",
      "    raise skipped from exception_cause(skipped)\n",
      "  File \"/opt/venv/lib/python3.10/site-packages/ray/train/_internal/worker_group.py\", line 30, in __execute\n",
      "    return func(*args, **kwargs)\n",
      "  File \"/opt/venv/lib/python3.10/site-packages/ray/train/torch/config.py\", line 112, in _setup_torch_process_group\n",
      "    dist.init_process_group(\n",
      "  File \"/opt/venv/lib/python3.10/site-packages/torch/distributed/c10d_logger.py\", line 83, in wrapper\n",
      "    return func(*args, **kwargs)\n",
      "  File \"/opt/venv/lib/python3.10/site-packages/torch/distributed/c10d_logger.py\", line 97, in wrapper\n",
      "    func_return = func(*args, **kwargs)\n",
      "  File \"/opt/venv/lib/python3.10/site-packages/torch/distributed/distributed_c10d.py\", line 1527, in init_process_group\n",
      "    default_pg, _ = _new_process_group_helper(\n",
      "  File \"/opt/venv/lib/python3.10/site-packages/torch/distributed/distributed_c10d.py\", line 1771, in _new_process_group_helper\n",
      "    backend_class = ProcessGroupNCCL(\n",
      "ValueError: ProcessGroupNCCL is only supported with GPUs, no GPUs found!\n",
      "\n",
      "The above exception was the direct cause of the following exception:\n",
      "\n",
      "\u001b[36mray::DLActor.start_dlproc()\u001b[39m (pid=33913, ip=172.17.0.2, actor_id=e07aa470902f18f1f27993e901000000, repr=<__main__.DLActor object at 0x7f70f4125840>)\n",
      "  File \"/tmp/ipykernel_31635/3570771134.py\", line 36, in start_dlproc\n",
      "  File \"/opt/venv/lib/python3.10/site-packages/ray/train/base_trainer.py\", line 638, in fit\n",
      "    raise TrainingFailedError(\n",
      "ray.train.base_trainer.TrainingFailedError: The Ray Train run failed. Please inspect the previous error messages for a cause. After fixing the issue (assuming that the error is not caused by your own application logic, but rather an error such as OOM), you can restart the run from scratch or continue this run.\n",
      "To continue this run, you can use: `trainer = TorchTrainer.restore(\"/root/ray_results/TorchTrainer_2025-01-21_23-41-51\")`.\n",
      "To start a new run that will retry on training failures, set `train.RunConfig(failure_config=train.FailureConfig(max_failures))` in the Trainer's `run_config` with `max_failures > 0`, or `max_failures = -1` for unlimited retries.\n",
      "*** SIGTERM received at time=1737503180 on cpu 15 ***\n",
      "PC: @     0x7f369eaa9e2e  (unknown)  epoll_wait\n",
      "    @     0x7f369e9c6520  (unknown)  (unknown)\n",
      "[2025-01-21 23:46:20,810 E 31635 31635] logging.cc:343: *** SIGTERM received at time=1737503180 on cpu 15 ***\n",
      "[2025-01-21 23:46:20,810 E 31635 31635] logging.cc:343: PC: @     0x7f369eaa9e2e  (unknown)  epoll_wait\n",
      "[2025-01-21 23:46:20,810 E 31635 31635] logging.cc:343:     @     0x7f369e9c6520  (unknown)  (unknown)\n"
     ]
    }
   ],
   "source": [
    "ref2=class2.start_dlproc.remote()\n",
    "print(ref2)"
   ]
  },
  {
   "cell_type": "code",
   "execution_count": 14,
   "metadata": {},
   "outputs": [],
   "source": []
  },
  {
   "cell_type": "code",
   "execution_count": null,
   "metadata": {},
   "outputs": [],
   "source": []
  }
 ],
 "metadata": {
  "kernelspec": {
   "display_name": "Python 3 (ipykernel)",
   "language": "python",
   "name": "python3"
  },
  "language_info": {
   "codemirror_mode": {
    "name": "ipython",
    "version": 3
   },
   "file_extension": ".py",
   "mimetype": "text/x-python",
   "name": "python",
   "nbconvert_exporter": "python",
   "pygments_lexer": "ipython3",
   "version": "3.10.12"
  }
 },
 "nbformat": 4,
 "nbformat_minor": 4
}
