{
 "cells": [
  {
   "cell_type": "code",
   "execution_count": 1,
   "metadata": {},
   "outputs": [],
   "source": [
    "%load_ext autoreload\n",
    "%autoreload 2"
   ]
  },
  {
   "cell_type": "code",
   "execution_count": 2,
   "metadata": {},
   "outputs": [],
   "source": [
    "#!pip install ray[train]"
   ]
  },
  {
   "cell_type": "code",
   "execution_count": 3,
   "metadata": {},
   "outputs": [],
   "source": [
    "#!pip install -U ipywidgets\n",
    "# not needed for production, only for jupyter notebook"
   ]
  },
  {
   "cell_type": "code",
   "execution_count": 4,
   "metadata": {},
   "outputs": [],
   "source": [
    "#--- need to run \n",
    "#memcached -m 10240 -I 20m -vv -u www-data &"
   ]
  },
  {
   "cell_type": "code",
   "execution_count": 5,
   "metadata": {},
   "outputs": [],
   "source": [
    "#--- should clean imports - copy paste\n",
    "import ray\n",
    "from ray.train import ScalingConfig\n",
    "import torch\n",
    "from torch.nn import CrossEntropyLoss\n",
    "from torch.optim import Adam\n",
    "from torch.utils.data import DataLoader\n",
    "import ray.train.torch\n",
    "import ray.util.state\n",
    "import ray\n",
    "import torch\n",
    "import torch.nn as nn\n",
    "import ray.train.torch\n",
    "import ray.train\n",
    "from torch.nn import CrossEntropyLoss, MSELoss\n",
    "from torch.optim import Adam"
   ]
  },
  {
   "cell_type": "code",
   "execution_count": 6,
   "metadata": {},
   "outputs": [
    {
     "name": "stderr",
     "output_type": "stream",
     "text": [
      "2025-02-06 17:32:05,451\tINFO worker.py:1743 -- Started a local Ray instance. View the dashboard at \u001b[1m\u001b[32m127.0.0.1:8265 \u001b[39m\u001b[22m\n"
     ]
    },
    {
     "data": {
      "application/vnd.jupyter.widget-view+json": {
       "model_id": "74bcb2a2a84245bfaeb25af858fb769c",
       "version_major": 2,
       "version_minor": 0
      },
      "text/html": [
       "<div class=\"lm-Widget p-Widget lm-Panel p-Panel jp-Cell-outputWrapper\">\n",
       "    <div style=\"margin-left: 50px;display: flex;flex-direction: row;align-items: center\">\n",
       "        <div class=\"jp-RenderedHTMLCommon\" style=\"display: flex; flex-direction: row;\">\n",
       "  <svg viewBox=\"0 0 567 224\" fill=\"none\" xmlns=\"http://www.w3.org/2000/svg\" style=\"height: 3em;\">\n",
       "    <g clip-path=\"url(#clip0_4338_178347)\">\n",
       "        <path d=\"M341.29 165.561H355.29L330.13 129.051C345.63 123.991 354.21 112.051 354.21 94.2307C354.21 71.3707 338.72 58.1807 311.88 58.1807H271V165.561H283.27V131.661H311.8C314.25 131.661 316.71 131.501 319.01 131.351L341.25 165.561H341.29ZM283.29 119.851V70.0007H311.82C331.3 70.0007 342.34 78.2907 342.34 94.5507C342.34 111.271 331.34 119.861 311.82 119.861L283.29 119.851ZM451.4 138.411L463.4 165.561H476.74L428.74 58.1807H416L367.83 165.561H380.83L392.83 138.411H451.4ZM446.19 126.601H398L422 72.1407L446.24 126.601H446.19ZM526.11 128.741L566.91 58.1807H554.35L519.99 114.181L485.17 58.1807H472.44L514.01 129.181V165.541H526.13V128.741H526.11Z\" fill=\"var(--jp-ui-font-color0)\"/>\n",
       "        <path d=\"M82.35 104.44C84.0187 97.8827 87.8248 92.0678 93.1671 87.9146C98.5094 83.7614 105.083 81.5067 111.85 81.5067C118.617 81.5067 125.191 83.7614 130.533 87.9146C135.875 92.0678 139.681 97.8827 141.35 104.44H163.75C164.476 101.562 165.622 98.8057 167.15 96.2605L127.45 56.5605C121.071 60.3522 113.526 61.6823 106.235 60.3005C98.9443 58.9187 92.4094 54.9203 87.8602 49.0574C83.3109 43.1946 81.0609 35.8714 81.5332 28.4656C82.0056 21.0599 85.1679 14.0819 90.4252 8.8446C95.6824 3.60726 102.672 0.471508 110.08 0.0272655C117.487 -0.416977 124.802 1.86091 130.647 6.4324C136.493 11.0039 140.467 17.5539 141.821 24.8501C143.175 32.1463 141.816 39.6859 138 46.0505L177.69 85.7505C182.31 82.9877 187.58 81.4995 192.962 81.4375C198.345 81.3755 203.648 82.742 208.33 85.3976C213.012 88.0532 216.907 91.9029 219.616 96.5544C222.326 101.206 223.753 106.492 223.753 111.875C223.753 117.258 222.326 122.545 219.616 127.197C216.907 131.848 213.012 135.698 208.33 138.353C203.648 141.009 198.345 142.375 192.962 142.313C187.58 142.251 182.31 140.763 177.69 138L138 177.7C141.808 184.071 143.155 191.614 141.79 198.91C140.424 206.205 136.44 212.75 130.585 217.313C124.731 221.875 117.412 224.141 110.004 223.683C102.596 223.226 95.6103 220.077 90.3621 214.828C85.1139 209.58 81.9647 202.595 81.5072 195.187C81.0497 187.779 83.3154 180.459 87.878 174.605C92.4405 168.751 98.9853 164.766 106.281 163.401C113.576 162.035 121.119 163.383 127.49 167.19L167.19 127.49C165.664 124.941 164.518 122.182 163.79 119.3H141.39C139.721 125.858 135.915 131.673 130.573 135.826C125.231 139.98 118.657 142.234 111.89 142.234C105.123 142.234 98.5494 139.98 93.2071 135.826C87.8648 131.673 84.0587 125.858 82.39 119.3H60C58.1878 126.495 53.8086 132.78 47.6863 136.971C41.5641 141.163 34.1211 142.972 26.7579 142.059C19.3947 141.146 12.6191 137.574 7.70605 132.014C2.79302 126.454 0.0813599 119.29 0.0813599 111.87C0.0813599 104.451 2.79302 97.2871 7.70605 91.7272C12.6191 86.1673 19.3947 82.5947 26.7579 81.6817C34.1211 80.7686 41.5641 82.5781 47.6863 86.7696C53.8086 90.9611 58.1878 97.2456 60 104.44H82.35ZM100.86 204.32C103.407 206.868 106.759 208.453 110.345 208.806C113.93 209.159 117.527 208.258 120.522 206.256C123.517 204.254 125.725 201.276 126.771 197.828C127.816 194.38 127.633 190.677 126.253 187.349C124.874 184.021 122.383 181.274 119.205 179.577C116.027 177.88 112.359 177.337 108.826 178.042C105.293 178.746 102.113 180.654 99.8291 183.44C97.5451 186.226 96.2979 189.718 96.3 193.32C96.2985 195.364 96.7006 197.388 97.4831 199.275C98.2656 201.163 99.4132 202.877 100.86 204.32ZM204.32 122.88C206.868 120.333 208.453 116.981 208.806 113.396C209.159 109.811 208.258 106.214 206.256 103.219C204.254 100.223 201.275 98.0151 197.827 96.97C194.38 95.9249 190.676 96.1077 187.348 97.4873C184.02 98.8669 181.274 101.358 179.577 104.536C177.879 107.714 177.337 111.382 178.041 114.915C178.746 118.448 180.653 121.627 183.439 123.911C186.226 126.195 189.717 127.443 193.32 127.44C195.364 127.443 197.388 127.042 199.275 126.259C201.163 125.476 202.878 124.328 204.32 122.88ZM122.88 19.4205C120.333 16.8729 116.981 15.2876 113.395 14.9347C109.81 14.5817 106.213 15.483 103.218 17.4849C100.223 19.4868 98.0146 22.4654 96.9696 25.9131C95.9245 29.3608 96.1073 33.0642 97.4869 36.3922C98.8665 39.7202 101.358 42.4668 104.535 44.1639C107.713 45.861 111.381 46.4036 114.914 45.6992C118.447 44.9949 121.627 43.0871 123.911 40.301C126.195 37.515 127.442 34.0231 127.44 30.4205C127.44 28.3772 127.038 26.3539 126.255 24.4664C125.473 22.5788 124.326 20.8642 122.88 19.4205ZM19.42 100.86C16.8725 103.408 15.2872 106.76 14.9342 110.345C14.5813 113.93 15.4826 117.527 17.4844 120.522C19.4863 123.518 22.4649 125.726 25.9127 126.771C29.3604 127.816 33.0638 127.633 36.3918 126.254C39.7198 124.874 42.4664 122.383 44.1635 119.205C45.8606 116.027 46.4032 112.359 45.6988 108.826C44.9944 105.293 43.0866 102.114 40.3006 99.8296C37.5145 97.5455 34.0227 96.2983 30.42 96.3005C26.2938 96.3018 22.337 97.9421 19.42 100.86ZM100.86 100.86C98.3125 103.408 96.7272 106.76 96.3742 110.345C96.0213 113.93 96.9226 117.527 98.9244 120.522C100.926 123.518 103.905 125.726 107.353 126.771C110.8 127.816 114.504 127.633 117.832 126.254C121.16 124.874 123.906 122.383 125.604 119.205C127.301 116.027 127.843 112.359 127.139 108.826C126.434 105.293 124.527 102.114 121.741 99.8296C118.955 97.5455 115.463 96.2983 111.86 96.3005C109.817 96.299 107.793 96.701 105.905 97.4835C104.018 98.2661 102.303 99.4136 100.86 100.86Z\" fill=\"#00AEEF\"/>\n",
       "    </g>\n",
       "    <defs>\n",
       "        <clipPath id=\"clip0_4338_178347\">\n",
       "            <rect width=\"566.93\" height=\"223.75\" fill=\"white\"/>\n",
       "        </clipPath>\n",
       "    </defs>\n",
       "  </svg>\n",
       "</div>\n",
       "\n",
       "        <table class=\"jp-RenderedHTMLCommon\" style=\"border-collapse: collapse;color: var(--jp-ui-font-color1);font-size: var(--jp-ui-font-size1);\">\n",
       "    <tr>\n",
       "        <td style=\"text-align: left\"><b>Python version:</b></td>\n",
       "        <td style=\"text-align: left\"><b>3.10.12</b></td>\n",
       "    </tr>\n",
       "    <tr>\n",
       "        <td style=\"text-align: left\"><b>Ray version:</b></td>\n",
       "        <td style=\"text-align: left\"><b>2.10.0</b></td>\n",
       "    </tr>\n",
       "    <tr>\n",
       "    <td style=\"text-align: left\"><b>Dashboard:</b></td>\n",
       "    <td style=\"text-align: left\"><b><a href=\"http://127.0.0.1:8265\" target=\"_blank\">http://127.0.0.1:8265</a></b></td>\n",
       "</tr>\n",
       "\n",
       "</table>\n",
       "\n",
       "    </div>\n",
       "</div>\n"
      ],
      "text/plain": [
       "RayContext(dashboard_url='127.0.0.1:8265', python_version='3.10.12', ray_version='2.10.0', ray_commit='09abba26b5bf2707639bb637c208d062a47b46f6')"
      ]
     },
     "execution_count": 6,
     "metadata": {},
     "output_type": "execute_result"
    },
    {
     "name": "stderr",
     "output_type": "stream",
     "text": [
      "\u001b[36m(pid=98594)\u001b[0m InitSpatiaMetaData() error:\"table spatial_ref_sys already exists\"\n"
     ]
    },
    {
     "name": "stdout",
     "output_type": "stream",
     "text": [
      "\u001b[36m(DLActor pid=98594)\u001b[0m starting up\n",
      "\u001b[36m(DLActor pid=98594)\u001b[0m \n",
      "\u001b[36m(DLActor pid=98594)\u001b[0m View detailed results here: /root/ray_results/TorchTrainer_2025-02-06_17-32-13\n",
      "\u001b[36m(DLActor pid=98594)\u001b[0m To visualize your results with TensorBoard, run: `tensorboard --logdir /tmp/ray/session_2025-02-06_17-32-03_395496_64825/artifacts/2025-02-06_17-32-13/TorchTrainer_2025-02-06_17-32-13/driver_artifacts`\n"
     ]
    },
    {
     "name": "stderr",
     "output_type": "stream",
     "text": [
      "\u001b[36m(DLActor pid=98594)\u001b[0m [output] This will use the new output engine with verbosity 1. To disable the new output and use the legacy output engine, set the environment variable RAY_AIR_NEW_OUTPUT=0. For more information, please see https://github.com/ray-project/ray/issues/36949\n",
      "\u001b[36m(TrainTrainable pid=98762)\u001b[0m InitSpatiaMetaData() error:\"table spatial_ref_sys already exists\"\n"
     ]
    },
    {
     "name": "stdout",
     "output_type": "stream",
     "text": [
      "\u001b[36m(DLActor pid=98594)\u001b[0m \n",
      "\u001b[36m(DLActor pid=98594)\u001b[0m Training started with configuration:\n",
      "\u001b[36m(DLActor pid=98594)\u001b[0m ╭─────────────────────────────────────╮\n",
      "\u001b[36m(DLActor pid=98594)\u001b[0m │ Training config                     │\n",
      "\u001b[36m(DLActor pid=98594)\u001b[0m ├─────────────────────────────────────┤\n",
      "\u001b[36m(DLActor pid=98594)\u001b[0m │ train_loop_config/allow_pred   True │\n",
      "\u001b[36m(DLActor pid=98594)\u001b[0m │ train_loop_config/classid         2 │\n",
      "\u001b[36m(DLActor pid=98594)\u001b[0m │ train_loop_config/is_train     True │\n",
      "\u001b[36m(DLActor pid=98594)\u001b[0m │ train_loop_config/tile_size    2048 │\n",
      "\u001b[36m(DLActor pid=98594)\u001b[0m ╰─────────────────────────────────────╯\n"
     ]
    },
    {
     "name": "stderr",
     "output_type": "stream",
     "text": [
      "\u001b[36m(RayTrainWorker pid=98836)\u001b[0m Setting up process group for: env:// [rank=0, world_size=1]\n",
      "\u001b[36m(TorchTrainer pid=98762)\u001b[0m Started distributed worker processes: \n",
      "\u001b[36m(TorchTrainer pid=98762)\u001b[0m - (ip=172.17.0.2, pid=98836) world_rank=0, local_rank=0, node_rank=0\n",
      "\u001b[36m(RayTrainWorker pid=98836)\u001b[0m [W206 17:32:23.473754671 Utils.hpp:136] Warning: Environment variable NCCL_ASYNC_ERROR_HANDLING is deprecated; use TORCH_NCCL_ASYNC_ERROR_HANDLING instead (function operator())\n",
      "\u001b[36m(RayTrainWorker pid=98836)\u001b[0m InitSpatiaMetaData() error:\"table spatial_ref_sys already exists\"\n",
      "\u001b[36m(RayTrainWorker pid=98836)\u001b[0m InitSpatiaMetaData() error:\"table spatial_ref_sys already exists\"\n",
      "0it [00:00, ?it/s]er pid=98836)\u001b[0m \n",
      "\u001b[36m(RayTrainWorker pid=98836)\u001b[0m InitSpatiaMetaData() error:\"table spatial_ref_sys already exists\"\n",
      "\u001b[36m(RayTrainWorker pid=98836)\u001b[0m InitSpatiaMetaData() error:\"table spatial_ref_sys already exists\"\n",
      "\u001b[36m(RayTrainWorker pid=98836)\u001b[0m InitSpatiaMetaData() error:\"table spatial_ref_sys already exists\"\n",
      "\u001b[36m(RayTrainWorker pid=98836)\u001b[0m InitSpatiaMetaData() error:\"table spatial_ref_sys already exists\"\n",
      "\u001b[36m(RayTrainWorker pid=98836)\u001b[0m InitSpatiaMetaData() error:\"table spatial_ref_sys already exists\"\n",
      "\u001b[36m(RayTrainWorker pid=98836)\u001b[0m InitSpatiaMetaData() error:\"table spatial_ref_sys already exists\"\n",
      "\u001b[36m(RayTrainWorker pid=98836)\u001b[0m InitSpatiaMetaData() error:\"table spatial_ref_sys already exists\"\n",
      "\u001b[36m(RayTrainWorker pid=98836)\u001b[0m InitSpatiaMetaData() error:\"table spatial_ref_sys already exists\"\n",
      "\u001b[36m(RayTrainWorker pid=98836)\u001b[0m InitSpatiaMetaData() error:\"table spatial_ref_sys already exists\"\n",
      "\u001b[36m(RayTrainWorker pid=98836)\u001b[0m InitSpatiaMetaData() error:\"table spatial_ref_sys already exists\"\n",
      "\u001b[36m(RayTrainWorker pid=98836)\u001b[0m InitSpatiaMetaData() error:\"table spatial_ref_sys already exists\"\n",
      "\u001b[36m(RayTrainWorker pid=98836)\u001b[0m InitSpatiaMetaData() error:\"table spatial_ref_sys already exists\"\n",
      "\u001b[36m(RayTrainWorker pid=98836)\u001b[0m InitSpatiaMetaData() error:\"table spatial_ref_sys already exists\"\n"
     ]
    },
    {
     "name": "stdout",
     "output_type": "stream",
     "text": [
      "\u001b[36m(RayTrainWorker pid=98836)\u001b[0m losses:\t \n",
      "\u001b[36m(RayTrainWorker pid=98836)\u001b[0m tensor(0.1669, device='cuda:0', grad_fn=<AddBackward0>) tensor(451034., device='cuda:0') tensor(0.0912, device='cuda:0', grad_fn=<MulBackward0>) tensor(0.0757, device='cuda:0', grad_fn=<MulBackward0>)\n"
     ]
    },
    {
     "name": "stderr",
     "output_type": "stream",
     "text": [
      "1it [00:03,  3.86s/it]InitSpatiaMetaData() error:\"table spatial_ref_sys already exists\"\n"
     ]
    },
    {
     "name": "stdout",
     "output_type": "stream",
     "text": [
      "\u001b[36m(RayTrainWorker pid=98836)\u001b[0m losses:\t tensor(0.0862, device='cuda:0', grad_fn=<AddBackward0>) tensor(10368., device='cuda:0') tensor(0.0021, device='cuda:0', grad_fn=<MulBackward0>) tensor(0.0841, device='cuda:0', grad_fn=<MulBackward0>)\n"
     ]
    },
    {
     "name": "stderr",
     "output_type": "stream",
     "text": [
      "2it [00:04,  1.78s/it]id=98836)\u001b[0m \n",
      "\u001b[36m(RayTrainWorker pid=98836)\u001b[0m InitSpatiaMetaData() error:\"table spatial_ref_sys already exists\"\n"
     ]
    },
    {
     "name": "stdout",
     "output_type": "stream",
     "text": [
      "\u001b[36m(RayTrainWorker pid=98836)\u001b[0m losses:\t tensor(0.0941, device='cuda:0', grad_fn=<AddBackward0>) tensor(124292., device='cuda:0') tensor(0.0220, device='cuda:0', grad_fn=<MulBackward0>) tensor(0.0721, device='cuda:0', grad_fn=<MulBackward0>)\n"
     ]
    },
    {
     "name": "stderr",
     "output_type": "stream",
     "text": [
      "3it [00:04,  1.12s/it]InitSpatiaMetaData() error:\"table spatial_ref_sys already exists\"\n"
     ]
    },
    {
     "name": "stdout",
     "output_type": "stream",
     "text": [
      "\u001b[36m(RayTrainWorker pid=98836)\u001b[0m losses:\t tensor(0.4415, device='cuda:0', grad_fn=<AddBackward0>) tensor(2290143., device='cuda:0') tensor(0.4077, device='cuda:0', grad_fn=<MulBackward0>) tensor(0.0337, device='cuda:0', grad_fn=<MulBackward0>)\n"
     ]
    },
    {
     "name": "stderr",
     "output_type": "stream",
     "text": [
      "4it [00:04,  1.24it/s]InitSpatiaMetaData() error:\"table spatial_ref_sys already exists\"\n"
     ]
    },
    {
     "name": "stdout",
     "output_type": "stream",
     "text": [
      "\u001b[36m(RayTrainWorker pid=98836)\u001b[0m losses:\t tensor(0.5949, device='cuda:0', grad_fn=<AddBackward0>) tensor(2874047., device='cuda:0') tensor(0.5690, device='cuda:0', grad_fn=<MulBackward0>) tensor(0.0259, device='cuda:0', grad_fn=<MulBackward0>)\n"
     ]
    },
    {
     "name": "stderr",
     "output_type": "stream",
     "text": [
      "5it [00:05,  1.55it/s]id=98836)\u001b[0m \n",
      "\u001b[36m(RayTrainWorker pid=98836)\u001b[0m InitSpatiaMetaData() error:\"table spatial_ref_sys already exists\"\n"
     ]
    },
    {
     "name": "stdout",
     "output_type": "stream",
     "text": [
      "\u001b[36m(RayTrainWorker pid=98836)\u001b[0m losses:\t tensor(0.2198, device='cuda:0', grad_fn=<AddBackward0>) tensor(1127529., device='cuda:0') tensor(0.1728, device='cuda:0', grad_fn=<MulBackward0>) tensor(0.0469, device='cuda:0', grad_fn=<MulBackward0>)\n"
     ]
    },
    {
     "name": "stderr",
     "output_type": "stream",
     "text": [
      "6it [00:05,  1.84it/s]InitSpatiaMetaData() error:\"table spatial_ref_sys already exists\"\n"
     ]
    },
    {
     "name": "stdout",
     "output_type": "stream",
     "text": [
      "\u001b[36m(RayTrainWorker pid=98836)\u001b[0m losses:\t tensor(0.1746, device='cuda:0', grad_fn=<AddBackward0>) tensor(679463., device='cuda:0') tensor(0.1151, device='cuda:0', grad_fn=<MulBackward0>) tensor(0.0595, device='cuda:0', grad_fn=<MulBackward0>)\n"
     ]
    },
    {
     "name": "stderr",
     "output_type": "stream",
     "text": [
      "7it [00:05,  2.06it/s]id=98836)\u001b[0m \n",
      "\u001b[36m(RayTrainWorker pid=98836)\u001b[0m InitSpatiaMetaData() error:\"table spatial_ref_sys already exists\"\n"
     ]
    },
    {
     "name": "stdout",
     "output_type": "stream",
     "text": [
      "\u001b[36m(RayTrainWorker pid=98836)\u001b[0m losses:\t tensor(0.3688, device='cuda:0', grad_fn=<AddBackward0>) tensor(1902405., device='cuda:0') tensor(0.3293, device='cuda:0', grad_fn=<MulBackward0>) tensor(0.0395, device='cuda:0', grad_fn=<MulBackward0>)\n"
     ]
    },
    {
     "name": "stderr",
     "output_type": "stream",
     "text": [
      "8it [00:06,  2.27it/s]InitSpatiaMetaData() error:\"table spatial_ref_sys already exists\"\n"
     ]
    },
    {
     "name": "stdout",
     "output_type": "stream",
     "text": [
      "\u001b[36m(RayTrainWorker pid=98836)\u001b[0m losses:\t tensor(0.2039, device='cuda:0', grad_fn=<AddBackward0>) tensor(975110., device='cuda:0') tensor(0.1534, device='cuda:0', grad_fn=<MulBackward0>) tensor(0.0506, device='cuda:0', grad_fn=<MulBackward0>)\n"
     ]
    },
    {
     "name": "stderr",
     "output_type": "stream",
     "text": [
      "9it [00:06,  2.43it/s]InitSpatiaMetaData() error:\"table spatial_ref_sys already exists\"\n"
     ]
    },
    {
     "name": "stdout",
     "output_type": "stream",
     "text": [
      "\u001b[36m(RayTrainWorker pid=98836)\u001b[0m losses:\t tensor(0.1128, device='cuda:0', grad_fn=<AddBackward0>) tensor(300739., device='cuda:0') tensor(0.0492, device='cuda:0', grad_fn=<MulBackward0>) tensor(0.0636, device='cuda:0', grad_fn=<MulBackward0>)\n"
     ]
    },
    {
     "name": "stderr",
     "output_type": "stream",
     "text": [
      "10it [00:06,  2.52it/s]InitSpatiaMetaData() error:\"table spatial_ref_sys already exists\"\n"
     ]
    },
    {
     "name": "stdout",
     "output_type": "stream",
     "text": [
      "\u001b[36m(RayTrainWorker pid=98836)\u001b[0m losses:\t tensor(0.4279, device='cuda:0', grad_fn=<AddBackward0>) tensor(2421610., device='cuda:0') tensor(0.3989, device='cuda:0', grad_fn=<MulBackward0>) tensor(0.0290, device='cuda:0', grad_fn=<MulBackward0>)\n"
     ]
    },
    {
     "name": "stderr",
     "output_type": "stream",
     "text": [
      "11it [00:07,  2.60it/s]InitSpatiaMetaData() error:\"table spatial_ref_sys already exists\"\n"
     ]
    },
    {
     "name": "stdout",
     "output_type": "stream",
     "text": [
      "\u001b[36m(RayTrainWorker pid=98836)\u001b[0m losses:\t tensor(0.1734, device='cuda:0', grad_fn=<AddBackward0>) tensor(785064., device='cuda:0') tensor(0.1209, device='cuda:0', grad_fn=<MulBackward0>) tensor(0.0525, device='cuda:0', grad_fn=<MulBackward0>)\n"
     ]
    },
    {
     "name": "stderr",
     "output_type": "stream",
     "text": [
      "12it [00:07,  2.64it/s]InitSpatiaMetaData() error:\"table spatial_ref_sys already exists\"\n"
     ]
    },
    {
     "name": "stdout",
     "output_type": "stream",
     "text": [
      "\u001b[36m(RayTrainWorker pid=98836)\u001b[0m losses:\t tensor(0.1223, device='cuda:0', grad_fn=<AddBackward0>) tensor(465223., device='cuda:0') tensor(0.0679, device='cuda:0', grad_fn=<MulBackward0>) tensor(0.0544, device='cuda:0', grad_fn=<MulBackward0>)\n"
     ]
    },
    {
     "name": "stderr",
     "output_type": "stream",
     "text": [
      "13it [00:08,  2.70it/s]InitSpatiaMetaData() error:\"table spatial_ref_sys already exists\"\n"
     ]
    },
    {
     "name": "stdout",
     "output_type": "stream",
     "text": [
      "\u001b[36m(RayTrainWorker pid=98836)\u001b[0m losses:\t tensor(0.0609, device='cuda:0', grad_fn=<AddBackward0>) tensor(2696., device='cuda:0') tensor(0.0004, device='cuda:0', grad_fn=<MulBackward0>) tensor(0.0605, device='cuda:0', grad_fn=<MulBackward0>)\n"
     ]
    },
    {
     "name": "stderr",
     "output_type": "stream",
     "text": [
      "14it [00:08,  2.72it/s]InitSpatiaMetaData() error:\"table spatial_ref_sys already exists\"\n"
     ]
    },
    {
     "name": "stdout",
     "output_type": "stream",
     "text": [
      "\u001b[36m(RayTrainWorker pid=98836)\u001b[0m losses:\t tensor(0.3674, device='cuda:0', grad_fn=<AddBackward0>) tensor(2180703., device='cuda:0') tensor(0.3365, device='cuda:0', grad_fn=<MulBackward0>) tensor(0.0309, device='cuda:0', grad_fn=<MulBackward0>)\n"
     ]
    },
    {
     "name": "stderr",
     "output_type": "stream",
     "text": [
      "15it [00:08,  2.79it/s]InitSpatiaMetaData() error:\"table spatial_ref_sys already exists\"\n"
     ]
    },
    {
     "name": "stdout",
     "output_type": "stream",
     "text": [
      "\u001b[36m(RayTrainWorker pid=98836)\u001b[0m losses:\t tensor(0.2276, device='cuda:0', grad_fn=<AddBackward0>) tensor(1506126., device='cuda:0') tensor(0.1932, device='cuda:0', grad_fn=<MulBackward0>) tensor(0.0344, device='cuda:0', grad_fn=<MulBackward0>)\n"
     ]
    },
    {
     "name": "stderr",
     "output_type": "stream",
     "text": [
      "16it [00:09,  2.86it/s]InitSpatiaMetaData() error:\"table spatial_ref_sys already exists\"\n"
     ]
    },
    {
     "name": "stdout",
     "output_type": "stream",
     "text": [
      "\u001b[36m(RayTrainWorker pid=98836)\u001b[0m losses:\t tensor(0.1592, device='cuda:0', grad_fn=<AddBackward0>) tensor(911131., device='cuda:0') tensor(0.1171, device='cuda:0', grad_fn=<MulBackward0>) tensor(0.0421, device='cuda:0', grad_fn=<MulBackward0>)\n"
     ]
    },
    {
     "name": "stderr",
     "output_type": "stream",
     "text": [
      "17it [00:09,  2.89it/s]d=98836)\u001b[0m \n",
      "\u001b[36m(RayTrainWorker pid=98836)\u001b[0m InitSpatiaMetaData() error:\"table spatial_ref_sys already exists\"\n"
     ]
    },
    {
     "name": "stdout",
     "output_type": "stream",
     "text": [
      "\u001b[36m(RayTrainWorker pid=98836)\u001b[0m losses:\t tensor(0.4423, device='cuda:0', grad_fn=<AddBackward0>) tensor(2433025., device='cuda:0') tensor(0.4127, device='cuda:0', grad_fn=<MulBackward0>) tensor(0.0296, device='cuda:0', grad_fn=<MulBackward0>)\n"
     ]
    },
    {
     "name": "stderr",
     "output_type": "stream",
     "text": [
      "18it [00:09,  2.92it/s]InitSpatiaMetaData() error:\"table spatial_ref_sys already exists\"\n"
     ]
    },
    {
     "name": "stdout",
     "output_type": "stream",
     "text": [
      "\u001b[36m(RayTrainWorker pid=98836)\u001b[0m losses:\t tensor(0.1718, device='cuda:0', grad_fn=<AddBackward0>) tensor(1039347., device='cuda:0') tensor(0.1319, device='cuda:0', grad_fn=<MulBackward0>) tensor(0.0399, device='cuda:0', grad_fn=<MulBackward0>)\n"
     ]
    },
    {
     "name": "stderr",
     "output_type": "stream",
     "text": [
      "19it [00:10,  2.94it/s]InitSpatiaMetaData() error:\"table spatial_ref_sys already exists\"\n"
     ]
    },
    {
     "name": "stdout",
     "output_type": "stream",
     "text": [
      "\u001b[36m(RayTrainWorker pid=98836)\u001b[0m losses:\t tensor(0.1350, device='cuda:0', grad_fn=<AddBackward0>) tensor(736464., device='cuda:0') tensor(0.0919, device='cuda:0', grad_fn=<MulBackward0>) tensor(0.0431, device='cuda:0', grad_fn=<MulBackward0>)\n"
     ]
    },
    {
     "name": "stderr",
     "output_type": "stream",
     "text": [
      "20it [00:10,  2.86it/s]InitSpatiaMetaData() error:\"table spatial_ref_sys already exists\"\n"
     ]
    },
    {
     "name": "stdout",
     "output_type": "stream",
     "text": [
      "\u001b[36m(RayTrainWorker pid=98836)\u001b[0m losses:\t tensor(0.2877, device='cuda:0', grad_fn=<AddBackward0>) tensor(2224468., device='cuda:0') tensor(0.2644, device='cuda:0', grad_fn=<MulBackward0>) tensor(0.0233, device='cuda:0', grad_fn=<MulBackward0>)\n"
     ]
    },
    {
     "name": "stderr",
     "output_type": "stream",
     "text": [
      "21it [00:10,  2.82it/s]InitSpatiaMetaData() error:\"table spatial_ref_sys already exists\"\n"
     ]
    },
    {
     "name": "stdout",
     "output_type": "stream",
     "text": [
      "\u001b[36m(RayTrainWorker pid=98836)\u001b[0m losses:\t tensor(0.6143, device='cuda:0', grad_fn=<AddBackward0>) tensor(3200620., device='cuda:0') tensor(0.5960, device='cuda:0', grad_fn=<MulBackward0>) tensor(0.0182, device='cuda:0', grad_fn=<MulBackward0>)\n"
     ]
    },
    {
     "name": "stderr",
     "output_type": "stream",
     "text": [
      "22it [00:11,  2.80it/s]InitSpatiaMetaData() error:\"table spatial_ref_sys already exists\"\n"
     ]
    },
    {
     "name": "stdout",
     "output_type": "stream",
     "text": [
      "\u001b[36m(RayTrainWorker pid=98836)\u001b[0m losses:\t tensor(0.1851, device='cuda:0', grad_fn=<AddBackward0>) tensor(1117990., device='cuda:0') tensor(0.1452, device='cuda:0', grad_fn=<MulBackward0>) tensor(0.0399, device='cuda:0', grad_fn=<MulBackward0>)\n"
     ]
    },
    {
     "name": "stderr",
     "output_type": "stream",
     "text": [
      "23it [00:11,  2.85it/s]InitSpatiaMetaData() error:\"table spatial_ref_sys already exists\"\n"
     ]
    },
    {
     "name": "stdout",
     "output_type": "stream",
     "text": [
      "\u001b[36m(RayTrainWorker pid=98836)\u001b[0m losses:\t tensor(0.5072, device='cuda:0', grad_fn=<AddBackward0>) tensor(3144719., device='cuda:0') tensor(0.4910, device='cuda:0', grad_fn=<MulBackward0>) tensor(0.0162, device='cuda:0', grad_fn=<MulBackward0>)\n"
     ]
    },
    {
     "name": "stderr",
     "output_type": "stream",
     "text": [
      "24it [00:11,  2.85it/s]d=98836)\u001b[0m \n",
      "\u001b[36m(RayTrainWorker pid=98836)\u001b[0m InitSpatiaMetaData() error:\"table spatial_ref_sys already exists\"\n"
     ]
    },
    {
     "name": "stdout",
     "output_type": "stream",
     "text": [
      "\u001b[36m(RayTrainWorker pid=98836)\u001b[0m losses:\t tensor(0.1424, device='cuda:0', grad_fn=<AddBackward0>) tensor(452034., device='cuda:0') tensor(0.0780, device='cuda:0', grad_fn=<MulBackward0>) tensor(0.0645, device='cuda:0', grad_fn=<MulBackward0>)\n"
     ]
    },
    {
     "name": "stderr",
     "output_type": "stream",
     "text": [
      "25it [00:12,  2.81it/s]InitSpatiaMetaData() error:\"table spatial_ref_sys already exists\"\n"
     ]
    },
    {
     "name": "stdout",
     "output_type": "stream",
     "text": [
      "\u001b[36m(RayTrainWorker pid=98836)\u001b[0m losses:\t tensor(0.1744, device='cuda:0', grad_fn=<AddBackward0>) tensor(667695., device='cuda:0') tensor(0.1141, device='cuda:0', grad_fn=<MulBackward0>) tensor(0.0602, device='cuda:0', grad_fn=<MulBackward0>)\n"
     ]
    },
    {
     "name": "stderr",
     "output_type": "stream",
     "text": [
      "26it [00:12,  2.78it/s]InitSpatiaMetaData() error:\"table spatial_ref_sys already exists\"\n"
     ]
    },
    {
     "name": "stdout",
     "output_type": "stream",
     "text": [
      "\u001b[36m(RayTrainWorker pid=98836)\u001b[0m losses:\t tensor(0.2600, device='cuda:0', grad_fn=<AddBackward0>) tensor(1287240., device='cuda:0') tensor(0.2122, device='cuda:0', grad_fn=<MulBackward0>) tensor(0.0479, device='cuda:0', grad_fn=<MulBackward0>)\n"
     ]
    },
    {
     "name": "stderr",
     "output_type": "stream",
     "text": [
      "27it [00:12,  2.84it/s]InitSpatiaMetaData() error:\"table spatial_ref_sys already exists\"\n"
     ]
    },
    {
     "name": "stdout",
     "output_type": "stream",
     "text": [
      "\u001b[36m(RayTrainWorker pid=98836)\u001b[0m losses:\t tensor(0.2043, device='cuda:0', grad_fn=<AddBackward0>) tensor(1699567., device='cuda:0') tensor(0.1782, device='cuda:0', grad_fn=<MulBackward0>) tensor(0.0261, device='cuda:0', grad_fn=<MulBackward0>)\n"
     ]
    },
    {
     "name": "stderr",
     "output_type": "stream",
     "text": [
      "28it [00:13,  2.83it/s]InitSpatiaMetaData() error:\"table spatial_ref_sys already exists\"\n"
     ]
    },
    {
     "name": "stdout",
     "output_type": "stream",
     "text": [
      "\u001b[36m(RayTrainWorker pid=98836)\u001b[0m losses:\t tensor(0.2010, device='cuda:0', grad_fn=<AddBackward0>) tensor(1419905., device='cuda:0') tensor(0.1682, device='cuda:0', grad_fn=<MulBackward0>) tensor(0.0328, device='cuda:0', grad_fn=<MulBackward0>)\n"
     ]
    },
    {
     "name": "stderr",
     "output_type": "stream",
     "text": [
      "29it [00:13,  2.85it/s]InitSpatiaMetaData() error:\"table spatial_ref_sys already exists\"\n"
     ]
    },
    {
     "name": "stdout",
     "output_type": "stream",
     "text": [
      "\u001b[36m(RayTrainWorker pid=98836)\u001b[0m losses:\t tensor(0.3196, device='cuda:0', grad_fn=<AddBackward0>) tensor(2468920., device='cuda:0') tensor(0.2988, device='cuda:0', grad_fn=<MulBackward0>) tensor(0.0208, device='cuda:0', grad_fn=<MulBackward0>)\n"
     ]
    },
    {
     "name": "stderr",
     "output_type": "stream",
     "text": [
      "30it [00:14,  2.80it/s]InitSpatiaMetaData() error:\"table spatial_ref_sys already exists\"\n"
     ]
    },
    {
     "name": "stdout",
     "output_type": "stream",
     "text": [
      "\u001b[36m(RayTrainWorker pid=98836)\u001b[0m losses:\t tensor(0.0752, device='cuda:0', grad_fn=<AddBackward0>) tensor(64098., device='cuda:0') tensor(0.0101, device='cuda:0', grad_fn=<MulBackward0>) tensor(0.0651, device='cuda:0', grad_fn=<MulBackward0>)\n"
     ]
    },
    {
     "name": "stderr",
     "output_type": "stream",
     "text": [
      "31it [00:14,  2.80it/s]InitSpatiaMetaData() error:\"table spatial_ref_sys already exists\"\n"
     ]
    },
    {
     "name": "stdout",
     "output_type": "stream",
     "text": [
      "\u001b[36m(RayTrainWorker pid=98836)\u001b[0m losses:\t tensor(0.7223, device='cuda:0', grad_fn=<AddBackward0>) tensor(3513438., device='cuda:0') tensor(0.7088, device='cuda:0', grad_fn=<MulBackward0>) tensor(0.0135, device='cuda:0', grad_fn=<MulBackward0>)\n"
     ]
    },
    {
     "name": "stderr",
     "output_type": "stream",
     "text": [
      "32it [00:14,  2.82it/s]d=98836)\u001b[0m \n",
      "\u001b[36m(RayTrainWorker pid=98836)\u001b[0m InitSpatiaMetaData() error:\"table spatial_ref_sys already exists\"\n"
     ]
    },
    {
     "name": "stdout",
     "output_type": "stream",
     "text": [
      "\u001b[36m(RayTrainWorker pid=98836)\u001b[0m losses:\t tensor(0.3135, device='cuda:0', grad_fn=<AddBackward0>) tensor(2584933., device='cuda:0') tensor(0.2952, device='cuda:0', grad_fn=<MulBackward0>) tensor(0.0182, device='cuda:0', grad_fn=<MulBackward0>)\n"
     ]
    },
    {
     "name": "stderr",
     "output_type": "stream",
     "text": [
      "33it [00:15,  2.78it/s]InitSpatiaMetaData() error:\"table spatial_ref_sys already exists\"\n"
     ]
    },
    {
     "name": "stdout",
     "output_type": "stream",
     "text": [
      "\u001b[36m(RayTrainWorker pid=98836)\u001b[0m losses:\t tensor(0.0938, device='cuda:0', grad_fn=<AddBackward0>) tensor(342876., device='cuda:0') tensor(0.0442, device='cuda:0', grad_fn=<MulBackward0>) tensor(0.0496, device='cuda:0', grad_fn=<MulBackward0>)\n"
     ]
    },
    {
     "name": "stderr",
     "output_type": "stream",
     "text": [
      "34it [00:15,  2.77it/s]InitSpatiaMetaData() error:\"table spatial_ref_sys already exists\"\n"
     ]
    },
    {
     "name": "stdout",
     "output_type": "stream",
     "text": [
      "\u001b[36m(RayTrainWorker pid=98836)\u001b[0m losses:\t tensor(0.0733, device='cuda:0', grad_fn=<AddBackward0>) tensor(59292., device='cuda:0') tensor(0.0092, device='cuda:0', grad_fn=<MulBackward0>) tensor(0.0641, device='cuda:0', grad_fn=<MulBackward0>)\n"
     ]
    },
    {
     "name": "stderr",
     "output_type": "stream",
     "text": [
      "35it [00:15,  2.82it/s]InitSpatiaMetaData() error:\"table spatial_ref_sys already exists\"\n"
     ]
    },
    {
     "name": "stdout",
     "output_type": "stream",
     "text": [
      "\u001b[36m(RayTrainWorker pid=98836)\u001b[0m losses:\t tensor(0.0698, device='cuda:0', grad_fn=<AddBackward0>) tensor(37585., device='cuda:0') tensor(0.0058, device='cuda:0', grad_fn=<MulBackward0>) tensor(0.0641, device='cuda:0', grad_fn=<MulBackward0>)\n"
     ]
    },
    {
     "name": "stderr",
     "output_type": "stream",
     "text": [
      "36it [00:16,  2.80it/s]InitSpatiaMetaData() error:\"table spatial_ref_sys already exists\"\n"
     ]
    },
    {
     "name": "stdout",
     "output_type": "stream",
     "text": [
      "\u001b[36m(RayTrainWorker pid=98836)\u001b[0m losses:\t tensor(0.0774, device='cuda:0', grad_fn=<AddBackward0>) tensor(118033., device='cuda:0') tensor(0.0174, device='cuda:0', grad_fn=<MulBackward0>) tensor(0.0600, device='cuda:0', grad_fn=<MulBackward0>)\n"
     ]
    },
    {
     "name": "stderr",
     "output_type": "stream",
     "text": [
      "37it [00:16,  2.78it/s]d=98836)\u001b[0m \n",
      "\u001b[36m(RayTrainWorker pid=98836)\u001b[0m InitSpatiaMetaData() error:\"table spatial_ref_sys already exists\"\n"
     ]
    },
    {
     "name": "stdout",
     "output_type": "stream",
     "text": [
      "\u001b[36m(RayTrainWorker pid=98836)\u001b[0m losses:\t tensor(0.1107, device='cuda:0', grad_fn=<AddBackward0>) tensor(637923., device='cuda:0') tensor(0.0711, device='cuda:0', grad_fn=<MulBackward0>) tensor(0.0396, device='cuda:0', grad_fn=<MulBackward0>)\n"
     ]
    },
    {
     "name": "stderr",
     "output_type": "stream",
     "text": [
      "38it [00:16,  2.53it/s]InitSpatiaMetaData() error:\"table spatial_ref_sys already exists\"\n"
     ]
    },
    {
     "name": "stdout",
     "output_type": "stream",
     "text": [
      "\u001b[36m(RayTrainWorker pid=98836)\u001b[0m losses:\t \n",
      "\u001b[36m(RayTrainWorker pid=98836)\u001b[0m tensor(0.1061, device='cuda:0', grad_fn=<AddBackward0>) tensor(518585., device='cuda:0') tensor(0.0621, device='cuda:0', grad_fn=<MulBackward0>) tensor(0.0440, device='cuda:0', grad_fn=<MulBackward0>)\n"
     ]
    },
    {
     "name": "stderr",
     "output_type": "stream",
     "text": [
      "39it [00:17,  2.62it/s]d=98836)\u001b[0m \n",
      "\u001b[36m(RayTrainWorker pid=98836)\u001b[0m InitSpatiaMetaData() error:\"table spatial_ref_sys already exists\"\n"
     ]
    },
    {
     "name": "stdout",
     "output_type": "stream",
     "text": [
      "\u001b[36m(RayTrainWorker pid=98836)\u001b[0m losses:\t tensor(0.3379, device='cuda:0', grad_fn=<AddBackward0>) tensor(2484446., device='cuda:0') tensor(0.3163, device='cuda:0', grad_fn=<MulBackward0>) tensor(0.0216, device='cuda:0', grad_fn=<MulBackward0>)\n"
     ]
    },
    {
     "name": "stderr",
     "output_type": "stream",
     "text": [
      "40it [00:18,  1.94it/s]InitSpatiaMetaData() error:\"table spatial_ref_sys already exists\"\n"
     ]
    },
    {
     "name": "stdout",
     "output_type": "stream",
     "text": [
      "\u001b[36m(RayTrainWorker pid=98836)\u001b[0m losses:\t tensor(0.1157, device='cuda:0', grad_fn=<AddBackward0>) tensor(816603., device='cuda:0') tensor(0.0819, device='cuda:0', grad_fn=<MulBackward0>) tensor(0.0338, device='cuda:0', grad_fn=<MulBackward0>)\n"
     ]
    },
    {
     "name": "stderr",
     "output_type": "stream",
     "text": [
      "41it [00:18,  2.15it/s]InitSpatiaMetaData() error:\"table spatial_ref_sys already exists\"\n"
     ]
    },
    {
     "name": "stdout",
     "output_type": "stream",
     "text": [
      "\u001b[36m(RayTrainWorker pid=98836)\u001b[0m losses:\t tensor(0.5229, device='cuda:0', grad_fn=<AddBackward0>) \n",
      "\u001b[36m(RayTrainWorker pid=98836)\u001b[0m tensor(3000335., device='cuda:0') \n",
      "\u001b[36m(RayTrainWorker pid=98836)\u001b[0m tensor(0.5032, device='cuda:0', grad_fn=<MulBackward0>) \n",
      "\u001b[36m(RayTrainWorker pid=98836)\u001b[0m tensor(0.0198, device='cuda:0', grad_fn=<MulBackward0>)\n"
     ]
    },
    {
     "name": "stderr",
     "output_type": "stream",
     "text": [
      "42it [00:18,  2.31it/s]d=98836)\u001b[0m \n",
      "\u001b[36m(RayTrainWorker pid=98836)\u001b[0m InitSpatiaMetaData() error:\"table spatial_ref_sys already exists\"\n"
     ]
    },
    {
     "name": "stdout",
     "output_type": "stream",
     "text": [
      "\u001b[36m(RayTrainWorker pid=98836)\u001b[0m losses:\t tensor(0.3815, device='cuda:0', grad_fn=<AddBackward0>) tensor(2468689., device='cuda:0') tensor(0.3567, device='cuda:0', grad_fn=<MulBackward0>) tensor(0.0248, device='cuda:0', grad_fn=<MulBackward0>)\n"
     ]
    },
    {
     "name": "stderr",
     "output_type": "stream",
     "text": [
      "43it [00:19,  2.44it/s]InitSpatiaMetaData() error:\"table spatial_ref_sys already exists\"\n"
     ]
    },
    {
     "name": "stdout",
     "output_type": "stream",
     "text": [
      "\u001b[36m(RayTrainWorker pid=98836)\u001b[0m losses:\t tensor(0.2208, device='cuda:0', grad_fn=<AddBackward0>) tensor(1548989., device='cuda:0') tensor(0.1886, device='cuda:0', grad_fn=<MulBackward0>) tensor(0.0321, device='cuda:0', grad_fn=<MulBackward0>)\n"
     ]
    },
    {
     "name": "stderr",
     "output_type": "stream",
     "text": [
      "44it [00:19,  2.56it/s]InitSpatiaMetaData() error:\"table spatial_ref_sys already exists\"\n"
     ]
    },
    {
     "name": "stdout",
     "output_type": "stream",
     "text": [
      "\u001b[36m(RayTrainWorker pid=98836)\u001b[0m losses:\t tensor(0.3412, device='cuda:0', grad_fn=<AddBackward0>) tensor(2211581., device='cuda:0') tensor(0.3132, device='cuda:0', grad_fn=<MulBackward0>) tensor(0.0279, device='cuda:0', grad_fn=<MulBackward0>)\n"
     ]
    },
    {
     "name": "stderr",
     "output_type": "stream",
     "text": [
      "45it [00:19,  2.68it/s]InitSpatiaMetaData() error:\"table spatial_ref_sys already exists\"\n"
     ]
    },
    {
     "name": "stdout",
     "output_type": "stream",
     "text": [
      "\u001b[36m(RayTrainWorker pid=98836)\u001b[0m losses:\t tensor(0.0891, device='cuda:0', grad_fn=<AddBackward0>) tensor(297553., device='cuda:0') tensor(0.0386, device='cuda:0', grad_fn=<MulBackward0>) tensor(0.0505, device='cuda:0', grad_fn=<MulBackward0>)\n"
     ]
    },
    {
     "name": "stderr",
     "output_type": "stream",
     "text": [
      "46it [00:20,  2.78it/s]InitSpatiaMetaData() error:\"table spatial_ref_sys already exists\"\n"
     ]
    },
    {
     "name": "stdout",
     "output_type": "stream",
     "text": [
      "\u001b[36m(RayTrainWorker pid=98836)\u001b[0m losses:\t tensor(0.3999, device='cuda:0', grad_fn=<AddBackward0>) tensor(2841340., device='cuda:0') tensor(0.3819, device='cuda:0', grad_fn=<MulBackward0>) tensor(0.0180, device='cuda:0', grad_fn=<MulBackward0>)\n"
     ]
    },
    {
     "name": "stderr",
     "output_type": "stream",
     "text": [
      "47it [00:20,  2.79it/s]d=98836)\u001b[0m \n",
      "\u001b[36m(RayTrainWorker pid=98836)\u001b[0m InitSpatiaMetaData() error:\"table spatial_ref_sys already exists\"\n"
     ]
    },
    {
     "name": "stdout",
     "output_type": "stream",
     "text": [
      "\u001b[36m(RayTrainWorker pid=98836)\u001b[0m losses:\t tensor(0.1972, device='cuda:0', grad_fn=<AddBackward0>) tensor(1521576., device='cuda:0') tensor(0.1678, device='cuda:0', grad_fn=<MulBackward0>) tensor(0.0294, device='cuda:0', grad_fn=<MulBackward0>)\n"
     ]
    },
    {
     "name": "stderr",
     "output_type": "stream",
     "text": [
      "48it [00:20,  2.80it/s]InitSpatiaMetaData() error:\"table spatial_ref_sys already exists\"\n"
     ]
    },
    {
     "name": "stdout",
     "output_type": "stream",
     "text": [
      "\u001b[36m(RayTrainWorker pid=98836)\u001b[0m losses:\t tensor(0.3492, device='cuda:0', grad_fn=<AddBackward0>) tensor(2854801., device='cuda:0') tensor(0.3337, device='cuda:0', grad_fn=<MulBackward0>) tensor(0.0155, device='cuda:0', grad_fn=<MulBackward0>)\n"
     ]
    },
    {
     "name": "stderr",
     "output_type": "stream",
     "text": [
      "49it [00:21,  2.81it/s]InitSpatiaMetaData() error:\"table spatial_ref_sys already exists\"\n"
     ]
    },
    {
     "name": "stdout",
     "output_type": "stream",
     "text": [
      "\u001b[36m(RayTrainWorker pid=98836)\u001b[0m losses:\t tensor(0.0860, device='cuda:0', grad_fn=<AddBackward0>) tensor(90545., device='cuda:0') tensor(0.0156, device='cuda:0', grad_fn=<MulBackward0>) tensor(0.0705, device='cuda:0', grad_fn=<MulBackward0>)\n"
     ]
    },
    {
     "name": "stderr",
     "output_type": "stream",
     "text": [
      "50it [00:21,  2.80it/s]InitSpatiaMetaData() error:\"table spatial_ref_sys already exists\"\n"
     ]
    },
    {
     "name": "stdout",
     "output_type": "stream",
     "text": [
      "\u001b[36m(RayTrainWorker pid=98836)\u001b[0m losses:\t tensor(0.4033, device='cuda:0', grad_fn=<AddBackward0>) tensor(3214444., device='cuda:0') tensor(0.3915, device='cuda:0', grad_fn=<MulBackward0>) tensor(0.0118, device='cuda:0', grad_fn=<MulBackward0>)\n"
     ]
    },
    {
     "name": "stderr",
     "output_type": "stream",
     "text": [
      "51it [00:22,  2.76it/s]InitSpatiaMetaData() error:\"table spatial_ref_sys already exists\"\n"
     ]
    },
    {
     "name": "stdout",
     "output_type": "stream",
     "text": [
      "\u001b[36m(RayTrainWorker pid=98836)\u001b[0m losses:\t tensor(0.3319, device='cuda:0', grad_fn=<AddBackward0>) tensor(2340924., device='cuda:0') tensor(0.3076, device='cuda:0', grad_fn=<MulBackward0>) tensor(0.0243, device='cuda:0', grad_fn=<MulBackward0>)\n"
     ]
    },
    {
     "name": "stderr",
     "output_type": "stream",
     "text": [
      "52it [00:22,  2.81it/s]InitSpatiaMetaData() error:\"table spatial_ref_sys already exists\"\n"
     ]
    },
    {
     "name": "stdout",
     "output_type": "stream",
     "text": [
      "\u001b[36m(RayTrainWorker pid=98836)\u001b[0m losses:\t tensor(0.4363, device='cuda:0', grad_fn=<AddBackward0>) tensor(3025968., device='cuda:0') tensor(0.4203, device='cuda:0', grad_fn=<MulBackward0>) tensor(0.0160, device='cuda:0', grad_fn=<MulBackward0>)\n"
     ]
    },
    {
     "name": "stderr",
     "output_type": "stream",
     "text": [
      "53it [00:22,  2.81it/s]InitSpatiaMetaData() error:\"table spatial_ref_sys already exists\"\n"
     ]
    },
    {
     "name": "stdout",
     "output_type": "stream",
     "text": [
      "\u001b[36m(RayTrainWorker pid=98836)\u001b[0m losses:\t tensor(0.1130, device='cuda:0', grad_fn=<AddBackward0>) tensor(428247., device='cuda:0') tensor(0.0601, device='cuda:0', grad_fn=<MulBackward0>) tensor(0.0528, device='cuda:0', grad_fn=<MulBackward0>)\n"
     ]
    },
    {
     "name": "stderr",
     "output_type": "stream",
     "text": [
      "54it [00:23,  2.79it/s]InitSpatiaMetaData() error:\"table spatial_ref_sys already exists\"\n"
     ]
    },
    {
     "name": "stdout",
     "output_type": "stream",
     "text": [
      "\u001b[36m(RayTrainWorker pid=98836)\u001b[0m losses:\t tensor(0.0913, device='cuda:0', grad_fn=<AddBackward0>) tensor(2939., device='cuda:0') tensor(0.0006, device='cuda:0', grad_fn=<MulBackward0>) tensor(0.0907, device='cuda:0', grad_fn=<MulBackward0>)\n"
     ]
    },
    {
     "name": "stderr",
     "output_type": "stream",
     "text": [
      "55it [00:23,  2.84it/s]InitSpatiaMetaData() error:\"table spatial_ref_sys already exists\"\n"
     ]
    },
    {
     "name": "stdout",
     "output_type": "stream",
     "text": [
      "\u001b[36m(RayTrainWorker pid=98836)\u001b[0m losses:\t tensor(0.2608, device='cuda:0', grad_fn=<AddBackward0>) tensor(1669089., device='cuda:0') tensor(0.2266, device='cuda:0', grad_fn=<MulBackward0>) tensor(0.0342, device='cuda:0', grad_fn=<MulBackward0>)\n"
     ]
    },
    {
     "name": "stderr",
     "output_type": "stream",
     "text": [
      "56it [00:23,  2.83it/s]d=98836)\u001b[0m \n",
      "\u001b[36m(RayTrainWorker pid=98836)\u001b[0m InitSpatiaMetaData() error:\"table spatial_ref_sys already exists\"\n"
     ]
    },
    {
     "name": "stdout",
     "output_type": "stream",
     "text": [
      "\u001b[36m(RayTrainWorker pid=98836)\u001b[0m losses:\t tensor(0.1670, device='cuda:0', grad_fn=<AddBackward0>) tensor(1437756., device='cuda:0') tensor(0.1402, device='cuda:0', grad_fn=<MulBackward0>) tensor(0.0268, device='cuda:0', grad_fn=<MulBackward0>)\n"
     ]
    },
    {
     "name": "stderr",
     "output_type": "stream",
     "text": [
      "57it [00:24,  2.88it/s]InitSpatiaMetaData() error:\"table spatial_ref_sys already exists\"\n"
     ]
    },
    {
     "name": "stdout",
     "output_type": "stream",
     "text": [
      "\u001b[36m(RayTrainWorker pid=98836)\u001b[0m losses:\t tensor(0.3262, device='cuda:0', grad_fn=<AddBackward0>) tensor(2738834., device='cuda:0') tensor(0.3099, device='cuda:0', grad_fn=<MulBackward0>) tensor(0.0163, device='cuda:0', grad_fn=<MulBackward0>)\n"
     ]
    },
    {
     "name": "stderr",
     "output_type": "stream",
     "text": [
      "58it [00:24,  2.87it/s]InitSpatiaMetaData() error:\"table spatial_ref_sys already exists\"\n"
     ]
    },
    {
     "name": "stdout",
     "output_type": "stream",
     "text": [
      "\u001b[36m(RayTrainWorker pid=98836)\u001b[0m losses:\t tensor(0.2275, device='cuda:0', grad_fn=<AddBackward0>) \n",
      "\u001b[36m(RayTrainWorker pid=98836)\u001b[0m tensor(1420003., device='cuda:0') \n",
      "\u001b[36m(RayTrainWorker pid=98836)\u001b[0m tensor(0.1904, device='cuda:0', grad_fn=<MulBackward0>) tensor(0.0371, device='cuda:0', grad_fn=<MulBackward0>)\n"
     ]
    },
    {
     "name": "stderr",
     "output_type": "stream",
     "text": [
      "59it [00:24,  2.84it/s]InitSpatiaMetaData() error:\"table spatial_ref_sys already exists\"\n"
     ]
    },
    {
     "name": "stdout",
     "output_type": "stream",
     "text": [
      "\u001b[36m(RayTrainWorker pid=98836)\u001b[0m losses:\t tensor(0.1729, device='cuda:0', grad_fn=<AddBackward0>) tensor(941265., device='cuda:0') tensor(0.1286, device='cuda:0', grad_fn=<MulBackward0>) tensor(0.0444, device='cuda:0', grad_fn=<MulBackward0>)\n"
     ]
    },
    {
     "name": "stderr",
     "output_type": "stream",
     "text": [
      "60it [00:25,  2.86it/s]InitSpatiaMetaData() error:\"table spatial_ref_sys already exists\"\n"
     ]
    },
    {
     "name": "stdout",
     "output_type": "stream",
     "text": [
      "\u001b[36m(RayTrainWorker pid=98836)\u001b[0m losses:\t tensor(0.2016, device='cuda:0', grad_fn=<AddBackward0>) tensor(1270017., device='cuda:0') \n",
      "\u001b[36m(RayTrainWorker pid=98836)\u001b[0m tensor(0.1640, device='cuda:0', grad_fn=<MulBackward0>) tensor(0.0377, device='cuda:0', grad_fn=<MulBackward0>)\n"
     ]
    },
    {
     "name": "stderr",
     "output_type": "stream",
     "text": [
      "61it [00:25,  2.81it/s]InitSpatiaMetaData() error:\"table spatial_ref_sys already exists\"\n"
     ]
    },
    {
     "name": "stdout",
     "output_type": "stream",
     "text": [
      "\u001b[36m(RayTrainWorker pid=98836)\u001b[0m losses:\t tensor(0.1006, device='cuda:0', grad_fn=<AddBackward0>) tensor(539420., device='cuda:0') tensor(0.0600, device='cuda:0', grad_fn=<MulBackward0>) tensor(0.0406, device='cuda:0', grad_fn=<MulBackward0>)\n"
     ]
    },
    {
     "name": "stderr",
     "output_type": "stream",
     "text": [
      "62it [00:25,  2.82it/s]InitSpatiaMetaData() error:\"table spatial_ref_sys already exists\"\n"
     ]
    },
    {
     "name": "stdout",
     "output_type": "stream",
     "text": [
      "\u001b[36m(RayTrainWorker pid=98836)\u001b[0m losses:\t tensor(0.0819, device='cuda:0', grad_fn=<AddBackward0>) tensor(953., device='cuda:0') tensor(0.0002, device='cuda:0', grad_fn=<MulBackward0>) tensor(0.0817, device='cuda:0', grad_fn=<MulBackward0>)\n"
     ]
    },
    {
     "name": "stderr",
     "output_type": "stream",
     "text": [
      "63it [00:26,  2.83it/s]d=98836)\u001b[0m \n",
      "\u001b[36m(RayTrainWorker pid=98836)\u001b[0m InitSpatiaMetaData() error:\"table spatial_ref_sys already exists\"\n"
     ]
    },
    {
     "name": "stdout",
     "output_type": "stream",
     "text": [
      "\u001b[36m(RayTrainWorker pid=98836)\u001b[0m losses:\t tensor(0.1344, device='cuda:0', grad_fn=<AddBackward0>) tensor(951961., device='cuda:0') tensor(0.1003, device='cuda:0', grad_fn=<MulBackward0>) tensor(0.0341, device='cuda:0', grad_fn=<MulBackward0>)\n"
     ]
    },
    {
     "name": "stderr",
     "output_type": "stream",
     "text": [
      "64it [00:26,  2.83it/s]InitSpatiaMetaData() error:\"table spatial_ref_sys already exists\"\n"
     ]
    },
    {
     "name": "stdout",
     "output_type": "stream",
     "text": [
      "\u001b[36m(RayTrainWorker pid=98836)\u001b[0m losses:\t tensor(0.0828, device='cuda:0', grad_fn=<AddBackward0>) tensor(103039., device='cuda:0') tensor(0.0167, device='cuda:0', grad_fn=<MulBackward0>) tensor(0.0662, device='cuda:0', grad_fn=<MulBackward0>)\n"
     ]
    },
    {
     "name": "stderr",
     "output_type": "stream",
     "text": [
      "65it [00:26,  2.85it/s]InitSpatiaMetaData() error:\"table spatial_ref_sys already exists\"\n"
     ]
    },
    {
     "name": "stdout",
     "output_type": "stream",
     "text": [
      "\u001b[36m(RayTrainWorker pid=98836)\u001b[0m losses:\t tensor(0.1008, device='cuda:0', grad_fn=<AddBackward0>) tensor(571935., device='cuda:0') tensor(0.0618, device='cuda:0', grad_fn=<MulBackward0>) tensor(0.0391, device='cuda:0', grad_fn=<MulBackward0>)\n"
     ]
    },
    {
     "name": "stderr",
     "output_type": "stream",
     "text": [
      "66it [00:27,  2.87it/s]d=98836)\u001b[0m \n",
      "\u001b[36m(RayTrainWorker pid=98836)\u001b[0m InitSpatiaMetaData() error:\"table spatial_ref_sys already exists\"\n"
     ]
    },
    {
     "name": "stdout",
     "output_type": "stream",
     "text": [
      "\u001b[36m(RayTrainWorker pid=98836)\u001b[0m losses:\t tensor(0.4850, device='cuda:0', grad_fn=<AddBackward0>) tensor(2921343., device='cuda:0') tensor(0.4649, device='cuda:0', grad_fn=<MulBackward0>) tensor(0.0201, device='cuda:0', grad_fn=<MulBackward0>)\n"
     ]
    },
    {
     "name": "stderr",
     "output_type": "stream",
     "text": [
      "67it [00:27,  2.89it/s]InitSpatiaMetaData() error:\"table spatial_ref_sys already exists\"\n"
     ]
    },
    {
     "name": "stdout",
     "output_type": "stream",
     "text": [
      "\u001b[36m(RayTrainWorker pid=98836)\u001b[0m losses:\t tensor(0.3636, device='cuda:0', grad_fn=<AddBackward0>) tensor(2551371., device='cuda:0') tensor(0.3417, device='cuda:0', grad_fn=<MulBackward0>) tensor(0.0219, device='cuda:0', grad_fn=<MulBackward0>)\n"
     ]
    },
    {
     "name": "stderr",
     "output_type": "stream",
     "text": [
      "68it [00:27,  2.88it/s]InitSpatiaMetaData() error:\"table spatial_ref_sys already exists\"\n"
     ]
    },
    {
     "name": "stdout",
     "output_type": "stream",
     "text": [
      "\u001b[36m(RayTrainWorker pid=98836)\u001b[0m losses:\t tensor(0.3179, device='cuda:0', grad_fn=<AddBackward0>) tensor(2665503., device='cuda:0') tensor(0.3008, device='cuda:0', grad_fn=<MulBackward0>) tensor(0.0171, device='cuda:0', grad_fn=<MulBackward0>)\n"
     ]
    },
    {
     "name": "stderr",
     "output_type": "stream",
     "text": [
      "69it [00:28,  2.85it/s]InitSpatiaMetaData() error:\"table spatial_ref_sys already exists\"\n"
     ]
    },
    {
     "name": "stdout",
     "output_type": "stream",
     "text": [
      "\u001b[36m(RayTrainWorker pid=98836)\u001b[0m losses:\t tensor(0.0853, device='cuda:0', grad_fn=<AddBackward0>) tensor(185328., device='cuda:0') tensor(0.0270, device='cuda:0', grad_fn=<MulBackward0>) tensor(0.0583, device='cuda:0', grad_fn=<MulBackward0>)\n"
     ]
    },
    {
     "name": "stderr",
     "output_type": "stream",
     "text": [
      "70it [00:28,  2.87it/s]InitSpatiaMetaData() error:\"table spatial_ref_sys already exists\"\n"
     ]
    },
    {
     "name": "stdout",
     "output_type": "stream",
     "text": [
      "\u001b[36m(RayTrainWorker pid=98836)\u001b[0m losses:\t tensor(0.1184, device='cuda:0', grad_fn=<AddBackward0>) tensor(818715., device='cuda:0') tensor(0.0839, device='cuda:0', grad_fn=<MulBackward0>) tensor(0.0345, device='cuda:0', grad_fn=<MulBackward0>)\n"
     ]
    },
    {
     "name": "stderr",
     "output_type": "stream",
     "text": [
      "71it [00:29,  2.89it/s]InitSpatiaMetaData() error:\"table spatial_ref_sys already exists\"\n"
     ]
    },
    {
     "name": "stdout",
     "output_type": "stream",
     "text": [
      "\u001b[36m(RayTrainWorker pid=98836)\u001b[0m losses:\t tensor(0.1052, device='cuda:0', grad_fn=<AddBackward0>) tensor(360680., device='cuda:0') tensor(0.0510, device='cuda:0', grad_fn=<MulBackward0>) tensor(0.0542, device='cuda:0', grad_fn=<MulBackward0>)\n"
     ]
    },
    {
     "name": "stderr",
     "output_type": "stream",
     "text": [
      "72it [00:29,  2.93it/s]InitSpatiaMetaData() error:\"table spatial_ref_sys already exists\"\n"
     ]
    },
    {
     "name": "stdout",
     "output_type": "stream",
     "text": [
      "\u001b[36m(RayTrainWorker pid=98836)\u001b[0m losses:\t tensor(0.1376, device='cuda:0', grad_fn=<AddBackward0>) tensor(876944., device='cuda:0') tensor(0.0999, device='cuda:0', grad_fn=<MulBackward0>) tensor(0.0377, device='cuda:0', grad_fn=<MulBackward0>)\n"
     ]
    },
    {
     "name": "stderr",
     "output_type": "stream",
     "text": [
      "73it [00:29,  2.87it/s]InitSpatiaMetaData() error:\"table spatial_ref_sys already exists\"\n"
     ]
    },
    {
     "name": "stdout",
     "output_type": "stream",
     "text": [
      "\u001b[36m(RayTrainWorker pid=98836)\u001b[0m losses:\t tensor(0.1884, device='cuda:0', grad_fn=<AddBackward0>) tensor(1414334., device='cuda:0') \n",
      "\u001b[36m(RayTrainWorker pid=98836)\u001b[0m tensor(0.1576, device='cuda:0', grad_fn=<MulBackward0>) \n",
      "\u001b[36m(RayTrainWorker pid=98836)\u001b[0m tensor(0.0308, device='cuda:0', grad_fn=<MulBackward0>)\n"
     ]
    },
    {
     "name": "stderr",
     "output_type": "stream",
     "text": [
      "74it [00:30,  2.89it/s]d=98836)\u001b[0m \n",
      "\u001b[36m(RayTrainWorker pid=98836)\u001b[0m InitSpatiaMetaData() error:\"table spatial_ref_sys already exists\"\n"
     ]
    },
    {
     "name": "stdout",
     "output_type": "stream",
     "text": [
      "\u001b[36m(RayTrainWorker pid=98836)\u001b[0m losses:\t tensor(0.2180, device='cuda:0', grad_fn=<AddBackward0>) tensor(1346206., device='cuda:0') tensor(0.1800, device='cuda:0', grad_fn=<MulBackward0>) tensor(0.0380, device='cuda:0', grad_fn=<MulBackward0>)\n"
     ]
    },
    {
     "name": "stderr",
     "output_type": "stream",
     "text": [
      "75it [00:30,  2.91it/s]InitSpatiaMetaData() error:\"table spatial_ref_sys already exists\"\n"
     ]
    },
    {
     "name": "stdout",
     "output_type": "stream",
     "text": [
      "\u001b[36m(RayTrainWorker pid=98836)\u001b[0m losses:\t tensor(0.3254, device='cuda:0', grad_fn=<AddBackward0>) tensor(2702708., device='cuda:0') tensor(0.3085, device='cuda:0', grad_fn=<MulBackward0>) tensor(0.0169, device='cuda:0', grad_fn=<MulBackward0>)\n"
     ]
    },
    {
     "name": "stderr",
     "output_type": "stream",
     "text": [
      "76it [00:30,  2.90it/s]InitSpatiaMetaData() error:\"table spatial_ref_sys already exists\"\n"
     ]
    },
    {
     "name": "stdout",
     "output_type": "stream",
     "text": [
      "\u001b[36m(RayTrainWorker pid=98836)\u001b[0m losses:\t tensor(0.2249, device='cuda:0', grad_fn=<AddBackward0>) tensor(1889171., device='cuda:0') tensor(0.2006, device='cuda:0', grad_fn=<MulBackward0>) tensor(0.0244, device='cuda:0', grad_fn=<MulBackward0>)\n"
     ]
    },
    {
     "name": "stderr",
     "output_type": "stream",
     "text": [
      "77it [00:31,  2.89it/s]InitSpatiaMetaData() error:\"table spatial_ref_sys already exists\"\n"
     ]
    },
    {
     "name": "stdout",
     "output_type": "stream",
     "text": [
      "\u001b[36m(RayTrainWorker pid=98836)\u001b[0m losses:\t tensor(0.5288, device='cuda:0', grad_fn=<AddBackward0>) tensor(3431565., device='cuda:0') tensor(0.5176, device='cuda:0', grad_fn=<MulBackward0>) tensor(0.0113, device='cuda:0', grad_fn=<MulBackward0>)\n"
     ]
    },
    {
     "name": "stderr",
     "output_type": "stream",
     "text": [
      "78it [00:31,  2.92it/s]InitSpatiaMetaData() error:\"table spatial_ref_sys already exists\"\n"
     ]
    },
    {
     "name": "stdout",
     "output_type": "stream",
     "text": [
      "\u001b[36m(RayTrainWorker pid=98836)\u001b[0m losses:\t tensor(0.1345, device='cuda:0', grad_fn=<AddBackward0>) tensor(1314285., device='cuda:0') tensor(0.1103, device='cuda:0', grad_fn=<MulBackward0>) tensor(0.0241, device='cuda:0', grad_fn=<MulBackward0>)\n"
     ]
    },
    {
     "name": "stderr",
     "output_type": "stream",
     "text": [
      "79it [00:31,  2.84it/s]d=98836)\u001b[0m \n",
      "\u001b[36m(RayTrainWorker pid=98836)\u001b[0m InitSpatiaMetaData() error:\"table spatial_ref_sys already exists\"\n"
     ]
    },
    {
     "name": "stdout",
     "output_type": "stream",
     "text": [
      "\u001b[36m(RayTrainWorker pid=98836)\u001b[0m losses:\t tensor(0.3657, device='cuda:0', grad_fn=<AddBackward0>) tensor(2454106., device='cuda:0') tensor(0.3417, device='cuda:0', grad_fn=<MulBackward0>) tensor(0.0240, device='cuda:0', grad_fn=<MulBackward0>)\n"
     ]
    },
    {
     "name": "stderr",
     "output_type": "stream",
     "text": [
      "80it [00:32,  2.83it/s]InitSpatiaMetaData() error:\"table spatial_ref_sys already exists\"\n"
     ]
    },
    {
     "name": "stdout",
     "output_type": "stream",
     "text": [
      "\u001b[36m(RayTrainWorker pid=98836)\u001b[0m losses:\t tensor(0.1570, device='cuda:0', grad_fn=<AddBackward0>) tensor(1616795., device='cuda:0') tensor(0.1355, device='cuda:0', grad_fn=<MulBackward0>) tensor(0.0215, device='cuda:0', grad_fn=<MulBackward0>)\n"
     ]
    },
    {
     "name": "stderr",
     "output_type": "stream",
     "text": [
      "81it [00:32,  2.89it/s]InitSpatiaMetaData() error:\"table spatial_ref_sys already exists\"\n"
     ]
    },
    {
     "name": "stdout",
     "output_type": "stream",
     "text": [
      "\u001b[36m(RayTrainWorker pid=98836)\u001b[0m losses:\t tensor(0.0879, device='cuda:0', grad_fn=<AddBackward0>) tensor(157275., device='cuda:0') tensor(0.0247, device='cuda:0', grad_fn=<MulBackward0>) tensor(0.0632, device='cuda:0', grad_fn=<MulBackward0>)\n"
     ]
    },
    {
     "name": "stderr",
     "output_type": "stream",
     "text": [
      "82it [00:32,  2.89it/s]InitSpatiaMetaData() error:\"table spatial_ref_sys already exists\"\n"
     ]
    },
    {
     "name": "stdout",
     "output_type": "stream",
     "text": [
      "\u001b[36m(RayTrainWorker pid=98836)\u001b[0m losses:\t tensor(0.1111, device='cuda:0', grad_fn=<AddBackward0>) tensor(530081., device='cuda:0') tensor(0.0658, device='cuda:0', grad_fn=<MulBackward0>) tensor(0.0454, device='cuda:0', grad_fn=<MulBackward0>)\n"
     ]
    },
    {
     "name": "stderr",
     "output_type": "stream",
     "text": [
      "83it [00:33,  2.89it/s]InitSpatiaMetaData() error:\"table spatial_ref_sys already exists\"\n"
     ]
    },
    {
     "name": "stdout",
     "output_type": "stream",
     "text": [
      "\u001b[36m(RayTrainWorker pid=98836)\u001b[0m losses:\t tensor(0.3364, device='cuda:0', grad_fn=<AddBackward0>) tensor(2888272., device='cuda:0') tensor(0.3220, device='cuda:0', grad_fn=<MulBackward0>) tensor(0.0144, device='cuda:0', grad_fn=<MulBackward0>)\n"
     ]
    },
    {
     "name": "stderr",
     "output_type": "stream",
     "text": [
      "84it [00:33,  2.85it/s]d=98836)\u001b[0m \n",
      "\u001b[36m(RayTrainWorker pid=98836)\u001b[0m InitSpatiaMetaData() error:\"table spatial_ref_sys already exists\"\n"
     ]
    },
    {
     "name": "stdout",
     "output_type": "stream",
     "text": [
      "\u001b[36m(RayTrainWorker pid=98836)\u001b[0m losses:\t tensor(0.1180, device='cuda:0', grad_fn=<AddBackward0>) tensor(801741., device='cuda:0') tensor(0.0830, device='cuda:0', grad_fn=<MulBackward0>) tensor(0.0351, device='cuda:0', grad_fn=<MulBackward0>)\n"
     ]
    },
    {
     "name": "stderr",
     "output_type": "stream",
     "text": [
      "85it [00:33,  2.85it/s]InitSpatiaMetaData() error:\"table spatial_ref_sys already exists\"\n"
     ]
    },
    {
     "name": "stdout",
     "output_type": "stream",
     "text": [
      "\u001b[36m(RayTrainWorker pid=98836)\u001b[0m losses:\t tensor(0.1404, device='cuda:0', grad_fn=<AddBackward0>) tensor(1703661., device='cuda:0') tensor(0.1225, device='cuda:0', grad_fn=<MulBackward0>) tensor(0.0178, device='cuda:0', grad_fn=<MulBackward0>)\n"
     ]
    },
    {
     "name": "stderr",
     "output_type": "stream",
     "text": [
      "86it [00:34,  2.88it/s]InitSpatiaMetaData() error:\"table spatial_ref_sys already exists\"\n"
     ]
    },
    {
     "name": "stdout",
     "output_type": "stream",
     "text": [
      "\u001b[36m(RayTrainWorker pid=98836)\u001b[0m losses:\t tensor(0.2650, device='cuda:0', grad_fn=<AddBackward0>) tensor(2732217., device='cuda:0') tensor(0.2517, device='cuda:0', grad_fn=<MulBackward0>) tensor(0.0133, device='cuda:0', grad_fn=<MulBackward0>)\n"
     ]
    },
    {
     "name": "stderr",
     "output_type": "stream",
     "text": [
      "87it [00:34,  2.83it/s]InitSpatiaMetaData() error:\"table spatial_ref_sys already exists\"\n"
     ]
    },
    {
     "name": "stdout",
     "output_type": "stream",
     "text": [
      "\u001b[36m(RayTrainWorker pid=98836)\u001b[0m losses:\t tensor(0.2772, device='cuda:0', grad_fn=<AddBackward0>) tensor(2535625., device='cuda:0') tensor(0.2603, device='cuda:0', grad_fn=<MulBackward0>) tensor(0.0169, device='cuda:0', grad_fn=<MulBackward0>)\n"
     ]
    },
    {
     "name": "stderr",
     "output_type": "stream",
     "text": [
      "88it [00:34,  2.85it/s]InitSpatiaMetaData() error:\"table spatial_ref_sys already exists\"\n"
     ]
    },
    {
     "name": "stdout",
     "output_type": "stream",
     "text": [
      "\u001b[36m(RayTrainWorker pid=98836)\u001b[0m losses:\t tensor(0.1674, device='cuda:0', grad_fn=<AddBackward0>) tensor(2094627., device='cuda:0') tensor(0.1522, device='cuda:0', grad_fn=<MulBackward0>) tensor(0.0152, device='cuda:0', grad_fn=<MulBackward0>)\n"
     ]
    },
    {
     "name": "stderr",
     "output_type": "stream",
     "text": [
      "89it [00:35,  2.87it/s]d=98836)\u001b[0m \n",
      "\u001b[36m(RayTrainWorker pid=98836)\u001b[0m InitSpatiaMetaData() error:\"table spatial_ref_sys already exists\"\n"
     ]
    },
    {
     "name": "stdout",
     "output_type": "stream",
     "text": [
      "\u001b[36m(RayTrainWorker pid=98836)\u001b[0m losses:\t tensor(0.0982, device='cuda:0', grad_fn=<AddBackward0>) tensor(502773., device='cuda:0') tensor(0.0567, device='cuda:0', grad_fn=<MulBackward0>) tensor(0.0416, device='cuda:0', grad_fn=<MulBackward0>)\n"
     ]
    },
    {
     "name": "stderr",
     "output_type": "stream",
     "text": [
      "90it [00:35,  2.89it/s]InitSpatiaMetaData() error:\"table spatial_ref_sys already exists\"\n"
     ]
    },
    {
     "name": "stdout",
     "output_type": "stream",
     "text": [
      "\u001b[36m(RayTrainWorker pid=98836)\u001b[0m losses:\t tensor(0.0810, device='cuda:0', grad_fn=<AddBackward0>) tensor(42085., device='cuda:0') tensor(0.0075, device='cuda:0', grad_fn=<MulBackward0>) tensor(0.0736, device='cuda:0', grad_fn=<MulBackward0>)\n"
     ]
    },
    {
     "name": "stderr",
     "output_type": "stream",
     "text": [
      "91it [00:35,  2.91it/s]InitSpatiaMetaData() error:\"table spatial_ref_sys already exists\"\n"
     ]
    },
    {
     "name": "stdout",
     "output_type": "stream",
     "text": [
      "\u001b[36m(RayTrainWorker pid=98836)\u001b[0m losses:\t tensor(0.1327, device='cuda:0', grad_fn=<AddBackward0>) tensor(1423501., device='cuda:0') tensor(0.1111, device='cuda:0', grad_fn=<MulBackward0>) tensor(0.0215, device='cuda:0', grad_fn=<MulBackward0>)\n"
     ]
    },
    {
     "name": "stderr",
     "output_type": "stream",
     "text": [
      "92it [00:36,  2.91it/s]d=98836)\u001b[0m \n",
      "\u001b[36m(RayTrainWorker pid=98836)\u001b[0m InitSpatiaMetaData() error:\"table spatial_ref_sys already exists\"\n"
     ]
    },
    {
     "name": "stdout",
     "output_type": "stream",
     "text": [
      "\u001b[36m(RayTrainWorker pid=98836)\u001b[0m losses:\t tensor(0.1495, device='cuda:0', grad_fn=<AddBackward0>) tensor(1182029., device='cuda:0') tensor(0.1192, device='cuda:0', grad_fn=<MulBackward0>) tensor(0.0303, device='cuda:0', grad_fn=<MulBackward0>)\n"
     ]
    },
    {
     "name": "stderr",
     "output_type": "stream",
     "text": [
      "93it [00:36,  2.91it/s]InitSpatiaMetaData() error:\"table spatial_ref_sys already exists\"\n"
     ]
    },
    {
     "name": "stdout",
     "output_type": "stream",
     "text": [
      "\u001b[36m(RayTrainWorker pid=98836)\u001b[0m losses:\t tensor(0.1437, device='cuda:0', grad_fn=<AddBackward0>) tensor(1861356., device='cuda:0') tensor(0.1277, device='cuda:0', grad_fn=<MulBackward0>) tensor(0.0159, device='cuda:0', grad_fn=<MulBackward0>)\n"
     ]
    },
    {
     "name": "stderr",
     "output_type": "stream",
     "text": [
      "94it [00:36,  2.93it/s]InitSpatiaMetaData() error:\"table spatial_ref_sys already exists\"\n"
     ]
    },
    {
     "name": "stdout",
     "output_type": "stream",
     "text": [
      "\u001b[36m(RayTrainWorker pid=98836)\u001b[0m losses:\t tensor(0.3242, device='cuda:0', grad_fn=<AddBackward0>) tensor(3234144., device='cuda:0') \n",
      "\u001b[36m(RayTrainWorker pid=98836)\u001b[0m tensor(0.3150, device='cuda:0', grad_fn=<MulBackward0>) tensor(0.0092, device='cuda:0', grad_fn=<MulBackward0>)\n"
     ]
    },
    {
     "name": "stderr",
     "output_type": "stream",
     "text": [
      "95it [00:37,  2.91it/s]d=98836)\u001b[0m \n",
      "\u001b[36m(RayTrainWorker pid=98836)\u001b[0m InitSpatiaMetaData() error:\"table spatial_ref_sys already exists\"\n"
     ]
    },
    {
     "name": "stdout",
     "output_type": "stream",
     "text": [
      "\u001b[36m(RayTrainWorker pid=98836)\u001b[0m losses:\t tensor(0.1273, device='cuda:0', grad_fn=<AddBackward0>) tensor(1163676., device='cuda:0') tensor(0.1011, device='cuda:0', grad_fn=<MulBackward0>) tensor(0.0263, device='cuda:0', grad_fn=<MulBackward0>)\n"
     ]
    },
    {
     "name": "stderr",
     "output_type": "stream",
     "text": [
      "96it [00:37,  2.93it/s]InitSpatiaMetaData() error:\"table spatial_ref_sys already exists\"\n"
     ]
    },
    {
     "name": "stdout",
     "output_type": "stream",
     "text": [
      "\u001b[36m(RayTrainWorker pid=98836)\u001b[0m losses:\t tensor(0.1073, device='cuda:0', grad_fn=<AddBackward0>) tensor(770507., device='cuda:0') tensor(0.0743, device='cuda:0', grad_fn=<MulBackward0>) tensor(0.0330, device='cuda:0', grad_fn=<MulBackward0>)\n"
     ]
    },
    {
     "name": "stderr",
     "output_type": "stream",
     "text": [
      "97it [00:38,  2.90it/s]InitSpatiaMetaData() error:\"table spatial_ref_sys already exists\"\n"
     ]
    },
    {
     "name": "stdout",
     "output_type": "stream",
     "text": [
      "\u001b[36m(RayTrainWorker pid=98836)\u001b[0m losses:\t tensor(0.1920, device='cuda:0', grad_fn=<AddBackward0>) tensor(2238062., device='cuda:0') tensor(0.1767, device='cuda:0', grad_fn=<MulBackward0>) tensor(0.0153, device='cuda:0', grad_fn=<MulBackward0>)\n"
     ]
    },
    {
     "name": "stderr",
     "output_type": "stream",
     "text": [
      "98it [00:38,  2.83it/s]InitSpatiaMetaData() error:\"table spatial_ref_sys already exists\"\n"
     ]
    },
    {
     "name": "stdout",
     "output_type": "stream",
     "text": [
      "\u001b[36m(RayTrainWorker pid=98836)\u001b[0m losses:\t tensor(0.3596, device='cuda:0', grad_fn=<AddBackward0>) tensor(2824649., device='cuda:0') tensor(0.3431, device='cuda:0', grad_fn=<MulBackward0>) tensor(0.0165, device='cuda:0', grad_fn=<MulBackward0>)\n"
     ]
    },
    {
     "name": "stderr",
     "output_type": "stream",
     "text": [
      "99it [00:38,  2.85it/s]InitSpatiaMetaData() error:\"table spatial_ref_sys already exists\"\n"
     ]
    },
    {
     "name": "stdout",
     "output_type": "stream",
     "text": [
      "\u001b[36m(RayTrainWorker pid=98836)\u001b[0m losses:\t tensor(0.0959, device='cuda:0', grad_fn=<AddBackward0>) tensor(902899., device='cuda:0') tensor(0.0703, device='cuda:0', grad_fn=<MulBackward0>) tensor(0.0256, device='cuda:0', grad_fn=<MulBackward0>)\n"
     ]
    },
    {
     "name": "stderr",
     "output_type": "stream",
     "text": [
      "100it [00:39,  2.89it/s]=98836)\u001b[0m \n",
      "\u001b[36m(RayTrainWorker pid=98836)\u001b[0m InitSpatiaMetaData() error:\"table spatial_ref_sys already exists\"\n"
     ]
    },
    {
     "name": "stdout",
     "output_type": "stream",
     "text": [
      "\u001b[36m(RayTrainWorker pid=98836)\u001b[0m losses:\t tensor(0.0790, device='cuda:0', grad_fn=<AddBackward0>) tensor(97751., device='cuda:0') tensor(0.0152, device='cuda:0', grad_fn=<MulBackward0>) tensor(0.0638, device='cuda:0', grad_fn=<MulBackward0>)\n",
      "\u001b[36m(RayTrainWorker pid=98836)\u001b[0m saving!\n"
     ]
    },
    {
     "name": "stderr",
     "output_type": "stream",
     "text": [
      "101it [00:39,  2.74it/s]=98836)\u001b[0m \n",
      "\u001b[36m(RayTrainWorker pid=98836)\u001b[0m InitSpatiaMetaData() error:\"table spatial_ref_sys already exists\"\n"
     ]
    },
    {
     "name": "stdout",
     "output_type": "stream",
     "text": [
      "\u001b[36m(RayTrainWorker pid=98836)\u001b[0m losses:\t tensor(0.2259, device='cuda:0', grad_fn=<AddBackward0>) tensor(1885159., device='cuda:0') tensor(0.2014, device='cuda:0', grad_fn=<MulBackward0>) tensor(0.0245, device='cuda:0', grad_fn=<MulBackward0>)\n"
     ]
    },
    {
     "name": "stderr",
     "output_type": "stream",
     "text": [
      "102it [00:39,  2.77it/s]InitSpatiaMetaData() error:\"table spatial_ref_sys already exists\"\n"
     ]
    },
    {
     "name": "stdout",
     "output_type": "stream",
     "text": [
      "\u001b[36m(RayTrainWorker pid=98836)\u001b[0m losses:\t tensor(0.1081, device='cuda:0', grad_fn=<AddBackward0>) tensor(0., device='cuda:0') tensor(0., device='cuda:0', grad_fn=<MulBackward0>) tensor(0.1081, device='cuda:0', grad_fn=<MulBackward0>)\n"
     ]
    },
    {
     "name": "stderr",
     "output_type": "stream",
     "text": [
      "103it [00:40,  2.81it/s]InitSpatiaMetaData() error:\"table spatial_ref_sys already exists\"\n"
     ]
    },
    {
     "name": "stdout",
     "output_type": "stream",
     "text": [
      "\u001b[36m(RayTrainWorker pid=98836)\u001b[0m losses:\t tensor(0.0963, device='cuda:0', grad_fn=<AddBackward0>) tensor(847585., device='cuda:0') tensor(0.0691, device='cuda:0', grad_fn=<MulBackward0>) tensor(0.0273, device='cuda:0', grad_fn=<MulBackward0>)\n"
     ]
    },
    {
     "name": "stderr",
     "output_type": "stream",
     "text": [
      "104it [00:40,  2.83it/s]InitSpatiaMetaData() error:\"table spatial_ref_sys already exists\"\n"
     ]
    },
    {
     "name": "stdout",
     "output_type": "stream",
     "text": [
      "\u001b[36m(RayTrainWorker pid=98836)\u001b[0m losses:\t tensor(0.2051, device='cuda:0', grad_fn=<AddBackward0>) tensor(2645211., device='cuda:0') tensor(0.1939, device='cuda:0', grad_fn=<MulBackward0>) tensor(0.0113, device='cuda:0', grad_fn=<MulBackward0>)\n"
     ]
    },
    {
     "name": "stderr",
     "output_type": "stream",
     "text": [
      "105it [00:40,  2.79it/s]InitSpatiaMetaData() error:\"table spatial_ref_sys already exists\"\n"
     ]
    },
    {
     "name": "stdout",
     "output_type": "stream",
     "text": [
      "\u001b[36m(RayTrainWorker pid=98836)\u001b[0m losses:\t tensor(0.3423, device='cuda:0', grad_fn=<AddBackward0>) tensor(2952032., device='cuda:0') tensor(0.3286, device='cuda:0', grad_fn=<MulBackward0>) tensor(0.0137, device='cuda:0', grad_fn=<MulBackward0>)\n"
     ]
    },
    {
     "name": "stderr",
     "output_type": "stream",
     "text": [
      "106it [00:41,  2.79it/s]InitSpatiaMetaData() error:\"table spatial_ref_sys already exists\"\n"
     ]
    },
    {
     "name": "stdout",
     "output_type": "stream",
     "text": [
      "\u001b[36m(RayTrainWorker pid=98836)\u001b[0m losses:\t tensor(0.2536, device='cuda:0', grad_fn=<AddBackward0>) tensor(1699980., device='cuda:0') tensor(0.2212, device='cuda:0', grad_fn=<MulBackward0>) tensor(0.0324, device='cuda:0', grad_fn=<MulBackward0>)\n"
     ]
    },
    {
     "name": "stderr",
     "output_type": "stream",
     "text": [
      "107it [00:41,  2.81it/s]InitSpatiaMetaData() error:\"table spatial_ref_sys already exists\"\n"
     ]
    },
    {
     "name": "stdout",
     "output_type": "stream",
     "text": [
      "\u001b[36m(RayTrainWorker pid=98836)\u001b[0m losses:\t tensor(0.1381, device='cuda:0', grad_fn=<AddBackward0>) tensor(1977491., device='cuda:0') tensor(0.1242, device='cuda:0', grad_fn=<MulBackward0>) tensor(0.0139, device='cuda:0', grad_fn=<MulBackward0>)\n"
     ]
    },
    {
     "name": "stderr",
     "output_type": "stream",
     "text": [
      "108it [00:41,  2.85it/s]=98836)\u001b[0m \n",
      "\u001b[36m(RayTrainWorker pid=98836)\u001b[0m InitSpatiaMetaData() error:\"table spatial_ref_sys already exists\"\n"
     ]
    },
    {
     "name": "stdout",
     "output_type": "stream",
     "text": [
      "\u001b[36m(RayTrainWorker pid=98836)\u001b[0m losses:\t tensor(0.0671, device='cuda:0', grad_fn=<AddBackward0>) tensor(43372., device='cuda:0') tensor(0.0064, device='cuda:0', grad_fn=<MulBackward0>) tensor(0.0608, device='cuda:0', grad_fn=<MulBackward0>)\n"
     ]
    },
    {
     "name": "stderr",
     "output_type": "stream",
     "text": [
      "109it [00:42,  2.85it/s]InitSpatiaMetaData() error:\"table spatial_ref_sys already exists\"\n"
     ]
    },
    {
     "name": "stdout",
     "output_type": "stream",
     "text": [
      "\u001b[36m(RayTrainWorker pid=98836)\u001b[0m losses:\t tensor(0.0814, device='cuda:0', grad_fn=<AddBackward0>) tensor(352615., device='cuda:0') tensor(0.0390, device='cuda:0', grad_fn=<MulBackward0>) tensor(0.0424, device='cuda:0', grad_fn=<MulBackward0>)\n"
     ]
    },
    {
     "name": "stderr",
     "output_type": "stream",
     "text": [
      "110it [00:42,  2.86it/s]=98836)\u001b[0m \n",
      "\u001b[36m(RayTrainWorker pid=98836)\u001b[0m InitSpatiaMetaData() error:\"table spatial_ref_sys already exists\"\n"
     ]
    },
    {
     "name": "stdout",
     "output_type": "stream",
     "text": [
      "\u001b[36m(RayTrainWorker pid=98836)\u001b[0m losses:\t tensor(0.1409, device='cuda:0', grad_fn=<AddBackward0>) tensor(1759891., device='cuda:0') tensor(0.1239, device='cuda:0', grad_fn=<MulBackward0>) tensor(0.0171, device='cuda:0', grad_fn=<MulBackward0>)\n"
     ]
    },
    {
     "name": "stderr",
     "output_type": "stream",
     "text": [
      "111it [00:43,  2.75it/s]InitSpatiaMetaData() error:\"table spatial_ref_sys already exists\"\n"
     ]
    },
    {
     "name": "stdout",
     "output_type": "stream",
     "text": [
      "\u001b[36m(RayTrainWorker pid=98836)\u001b[0m losses:\t tensor(0.1443, device='cuda:0', grad_fn=<AddBackward0>) tensor(1347398., device='cuda:0') tensor(0.1192, device='cuda:0', grad_fn=<MulBackward0>) tensor(0.0251, device='cuda:0', grad_fn=<MulBackward0>)\n"
     ]
    },
    {
     "name": "stderr",
     "output_type": "stream",
     "text": [
      "112it [00:43,  2.69it/s]InitSpatiaMetaData() error:\"table spatial_ref_sys already exists\"\n"
     ]
    },
    {
     "name": "stdout",
     "output_type": "stream",
     "text": [
      "\u001b[36m(RayTrainWorker pid=98836)\u001b[0m losses:\t tensor(0.1898, device='cuda:0', grad_fn=<AddBackward0>) tensor(2167553., device='cuda:0') tensor(0.1737, device='cuda:0', grad_fn=<MulBackward0>) tensor(0.0161, device='cuda:0', grad_fn=<MulBackward0>)\n"
     ]
    },
    {
     "name": "stderr",
     "output_type": "stream",
     "text": [
      "113it [00:43,  2.73it/s]=98836)\u001b[0m \n",
      "\u001b[36m(RayTrainWorker pid=98836)\u001b[0m InitSpatiaMetaData() error:\"table spatial_ref_sys already exists\"\n"
     ]
    },
    {
     "name": "stdout",
     "output_type": "stream",
     "text": [
      "\u001b[36m(RayTrainWorker pid=98836)\u001b[0m losses:\t tensor(0.1057, device='cuda:0', grad_fn=<AddBackward0>) tensor(0., device='cuda:0') tensor(0., device='cuda:0', grad_fn=<MulBackward0>) tensor(0.1057, device='cuda:0', grad_fn=<MulBackward0>)\n"
     ]
    },
    {
     "name": "stderr",
     "output_type": "stream",
     "text": [
      "114it [00:44,  2.71it/s]InitSpatiaMetaData() error:\"table spatial_ref_sys already exists\"\n"
     ]
    },
    {
     "name": "stdout",
     "output_type": "stream",
     "text": [
      "\u001b[36m(RayTrainWorker pid=98836)\u001b[0m losses:\t tensor(0.1590, device='cuda:0', grad_fn=<AddBackward0>) tensor(1909096., device='cuda:0') tensor(0.1421, device='cuda:0', grad_fn=<MulBackward0>) tensor(0.0169, device='cuda:0', grad_fn=<MulBackward0>)\n"
     ]
    },
    {
     "name": "stderr",
     "output_type": "stream",
     "text": [
      "115it [00:44,  2.67it/s]InitSpatiaMetaData() error:\"table spatial_ref_sys already exists\"\n"
     ]
    },
    {
     "name": "stdout",
     "output_type": "stream",
     "text": [
      "\u001b[36m(RayTrainWorker pid=98836)\u001b[0m losses:\t tensor(0.0726, device='cuda:0', grad_fn=<AddBackward0>) tensor(48174., device='cuda:0') tensor(0.0076, device='cuda:0', grad_fn=<MulBackward0>) tensor(0.0651, device='cuda:0', grad_fn=<MulBackward0>)\n"
     ]
    },
    {
     "name": "stderr",
     "output_type": "stream",
     "text": [
      "116it [00:44,  2.65it/s]=98836)\u001b[0m \n",
      "\u001b[36m(RayTrainWorker pid=98836)\u001b[0m InitSpatiaMetaData() error:\"table spatial_ref_sys already exists\"\n"
     ]
    },
    {
     "name": "stdout",
     "output_type": "stream",
     "text": [
      "\u001b[36m(RayTrainWorker pid=98836)\u001b[0m losses:\t tensor(0.0671, device='cuda:0', grad_fn=<AddBackward0>) tensor(119005., device='cuda:0') tensor(0.0152, device='cuda:0', grad_fn=<MulBackward0>) tensor(0.0520, device='cuda:0', grad_fn=<MulBackward0>)\n"
     ]
    },
    {
     "name": "stderr",
     "output_type": "stream",
     "text": [
      "117it [00:45,  2.64it/s]InitSpatiaMetaData() error:\"table spatial_ref_sys already exists\"\n"
     ]
    },
    {
     "name": "stdout",
     "output_type": "stream",
     "text": [
      "\u001b[36m(RayTrainWorker pid=98836)\u001b[0m losses:\t tensor(0.1472, device='cuda:0', grad_fn=<AddBackward0>) tensor(1887954., device='cuda:0') tensor(0.1312, device='cuda:0', grad_fn=<MulBackward0>) tensor(0.0159, device='cuda:0', grad_fn=<MulBackward0>)\n"
     ]
    },
    {
     "name": "stderr",
     "output_type": "stream",
     "text": [
      "118it [00:45,  2.61it/s]InitSpatiaMetaData() error:\"table spatial_ref_sys already exists\"\n"
     ]
    },
    {
     "name": "stdout",
     "output_type": "stream",
     "text": [
      "\u001b[36m(RayTrainWorker pid=98836)\u001b[0m losses:\t tensor(0.0908, device='cuda:0', grad_fn=<AddBackward0>) tensor(553983., device='cuda:0') tensor(0.0548, device='cuda:0', grad_fn=<MulBackward0>) tensor(0.0360, device='cuda:0', grad_fn=<MulBackward0>)\n"
     ]
    },
    {
     "name": "stderr",
     "output_type": "stream",
     "text": [
      "119it [00:46,  2.67it/s]=98836)\u001b[0m \n",
      "\u001b[36m(RayTrainWorker pid=98836)\u001b[0m InitSpatiaMetaData() error:\"table spatial_ref_sys already exists\"\n"
     ]
    },
    {
     "name": "stdout",
     "output_type": "stream",
     "text": [
      "\u001b[36m(RayTrainWorker pid=98836)\u001b[0m losses:\t tensor(0.2816, device='cuda:0', grad_fn=<AddBackward0>) tensor(1605994., device='cuda:0') tensor(0.2427, device='cuda:0', grad_fn=<MulBackward0>) tensor(0.0389, device='cuda:0', grad_fn=<MulBackward0>)\n"
     ]
    },
    {
     "name": "stderr",
     "output_type": "stream",
     "text": [
      "120it [00:46,  2.59it/s]=98836)\u001b[0m \n",
      "\u001b[36m(RayTrainWorker pid=98836)\u001b[0m InitSpatiaMetaData() error:\"table spatial_ref_sys already exists\"\n"
     ]
    },
    {
     "name": "stdout",
     "output_type": "stream",
     "text": [
      "\u001b[36m(RayTrainWorker pid=98836)\u001b[0m losses:\t tensor(0.1574, device='cuda:0', grad_fn=<AddBackward0>) tensor(1346146., device='cuda:0') tensor(0.1300, device='cuda:0', grad_fn=<MulBackward0>) tensor(0.0274, device='cuda:0', grad_fn=<MulBackward0>)\n"
     ]
    },
    {
     "name": "stderr",
     "output_type": "stream",
     "text": [
      "121it [00:46,  2.60it/s]InitSpatiaMetaData() error:\"table spatial_ref_sys already exists\"\n"
     ]
    },
    {
     "name": "stdout",
     "output_type": "stream",
     "text": [
      "\u001b[36m(RayTrainWorker pid=98836)\u001b[0m losses:\t tensor(0.2846, device='cuda:0', grad_fn=<AddBackward0>) tensor(2011619., device='cuda:0') tensor(0.2569, device='cuda:0', grad_fn=<MulBackward0>) tensor(0.0277, device='cuda:0', grad_fn=<MulBackward0>)\n"
     ]
    },
    {
     "name": "stderr",
     "output_type": "stream",
     "text": [
      "122it [00:47,  2.59it/s]InitSpatiaMetaData() error:\"table spatial_ref_sys already exists\"\n"
     ]
    },
    {
     "name": "stdout",
     "output_type": "stream",
     "text": [
      "\u001b[36m(RayTrainWorker pid=98836)\u001b[0m losses:\t tensor(0.1840, device='cuda:0', grad_fn=<AddBackward0>) tensor(1826120., device='cuda:0') tensor(0.1630, device='cuda:0', grad_fn=<MulBackward0>) \n",
      "\u001b[36m(RayTrainWorker pid=98836)\u001b[0m tensor(0.0210, device='cuda:0', grad_fn=<MulBackward0>)\n"
     ]
    },
    {
     "name": "stderr",
     "output_type": "stream",
     "text": [
      "123it [00:47,  2.58it/s]=98836)\u001b[0m \n",
      "\u001b[36m(RayTrainWorker pid=98836)\u001b[0m InitSpatiaMetaData() error:\"table spatial_ref_sys already exists\"\n"
     ]
    },
    {
     "name": "stdout",
     "output_type": "stream",
     "text": [
      "\u001b[36m(RayTrainWorker pid=98836)\u001b[0m losses:\t tensor(0.0591, device='cuda:0', grad_fn=<AddBackward0>) tensor(27259., device='cuda:0') tensor(0.0036, device='cuda:0', grad_fn=<MulBackward0>) tensor(0.0555, device='cuda:0', grad_fn=<MulBackward0>)\n"
     ]
    },
    {
     "name": "stderr",
     "output_type": "stream",
     "text": [
      "124it [00:48,  2.60it/s]=98836)\u001b[0m \n",
      "\u001b[36m(RayTrainWorker pid=98836)\u001b[0m InitSpatiaMetaData() error:\"table spatial_ref_sys already exists\"\n"
     ]
    },
    {
     "name": "stdout",
     "output_type": "stream",
     "text": [
      "\u001b[36m(RayTrainWorker pid=98836)\u001b[0m losses:\t tensor(0.4138, device='cuda:0', grad_fn=<AddBackward0>) tensor(3237951., device='cuda:0') tensor(0.4022, device='cuda:0', grad_fn=<MulBackward0>) tensor(0.0116, device='cuda:0', grad_fn=<MulBackward0>)\n"
     ]
    },
    {
     "name": "stderr",
     "output_type": "stream",
     "text": [
      "125it [00:48,  2.60it/s]InitSpatiaMetaData() error:\"table spatial_ref_sys already exists\"\n"
     ]
    },
    {
     "name": "stdout",
     "output_type": "stream",
     "text": [
      "\u001b[36m(RayTrainWorker pid=98836)\u001b[0m losses:\t tensor(0.0633, device='cuda:0', grad_fn=<AddBackward0>) tensor(182125., device='cuda:0') tensor(0.0198, device='cuda:0', grad_fn=<MulBackward0>) tensor(0.0435, device='cuda:0', grad_fn=<MulBackward0>)\n"
     ]
    },
    {
     "name": "stderr",
     "output_type": "stream",
     "text": [
      "126it [00:48,  2.62it/s]=98836)\u001b[0m \n",
      "\u001b[36m(RayTrainWorker pid=98836)\u001b[0m InitSpatiaMetaData() error:\"table spatial_ref_sys already exists\"\n"
     ]
    },
    {
     "name": "stdout",
     "output_type": "stream",
     "text": [
      "\u001b[36m(RayTrainWorker pid=98836)\u001b[0m losses:\t tensor(0.0635, device='cuda:0', grad_fn=<AddBackward0>) tensor(323186., device='cuda:0') tensor(0.0289, device='cuda:0', grad_fn=<MulBackward0>) tensor(0.0346, device='cuda:0', grad_fn=<MulBackward0>)\n"
     ]
    },
    {
     "name": "stderr",
     "output_type": "stream",
     "text": [
      "127it [00:49,  2.61it/s]InitSpatiaMetaData() error:\"table spatial_ref_sys already exists\"\n"
     ]
    },
    {
     "name": "stdout",
     "output_type": "stream",
     "text": [
      "\u001b[36m(RayTrainWorker pid=98836)\u001b[0m losses:\t tensor(0.0614, device='cuda:0', grad_fn=<AddBackward0>) tensor(139272., device='cuda:0') tensor(0.0157, device='cuda:0', grad_fn=<MulBackward0>) tensor(0.0457, device='cuda:0', grad_fn=<MulBackward0>)\n"
     ]
    },
    {
     "name": "stderr",
     "output_type": "stream",
     "text": [
      "128it [00:49,  2.61it/s]InitSpatiaMetaData() error:\"table spatial_ref_sys already exists\"\n"
     ]
    },
    {
     "name": "stdout",
     "output_type": "stream",
     "text": [
      "\u001b[36m(RayTrainWorker pid=98836)\u001b[0m losses:\t tensor(0.0753, device='cuda:0', grad_fn=<AddBackward0>) tensor(547694., device='cuda:0') tensor(0.0452, device='cuda:0', grad_fn=<MulBackward0>) tensor(0.0301, device='cuda:0', grad_fn=<MulBackward0>)\n"
     ]
    },
    {
     "name": "stderr",
     "output_type": "stream",
     "text": [
      "129it [00:49,  2.61it/s]=98836)\u001b[0m \n",
      "\u001b[36m(RayTrainWorker pid=98836)\u001b[0m InitSpatiaMetaData() error:\"table spatial_ref_sys already exists\"\n"
     ]
    },
    {
     "name": "stdout",
     "output_type": "stream",
     "text": [
      "\u001b[36m(RayTrainWorker pid=98836)\u001b[0m losses:\t tensor(0.1390, device='cuda:0', grad_fn=<AddBackward0>) tensor(1702768., device='cuda:0') tensor(0.1214, device='cuda:0', grad_fn=<MulBackward0>) tensor(0.0177, device='cuda:0', grad_fn=<MulBackward0>)\n"
     ]
    },
    {
     "name": "stderr",
     "output_type": "stream",
     "text": [
      "130it [00:50,  2.66it/s]InitSpatiaMetaData() error:\"table spatial_ref_sys already exists\"\n"
     ]
    },
    {
     "name": "stdout",
     "output_type": "stream",
     "text": [
      "\u001b[36m(RayTrainWorker pid=98836)\u001b[0m losses:\t tensor(0.1216, device='cuda:0', grad_fn=<AddBackward0>) tensor(1457292., device='cuda:0') tensor(0.1024, device='cuda:0', grad_fn=<MulBackward0>) tensor(0.0192, device='cuda:0', grad_fn=<MulBackward0>)\n"
     ]
    },
    {
     "name": "stderr",
     "output_type": "stream",
     "text": [
      "131it [00:50,  2.72it/s]=98836)\u001b[0m \n",
      "\u001b[36m(RayTrainWorker pid=98836)\u001b[0m InitSpatiaMetaData() error:\"table spatial_ref_sys already exists\"\n"
     ]
    },
    {
     "name": "stdout",
     "output_type": "stream",
     "text": [
      "\u001b[36m(RayTrainWorker pid=98836)\u001b[0m losses:\t tensor(0.3194, device='cuda:0', grad_fn=<AddBackward0>) tensor(2935406., device='cuda:0') tensor(0.3064, device='cuda:0', grad_fn=<MulBackward0>) tensor(0.0130, device='cuda:0', grad_fn=<MulBackward0>)\n"
     ]
    },
    {
     "name": "stderr",
     "output_type": "stream",
     "text": [
      "132it [00:51,  2.74it/s]InitSpatiaMetaData() error:\"table spatial_ref_sys already exists\"\n"
     ]
    },
    {
     "name": "stdout",
     "output_type": "stream",
     "text": [
      "\u001b[36m(RayTrainWorker pid=98836)\u001b[0m losses:\t tensor(0.4245, device='cuda:0', grad_fn=<AddBackward0>) tensor(3242991., device='cuda:0') tensor(0.4125, device='cuda:0', grad_fn=<MulBackward0>) tensor(0.0119, device='cuda:0', grad_fn=<MulBackward0>)\n"
     ]
    },
    {
     "name": "stderr",
     "output_type": "stream",
     "text": [
      "133it [00:51,  2.72it/s]=98836)\u001b[0m \n",
      "\u001b[36m(RayTrainWorker pid=98836)\u001b[0m InitSpatiaMetaData() error:\"table spatial_ref_sys already exists\"\n"
     ]
    },
    {
     "name": "stdout",
     "output_type": "stream",
     "text": [
      "\u001b[36m(RayTrainWorker pid=98836)\u001b[0m losses:\t tensor(0.1647, device='cuda:0', grad_fn=<AddBackward0>) tensor(1849950., device='cuda:0') tensor(0.1462, device='cuda:0', grad_fn=<MulBackward0>) tensor(0.0185, device='cuda:0', grad_fn=<MulBackward0>)\n"
     ]
    },
    {
     "name": "stderr",
     "output_type": "stream",
     "text": [
      "134it [00:51,  2.54it/s]InitSpatiaMetaData() error:\"table spatial_ref_sys already exists\"\n"
     ]
    },
    {
     "name": "stdout",
     "output_type": "stream",
     "text": [
      "\u001b[36m(RayTrainWorker pid=98836)\u001b[0m losses:\t tensor(0.0612, device='cuda:0', grad_fn=<AddBackward0>) tensor(355772., device='cuda:0') tensor(0.0294, device='cuda:0', grad_fn=<MulBackward0>) tensor(0.0317, device='cuda:0', grad_fn=<MulBackward0>)\n"
     ]
    },
    {
     "name": "stderr",
     "output_type": "stream",
     "text": [
      "135it [00:52,  2.59it/s]=98836)\u001b[0m \n",
      "\u001b[36m(RayTrainWorker pid=98836)\u001b[0m InitSpatiaMetaData() error:\"table spatial_ref_sys already exists\"\n"
     ]
    },
    {
     "name": "stdout",
     "output_type": "stream",
     "text": [
      "\u001b[36m(RayTrainWorker pid=98836)\u001b[0m losses:\t tensor(0.0949, device='cuda:0', grad_fn=<AddBackward0>) tensor(1039225., device='cuda:0') tensor(0.0729, device='cuda:0', grad_fn=<MulBackward0>) tensor(0.0221, device='cuda:0', grad_fn=<MulBackward0>)\n"
     ]
    },
    {
     "name": "stderr",
     "output_type": "stream",
     "text": [
      "136it [00:52,  2.54it/s]InitSpatiaMetaData() error:\"table spatial_ref_sys already exists\"\n"
     ]
    },
    {
     "name": "stdout",
     "output_type": "stream",
     "text": [
      "\u001b[36m(RayTrainWorker pid=98836)\u001b[0m losses:\t tensor(0.0873, device='cuda:0', grad_fn=<AddBackward0>) tensor(0., device='cuda:0') tensor(0., device='cuda:0', grad_fn=<MulBackward0>) tensor(0.0873, device='cuda:0', grad_fn=<MulBackward0>)\n"
     ]
    },
    {
     "name": "stderr",
     "output_type": "stream",
     "text": [
      "137it [00:52,  2.63it/s]=98836)\u001b[0m \n",
      "\u001b[36m(RayTrainWorker pid=98836)\u001b[0m InitSpatiaMetaData() error:\"table spatial_ref_sys already exists\"\n"
     ]
    },
    {
     "name": "stdout",
     "output_type": "stream",
     "text": [
      "\u001b[36m(RayTrainWorker pid=98836)\u001b[0m losses:\t tensor(0.3421, device='cuda:0', grad_fn=<AddBackward0>) tensor(3165887., device='cuda:0') tensor(0.3315, device='cuda:0', grad_fn=<MulBackward0>) tensor(0.0106, device='cuda:0', grad_fn=<MulBackward0>)\n"
     ]
    },
    {
     "name": "stderr",
     "output_type": "stream",
     "text": [
      "138it [00:53,  2.22it/s]InitSpatiaMetaData() error:\"table spatial_ref_sys already exists\"\n"
     ]
    },
    {
     "name": "stdout",
     "output_type": "stream",
     "text": [
      "\u001b[36m(RayTrainWorker pid=98836)\u001b[0m losses:\t tensor(0.1027, device='cuda:0', grad_fn=<AddBackward0>) tensor(721117., device='cuda:0') tensor(0.0694, device='cuda:0', grad_fn=<MulBackward0>) tensor(0.0334, device='cuda:0', grad_fn=<MulBackward0>)\n"
     ]
    },
    {
     "name": "stderr",
     "output_type": "stream",
     "text": [
      "139it [00:53,  2.40it/s]InitSpatiaMetaData() error:\"table spatial_ref_sys already exists\"\n"
     ]
    },
    {
     "name": "stdout",
     "output_type": "stream",
     "text": [
      "\u001b[36m(RayTrainWorker pid=98836)\u001b[0m losses:\t tensor(0.1138, device='cuda:0', grad_fn=<AddBackward0>) tensor(981561., device='cuda:0') tensor(0.0858, device='cuda:0', grad_fn=<MulBackward0>) tensor(0.0280, device='cuda:0', grad_fn=<MulBackward0>)\n"
     ]
    },
    {
     "name": "stderr",
     "output_type": "stream",
     "text": [
      "140it [00:54,  2.45it/s]InitSpatiaMetaData() error:\"table spatial_ref_sys already exists\"\n"
     ]
    },
    {
     "name": "stdout",
     "output_type": "stream",
     "text": [
      "\u001b[36m(RayTrainWorker pid=98836)\u001b[0m losses:\t tensor(0.2677, device='cuda:0', grad_fn=<AddBackward0>) tensor(2175402., device='cuda:0') tensor(0.2451, device='cuda:0', grad_fn=<MulBackward0>) tensor(0.0226, device='cuda:0', grad_fn=<MulBackward0>)\n"
     ]
    },
    {
     "name": "stderr",
     "output_type": "stream",
     "text": [
      "141it [00:54,  2.44it/s]InitSpatiaMetaData() error:\"table spatial_ref_sys already exists\"\n"
     ]
    },
    {
     "name": "stdout",
     "output_type": "stream",
     "text": [
      "\u001b[36m(RayTrainWorker pid=98836)\u001b[0m losses:\t tensor(0.1124, device='cuda:0', grad_fn=<AddBackward0>) tensor(999618., device='cuda:0') tensor(0.0852, device='cuda:0', grad_fn=<MulBackward0>) tensor(0.0272, device='cuda:0', grad_fn=<MulBackward0>)\n"
     ]
    },
    {
     "name": "stderr",
     "output_type": "stream",
     "text": [
      "142it [00:55,  2.51it/s]=98836)\u001b[0m \n",
      "\u001b[36m(RayTrainWorker pid=98836)\u001b[0m InitSpatiaMetaData() error:\"table spatial_ref_sys already exists\"\n"
     ]
    },
    {
     "name": "stdout",
     "output_type": "stream",
     "text": [
      "\u001b[36m(RayTrainWorker pid=98836)\u001b[0m losses:\t tensor(0.2281, device='cuda:0', grad_fn=<AddBackward0>) tensor(2307226., device='cuda:0') \n",
      "\u001b[36m(RayTrainWorker pid=98836)\u001b[0m tensor(0.2109, device='cuda:0', grad_fn=<MulBackward0>) \n",
      "\u001b[36m(RayTrainWorker pid=98836)\u001b[0m tensor(0.0172, device='cuda:0', grad_fn=<MulBackward0>)\n"
     ]
    },
    {
     "name": "stderr",
     "output_type": "stream",
     "text": [
      "143it [00:55,  2.42it/s]=98836)\u001b[0m \n",
      "\u001b[36m(RayTrainWorker pid=98836)\u001b[0m InitSpatiaMetaData() error:\"table spatial_ref_sys already exists\"\n"
     ]
    },
    {
     "name": "stdout",
     "output_type": "stream",
     "text": [
      "\u001b[36m(RayTrainWorker pid=98836)\u001b[0m losses:\t tensor(0.1438, device='cuda:0', grad_fn=<AddBackward0>) tensor(1594379., device='cuda:0') tensor(0.1237, device='cuda:0', grad_fn=<MulBackward0>) tensor(0.0201, device='cuda:0', grad_fn=<MulBackward0>)\n"
     ]
    },
    {
     "name": "stderr",
     "output_type": "stream",
     "text": [
      "144it [00:55,  2.54it/s]InitSpatiaMetaData() error:\"table spatial_ref_sys already exists\"\n"
     ]
    },
    {
     "name": "stdout",
     "output_type": "stream",
     "text": [
      "\u001b[36m(RayTrainWorker pid=98836)\u001b[0m losses:\t tensor(0.0854, device='cuda:0', grad_fn=<AddBackward0>) tensor(0., device='cuda:0') tensor(0., device='cuda:0', grad_fn=<MulBackward0>) tensor(0.0854, device='cuda:0', grad_fn=<MulBackward0>)\n"
     ]
    },
    {
     "name": "stderr",
     "output_type": "stream",
     "text": [
      "145it [00:56,  2.62it/s]=98836)\u001b[0m \n",
      "\u001b[36m(RayTrainWorker pid=98836)\u001b[0m InitSpatiaMetaData() error:\"table spatial_ref_sys already exists\"\n"
     ]
    },
    {
     "name": "stdout",
     "output_type": "stream",
     "text": [
      "\u001b[36m(RayTrainWorker pid=98836)\u001b[0m losses:\t tensor(0.1313, device='cuda:0', grad_fn=<AddBackward0>) tensor(1297683., device='cuda:0') tensor(0.1074, device='cuda:0', grad_fn=<MulBackward0>) tensor(0.0239, device='cuda:0', grad_fn=<MulBackward0>)\n"
     ]
    },
    {
     "name": "stderr",
     "output_type": "stream",
     "text": [
      "146it [00:57,  1.96it/s]InitSpatiaMetaData() error:\"table spatial_ref_sys already exists\"\n"
     ]
    },
    {
     "name": "stdout",
     "output_type": "stream",
     "text": [
      "\u001b[36m(RayTrainWorker pid=98836)\u001b[0m losses:\t \n",
      "\u001b[36m(RayTrainWorker pid=98836)\u001b[0m tensor(0.0576, device='cuda:0', grad_fn=<AddBackward0>) \n",
      "\u001b[36m(RayTrainWorker pid=98836)\u001b[0m tensor(72527., device='cuda:0') tensor(0.0086, device='cuda:0', grad_fn=<MulBackward0>) tensor(0.0490, device='cuda:0', grad_fn=<MulBackward0>)\n"
     ]
    },
    {
     "name": "stderr",
     "output_type": "stream",
     "text": [
      "147it [00:57,  2.15it/s]InitSpatiaMetaData() error:\"table spatial_ref_sys already exists\"\n"
     ]
    },
    {
     "name": "stdout",
     "output_type": "stream",
     "text": [
      "\u001b[36m(RayTrainWorker pid=98836)\u001b[0m losses:\t tensor(0.0554, device='cuda:0', grad_fn=<AddBackward0>) tensor(43347., device='cuda:0') tensor(0.0052, device='cuda:0', grad_fn=<MulBackward0>) tensor(0.0501, device='cuda:0', grad_fn=<MulBackward0>)\n"
     ]
    },
    {
     "name": "stderr",
     "output_type": "stream",
     "text": [
      "148it [00:57,  2.26it/s]=98836)\u001b[0m \n",
      "\u001b[36m(RayTrainWorker pid=98836)\u001b[0m InitSpatiaMetaData() error:\"table spatial_ref_sys already exists\"\n"
     ]
    },
    {
     "name": "stdout",
     "output_type": "stream",
     "text": [
      "\u001b[36m(RayTrainWorker pid=98836)\u001b[0m losses:\t tensor(0.0572, device='cuda:0', grad_fn=<AddBackward0>) tensor(204509., device='cuda:0') tensor(0.0194, device='cuda:0', grad_fn=<MulBackward0>) tensor(0.0378, device='cuda:0', grad_fn=<MulBackward0>)\n"
     ]
    },
    {
     "name": "stderr",
     "output_type": "stream",
     "text": [
      "149it [00:58,  2.35it/s]InitSpatiaMetaData() error:\"table spatial_ref_sys already exists\"\n"
     ]
    },
    {
     "name": "stdout",
     "output_type": "stream",
     "text": [
      "\u001b[36m(RayTrainWorker pid=98836)\u001b[0m losses:\t tensor(0.2103, device='cuda:0', grad_fn=<AddBackward0>) tensor(1569405., device='cuda:0') tensor(0.1802, device='cuda:0', grad_fn=<MulBackward0>) tensor(0.0300, device='cuda:0', grad_fn=<MulBackward0>)\n"
     ]
    },
    {
     "name": "stderr",
     "output_type": "stream",
     "text": [
      "150it [00:58,  2.46it/s]InitSpatiaMetaData() error:\"table spatial_ref_sys already exists\"\n"
     ]
    },
    {
     "name": "stdout",
     "output_type": "stream",
     "text": [
      "\u001b[36m(RayTrainWorker pid=98836)\u001b[0m losses:\t tensor(0.0554, device='cuda:0', grad_fn=<AddBackward0>) tensor(145870., device='cuda:0') tensor(0.0147, device='cuda:0', grad_fn=<MulBackward0>) tensor(0.0407, device='cuda:0', grad_fn=<MulBackward0>)\n"
     ]
    },
    {
     "name": "stderr",
     "output_type": "stream",
     "text": [
      "151it [00:58,  2.60it/s]InitSpatiaMetaData() error:\"table spatial_ref_sys already exists\"\n"
     ]
    },
    {
     "name": "stdout",
     "output_type": "stream",
     "text": [
      "\u001b[36m(RayTrainWorker pid=98836)\u001b[0m losses:\t tensor(0.2622, device='cuda:0', grad_fn=<AddBackward0>) tensor(2344142., device='cuda:0') tensor(0.2431, device='cuda:0', grad_fn=<MulBackward0>) \n",
      "\u001b[36m(RayTrainWorker pid=98836)\u001b[0m tensor(0.0191, device='cuda:0', grad_fn=<MulBackward0>)\n"
     ]
    },
    {
     "name": "stderr",
     "output_type": "stream",
     "text": [
      "152it [00:59,  2.60it/s]=98836)\u001b[0m \n",
      "\u001b[36m(RayTrainWorker pid=98836)\u001b[0m InitSpatiaMetaData() error:\"table spatial_ref_sys already exists\"\n"
     ]
    },
    {
     "name": "stdout",
     "output_type": "stream",
     "text": [
      "\u001b[36m(RayTrainWorker pid=98836)\u001b[0m losses:\t tensor(0.1264, device='cuda:0', grad_fn=<AddBackward0>) tensor(1492462., device='cuda:0') tensor(0.1070, device='cuda:0', grad_fn=<MulBackward0>) tensor(0.0193, device='cuda:0', grad_fn=<MulBackward0>)\n"
     ]
    },
    {
     "name": "stderr",
     "output_type": "stream",
     "text": [
      "153it [00:59,  2.64it/s]InitSpatiaMetaData() error:\"table spatial_ref_sys already exists\"\n"
     ]
    },
    {
     "name": "stdout",
     "output_type": "stream",
     "text": [
      "\u001b[36m(RayTrainWorker pid=98836)\u001b[0m losses:\t tensor(0.0884, device='cuda:0', grad_fn=<AddBackward0>) tensor(1022459., device='cuda:0') tensor(0.0675, device='cuda:0', grad_fn=<MulBackward0>) tensor(0.0209, device='cuda:0', grad_fn=<MulBackward0>)\n"
     ]
    },
    {
     "name": "stderr",
     "output_type": "stream",
     "text": [
      "154it [01:00,  2.65it/s]InitSpatiaMetaData() error:\"table spatial_ref_sys already exists\"\n"
     ]
    },
    {
     "name": "stdout",
     "output_type": "stream",
     "text": [
      "\u001b[36m(RayTrainWorker pid=98836)\u001b[0m losses:\t tensor(0.0481, device='cuda:0', grad_fn=<AddBackward0>) tensor(93790., device='cuda:0') tensor(0.0090, device='cuda:0', grad_fn=<MulBackward0>) tensor(0.0392, device='cuda:0', grad_fn=<MulBackward0>)\n"
     ]
    },
    {
     "name": "stderr",
     "output_type": "stream",
     "text": [
      "155it [01:00,  2.69it/s]InitSpatiaMetaData() error:\"table spatial_ref_sys already exists\"\n"
     ]
    },
    {
     "name": "stdout",
     "output_type": "stream",
     "text": [
      "\u001b[36m(RayTrainWorker pid=98836)\u001b[0m losses:\t tensor(0.3283, device='cuda:0', grad_fn=<AddBackward0>) tensor(2346342., device='cuda:0') tensor(0.3045, device='cuda:0', grad_fn=<MulBackward0>) tensor(0.0238, device='cuda:0', grad_fn=<MulBackward0>)\n"
     ]
    },
    {
     "name": "stderr",
     "output_type": "stream",
     "text": [
      "156it [01:00,  2.71it/s]InitSpatiaMetaData() error:\"table spatial_ref_sys already exists\"\n"
     ]
    },
    {
     "name": "stdout",
     "output_type": "stream",
     "text": [
      "\u001b[36m(RayTrainWorker pid=98836)\u001b[0m losses:\t tensor(0.0512, device='cuda:0', grad_fn=<AddBackward0>) tensor(124228., device='cuda:0') tensor(0.0120, device='cuda:0', grad_fn=<MulBackward0>) tensor(0.0392, device='cuda:0', grad_fn=<MulBackward0>)\n"
     ]
    },
    {
     "name": "stderr",
     "output_type": "stream",
     "text": [
      "157it [01:01,  2.66it/s]=98836)\u001b[0m \n",
      "\u001b[36m(RayTrainWorker pid=98836)\u001b[0m InitSpatiaMetaData() error:\"table spatial_ref_sys already exists\"\n"
     ]
    },
    {
     "name": "stdout",
     "output_type": "stream",
     "text": [
      "\u001b[36m(RayTrainWorker pid=98836)\u001b[0m losses:\t tensor(0.0565, device='cuda:0', grad_fn=<AddBackward0>) tensor(309094., device='cuda:0') tensor(0.0250, device='cuda:0', grad_fn=<MulBackward0>) tensor(0.0315, device='cuda:0', grad_fn=<MulBackward0>)\n"
     ]
    },
    {
     "name": "stderr",
     "output_type": "stream",
     "text": [
      "158it [01:01,  2.66it/s]InitSpatiaMetaData() error:\"table spatial_ref_sys already exists\"\n"
     ]
    },
    {
     "name": "stdout",
     "output_type": "stream",
     "text": [
      "\u001b[36m(RayTrainWorker pid=98836)\u001b[0m losses:\t tensor(0.1863, device='cuda:0', grad_fn=<AddBackward0>) tensor(2095506., device='cuda:0') tensor(0.1694, device='cuda:0', grad_fn=<MulBackward0>) tensor(0.0169, device='cuda:0', grad_fn=<MulBackward0>)\n"
     ]
    },
    {
     "name": "stderr",
     "output_type": "stream",
     "text": [
      "159it [01:01,  2.69it/s]InitSpatiaMetaData() error:\"table spatial_ref_sys already exists\"\n"
     ]
    },
    {
     "name": "stdout",
     "output_type": "stream",
     "text": [
      "\u001b[36m(RayTrainWorker pid=98836)\u001b[0m losses:\t tensor(0.2912, device='cuda:0', grad_fn=<AddBackward0>) tensor(2368048., device='cuda:0') tensor(0.2704, device='cuda:0', grad_fn=<MulBackward0>) tensor(0.0207, device='cuda:0', grad_fn=<MulBackward0>)\n"
     ]
    },
    {
     "name": "stderr",
     "output_type": "stream",
     "text": [
      "160it [01:02,  2.75it/s]InitSpatiaMetaData() error:\"table spatial_ref_sys already exists\"\n"
     ]
    },
    {
     "name": "stdout",
     "output_type": "stream",
     "text": [
      "\u001b[36m(RayTrainWorker pid=98836)\u001b[0m losses:\t tensor(0.0567, device='cuda:0', grad_fn=<AddBackward0>) tensor(780672., device='cuda:0') tensor(0.0395, device='cuda:0', grad_fn=<MulBackward0>) tensor(0.0172, device='cuda:0', grad_fn=<MulBackward0>)\n"
     ]
    },
    {
     "name": "stderr",
     "output_type": "stream",
     "text": [
      "161it [01:02,  2.81it/s]=98836)\u001b[0m \n",
      "\u001b[36m(RayTrainWorker pid=98836)\u001b[0m InitSpatiaMetaData() error:\"table spatial_ref_sys already exists\"\n"
     ]
    },
    {
     "name": "stdout",
     "output_type": "stream",
     "text": [
      "\u001b[36m(RayTrainWorker pid=98836)\u001b[0m losses:\t tensor(0.0826, device='cuda:0', grad_fn=<AddBackward0>) tensor(740925., device='cuda:0') tensor(0.0563, device='cuda:0', grad_fn=<MulBackward0>) tensor(0.0262, device='cuda:0', grad_fn=<MulBackward0>)\n"
     ]
    },
    {
     "name": "stderr",
     "output_type": "stream",
     "text": [
      "162it [01:02,  2.75it/s]InitSpatiaMetaData() error:\"table spatial_ref_sys already exists\"\n"
     ]
    },
    {
     "name": "stdout",
     "output_type": "stream",
     "text": [
      "\u001b[36m(RayTrainWorker pid=98836)\u001b[0m losses:\t tensor(0.3929, device='cuda:0', grad_fn=<AddBackward0>) tensor(2304395., device='cuda:0') tensor(0.3633, device='cuda:0', grad_fn=<MulBackward0>) tensor(0.0296, device='cuda:0', grad_fn=<MulBackward0>)\n"
     ]
    },
    {
     "name": "stderr",
     "output_type": "stream",
     "text": [
      "163it [01:03,  2.75it/s]=98836)\u001b[0m \n",
      "\u001b[36m(RayTrainWorker pid=98836)\u001b[0m InitSpatiaMetaData() error:\"table spatial_ref_sys already exists\"\n"
     ]
    },
    {
     "name": "stdout",
     "output_type": "stream",
     "text": [
      "\u001b[36m(RayTrainWorker pid=98836)\u001b[0m losses:\t tensor(0.1678, device='cuda:0', grad_fn=<AddBackward0>) tensor(1133658., device='cuda:0') tensor(0.1322, device='cuda:0', grad_fn=<MulBackward0>) tensor(0.0356, device='cuda:0', grad_fn=<MulBackward0>)\n"
     ]
    },
    {
     "name": "stderr",
     "output_type": "stream",
     "text": [
      "164it [01:03,  2.77it/s]InitSpatiaMetaData() error:\"table spatial_ref_sys already exists\"\n"
     ]
    },
    {
     "name": "stdout",
     "output_type": "stream",
     "text": [
      "\u001b[36m(RayTrainWorker pid=98836)\u001b[0m losses:\t tensor(0.0647, device='cuda:0', grad_fn=<AddBackward0>) tensor(604620., device='cuda:0') tensor(0.0406, device='cuda:0', grad_fn=<MulBackward0>) tensor(0.0241, device='cuda:0', grad_fn=<MulBackward0>)\n"
     ]
    },
    {
     "name": "stderr",
     "output_type": "stream",
     "text": [
      "165it [01:04,  2.77it/s]InitSpatiaMetaData() error:\"table spatial_ref_sys already exists\"\n"
     ]
    },
    {
     "name": "stdout",
     "output_type": "stream",
     "text": [
      "\u001b[36m(RayTrainWorker pid=98836)\u001b[0m losses:\t tensor(0.1971, device='cuda:0', grad_fn=<AddBackward0>) tensor(2096022., device='cuda:0') tensor(0.1793, device='cuda:0', grad_fn=<MulBackward0>) tensor(0.0178, device='cuda:0', grad_fn=<MulBackward0>)\n"
     ]
    },
    {
     "name": "stderr",
     "output_type": "stream",
     "text": [
      "166it [01:04,  2.79it/s]InitSpatiaMetaData() error:\"table spatial_ref_sys already exists\"\n"
     ]
    },
    {
     "name": "stdout",
     "output_type": "stream",
     "text": [
      "\u001b[36m(RayTrainWorker pid=98836)\u001b[0m losses:\t tensor(0.1241, device='cuda:0', grad_fn=<AddBackward0>) tensor(1283126., device='cuda:0') tensor(0.1012, device='cuda:0', grad_fn=<MulBackward0>) tensor(0.0229, device='cuda:0', grad_fn=<MulBackward0>)\n"
     ]
    },
    {
     "name": "stderr",
     "output_type": "stream",
     "text": [
      "167it [01:04,  2.83it/s]InitSpatiaMetaData() error:\"table spatial_ref_sys already exists\"\n"
     ]
    },
    {
     "name": "stdout",
     "output_type": "stream",
     "text": [
      "\u001b[36m(RayTrainWorker pid=98836)\u001b[0m losses:\t \n",
      "\u001b[36m(RayTrainWorker pid=98836)\u001b[0m tensor(0.3668, device='cuda:0', grad_fn=<AddBackward0>) tensor(3373575., device='cuda:0') tensor(0.3582, device='cuda:0', grad_fn=<MulBackward0>) tensor(0.0085, device='cuda:0', grad_fn=<MulBackward0>)\n"
     ]
    },
    {
     "name": "stderr",
     "output_type": "stream",
     "text": [
      "168it [01:05,  2.79it/s]=98836)\u001b[0m \n",
      "\u001b[36m(RayTrainWorker pid=98836)\u001b[0m InitSpatiaMetaData() error:\"table spatial_ref_sys already exists\"\n"
     ]
    },
    {
     "name": "stdout",
     "output_type": "stream",
     "text": [
      "\u001b[36m(RayTrainWorker pid=98836)\u001b[0m losses:\t tensor(0.2362, device='cuda:0', grad_fn=<AddBackward0>) tensor(2124445., device='cuda:0') tensor(0.2154, device='cuda:0', grad_fn=<MulBackward0>) tensor(0.0208, device='cuda:0', grad_fn=<MulBackward0>)\n"
     ]
    },
    {
     "name": "stderr",
     "output_type": "stream",
     "text": [
      "169it [01:05,  2.57it/s]InitSpatiaMetaData() error:\"table spatial_ref_sys already exists\"\n"
     ]
    },
    {
     "name": "stdout",
     "output_type": "stream",
     "text": [
      "\u001b[36m(RayTrainWorker pid=98836)\u001b[0m losses:\t tensor(0.3217, device='cuda:0', grad_fn=<AddBackward0>) tensor(2713111., device='cuda:0') tensor(0.3052, device='cuda:0', grad_fn=<MulBackward0>) tensor(0.0165, device='cuda:0', grad_fn=<MulBackward0>)\n"
     ]
    },
    {
     "name": "stderr",
     "output_type": "stream",
     "text": [
      "170it [01:05,  2.64it/s]=98836)\u001b[0m \n",
      "\u001b[36m(RayTrainWorker pid=98836)\u001b[0m InitSpatiaMetaData() error:\"table spatial_ref_sys already exists\"\n"
     ]
    },
    {
     "name": "stdout",
     "output_type": "stream",
     "text": [
      "\u001b[36m(RayTrainWorker pid=98836)\u001b[0m losses:\t tensor(0.1959, device='cuda:0', grad_fn=<AddBackward0>) tensor(2121223., device='cuda:0') tensor(0.1786, device='cuda:0', grad_fn=<MulBackward0>) tensor(0.0174, device='cuda:0', grad_fn=<MulBackward0>)\n"
     ]
    },
    {
     "name": "stderr",
     "output_type": "stream",
     "text": [
      "171it [01:06,  2.62it/s]InitSpatiaMetaData() error:\"table spatial_ref_sys already exists\"\n"
     ]
    },
    {
     "name": "stdout",
     "output_type": "stream",
     "text": [
      "\u001b[36m(RayTrainWorker pid=98836)\u001b[0m losses:\t tensor(0.1081, device='cuda:0', grad_fn=<AddBackward0>) tensor(1513456., device='cuda:0') tensor(0.0918, device='cuda:0', grad_fn=<MulBackward0>) tensor(0.0162, device='cuda:0', grad_fn=<MulBackward0>)\n"
     ]
    },
    {
     "name": "stderr",
     "output_type": "stream",
     "text": [
      "172it [01:06,  2.69it/s]InitSpatiaMetaData() error:\"table spatial_ref_sys already exists\"\n"
     ]
    },
    {
     "name": "stdout",
     "output_type": "stream",
     "text": [
      "\u001b[36m(RayTrainWorker pid=98836)\u001b[0m losses:\t tensor(0.0850, device='cuda:0', grad_fn=<AddBackward0>) tensor(0., device='cuda:0') tensor(0., device='cuda:0', grad_fn=<MulBackward0>) tensor(0.0850, device='cuda:0', grad_fn=<MulBackward0>)\n"
     ]
    },
    {
     "name": "stderr",
     "output_type": "stream",
     "text": [
      "173it [01:06,  2.72it/s]InitSpatiaMetaData() error:\"table spatial_ref_sys already exists\"\n"
     ]
    },
    {
     "name": "stdout",
     "output_type": "stream",
     "text": [
      "\u001b[36m(RayTrainWorker pid=98836)\u001b[0m losses:\t tensor(0.1935, device='cuda:0', grad_fn=<AddBackward0>) tensor(1982466., device='cuda:0') tensor(0.1742, device='cuda:0', grad_fn=<MulBackward0>) \n",
      "\u001b[36m(RayTrainWorker pid=98836)\u001b[0m tensor(0.0193, device='cuda:0', grad_fn=<MulBackward0>)\n"
     ]
    },
    {
     "name": "stderr",
     "output_type": "stream",
     "text": [
      "174it [01:07,  2.74it/s]InitSpatiaMetaData() error:\"table spatial_ref_sys already exists\"\n"
     ]
    },
    {
     "name": "stdout",
     "output_type": "stream",
     "text": [
      "\u001b[36m(RayTrainWorker pid=98836)\u001b[0m losses:\t tensor(0.0615, device='cuda:0', grad_fn=<AddBackward0>) tensor(77301., device='cuda:0') tensor(0.0097, device='cuda:0', grad_fn=<MulBackward0>) \n",
      "\u001b[36m(RayTrainWorker pid=98836)\u001b[0m tensor(0.0517, device='cuda:0', grad_fn=<MulBackward0>)\n"
     ]
    },
    {
     "name": "stderr",
     "output_type": "stream",
     "text": [
      "175it [01:07,  2.64it/s]=98836)\u001b[0m \n",
      "\u001b[36m(RayTrainWorker pid=98836)\u001b[0m InitSpatiaMetaData() error:\"table spatial_ref_sys already exists\"\n"
     ]
    },
    {
     "name": "stdout",
     "output_type": "stream",
     "text": [
      "\u001b[36m(RayTrainWorker pid=98836)\u001b[0m losses:\t tensor(0.0660, device='cuda:0', grad_fn=<AddBackward0>) tensor(237., device='cuda:0') tensor(3.7273e-05, device='cuda:0', grad_fn=<MulBackward0>) tensor(0.0660, device='cuda:0', grad_fn=<MulBackward0>)\n"
     ]
    },
    {
     "name": "stderr",
     "output_type": "stream",
     "text": [
      "176it [01:08,  2.67it/s]InitSpatiaMetaData() error:\"table spatial_ref_sys already exists\"\n"
     ]
    },
    {
     "name": "stdout",
     "output_type": "stream",
     "text": [
      "\u001b[36m(RayTrainWorker pid=98836)\u001b[0m losses:\t tensor(0.0653, device='cuda:0', grad_fn=<AddBackward0>) tensor(49822., device='cuda:0') tensor(0.0070, device='cuda:0', grad_fn=<MulBackward0>) tensor(0.0583, device='cuda:0', grad_fn=<MulBackward0>)\n"
     ]
    },
    {
     "name": "stderr",
     "output_type": "stream",
     "text": [
      "177it [01:08,  2.72it/s]=98836)\u001b[0m \n",
      "\u001b[36m(RayTrainWorker pid=98836)\u001b[0m InitSpatiaMetaData() error:\"table spatial_ref_sys already exists\"\n"
     ]
    },
    {
     "name": "stdout",
     "output_type": "stream",
     "text": [
      "\u001b[36m(RayTrainWorker pid=98836)\u001b[0m losses:\t tensor(0.4506, device='cuda:0', grad_fn=<AddBackward0>) tensor(2914343., device='cuda:0') tensor(0.4319, device='cuda:0', grad_fn=<MulBackward0>) tensor(0.0187, device='cuda:0', grad_fn=<MulBackward0>)\n"
     ]
    },
    {
     "name": "stderr",
     "output_type": "stream",
     "text": [
      "178it [01:08,  2.62it/s]=98836)\u001b[0m \n",
      "\u001b[36m(RayTrainWorker pid=98836)\u001b[0m InitSpatiaMetaData() error:\"table spatial_ref_sys already exists\"\n"
     ]
    },
    {
     "name": "stdout",
     "output_type": "stream",
     "text": [
      "\u001b[36m(RayTrainWorker pid=98836)\u001b[0m losses:\t tensor(0.2608, device='cuda:0', grad_fn=<AddBackward0>) tensor(2403404., device='cuda:0') tensor(0.2428, device='cuda:0', grad_fn=<MulBackward0>) tensor(0.0180, device='cuda:0', grad_fn=<MulBackward0>)\n"
     ]
    },
    {
     "name": "stderr",
     "output_type": "stream",
     "text": [
      "179it [01:09,  2.65it/s]InitSpatiaMetaData() error:\"table spatial_ref_sys already exists\"\n"
     ]
    },
    {
     "name": "stdout",
     "output_type": "stream",
     "text": [
      "\u001b[36m(RayTrainWorker pid=98836)\u001b[0m losses:\t tensor(0.4372, device='cuda:0', grad_fn=<AddBackward0>) tensor(2757170., device='cuda:0') tensor(0.4157, device='cuda:0', grad_fn=<MulBackward0>) tensor(0.0215, device='cuda:0', grad_fn=<MulBackward0>)\n"
     ]
    },
    {
     "name": "stderr",
     "output_type": "stream",
     "text": [
      "180it [01:09,  2.69it/s]=98836)\u001b[0m \n",
      "\u001b[36m(RayTrainWorker pid=98836)\u001b[0m InitSpatiaMetaData() error:\"table spatial_ref_sys already exists\"\n"
     ]
    },
    {
     "name": "stdout",
     "output_type": "stream",
     "text": [
      "\u001b[36m(RayTrainWorker pid=98836)\u001b[0m losses:\t tensor(0.2539, device='cuda:0', grad_fn=<AddBackward0>) tensor(2326483., device='cuda:0') tensor(0.2351, device='cuda:0', grad_fn=<MulBackward0>) tensor(0.0188, device='cuda:0', grad_fn=<MulBackward0>)\n"
     ]
    },
    {
     "name": "stderr",
     "output_type": "stream",
     "text": [
      "181it [01:09,  2.70it/s]InitSpatiaMetaData() error:\"table spatial_ref_sys already exists\"\n"
     ]
    },
    {
     "name": "stdout",
     "output_type": "stream",
     "text": [
      "\u001b[36m(RayTrainWorker pid=98836)\u001b[0m losses:\t tensor(0.0556, device='cuda:0', grad_fn=<AddBackward0>) tensor(518672., device='cuda:0') tensor(0.0325, device='cuda:0', grad_fn=<MulBackward0>) tensor(0.0230, device='cuda:0', grad_fn=<MulBackward0>)\n"
     ]
    },
    {
     "name": "stderr",
     "output_type": "stream",
     "text": [
      "182it [01:10,  2.68it/s]InitSpatiaMetaData() error:\"table spatial_ref_sys already exists\"\n"
     ]
    },
    {
     "name": "stdout",
     "output_type": "stream",
     "text": [
      "\u001b[36m(RayTrainWorker pid=98836)\u001b[0m losses:\t tensor(0.0517, device='cuda:0', grad_fn=<AddBackward0>) tensor(54348., device='cuda:0') tensor(0.0060, device='cuda:0', grad_fn=<MulBackward0>) tensor(0.0457, device='cuda:0', grad_fn=<MulBackward0>)\n"
     ]
    },
    {
     "name": "stderr",
     "output_type": "stream",
     "text": [
      "183it [01:10,  2.68it/s]=98836)\u001b[0m \n",
      "\u001b[36m(RayTrainWorker pid=98836)\u001b[0m InitSpatiaMetaData() error:\"table spatial_ref_sys already exists\"\n"
     ]
    },
    {
     "name": "stdout",
     "output_type": "stream",
     "text": [
      "\u001b[36m(RayTrainWorker pid=98836)\u001b[0m losses:\t tensor(0.0525, device='cuda:0', grad_fn=<AddBackward0>) tensor(71923., device='cuda:0') tensor(0.0078, device='cuda:0', grad_fn=<MulBackward0>) tensor(0.0447, device='cuda:0', grad_fn=<MulBackward0>)\n"
     ]
    },
    {
     "name": "stderr",
     "output_type": "stream",
     "text": [
      "184it [01:11,  2.71it/s]InitSpatiaMetaData() error:\"table spatial_ref_sys already exists\"\n"
     ]
    },
    {
     "name": "stdout",
     "output_type": "stream",
     "text": [
      "\u001b[36m(RayTrainWorker pid=98836)\u001b[0m losses:\t tensor(0.1580, device='cuda:0', grad_fn=<AddBackward0>) tensor(1547658., device='cuda:0') tensor(0.1350, device='cuda:0', grad_fn=<MulBackward0>) tensor(0.0230, device='cuda:0', grad_fn=<MulBackward0>)\n"
     ]
    },
    {
     "name": "stderr",
     "output_type": "stream",
     "text": [
      "185it [01:11,  2.74it/s]InitSpatiaMetaData() error:\"table spatial_ref_sys already exists\"\n"
     ]
    },
    {
     "name": "stdout",
     "output_type": "stream",
     "text": [
      "\u001b[36m(RayTrainWorker pid=98836)\u001b[0m losses:\t tensor(0.2597, device='cuda:0', grad_fn=<AddBackward0>) tensor(2860423., device='cuda:0') tensor(0.2482, device='cuda:0', grad_fn=<MulBackward0>) tensor(0.0114, device='cuda:0', grad_fn=<MulBackward0>)\n"
     ]
    },
    {
     "name": "stderr",
     "output_type": "stream",
     "text": [
      "186it [01:11,  2.77it/s]InitSpatiaMetaData() error:\"table spatial_ref_sys already exists\"\n"
     ]
    },
    {
     "name": "stdout",
     "output_type": "stream",
     "text": [
      "\u001b[36m(RayTrainWorker pid=98836)\u001b[0m losses:\t tensor(0.0590, device='cuda:0', grad_fn=<AddBackward0>) tensor(485967., device='cuda:0') tensor(0.0335, device='cuda:0', grad_fn=<MulBackward0>) tensor(0.0255, device='cuda:0', grad_fn=<MulBackward0>)\n"
     ]
    },
    {
     "name": "stderr",
     "output_type": "stream",
     "text": [
      "187it [01:12,  2.73it/s]=98836)\u001b[0m \n",
      "\u001b[36m(RayTrainWorker pid=98836)\u001b[0m InitSpatiaMetaData() error:\"table spatial_ref_sys already exists\"\n"
     ]
    },
    {
     "name": "stdout",
     "output_type": "stream",
     "text": [
      "\u001b[36m(RayTrainWorker pid=98836)\u001b[0m losses:\t tensor(0.2114, device='cuda:0', grad_fn=<AddBackward0>) tensor(2507136., device='cuda:0') tensor(0.1982, device='cuda:0', grad_fn=<MulBackward0>) tensor(0.0132, device='cuda:0', grad_fn=<MulBackward0>)\n"
     ]
    },
    {
     "name": "stderr",
     "output_type": "stream",
     "text": [
      "188it [01:12,  2.68it/s]InitSpatiaMetaData() error:\"table spatial_ref_sys already exists\"\n"
     ]
    },
    {
     "name": "stdout",
     "output_type": "stream",
     "text": [
      "\u001b[36m(RayTrainWorker pid=98836)\u001b[0m losses:\t \n",
      "\u001b[36m(RayTrainWorker pid=98836)\u001b[0m tensor(0.0595, device='cuda:0', grad_fn=<AddBackward0>) tensor(229788., device='cuda:0') tensor(0.0218, device='cuda:0', grad_fn=<MulBackward0>) tensor(0.0377, device='cuda:0', grad_fn=<MulBackward0>)\n"
     ]
    },
    {
     "name": "stderr",
     "output_type": "stream",
     "text": [
      "189it [01:12,  2.71it/s]InitSpatiaMetaData() error:\"table spatial_ref_sys already exists\"\n"
     ]
    },
    {
     "name": "stdout",
     "output_type": "stream",
     "text": [
      "\u001b[36m(RayTrainWorker pid=98836)\u001b[0m losses:\t tensor(0.0525, device='cuda:0', grad_fn=<AddBackward0>) tensor(303715., device='cuda:0') tensor(0.0230, device='cuda:0', grad_fn=<MulBackward0>) tensor(0.0295, device='cuda:0', grad_fn=<MulBackward0>)\n"
     ]
    },
    {
     "name": "stderr",
     "output_type": "stream",
     "text": [
      "190it [01:13,  2.70it/s]=98836)\u001b[0m \n",
      "\u001b[36m(RayTrainWorker pid=98836)\u001b[0m InitSpatiaMetaData() error:\"table spatial_ref_sys already exists\"\n"
     ]
    },
    {
     "name": "stdout",
     "output_type": "stream",
     "text": [
      "\u001b[36m(RayTrainWorker pid=98836)\u001b[0m losses:\t tensor(0.0866, device='cuda:0', grad_fn=<AddBackward0>) tensor(933912., device='cuda:0') tensor(0.0642, device='cuda:0', grad_fn=<MulBackward0>) tensor(0.0224, device='cuda:0', grad_fn=<MulBackward0>)\n"
     ]
    },
    {
     "name": "stderr",
     "output_type": "stream",
     "text": [
      "191it [01:13,  2.70it/s]InitSpatiaMetaData() error:\"table spatial_ref_sys already exists\"\n"
     ]
    },
    {
     "name": "stdout",
     "output_type": "stream",
     "text": [
      "\u001b[36m(RayTrainWorker pid=98836)\u001b[0m losses:\t tensor(0.2352, device='cuda:0', grad_fn=<AddBackward0>) tensor(1113047., device='cuda:0') tensor(0.1843, device='cuda:0', grad_fn=<MulBackward0>) tensor(0.0509, device='cuda:0', grad_fn=<MulBackward0>)\n"
     ]
    },
    {
     "name": "stderr",
     "output_type": "stream",
     "text": [
      "192it [01:14,  2.71it/s]=98836)\u001b[0m \n",
      "\u001b[36m(RayTrainWorker pid=98836)\u001b[0m InitSpatiaMetaData() error:\"table spatial_ref_sys already exists\"\n"
     ]
    },
    {
     "name": "stdout",
     "output_type": "stream",
     "text": [
      "\u001b[36m(RayTrainWorker pid=98836)\u001b[0m losses:\t tensor(0.0620, device='cuda:0', grad_fn=<AddBackward0>) tensor(571314., device='cuda:0') tensor(0.0379, device='cuda:0', grad_fn=<MulBackward0>) tensor(0.0241, device='cuda:0', grad_fn=<MulBackward0>)\n"
     ]
    },
    {
     "name": "stderr",
     "output_type": "stream",
     "text": [
      "193it [01:14,  2.77it/s]InitSpatiaMetaData() error:\"table spatial_ref_sys already exists\"\n"
     ]
    },
    {
     "name": "stdout",
     "output_type": "stream",
     "text": [
      "\u001b[36m(RayTrainWorker pid=98836)\u001b[0m losses:\t tensor(0.0565, device='cuda:0', grad_fn=<AddBackward0>) tensor(2595., device='cuda:0') tensor(0.0003, device='cuda:0', grad_fn=<MulBackward0>) tensor(0.0562, device='cuda:0', grad_fn=<MulBackward0>)\n"
     ]
    },
    {
     "name": "stderr",
     "output_type": "stream",
     "text": [
      "194it [01:14,  2.82it/s]InitSpatiaMetaData() error:\"table spatial_ref_sys already exists\"\n"
     ]
    },
    {
     "name": "stdout",
     "output_type": "stream",
     "text": [
      "\u001b[36m(RayTrainWorker pid=98836)\u001b[0m losses:\t tensor(0.0458, device='cuda:0', grad_fn=<AddBackward0>) \n",
      "\u001b[36m(RayTrainWorker pid=98836)\u001b[0m tensor(6968., device='cuda:0') tensor(0.0007, device='cuda:0', grad_fn=<MulBackward0>) tensor(0.0450, device='cuda:0', grad_fn=<MulBackward0>)\n",
      "\u001b[36m(RayTrainWorker pid=98836)\u001b[0m \n"
     ]
    },
    {
     "name": "stderr",
     "output_type": "stream",
     "text": [
      "195it [01:15,  2.75it/s]=98836)\u001b[0m \n",
      "\u001b[36m(RayTrainWorker pid=98836)\u001b[0m InitSpatiaMetaData() error:\"table spatial_ref_sys already exists\"\n"
     ]
    },
    {
     "name": "stdout",
     "output_type": "stream",
     "text": [
      "\u001b[36m(RayTrainWorker pid=98836)\u001b[0m losses:\t tensor(0.0510, device='cuda:0', grad_fn=<AddBackward0>) tensor(115573., device='cuda:0') tensor(0.0113, device='cuda:0', grad_fn=<MulBackward0>) tensor(0.0398, device='cuda:0', grad_fn=<MulBackward0>)\n"
     ]
    },
    {
     "name": "stderr",
     "output_type": "stream",
     "text": [
      "196it [01:15,  2.64it/s]=98836)\u001b[0m \n",
      "\u001b[36m(RayTrainWorker pid=98836)\u001b[0m InitSpatiaMetaData() error:\"table spatial_ref_sys already exists\"\n"
     ]
    },
    {
     "name": "stdout",
     "output_type": "stream",
     "text": [
      "\u001b[36m(RayTrainWorker pid=98836)\u001b[0m losses:\t tensor(0.1164, device='cuda:0', grad_fn=<AddBackward0>) tensor(1715865., device='cuda:0') tensor(0.1017, device='cuda:0', grad_fn=<MulBackward0>) tensor(0.0147, device='cuda:0', grad_fn=<MulBackward0>)\n"
     ]
    },
    {
     "name": "stderr",
     "output_type": "stream",
     "text": [
      "197it [01:15,  2.65it/s]=98836)\u001b[0m \n",
      "\u001b[36m(RayTrainWorker pid=98836)\u001b[0m InitSpatiaMetaData() error:\"table spatial_ref_sys already exists\"\n"
     ]
    },
    {
     "name": "stdout",
     "output_type": "stream",
     "text": [
      "\u001b[36m(RayTrainWorker pid=98836)\u001b[0m losses:\t tensor(0.4545, device='cuda:0', grad_fn=<AddBackward0>) tensor(2994891., device='cuda:0') tensor(0.4370, device='cuda:0', grad_fn=<MulBackward0>) tensor(0.0175, device='cuda:0', grad_fn=<MulBackward0>)\n"
     ]
    },
    {
     "name": "stderr",
     "output_type": "stream",
     "text": [
      "198it [01:16,  2.63it/s]InitSpatiaMetaData() error:\"table spatial_ref_sys already exists\"\n"
     ]
    },
    {
     "name": "stdout",
     "output_type": "stream",
     "text": [
      "\u001b[36m(RayTrainWorker pid=98836)\u001b[0m losses:\t tensor(0.0719, device='cuda:0', grad_fn=<AddBackward0>) \n",
      "\u001b[36m(RayTrainWorker pid=98836)\u001b[0m tensor(873741., device='cuda:0') \n",
      "\u001b[36m(RayTrainWorker pid=98836)\u001b[0m tensor(0.0521, device='cuda:0', grad_fn=<MulBackward0>) \n",
      "\u001b[36m(RayTrainWorker pid=98836)\u001b[0m tensor(0.0198, device='cuda:0', grad_fn=<MulBackward0>)\n"
     ]
    },
    {
     "name": "stderr",
     "output_type": "stream",
     "text": [
      "199it [01:16,  2.62it/s]=98836)\u001b[0m \n",
      "\u001b[36m(RayTrainWorker pid=98836)\u001b[0m InitSpatiaMetaData() error:\"table spatial_ref_sys already exists\"\n"
     ]
    },
    {
     "name": "stdout",
     "output_type": "stream",
     "text": [
      "\u001b[36m(RayTrainWorker pid=98836)\u001b[0m losses:\t tensor(0.0543, device='cuda:0', grad_fn=<AddBackward0>) tensor(372730., device='cuda:0') tensor(0.0268, device='cuda:0', grad_fn=<MulBackward0>) tensor(0.0275, device='cuda:0', grad_fn=<MulBackward0>)\n"
     ]
    },
    {
     "name": "stderr",
     "output_type": "stream",
     "text": [
      "200it [01:17,  2.65it/s]InitSpatiaMetaData() error:\"table spatial_ref_sys already exists\"\n"
     ]
    },
    {
     "name": "stdout",
     "output_type": "stream",
     "text": [
      "\u001b[36m(RayTrainWorker pid=98836)\u001b[0m losses:\t tensor(0.0550, device='cuda:0', grad_fn=<AddBackward0>) tensor(155314., device='cuda:0') \n",
      "\u001b[36m(RayTrainWorker pid=98836)\u001b[0m tensor(0.0153, device='cuda:0', grad_fn=<MulBackward0>) tensor(0.0397, device='cuda:0', grad_fn=<MulBackward0>)\n"
     ]
    },
    {
     "name": "stderr",
     "output_type": "stream",
     "text": [
      "201it [01:17,  2.68it/s]=98836)\u001b[0m \n",
      "\u001b[36m(RayTrainWorker pid=98836)\u001b[0m InitSpatiaMetaData() error:\"table spatial_ref_sys already exists\"\n"
     ]
    },
    {
     "name": "stdout",
     "output_type": "stream",
     "text": [
      "\u001b[36m(RayTrainWorker pid=98836)\u001b[0m losses:\t tensor(0.0856, device='cuda:0', grad_fn=<AddBackward0>) tensor(851281., device='cuda:0') tensor(0.0615, device='cuda:0', grad_fn=<MulBackward0>) tensor(0.0241, device='cuda:0', grad_fn=<MulBackward0>)\n",
      "\u001b[36m(RayTrainWorker pid=98836)\u001b[0m saving!\n"
     ]
    },
    {
     "name": "stderr",
     "output_type": "stream",
     "text": [
      "202it [01:17,  2.39it/s]InitSpatiaMetaData() error:\"table spatial_ref_sys already exists\"\n"
     ]
    },
    {
     "name": "stdout",
     "output_type": "stream",
     "text": [
      "\u001b[36m(RayTrainWorker pid=98836)\u001b[0m losses:\t tensor(0.0564, device='cuda:0', grad_fn=<AddBackward0>) tensor(170444., device='cuda:0') tensor(0.0168, device='cuda:0', grad_fn=<MulBackward0>) tensor(0.0396, device='cuda:0', grad_fn=<MulBackward0>)\n"
     ]
    },
    {
     "name": "stderr",
     "output_type": "stream",
     "text": [
      "203it [01:18,  2.44it/s]=98836)\u001b[0m \n",
      "\u001b[36m(RayTrainWorker pid=98836)\u001b[0m InitSpatiaMetaData() error:\"table spatial_ref_sys already exists\"\n"
     ]
    },
    {
     "name": "stdout",
     "output_type": "stream",
     "text": [
      "\u001b[36m(RayTrainWorker pid=98836)\u001b[0m losses:\t tensor(0.1683, device='cuda:0', grad_fn=<AddBackward0>) tensor(2005655., device='cuda:0') tensor(0.1517, device='cuda:0', grad_fn=<MulBackward0>) tensor(0.0166, device='cuda:0', grad_fn=<MulBackward0>)\n"
     ]
    },
    {
     "name": "stderr",
     "output_type": "stream",
     "text": [
      "204it [01:18,  2.54it/s]InitSpatiaMetaData() error:\"table spatial_ref_sys already exists\"\n"
     ]
    },
    {
     "name": "stdout",
     "output_type": "stream",
     "text": [
      "\u001b[36m(RayTrainWorker pid=98836)\u001b[0m losses:\t tensor(0.1760, device='cuda:0', grad_fn=<AddBackward0>) tensor(1763553., device='cuda:0') tensor(0.1547, device='cuda:0', grad_fn=<MulBackward0>) tensor(0.0213, device='cuda:0', grad_fn=<MulBackward0>)\n"
     ]
    },
    {
     "name": "stderr",
     "output_type": "stream",
     "text": [
      "205it [01:19,  2.60it/s]=98836)\u001b[0m \n",
      "\u001b[36m(RayTrainWorker pid=98836)\u001b[0m InitSpatiaMetaData() error:\"table spatial_ref_sys already exists\"\n"
     ]
    },
    {
     "name": "stdout",
     "output_type": "stream",
     "text": [
      "\u001b[36m(RayTrainWorker pid=98836)\u001b[0m losses:\t tensor(0.3195, device='cuda:0', grad_fn=<AddBackward0>) tensor(2937283., device='cuda:0') tensor(0.3064, device='cuda:0', grad_fn=<MulBackward0>) tensor(0.0131, device='cuda:0', grad_fn=<MulBackward0>)\n"
     ]
    },
    {
     "name": "stderr",
     "output_type": "stream",
     "text": [
      "206it [01:19,  2.62it/s]InitSpatiaMetaData() error:\"table spatial_ref_sys already exists\"\n"
     ]
    },
    {
     "name": "stdout",
     "output_type": "stream",
     "text": [
      "\u001b[36m(RayTrainWorker pid=98836)\u001b[0m losses:\t tensor(0.0998, device='cuda:0', grad_fn=<AddBackward0>) tensor(1376953., device='cuda:0') tensor(0.0829, device='cuda:0', grad_fn=<MulBackward0>) tensor(0.0170, device='cuda:0', grad_fn=<MulBackward0>)\n"
     ]
    },
    {
     "name": "stderr",
     "output_type": "stream",
     "text": [
      "207it [01:19,  2.66it/s]=98836)\u001b[0m \n",
      "\u001b[36m(RayTrainWorker pid=98836)\u001b[0m InitSpatiaMetaData() error:\"table spatial_ref_sys already exists\"\n"
     ]
    },
    {
     "name": "stdout",
     "output_type": "stream",
     "text": [
      "\u001b[36m(RayTrainWorker pid=98836)\u001b[0m losses:\t tensor(0.0784, device='cuda:0', grad_fn=<AddBackward0>) tensor(1253700., device='cuda:0') tensor(0.0635, device='cuda:0', grad_fn=<MulBackward0>) tensor(0.0149, device='cuda:0', grad_fn=<MulBackward0>)\n"
     ]
    },
    {
     "name": "stderr",
     "output_type": "stream",
     "text": [
      "208it [01:20,  2.66it/s]InitSpatiaMetaData() error:\"table spatial_ref_sys already exists\"\n"
     ]
    },
    {
     "name": "stdout",
     "output_type": "stream",
     "text": [
      "\u001b[36m(RayTrainWorker pid=98836)\u001b[0m losses:\t tensor(0.0559, device='cuda:0', grad_fn=<AddBackward0>) tensor(764., device='cuda:0') tensor(0.0001, device='cuda:0', grad_fn=<MulBackward0>) tensor(0.0558, device='cuda:0', grad_fn=<MulBackward0>)\n"
     ]
    },
    {
     "name": "stderr",
     "output_type": "stream",
     "text": [
      "209it [01:20,  2.72it/s]=98836)\u001b[0m \n",
      "\u001b[36m(RayTrainWorker pid=98836)\u001b[0m InitSpatiaMetaData() error:\"table spatial_ref_sys already exists\"\n"
     ]
    },
    {
     "name": "stdout",
     "output_type": "stream",
     "text": [
      "\u001b[36m(RayTrainWorker pid=98836)\u001b[0m losses:\t tensor(0.1535, device='cuda:0', grad_fn=<AddBackward0>) tensor(1980288., device='cuda:0') tensor(0.1380, device='cuda:0', grad_fn=<MulBackward0>) tensor(0.0154, device='cuda:0', grad_fn=<MulBackward0>)\n"
     ]
    },
    {
     "name": "stderr",
     "output_type": "stream",
     "text": [
      "210it [01:20,  2.70it/s]=98836)\u001b[0m \n",
      "\u001b[36m(RayTrainWorker pid=98836)\u001b[0m InitSpatiaMetaData() error:\"table spatial_ref_sys already exists\"\n"
     ]
    },
    {
     "name": "stdout",
     "output_type": "stream",
     "text": [
      "\u001b[36m(RayTrainWorker pid=98836)\u001b[0m losses:\t tensor(0.2009, device='cuda:0', grad_fn=<AddBackward0>) tensor(1727117., device='cuda:0') tensor(0.1758, device='cuda:0', grad_fn=<MulBackward0>) tensor(0.0251, device='cuda:0', grad_fn=<MulBackward0>)\n"
     ]
    },
    {
     "name": "stderr",
     "output_type": "stream",
     "text": [
      "211it [01:21,  2.55it/s]=98836)\u001b[0m \n",
      "\u001b[36m(RayTrainWorker pid=98836)\u001b[0m InitSpatiaMetaData() error:\"table spatial_ref_sys already exists\"\n"
     ]
    },
    {
     "name": "stdout",
     "output_type": "stream",
     "text": [
      "\u001b[36m(RayTrainWorker pid=98836)\u001b[0m losses:\t tensor(0.3190, device='cuda:0', grad_fn=<AddBackward0>) tensor(3014281., device='cuda:0') tensor(0.3070, device='cuda:0', grad_fn=<MulBackward0>) tensor(0.0120, device='cuda:0', grad_fn=<MulBackward0>)\n"
     ]
    },
    {
     "name": "stderr",
     "output_type": "stream",
     "text": [
      "212it [01:21,  2.56it/s]InitSpatiaMetaData() error:\"table spatial_ref_sys already exists\"\n"
     ]
    },
    {
     "name": "stdout",
     "output_type": "stream",
     "text": [
      "\u001b[36m(RayTrainWorker pid=98836)\u001b[0m losses:\t tensor(0.0698, device='cuda:0', grad_fn=<AddBackward0>) tensor(506416., device='cuda:0') tensor(0.0404, device='cuda:0', grad_fn=<MulBackward0>) tensor(0.0294, device='cuda:0', grad_fn=<MulBackward0>)\n"
     ]
    },
    {
     "name": "stderr",
     "output_type": "stream",
     "text": [
      "213it [01:22,  2.67it/s]=98836)\u001b[0m \n",
      "\u001b[36m(RayTrainWorker pid=98836)\u001b[0m InitSpatiaMetaData() error:\"table spatial_ref_sys already exists\"\n"
     ]
    },
    {
     "name": "stdout",
     "output_type": "stream",
     "text": [
      "\u001b[36m(RayTrainWorker pid=98836)\u001b[0m losses:\t tensor(0.1802, device='cuda:0', grad_fn=<AddBackward0>) tensor(2233442., device='cuda:0') tensor(0.1657, device='cuda:0', grad_fn=<MulBackward0>) tensor(0.0145, device='cuda:0', grad_fn=<MulBackward0>)\n"
     ]
    },
    {
     "name": "stderr",
     "output_type": "stream",
     "text": [
      "214it [01:22,  2.65it/s]=98836)\u001b[0m \n",
      "\u001b[36m(RayTrainWorker pid=98836)\u001b[0m InitSpatiaMetaData() error:\"table spatial_ref_sys already exists\"\n"
     ]
    },
    {
     "name": "stdout",
     "output_type": "stream",
     "text": [
      "\u001b[36m(RayTrainWorker pid=98836)\u001b[0m losses:\t tensor(0.0995, device='cuda:0', grad_fn=<AddBackward0>) tensor(1053737., device='cuda:0') tensor(0.0766, device='cuda:0', grad_fn=<MulBackward0>) tensor(0.0228, device='cuda:0', grad_fn=<MulBackward0>)\n"
     ]
    },
    {
     "name": "stderr",
     "output_type": "stream",
     "text": [
      "215it [01:23,  1.64it/s]InitSpatiaMetaData() error:\"table spatial_ref_sys already exists\"\n"
     ]
    },
    {
     "name": "stdout",
     "output_type": "stream",
     "text": [
      "\u001b[36m(RayTrainWorker pid=98836)\u001b[0m losses:\t tensor(0.2595, device='cuda:0', grad_fn=<AddBackward0>) tensor(2343484., device='cuda:0') tensor(0.2405, device='cuda:0', grad_fn=<MulBackward0>) tensor(0.0190, device='cuda:0', grad_fn=<MulBackward0>)\n"
     ]
    },
    {
     "name": "stderr",
     "output_type": "stream",
     "text": [
      "216it [01:23,  1.89it/s]=98836)\u001b[0m \n",
      "\u001b[36m(RayTrainWorker pid=98836)\u001b[0m InitSpatiaMetaData() error:\"table spatial_ref_sys already exists\"\n"
     ]
    },
    {
     "name": "stdout",
     "output_type": "stream",
     "text": [
      "\u001b[36m(RayTrainWorker pid=98836)\u001b[0m losses:\t tensor(0.1598, device='cuda:0', grad_fn=<AddBackward0>) tensor(1641566., device='cuda:0') tensor(0.1383, device='cuda:0', grad_fn=<MulBackward0>) tensor(0.0215, device='cuda:0', grad_fn=<MulBackward0>)\n"
     ]
    },
    {
     "name": "stderr",
     "output_type": "stream",
     "text": [
      "217it [01:24,  2.10it/s]InitSpatiaMetaData() error:\"table spatial_ref_sys already exists\"\n"
     ]
    },
    {
     "name": "stdout",
     "output_type": "stream",
     "text": [
      "\u001b[36m(RayTrainWorker pid=98836)\u001b[0m losses:\t tensor(0.0486, device='cuda:0', grad_fn=<AddBackward0>) tensor(258251., device='cuda:0') tensor(0.0193, device='cuda:0', grad_fn=<MulBackward0>) tensor(0.0293, device='cuda:0', grad_fn=<MulBackward0>)\n"
     ]
    },
    {
     "name": "stderr",
     "output_type": "stream",
     "text": [
      "218it [01:24,  2.25it/s]=98836)\u001b[0m \n",
      "\u001b[36m(RayTrainWorker pid=98836)\u001b[0m InitSpatiaMetaData() error:\"table spatial_ref_sys already exists\"\n"
     ]
    },
    {
     "name": "stdout",
     "output_type": "stream",
     "text": [
      "\u001b[36m(RayTrainWorker pid=98836)\u001b[0m losses:\t tensor(0.2504, device='cuda:0', grad_fn=<AddBackward0>) tensor(2772096., device='cuda:0') tensor(0.2382, device='cuda:0', grad_fn=<MulBackward0>) tensor(0.0122, device='cuda:0', grad_fn=<MulBackward0>)\n"
     ]
    },
    {
     "name": "stderr",
     "output_type": "stream",
     "text": [
      "219it [01:25,  1.86it/s]InitSpatiaMetaData() error:\"table spatial_ref_sys already exists\"\n"
     ]
    },
    {
     "name": "stdout",
     "output_type": "stream",
     "text": [
      "\u001b[36m(RayTrainWorker pid=98836)\u001b[0m losses:\t tensor(0.2486, device='cuda:0', grad_fn=<AddBackward0>) tensor(2400662., device='cuda:0') tensor(0.2313, device='cuda:0', grad_fn=<MulBackward0>) tensor(0.0173, device='cuda:0', grad_fn=<MulBackward0>)\n"
     ]
    },
    {
     "name": "stderr",
     "output_type": "stream",
     "text": [
      "220it [01:25,  2.06it/s]=98836)\u001b[0m \n",
      "\u001b[36m(RayTrainWorker pid=98836)\u001b[0m InitSpatiaMetaData() error:\"table spatial_ref_sys already exists\"\n"
     ]
    },
    {
     "name": "stdout",
     "output_type": "stream",
     "text": [
      "\u001b[36m(RayTrainWorker pid=98836)\u001b[0m losses:\t tensor(0.2564, device='cuda:0', grad_fn=<AddBackward0>) tensor(2709621., device='cuda:0') tensor(0.2431, device='cuda:0', grad_fn=<MulBackward0>) tensor(0.0133, device='cuda:0', grad_fn=<MulBackward0>)\n"
     ]
    },
    {
     "name": "stderr",
     "output_type": "stream",
     "text": [
      "221it [01:26,  2.18it/s]InitSpatiaMetaData() error:\"table spatial_ref_sys already exists\"\n"
     ]
    },
    {
     "name": "stdout",
     "output_type": "stream",
     "text": [
      "\u001b[36m(RayTrainWorker pid=98836)\u001b[0m losses:\t tensor(0.2493, device='cuda:0', grad_fn=<AddBackward0>) tensor(2492484., device='cuda:0') tensor(0.2334, device='cuda:0', grad_fn=<MulBackward0>) tensor(0.0159, device='cuda:0', grad_fn=<MulBackward0>)\n"
     ]
    },
    {
     "name": "stderr",
     "output_type": "stream",
     "text": [
      "222it [01:26,  2.32it/s]InitSpatiaMetaData() error:\"table spatial_ref_sys already exists\"\n"
     ]
    },
    {
     "name": "stdout",
     "output_type": "stream",
     "text": [
      "\u001b[36m(RayTrainWorker pid=98836)\u001b[0m losses:\t tensor(0.0772, device='cuda:0', grad_fn=<AddBackward0>) tensor(586324., device='cuda:0') tensor(0.0478, device='cuda:0', grad_fn=<MulBackward0>) tensor(0.0294, device='cuda:0', grad_fn=<MulBackward0>)\n"
     ]
    },
    {
     "name": "stderr",
     "output_type": "stream",
     "text": [
      "223it [01:26,  2.43it/s]InitSpatiaMetaData() error:\"table spatial_ref_sys already exists\"\n"
     ]
    },
    {
     "name": "stdout",
     "output_type": "stream",
     "text": [
      "\u001b[36m(RayTrainWorker pid=98836)\u001b[0m losses:\t tensor(0.1165, device='cuda:0', grad_fn=<AddBackward0>) tensor(1465809., device='cuda:0') tensor(0.0982, device='cuda:0', grad_fn=<MulBackward0>) tensor(0.0183, device='cuda:0', grad_fn=<MulBackward0>)\n"
     ]
    },
    {
     "name": "stderr",
     "output_type": "stream",
     "text": [
      "224it [01:27,  2.50it/s]InitSpatiaMetaData() error:\"table spatial_ref_sys already exists\"\n"
     ]
    },
    {
     "name": "stdout",
     "output_type": "stream",
     "text": [
      "\u001b[36m(RayTrainWorker pid=98836)\u001b[0m losses:\t tensor(0.1063, device='cuda:0', grad_fn=<AddBackward0>) tensor(912177., device='cuda:0') tensor(0.0782, device='cuda:0', grad_fn=<MulBackward0>) tensor(0.0281, device='cuda:0', grad_fn=<MulBackward0>)\n"
     ]
    },
    {
     "name": "stderr",
     "output_type": "stream",
     "text": [
      "225it [01:27,  2.54it/s]=98836)\u001b[0m \n",
      "\u001b[36m(RayTrainWorker pid=98836)\u001b[0m InitSpatiaMetaData() error:\"table spatial_ref_sys already exists\"\n"
     ]
    },
    {
     "name": "stdout",
     "output_type": "stream",
     "text": [
      "\u001b[36m(RayTrainWorker pid=98836)\u001b[0m losses:\t tensor(0.1987, device='cuda:0', grad_fn=<AddBackward0>) tensor(2718623., device='cuda:0') tensor(0.1885, device='cuda:0', grad_fn=<MulBackward0>) tensor(0.0102, device='cuda:0', grad_fn=<MulBackward0>)\n"
     ]
    },
    {
     "name": "stderr",
     "output_type": "stream",
     "text": [
      "226it [01:27,  2.55it/s]InitSpatiaMetaData() error:\"table spatial_ref_sys already exists\"\n"
     ]
    },
    {
     "name": "stdout",
     "output_type": "stream",
     "text": [
      "\u001b[36m(RayTrainWorker pid=98836)\u001b[0m losses:\t tensor(0.3418, device='cuda:0', grad_fn=<AddBackward0>) tensor(2892230., device='cuda:0') tensor(0.3271, device='cuda:0', grad_fn=<MulBackward0>) tensor(0.0147, device='cuda:0', grad_fn=<MulBackward0>)\n"
     ]
    },
    {
     "name": "stderr",
     "output_type": "stream",
     "text": [
      "227it [01:28,  2.65it/s]InitSpatiaMetaData() error:\"table spatial_ref_sys already exists\"\n"
     ]
    },
    {
     "name": "stdout",
     "output_type": "stream",
     "text": [
      "\u001b[36m(RayTrainWorker pid=98836)\u001b[0m losses:\t tensor(0.0835, device='cuda:0', grad_fn=<AddBackward0>) tensor(1310497., device='cuda:0') tensor(0.0684, device='cuda:0', grad_fn=<MulBackward0>) tensor(0.0151, device='cuda:0', grad_fn=<MulBackward0>)\n"
     ]
    },
    {
     "name": "stderr",
     "output_type": "stream",
     "text": [
      "228it [01:28,  2.65it/s]InitSpatiaMetaData() error:\"table spatial_ref_sys already exists\"\n"
     ]
    },
    {
     "name": "stdout",
     "output_type": "stream",
     "text": [
      "\u001b[36m(RayTrainWorker pid=98836)\u001b[0m losses:\t tensor(0.1547, device='cuda:0', grad_fn=<AddBackward0>) tensor(1120825., device='cuda:0') tensor(0.1214, device='cuda:0', grad_fn=<MulBackward0>) tensor(0.0333, device='cuda:0', grad_fn=<MulBackward0>)\n"
     ]
    },
    {
     "name": "stderr",
     "output_type": "stream",
     "text": [
      "229it [01:29,  2.66it/s]=98836)\u001b[0m \n",
      "\u001b[36m(RayTrainWorker pid=98836)\u001b[0m InitSpatiaMetaData() error:\"table spatial_ref_sys already exists\"\n"
     ]
    },
    {
     "name": "stdout",
     "output_type": "stream",
     "text": [
      "\u001b[36m(RayTrainWorker pid=98836)\u001b[0m losses:\t tensor(0.0799, device='cuda:0', grad_fn=<AddBackward0>) tensor(1640855., device='cuda:0') tensor(0.0692, device='cuda:0', grad_fn=<MulBackward0>) tensor(0.0108, device='cuda:0', grad_fn=<MulBackward0>)\n"
     ]
    },
    {
     "name": "stderr",
     "output_type": "stream",
     "text": [
      "230it [01:30,  1.63it/s]=98836)\u001b[0m \n",
      "\u001b[36m(RayTrainWorker pid=98836)\u001b[0m InitSpatiaMetaData() error:\"table spatial_ref_sys already exists\"\n"
     ]
    },
    {
     "name": "stdout",
     "output_type": "stream",
     "text": [
      "\u001b[36m(RayTrainWorker pid=98836)\u001b[0m losses:\t tensor(0.2957, device='cuda:0', grad_fn=<AddBackward0>) \n",
      "\u001b[36m(RayTrainWorker pid=98836)\u001b[0m tensor(3166045., device='cuda:0') tensor(0.2864, device='cuda:0', grad_fn=<MulBackward0>) \n",
      "\u001b[36m(RayTrainWorker pid=98836)\u001b[0m tensor(0.0093, device='cuda:0', grad_fn=<MulBackward0>)\n"
     ]
    },
    {
     "name": "stderr",
     "output_type": "stream",
     "text": [
      "231it [01:30,  1.90it/s]=98836)\u001b[0m \n",
      "\u001b[36m(RayTrainWorker pid=98836)\u001b[0m InitSpatiaMetaData() error:\"table spatial_ref_sys already exists\"\n"
     ]
    },
    {
     "name": "stdout",
     "output_type": "stream",
     "text": [
      "\u001b[36m(RayTrainWorker pid=98836)\u001b[0m losses:\t tensor(0.2079, device='cuda:0', grad_fn=<AddBackward0>) tensor(2565264., device='cuda:0') tensor(0.1955, device='cuda:0', grad_fn=<MulBackward0>) tensor(0.0124, device='cuda:0', grad_fn=<MulBackward0>)\n"
     ]
    },
    {
     "name": "stderr",
     "output_type": "stream",
     "text": [
      "232it [01:30,  2.14it/s]InitSpatiaMetaData() error:\"table spatial_ref_sys already exists\"\n"
     ]
    },
    {
     "name": "stdout",
     "output_type": "stream",
     "text": [
      "\u001b[36m(RayTrainWorker pid=98836)\u001b[0m losses:\t tensor(0.0888, device='cuda:0', grad_fn=<AddBackward0>) tensor(1129277., device='cuda:0') tensor(0.0699, device='cuda:0', grad_fn=<MulBackward0>) tensor(0.0190, device='cuda:0', grad_fn=<MulBackward0>)\n",
      "\u001b[36m(RayTrainWorker pid=98836)\u001b[0m Epoch [1/10], Loss: 0.186823373780358\n"
     ]
    },
    {
     "name": "stderr",
     "output_type": "stream",
     "text": [
      "233it [01:31,  2.55it/s]=98836)\u001b[0m \n",
      "0it [00:00, ?it/s]er pid=98836)\u001b[0m \n",
      "\u001b[36m(RayTrainWorker pid=98836)\u001b[0m InitSpatiaMetaData() error:\"table spatial_ref_sys already exists\"\n",
      "\u001b[36m(RayTrainWorker pid=98836)\u001b[0m InitSpatiaMetaData() error:\"table spatial_ref_sys already exists\"\n",
      "\u001b[36m(RayTrainWorker pid=98836)\u001b[0m InitSpatiaMetaData() error:\"table spatial_ref_sys already exists\"\n",
      "\u001b[36m(RayTrainWorker pid=98836)\u001b[0m InitSpatiaMetaData() error:\"table spatial_ref_sys already exists\"\n",
      "\u001b[36m(RayTrainWorker pid=98836)\u001b[0m InitSpatiaMetaData() error:\"table spatial_ref_sys already exists\"\n",
      "\u001b[36m(RayTrainWorker pid=98836)\u001b[0m InitSpatiaMetaData() error:\"table spatial_ref_sys already exists\"\n",
      "\u001b[36m(RayTrainWorker pid=98836)\u001b[0m InitSpatiaMetaData() error:\"table spatial_ref_sys already exists\"\n",
      "\u001b[36m(RayTrainWorker pid=98836)\u001b[0m InitSpatiaMetaData() error:\"table spatial_ref_sys already exists\"\n",
      "\u001b[36m(RayTrainWorker pid=98836)\u001b[0m InitSpatiaMetaData() error:\"table spatial_ref_sys already exists\"\n",
      "\u001b[36m(RayTrainWorker pid=98836)\u001b[0m InitSpatiaMetaData() error:\"table spatial_ref_sys already exists\"\n",
      "\u001b[36m(RayTrainWorker pid=98836)\u001b[0m InitSpatiaMetaData() error:\"table spatial_ref_sys already exists\"\n",
      "\u001b[36m(RayTrainWorker pid=98836)\u001b[0m InitSpatiaMetaData() error:\"table spatial_ref_sys already exists\"\n",
      "\u001b[36m(RayTrainWorker pid=98836)\u001b[0m InitSpatiaMetaData() error:\"table spatial_ref_sys already exists\"\n"
     ]
    },
    {
     "name": "stdout",
     "output_type": "stream",
     "text": [
      "\u001b[36m(RayTrainWorker pid=98836)\u001b[0m losses:\t tensor(0.0469, device='cuda:0', grad_fn=<AddBackward0>) tensor(569274., device='cuda:0') tensor(0.0286, device='cuda:0', grad_fn=<MulBackward0>) tensor(0.0182, device='cuda:0', grad_fn=<MulBackward0>)\n"
     ]
    },
    {
     "name": "stderr",
     "output_type": "stream",
     "text": [
      "1it [00:01,  1.93s/it]InitSpatiaMetaData() error:\"table spatial_ref_sys already exists\"\n"
     ]
    },
    {
     "name": "stdout",
     "output_type": "stream",
     "text": [
      "\u001b[36m(RayTrainWorker pid=98836)\u001b[0m losses:\t tensor(0.0458, device='cuda:0', grad_fn=<AddBackward0>) tensor(186164., device='cuda:0') tensor(0.0145, device='cuda:0', grad_fn=<MulBackward0>) tensor(0.0313, device='cuda:0', grad_fn=<MulBackward0>)\n"
     ]
    },
    {
     "name": "stderr",
     "output_type": "stream",
     "text": [
      "2it [00:02,  1.01s/it]InitSpatiaMetaData() error:\"table spatial_ref_sys already exists\"\n"
     ]
    },
    {
     "name": "stdout",
     "output_type": "stream",
     "text": [
      "\u001b[36m(RayTrainWorker pid=98836)\u001b[0m losses:\t tensor(0.0473, device='cuda:0', grad_fn=<AddBackward0>) tensor(54397., device='cuda:0') tensor(0.0055, device='cuda:0', grad_fn=<MulBackward0>) tensor(0.0418, device='cuda:0', grad_fn=<MulBackward0>)\n"
     ]
    },
    {
     "name": "stderr",
     "output_type": "stream",
     "text": [
      "3it [00:02,  1.41it/s]InitSpatiaMetaData() error:\"table spatial_ref_sys already exists\"\n"
     ]
    },
    {
     "name": "stdout",
     "output_type": "stream",
     "text": [
      "\u001b[36m(RayTrainWorker pid=98836)\u001b[0m losses:\t tensor(0.1943, device='cuda:0', grad_fn=<AddBackward0>) tensor(2468268., device='cuda:0') tensor(0.1817, device='cuda:0', grad_fn=<MulBackward0>) tensor(0.0126, device='cuda:0', grad_fn=<MulBackward0>)\n"
     ]
    },
    {
     "name": "stderr",
     "output_type": "stream",
     "text": [
      "4it [00:03,  1.65it/s]id=98836)\u001b[0m \n",
      "\u001b[36m(RayTrainWorker pid=98836)\u001b[0m InitSpatiaMetaData() error:\"table spatial_ref_sys already exists\"\n"
     ]
    },
    {
     "name": "stdout",
     "output_type": "stream",
     "text": [
      "\u001b[36m(RayTrainWorker pid=98836)\u001b[0m losses:\t tensor(0.2638, device='cuda:0', grad_fn=<AddBackward0>) tensor(2800899., device='cuda:0') tensor(0.2515, device='cuda:0', grad_fn=<MulBackward0>) tensor(0.0124, device='cuda:0', grad_fn=<MulBackward0>)\n"
     ]
    },
    {
     "name": "stderr",
     "output_type": "stream",
     "text": [
      "5it [00:03,  1.92it/s]InitSpatiaMetaData() error:\"table spatial_ref_sys already exists\"\n"
     ]
    },
    {
     "name": "stdout",
     "output_type": "stream",
     "text": [
      "\u001b[36m(RayTrainWorker pid=98836)\u001b[0m losses:\t tensor(0.0647, device='cuda:0', grad_fn=<AddBackward0>) tensor(1092722., device='cuda:0') tensor(0.0504, device='cuda:0', grad_fn=<MulBackward0>) \n",
      "\u001b[36m(RayTrainWorker pid=98836)\u001b[0m tensor(0.0143, device='cuda:0', grad_fn=<MulBackward0>)\n"
     ]
    },
    {
     "name": "stderr",
     "output_type": "stream",
     "text": [
      "6it [00:03,  2.12it/s]InitSpatiaMetaData() error:\"table spatial_ref_sys already exists\"\n"
     ]
    },
    {
     "name": "stdout",
     "output_type": "stream",
     "text": [
      "\u001b[36m(RayTrainWorker pid=98836)\u001b[0m losses:\t tensor(0.0623, device='cuda:0', grad_fn=<AddBackward0>) tensor(800780., device='cuda:0') tensor(0.0438, device='cuda:0', grad_fn=<MulBackward0>) tensor(0.0185, device='cuda:0', grad_fn=<MulBackward0>)\n"
     ]
    },
    {
     "name": "stderr",
     "output_type": "stream",
     "text": [
      "7it [00:04,  2.23it/s]id=98836)\u001b[0m \n",
      "\u001b[36m(RayTrainWorker pid=98836)\u001b[0m InitSpatiaMetaData() error:\"table spatial_ref_sys already exists\"\n"
     ]
    },
    {
     "name": "stdout",
     "output_type": "stream",
     "text": [
      "\u001b[36m(RayTrainWorker pid=98836)\u001b[0m losses:\t tensor(0.2189, device='cuda:0', grad_fn=<AddBackward0>) tensor(1903813., device='cuda:0') tensor(0.1955, device='cuda:0', grad_fn=<MulBackward0>) tensor(0.0234, device='cuda:0', grad_fn=<MulBackward0>)\n"
     ]
    },
    {
     "name": "stderr",
     "output_type": "stream",
     "text": [
      "8it [00:04,  2.38it/s]InitSpatiaMetaData() error:\"table spatial_ref_sys already exists\"\n"
     ]
    },
    {
     "name": "stdout",
     "output_type": "stream",
     "text": [
      "\u001b[36m(RayTrainWorker pid=98836)\u001b[0m losses:\t tensor(0.0844, device='cuda:0', grad_fn=<AddBackward0>) tensor(1006664., device='cuda:0') tensor(0.0641, device='cuda:0', grad_fn=<MulBackward0>) tensor(0.0203, device='cuda:0', grad_fn=<MulBackward0>)\n"
     ]
    },
    {
     "name": "stderr",
     "output_type": "stream",
     "text": [
      "9it [00:04,  2.48it/s]id=98836)\u001b[0m \n",
      "\u001b[36m(RayTrainWorker pid=98836)\u001b[0m InitSpatiaMetaData() error:\"table spatial_ref_sys already exists\"\n"
     ]
    },
    {
     "name": "stdout",
     "output_type": "stream",
     "text": [
      "\u001b[36m(RayTrainWorker pid=98836)\u001b[0m losses:\t tensor(0.0489, device='cuda:0', grad_fn=<AddBackward0>) tensor(329445., device='cuda:0') tensor(0.0225, device='cuda:0', grad_fn=<MulBackward0>) tensor(0.0264, device='cuda:0', grad_fn=<MulBackward0>)\n"
     ]
    },
    {
     "name": "stderr",
     "output_type": "stream",
     "text": [
      "10it [00:05,  2.58it/s]InitSpatiaMetaData() error:\"table spatial_ref_sys already exists\"\n"
     ]
    },
    {
     "name": "stdout",
     "output_type": "stream",
     "text": [
      "\u001b[36m(RayTrainWorker pid=98836)\u001b[0m losses:\t tensor(0.1819, device='cuda:0', grad_fn=<AddBackward0>) tensor(2521212., device='cuda:0') tensor(0.1707, device='cuda:0', grad_fn=<MulBackward0>) tensor(0.0112, device='cuda:0', grad_fn=<MulBackward0>)\n"
     ]
    },
    {
     "name": "stderr",
     "output_type": "stream",
     "text": [
      "11it [00:05,  2.63it/s]d=98836)\u001b[0m \n",
      "\u001b[36m(RayTrainWorker pid=98836)\u001b[0m InitSpatiaMetaData() error:\"table spatial_ref_sys already exists\"\n"
     ]
    },
    {
     "name": "stdout",
     "output_type": "stream",
     "text": [
      "\u001b[36m(RayTrainWorker pid=98836)\u001b[0m losses:\t tensor(0.0604, device='cuda:0', grad_fn=<AddBackward0>) tensor(812691., device='cuda:0') tensor(0.0427, device='cuda:0', grad_fn=<MulBackward0>) tensor(0.0178, device='cuda:0', grad_fn=<MulBackward0>)\n"
     ]
    },
    {
     "name": "stderr",
     "output_type": "stream",
     "text": [
      "12it [00:06,  2.67it/s]InitSpatiaMetaData() error:\"table spatial_ref_sys already exists\"\n"
     ]
    },
    {
     "name": "stdout",
     "output_type": "stream",
     "text": [
      "\u001b[36m(RayTrainWorker pid=98836)\u001b[0m losses:\t tensor(0.0811, device='cuda:0', grad_fn=<AddBackward0>) tensor(485881., device='cuda:0') tensor(0.0460, device='cuda:0', grad_fn=<MulBackward0>) tensor(0.0351, device='cuda:0', grad_fn=<MulBackward0>)\n"
     ]
    },
    {
     "name": "stderr",
     "output_type": "stream",
     "text": [
      "13it [00:06,  2.69it/s]d=98836)\u001b[0m \n",
      "\u001b[36m(RayTrainWorker pid=98836)\u001b[0m InitSpatiaMetaData() error:\"table spatial_ref_sys already exists\"\n"
     ]
    },
    {
     "name": "stdout",
     "output_type": "stream",
     "text": [
      "\u001b[36m(RayTrainWorker pid=98836)\u001b[0m losses:\t tensor(0.0447, device='cuda:0', grad_fn=<AddBackward0>) tensor(5764., device='cuda:0') tensor(0.0006, device='cuda:0', grad_fn=<MulBackward0>) tensor(0.0441, device='cuda:0', grad_fn=<MulBackward0>)\n"
     ]
    },
    {
     "name": "stderr",
     "output_type": "stream",
     "text": [
      "14it [00:06,  2.70it/s]InitSpatiaMetaData() error:\"table spatial_ref_sys already exists\"\n"
     ]
    },
    {
     "name": "stdout",
     "output_type": "stream",
     "text": [
      "\u001b[36m(RayTrainWorker pid=98836)\u001b[0m losses:\t tensor(0.2182, device='cuda:0', grad_fn=<AddBackward0>) tensor(2078399., device='cuda:0') tensor(0.1982, device='cuda:0', grad_fn=<MulBackward0>) tensor(0.0201, device='cuda:0', grad_fn=<MulBackward0>)\n"
     ]
    },
    {
     "name": "stderr",
     "output_type": "stream",
     "text": [
      "15it [00:07,  2.58it/s]InitSpatiaMetaData() error:\"table spatial_ref_sys already exists\"\n"
     ]
    },
    {
     "name": "stdout",
     "output_type": "stream",
     "text": [
      "\u001b[36m(RayTrainWorker pid=98836)\u001b[0m losses:\t tensor(0.0670, device='cuda:0', grad_fn=<AddBackward0>) tensor(1438305., device='cuda:0') tensor(0.0562, device='cuda:0', grad_fn=<MulBackward0>) tensor(0.0108, device='cuda:0', grad_fn=<MulBackward0>)\n"
     ]
    },
    {
     "name": "stderr",
     "output_type": "stream",
     "text": [
      "16it [00:07,  2.67it/s]d=98836)\u001b[0m \n",
      "\u001b[36m(RayTrainWorker pid=98836)\u001b[0m InitSpatiaMetaData() error:\"table spatial_ref_sys already exists\"\n"
     ]
    },
    {
     "name": "stdout",
     "output_type": "stream",
     "text": [
      "\u001b[36m(RayTrainWorker pid=98836)\u001b[0m losses:\t tensor(0.0674, device='cuda:0', grad_fn=<AddBackward0>) \n",
      "\u001b[36m(RayTrainWorker pid=98836)\u001b[0m tensor(924474., device='cuda:0') tensor(0.0498, device='cuda:0', grad_fn=<MulBackward0>) tensor(0.0176, device='cuda:0', grad_fn=<MulBackward0>)\n"
     ]
    },
    {
     "name": "stderr",
     "output_type": "stream",
     "text": [
      "17it [00:07,  2.75it/s]d=98836)\u001b[0m \n",
      "\u001b[36m(RayTrainWorker pid=98836)\u001b[0m InitSpatiaMetaData() error:\"table spatial_ref_sys already exists\"\n"
     ]
    },
    {
     "name": "stdout",
     "output_type": "stream",
     "text": [
      "\u001b[36m(RayTrainWorker pid=98836)\u001b[0m losses:\t tensor(0.1621, device='cuda:0', grad_fn=<AddBackward0>) tensor(2425584., device='cuda:0') tensor(0.1511, device='cuda:0', grad_fn=<MulBackward0>) tensor(0.0109, device='cuda:0', grad_fn=<MulBackward0>)\n"
     ]
    },
    {
     "name": "stderr",
     "output_type": "stream",
     "text": [
      "18it [00:08,  2.74it/s]InitSpatiaMetaData() error:\"table spatial_ref_sys already exists\"\n"
     ]
    },
    {
     "name": "stdout",
     "output_type": "stream",
     "text": [
      "\u001b[36m(RayTrainWorker pid=98836)\u001b[0m losses:\t tensor(0.0794, device='cuda:0', grad_fn=<AddBackward0>) tensor(1175600., device='cuda:0') tensor(0.0632, device='cuda:0', grad_fn=<MulBackward0>) tensor(0.0162, device='cuda:0', grad_fn=<MulBackward0>)\n"
     ]
    },
    {
     "name": "stderr",
     "output_type": "stream",
     "text": [
      "19it [00:08,  2.68it/s]InitSpatiaMetaData() error:\"table spatial_ref_sys already exists\"\n"
     ]
    },
    {
     "name": "stdout",
     "output_type": "stream",
     "text": [
      "\u001b[36m(RayTrainWorker pid=98836)\u001b[0m losses:\t tensor(0.0591, device='cuda:0', grad_fn=<AddBackward0>) tensor(653804., device='cuda:0') tensor(0.0383, device='cuda:0', grad_fn=<MulBackward0>) tensor(0.0207, device='cuda:0', grad_fn=<MulBackward0>)\n"
     ]
    },
    {
     "name": "stderr",
     "output_type": "stream",
     "text": [
      "20it [00:09,  2.72it/s]InitSpatiaMetaData() error:\"table spatial_ref_sys already exists\"\n"
     ]
    },
    {
     "name": "stdout",
     "output_type": "stream",
     "text": [
      "\u001b[36m(RayTrainWorker pid=98836)\u001b[0m losses:\t tensor(0.1761, device='cuda:0', grad_fn=<AddBackward0>) tensor(2321396., device='cuda:0') tensor(0.1630, device='cuda:0', grad_fn=<MulBackward0>) tensor(0.0131, device='cuda:0', grad_fn=<MulBackward0>)\n"
     ]
    },
    {
     "name": "stderr",
     "output_type": "stream",
     "text": [
      "21it [00:09,  2.74it/s]InitSpatiaMetaData() error:\"table spatial_ref_sys already exists\"\n"
     ]
    },
    {
     "name": "stdout",
     "output_type": "stream",
     "text": [
      "\u001b[36m(RayTrainWorker pid=98836)\u001b[0m losses:\t tensor(0.2415, device='cuda:0', grad_fn=<AddBackward0>) tensor(3163947., device='cuda:0') tensor(0.2340, device='cuda:0', grad_fn=<MulBackward0>) tensor(0.0075, device='cuda:0', grad_fn=<MulBackward0>)\n"
     ]
    },
    {
     "name": "stderr",
     "output_type": "stream",
     "text": [
      "22it [00:09,  2.75it/s]d=98836)\u001b[0m \n",
      "\u001b[36m(RayTrainWorker pid=98836)\u001b[0m InitSpatiaMetaData() error:\"table spatial_ref_sys already exists\"\n"
     ]
    },
    {
     "name": "stdout",
     "output_type": "stream",
     "text": [
      "\u001b[36m(RayTrainWorker pid=98836)\u001b[0m losses:\t tensor(0.1629, device='cuda:0', grad_fn=<AddBackward0>) tensor(1045262., device='cuda:0') tensor(0.1253, device='cuda:0', grad_fn=<MulBackward0>) tensor(0.0377, device='cuda:0', grad_fn=<MulBackward0>)\n"
     ]
    },
    {
     "name": "stderr",
     "output_type": "stream",
     "text": [
      "23it [00:10,  2.77it/s]InitSpatiaMetaData() error:\"table spatial_ref_sys already exists\"\n"
     ]
    },
    {
     "name": "stdout",
     "output_type": "stream",
     "text": [
      "\u001b[36m(RayTrainWorker pid=98836)\u001b[0m losses:\t tensor(0.3332, device='cuda:0', grad_fn=<AddBackward0>) tensor(2893726., device='cuda:0') tensor(0.3190, device='cuda:0', grad_fn=<MulBackward0>) tensor(0.0142, device='cuda:0', grad_fn=<MulBackward0>)\n"
     ]
    },
    {
     "name": "stderr",
     "output_type": "stream",
     "text": [
      "24it [00:10,  2.75it/s]d=98836)\u001b[0m \n",
      "\u001b[36m(RayTrainWorker pid=98836)\u001b[0m InitSpatiaMetaData() error:\"table spatial_ref_sys already exists\"\n"
     ]
    },
    {
     "name": "stdout",
     "output_type": "stream",
     "text": [
      "\u001b[36m(RayTrainWorker pid=98836)\u001b[0m losses:\t tensor(0.0919, device='cuda:0', grad_fn=<AddBackward0>) tensor(511576., device='cuda:0') tensor(0.0534, device='cuda:0', grad_fn=<MulBackward0>) tensor(0.0384, device='cuda:0', grad_fn=<MulBackward0>)\n"
     ]
    },
    {
     "name": "stderr",
     "output_type": "stream",
     "text": [
      "25it [00:10,  2.65it/s]InitSpatiaMetaData() error:\"table spatial_ref_sys already exists\"\n"
     ]
    },
    {
     "name": "stdout",
     "output_type": "stream",
     "text": [
      "\u001b[36m(RayTrainWorker pid=98836)\u001b[0m losses:\t tensor(0.0557, device='cuda:0', grad_fn=<AddBackward0>) tensor(711267., device='cuda:0') tensor(0.0374, device='cuda:0', grad_fn=<MulBackward0>) tensor(0.0183, device='cuda:0', grad_fn=<MulBackward0>)\n"
     ]
    },
    {
     "name": "stderr",
     "output_type": "stream",
     "text": [
      "26it [00:11,  2.66it/s]InitSpatiaMetaData() error:\"table spatial_ref_sys already exists\"\n"
     ]
    },
    {
     "name": "stdout",
     "output_type": "stream",
     "text": [
      "\u001b[36m(RayTrainWorker pid=98836)\u001b[0m losses:\t tensor(0.0927, device='cuda:0', grad_fn=<AddBackward0>) tensor(1330316., device='cuda:0') tensor(0.0763, device='cuda:0', grad_fn=<MulBackward0>) tensor(0.0164, device='cuda:0', grad_fn=<MulBackward0>)\n"
     ]
    },
    {
     "name": "stderr",
     "output_type": "stream",
     "text": [
      "27it [00:11,  2.70it/s]InitSpatiaMetaData() error:\"table spatial_ref_sys already exists\"\n"
     ]
    },
    {
     "name": "stdout",
     "output_type": "stream",
     "text": [
      "\u001b[36m(RayTrainWorker pid=98836)\u001b[0m losses:\t tensor(0.1339, device='cuda:0', grad_fn=<AddBackward0>) tensor(1557394., device='cuda:0') tensor(0.1146, device='cuda:0', grad_fn=<MulBackward0>) tensor(0.0194, device='cuda:0', grad_fn=<MulBackward0>)\n"
     ]
    },
    {
     "name": "stderr",
     "output_type": "stream",
     "text": [
      "28it [00:11,  2.72it/s]InitSpatiaMetaData() error:\"table spatial_ref_sys already exists\"\n"
     ]
    },
    {
     "name": "stdout",
     "output_type": "stream",
     "text": [
      "\u001b[36m(RayTrainWorker pid=98836)\u001b[0m losses:\t tensor(0.0992, device='cuda:0', grad_fn=<AddBackward0>) tensor(1679826., device='cuda:0') tensor(0.0863, device='cuda:0', grad_fn=<MulBackward0>) tensor(0.0129, device='cuda:0', grad_fn=<MulBackward0>)\n"
     ]
    },
    {
     "name": "stderr",
     "output_type": "stream",
     "text": [
      "29it [00:12,  2.72it/s]InitSpatiaMetaData() error:\"table spatial_ref_sys already exists\"\n"
     ]
    },
    {
     "name": "stdout",
     "output_type": "stream",
     "text": [
      "\u001b[36m(RayTrainWorker pid=98836)\u001b[0m losses:\t \n",
      "\u001b[36m(RayTrainWorker pid=98836)\u001b[0m tensor(0.2132, device='cuda:0', grad_fn=<AddBackward0>)\n",
      "\u001b[36m(RayTrainWorker pid=98836)\u001b[0m  tensor(2202004., device='cuda:0') \n",
      "\u001b[36m(RayTrainWorker pid=98836)\u001b[0m tensor(0.1956, device='cuda:0', grad_fn=<MulBackward0>) \n",
      "\u001b[36m(RayTrainWorker pid=98836)\u001b[0m tensor(0.0176, device='cuda:0', grad_fn=<MulBackward0>)\n"
     ]
    },
    {
     "name": "stderr",
     "output_type": "stream",
     "text": [
      "30it [00:12,  2.77it/s]d=98836)\u001b[0m \n",
      "\u001b[36m(RayTrainWorker pid=98836)\u001b[0m InitSpatiaMetaData() error:\"table spatial_ref_sys already exists\"\n"
     ]
    },
    {
     "name": "stdout",
     "output_type": "stream",
     "text": [
      "\u001b[36m(RayTrainWorker pid=98836)\u001b[0m losses:\t tensor(0.0598, device='cuda:0', grad_fn=<AddBackward0>) tensor(123246., device='cuda:0') tensor(0.0139, device='cuda:0', grad_fn=<MulBackward0>) tensor(0.0459, device='cuda:0', grad_fn=<MulBackward0>)\n"
     ]
    },
    {
     "name": "stderr",
     "output_type": "stream",
     "text": [
      "31it [00:13,  2.76it/s]InitSpatiaMetaData() error:\"table spatial_ref_sys already exists\"\n"
     ]
    },
    {
     "name": "stdout",
     "output_type": "stream",
     "text": [
      "\u001b[36m(RayTrainWorker pid=98836)\u001b[0m losses:\t tensor(0.3318, device='cuda:0', grad_fn=<AddBackward0>) tensor(3229427., device='cuda:0') tensor(0.3223, device='cuda:0', grad_fn=<MulBackward0>) \n",
      "\u001b[36m(RayTrainWorker pid=98836)\u001b[0m tensor(0.0095, device='cuda:0', grad_fn=<MulBackward0>)\n"
     ]
    },
    {
     "name": "stderr",
     "output_type": "stream",
     "text": [
      "32it [00:13,  2.78it/s]d=98836)\u001b[0m \n",
      "\u001b[36m(RayTrainWorker pid=98836)\u001b[0m InitSpatiaMetaData() error:\"table spatial_ref_sys already exists\"\n"
     ]
    },
    {
     "name": "stdout",
     "output_type": "stream",
     "text": [
      "\u001b[36m(RayTrainWorker pid=98836)\u001b[0m losses:\t tensor(0.1708, device='cuda:0', grad_fn=<AddBackward0>) tensor(2804032., device='cuda:0') tensor(0.1628, device='cuda:0', grad_fn=<MulBackward0>) tensor(0.0080, device='cuda:0', grad_fn=<MulBackward0>)\n"
     ]
    },
    {
     "name": "stderr",
     "output_type": "stream",
     "text": [
      "33it [00:13,  2.83it/s]InitSpatiaMetaData() error:\"table spatial_ref_sys already exists\"\n"
     ]
    },
    {
     "name": "stdout",
     "output_type": "stream",
     "text": [
      "\u001b[36m(RayTrainWorker pid=98836)\u001b[0m losses:\t tensor(0.0468, device='cuda:0', grad_fn=<AddBackward0>) tensor(345606., device='cuda:0') tensor(0.0222, device='cuda:0', grad_fn=<MulBackward0>) \n",
      "\u001b[36m(RayTrainWorker pid=98836)\u001b[0m tensor(0.0247, device='cuda:0', grad_fn=<MulBackward0>)\n"
     ]
    },
    {
     "name": "stderr",
     "output_type": "stream",
     "text": [
      "34it [00:14,  2.75it/s]d=98836)\u001b[0m \n",
      "\u001b[36m(RayTrainWorker pid=98836)\u001b[0m InitSpatiaMetaData() error:\"table spatial_ref_sys already exists\"\n"
     ]
    },
    {
     "name": "stdout",
     "output_type": "stream",
     "text": [
      "\u001b[36m(RayTrainWorker pid=98836)\u001b[0m losses:\t tensor(0.0421, device='cuda:0', grad_fn=<AddBackward0>) tensor(0., device='cuda:0') tensor(0., device='cuda:0', grad_fn=<MulBackward0>) tensor(0.0421, device='cuda:0', grad_fn=<MulBackward0>)\n"
     ]
    },
    {
     "name": "stderr",
     "output_type": "stream",
     "text": [
      "35it [00:14,  2.68it/s]InitSpatiaMetaData() error:\"table spatial_ref_sys already exists\"\n"
     ]
    },
    {
     "name": "stdout",
     "output_type": "stream",
     "text": [
      "\u001b[36m(RayTrainWorker pid=98836)\u001b[0m losses:\t tensor(0.0438, device='cuda:0', grad_fn=<AddBackward0>) tensor(58452., device='cuda:0') tensor(0.0054, device='cuda:0', grad_fn=<MulBackward0>) tensor(0.0383, device='cuda:0', grad_fn=<MulBackward0>)\n"
     ]
    },
    {
     "name": "stderr",
     "output_type": "stream",
     "text": [
      "36it [00:14,  2.71it/s]InitSpatiaMetaData() error:\"table spatial_ref_sys already exists\"\n"
     ]
    },
    {
     "name": "stdout",
     "output_type": "stream",
     "text": [
      "\u001b[36m(RayTrainWorker pid=98836)\u001b[0m losses:\t tensor(0.0459, device='cuda:0', grad_fn=<AddBackward0>) tensor(83860., device='cuda:0') tensor(0.0078, device='cuda:0', grad_fn=<MulBackward0>) tensor(0.0381, device='cuda:0', grad_fn=<MulBackward0>)\n"
     ]
    },
    {
     "name": "stderr",
     "output_type": "stream",
     "text": [
      "37it [00:15,  2.71it/s]d=98836)\u001b[0m \n",
      "\u001b[36m(RayTrainWorker pid=98836)\u001b[0m InitSpatiaMetaData() error:\"table spatial_ref_sys already exists\"\n"
     ]
    },
    {
     "name": "stdout",
     "output_type": "stream",
     "text": [
      "\u001b[36m(RayTrainWorker pid=98836)\u001b[0m losses:\t tensor(0.0557, device='cuda:0', grad_fn=<AddBackward0>) tensor(882492., device='cuda:0') tensor(0.0405, device='cuda:0', grad_fn=<MulBackward0>) tensor(0.0152, device='cuda:0', grad_fn=<MulBackward0>)\n"
     ]
    },
    {
     "name": "stderr",
     "output_type": "stream",
     "text": [
      "38it [00:15,  2.71it/s]InitSpatiaMetaData() error:\"table spatial_ref_sys already exists\"\n"
     ]
    },
    {
     "name": "stdout",
     "output_type": "stream",
     "text": [
      "\u001b[36m(RayTrainWorker pid=98836)\u001b[0m losses:\t tensor(0.0535, device='cuda:0', grad_fn=<AddBackward0>) tensor(507624., device='cuda:0') tensor(0.0310, device='cuda:0', grad_fn=<MulBackward0>) tensor(0.0225, device='cuda:0', grad_fn=<MulBackward0>)\n"
     ]
    },
    {
     "name": "stderr",
     "output_type": "stream",
     "text": [
      "39it [00:15,  2.71it/s]d=98836)\u001b[0m \n",
      "\u001b[36m(RayTrainWorker pid=98836)\u001b[0m InitSpatiaMetaData() error:\"table spatial_ref_sys already exists\"\n"
     ]
    },
    {
     "name": "stdout",
     "output_type": "stream",
     "text": [
      "\u001b[36m(RayTrainWorker pid=98836)\u001b[0m losses:\t tensor(0.2387, device='cuda:0', grad_fn=<AddBackward0>) tensor(2610282., device='cuda:0') tensor(0.2252, device='cuda:0', grad_fn=<MulBackward0>) tensor(0.0136, device='cuda:0', grad_fn=<MulBackward0>)\n"
     ]
    },
    {
     "name": "stderr",
     "output_type": "stream",
     "text": [
      "40it [00:16,  2.71it/s]InitSpatiaMetaData() error:\"table spatial_ref_sys already exists\"\n"
     ]
    },
    {
     "name": "stdout",
     "output_type": "stream",
     "text": [
      "\u001b[36m(RayTrainWorker pid=98836)\u001b[0m losses:\t tensor(0.0571, device='cuda:0', grad_fn=<AddBackward0>) tensor(818137., device='cuda:0') \n",
      "\u001b[36m(RayTrainWorker pid=98836)\u001b[0m tensor(0.0405, device='cuda:0', grad_fn=<MulBackward0>) \n",
      "\u001b[36m(RayTrainWorker pid=98836)\u001b[0m tensor(0.0167, device='cuda:0', grad_fn=<MulBackward0>)\n"
     ]
    },
    {
     "name": "stderr",
     "output_type": "stream",
     "text": [
      "41it [00:16,  2.70it/s]d=98836)\u001b[0m \n",
      "\u001b[36m(RayTrainWorker pid=98836)\u001b[0m InitSpatiaMetaData() error:\"table spatial_ref_sys already exists\"\n"
     ]
    },
    {
     "name": "stdout",
     "output_type": "stream",
     "text": [
      "\u001b[36m(RayTrainWorker pid=98836)\u001b[0m losses:\t tensor(0.2762, device='cuda:0', grad_fn=<AddBackward0>) tensor(2813482., device='cuda:0') tensor(0.2634, device='cuda:0', grad_fn=<MulBackward0>) tensor(0.0128, device='cuda:0', grad_fn=<MulBackward0>)\n"
     ]
    },
    {
     "name": "stderr",
     "output_type": "stream",
     "text": [
      "42it [00:17,  2.75it/s]InitSpatiaMetaData() error:\"table spatial_ref_sys already exists\"\n"
     ]
    },
    {
     "name": "stdout",
     "output_type": "stream",
     "text": [
      "\u001b[36m(RayTrainWorker pid=98836)\u001b[0m losses:\t tensor(0.1735, device='cuda:0', grad_fn=<AddBackward0>) tensor(2530180., device='cuda:0') tensor(0.1629, device='cuda:0', grad_fn=<MulBackward0>) tensor(0.0106, device='cuda:0', grad_fn=<MulBackward0>)\n"
     ]
    },
    {
     "name": "stderr",
     "output_type": "stream",
     "text": [
      "43it [00:17,  2.77it/s]d=98836)\u001b[0m \n",
      "\u001b[36m(RayTrainWorker pid=98836)\u001b[0m InitSpatiaMetaData() error:\"table spatial_ref_sys already exists\"\n"
     ]
    },
    {
     "name": "stdout",
     "output_type": "stream",
     "text": [
      "\u001b[36m(RayTrainWorker pid=98836)\u001b[0m losses:\t tensor(0.2203, device='cuda:0', grad_fn=<AddBackward0>) tensor(1472817., device='cuda:0') tensor(0.1860, device='cuda:0', grad_fn=<MulBackward0>) tensor(0.0343, device='cuda:0', grad_fn=<MulBackward0>)\n"
     ]
    },
    {
     "name": "stderr",
     "output_type": "stream",
     "text": [
      "44it [00:17,  2.68it/s]InitSpatiaMetaData() error:\"table spatial_ref_sys already exists\"\n"
     ]
    },
    {
     "name": "stdout",
     "output_type": "stream",
     "text": [
      "\u001b[36m(RayTrainWorker pid=98836)\u001b[0m losses:\t tensor(0.2760, device='cuda:0', grad_fn=<AddBackward0>) tensor(2439778., device='cuda:0') tensor(0.2576, device='cuda:0', grad_fn=<MulBackward0>) tensor(0.0184, device='cuda:0', grad_fn=<MulBackward0>)\n"
     ]
    },
    {
     "name": "stderr",
     "output_type": "stream",
     "text": [
      "45it [00:18,  2.67it/s]d=98836)\u001b[0m \n",
      "\u001b[36m(RayTrainWorker pid=98836)\u001b[0m InitSpatiaMetaData() error:\"table spatial_ref_sys already exists\"\n"
     ]
    },
    {
     "name": "stdout",
     "output_type": "stream",
     "text": [
      "\u001b[36m(RayTrainWorker pid=98836)\u001b[0m losses:\t tensor(0.0603, device='cuda:0', grad_fn=<AddBackward0>) tensor(343071., device='cuda:0') tensor(0.0284, device='cuda:0', grad_fn=<MulBackward0>) tensor(0.0319, device='cuda:0', grad_fn=<MulBackward0>)\n"
     ]
    },
    {
     "name": "stderr",
     "output_type": "stream",
     "text": [
      "46it [00:19,  1.87it/s]d=98836)\u001b[0m \n",
      "\u001b[36m(RayTrainWorker pid=98836)\u001b[0m InitSpatiaMetaData() error:\"table spatial_ref_sys already exists\"\n"
     ]
    },
    {
     "name": "stdout",
     "output_type": "stream",
     "text": [
      "\u001b[36m(RayTrainWorker pid=98836)\u001b[0m losses:\t tensor(0.3772, device='cuda:0', grad_fn=<AddBackward0>) tensor(2780379., device='cuda:0') tensor(0.3591, device='cuda:0', grad_fn=<MulBackward0>) tensor(0.0181, device='cuda:0', grad_fn=<MulBackward0>)\n"
     ]
    },
    {
     "name": "stderr",
     "output_type": "stream",
     "text": [
      "47it [00:19,  2.08it/s]InitSpatiaMetaData() error:\"table spatial_ref_sys already exists\"\n"
     ]
    },
    {
     "name": "stdout",
     "output_type": "stream",
     "text": [
      "\u001b[36m(RayTrainWorker pid=98836)\u001b[0m losses:\t tensor(0.1226, device='cuda:0', grad_fn=<AddBackward0>) tensor(1465796., device='cuda:0') tensor(0.1034, device='cuda:0', grad_fn=<MulBackward0>) tensor(0.0192, device='cuda:0', grad_fn=<MulBackward0>)\n"
     ]
    },
    {
     "name": "stderr",
     "output_type": "stream",
     "text": [
      "48it [00:19,  2.25it/s]d=98836)\u001b[0m \n",
      "\u001b[36m(RayTrainWorker pid=98836)\u001b[0m InitSpatiaMetaData() error:\"table spatial_ref_sys already exists\"\n"
     ]
    },
    {
     "name": "stdout",
     "output_type": "stream",
     "text": [
      "\u001b[36m(RayTrainWorker pid=98836)\u001b[0m losses:\t tensor(0.2268, device='cuda:0', grad_fn=<AddBackward0>) tensor(2794915., device='cuda:0') tensor(0.2161, device='cuda:0', grad_fn=<MulBackward0>) tensor(0.0107, device='cuda:0', grad_fn=<MulBackward0>)\n"
     ]
    },
    {
     "name": "stderr",
     "output_type": "stream",
     "text": [
      "49it [00:20,  2.36it/s]InitSpatiaMetaData() error:\"table spatial_ref_sys already exists\"\n"
     ]
    },
    {
     "name": "stdout",
     "output_type": "stream",
     "text": [
      "\u001b[36m(RayTrainWorker pid=98836)\u001b[0m losses:\t tensor(0.0396, device='cuda:0', grad_fn=<AddBackward0>) tensor(172622., device='cuda:0') tensor(0.0119, device='cuda:0', grad_fn=<MulBackward0>) tensor(0.0277, device='cuda:0', grad_fn=<MulBackward0>)\n"
     ]
    },
    {
     "name": "stderr",
     "output_type": "stream",
     "text": [
      "50it [00:20,  2.43it/s]InitSpatiaMetaData() error:\"table spatial_ref_sys already exists\"\n"
     ]
    },
    {
     "name": "stdout",
     "output_type": "stream",
     "text": [
      "\u001b[36m(RayTrainWorker pid=98836)\u001b[0m losses:\t tensor(0.5101, device='cuda:0', grad_fn=<AddBackward0>) tensor(3403647., device='cuda:0') tensor(0.4987, device='cuda:0', grad_fn=<MulBackward0>) tensor(0.0114, device='cuda:0', grad_fn=<MulBackward0>)\n"
     ]
    },
    {
     "name": "stderr",
     "output_type": "stream",
     "text": [
      "51it [00:20,  2.53it/s]d=98836)\u001b[0m \n",
      "\u001b[36m(RayTrainWorker pid=98836)\u001b[0m InitSpatiaMetaData() error:\"table spatial_ref_sys already exists\"\n"
     ]
    },
    {
     "name": "stdout",
     "output_type": "stream",
     "text": [
      "\u001b[36m(RayTrainWorker pid=98836)\u001b[0m losses:\t tensor(0.2477, device='cuda:0', grad_fn=<AddBackward0>) tensor(2716598., device='cuda:0') tensor(0.2350, device='cuda:0', grad_fn=<MulBackward0>) tensor(0.0127, device='cuda:0', grad_fn=<MulBackward0>)\n"
     ]
    },
    {
     "name": "stderr",
     "output_type": "stream",
     "text": [
      "52it [00:21,  1.94it/s]InitSpatiaMetaData() error:\"table spatial_ref_sys already exists\"\n"
     ]
    },
    {
     "name": "stdout",
     "output_type": "stream",
     "text": [
      "\u001b[36m(RayTrainWorker pid=98836)\u001b[0m losses:\t tensor(0.2542, device='cuda:0', grad_fn=<AddBackward0>) tensor(3062195., device='cuda:0') tensor(0.2453, device='cuda:0', grad_fn=<MulBackward0>) tensor(0.0090, device='cuda:0', grad_fn=<MulBackward0>)\n"
     ]
    },
    {
     "name": "stderr",
     "output_type": "stream",
     "text": [
      "53it [00:22,  2.16it/s]InitSpatiaMetaData() error:\"table spatial_ref_sys already exists\"\n"
     ]
    },
    {
     "name": "stdout",
     "output_type": "stream",
     "text": [
      "\u001b[36m(RayTrainWorker pid=98836)\u001b[0m losses:\t tensor(0.0476, device='cuda:0', grad_fn=<AddBackward0>) tensor(429633., device='cuda:0') tensor(0.0253, device='cuda:0', grad_fn=<MulBackward0>) tensor(0.0222, device='cuda:0', grad_fn=<MulBackward0>)\n"
     ]
    },
    {
     "name": "stderr",
     "output_type": "stream",
     "text": [
      "54it [00:22,  2.34it/s]d=98836)\u001b[0m \n",
      "\u001b[36m(RayTrainWorker pid=98836)\u001b[0m InitSpatiaMetaData() error:\"table spatial_ref_sys already exists\"\n"
     ]
    },
    {
     "name": "stdout",
     "output_type": "stream",
     "text": [
      "\u001b[36m(RayTrainWorker pid=98836)\u001b[0m losses:\t tensor(0.0532, device='cuda:0', grad_fn=<AddBackward0>) tensor(120155., device='cuda:0') tensor(0.0121, device='cuda:0', grad_fn=<MulBackward0>) tensor(0.0411, device='cuda:0', grad_fn=<MulBackward0>)\n"
     ]
    },
    {
     "name": "stderr",
     "output_type": "stream",
     "text": [
      "55it [00:22,  2.44it/s]d=98836)\u001b[0m \n",
      "\u001b[36m(RayTrainWorker pid=98836)\u001b[0m InitSpatiaMetaData() error:\"table spatial_ref_sys already exists\"\n"
     ]
    },
    {
     "name": "stdout",
     "output_type": "stream",
     "text": [
      "\u001b[36m(RayTrainWorker pid=98836)\u001b[0m losses:\t tensor(0.2233, device='cuda:0', grad_fn=<AddBackward0>) tensor(1603791., device='cuda:0') tensor(0.1923, device='cuda:0', grad_fn=<MulBackward0>) tensor(0.0310, device='cuda:0', grad_fn=<MulBackward0>)\n"
     ]
    },
    {
     "name": "stderr",
     "output_type": "stream",
     "text": [
      "56it [00:23,  2.18it/s]d=98836)\u001b[0m \n",
      "\u001b[36m(RayTrainWorker pid=98836)\u001b[0m InitSpatiaMetaData() error:\"table spatial_ref_sys already exists\"\n"
     ]
    },
    {
     "name": "stdout",
     "output_type": "stream",
     "text": [
      "\u001b[36m(RayTrainWorker pid=98836)\u001b[0m losses:\t tensor(0.1293, device='cuda:0', grad_fn=<AddBackward0>) tensor(1508768., device='cuda:0') tensor(0.1098, device='cuda:0', grad_fn=<MulBackward0>) tensor(0.0195, device='cuda:0', grad_fn=<MulBackward0>)\n"
     ]
    },
    {
     "name": "stderr",
     "output_type": "stream",
     "text": [
      "57it [00:23,  2.32it/s]InitSpatiaMetaData() error:\"table spatial_ref_sys already exists\"\n"
     ]
    },
    {
     "name": "stdout",
     "output_type": "stream",
     "text": [
      "\u001b[36m(RayTrainWorker pid=98836)\u001b[0m losses:\t tensor(0.2215, device='cuda:0', grad_fn=<AddBackward0>) tensor(3084133., device='cuda:0') tensor(0.2139, device='cuda:0', grad_fn=<MulBackward0>) tensor(0.0076, device='cuda:0', grad_fn=<MulBackward0>)\n"
     ]
    },
    {
     "name": "stderr",
     "output_type": "stream",
     "text": [
      "58it [00:24,  2.41it/s]InitSpatiaMetaData() error:\"table spatial_ref_sys already exists\"\n"
     ]
    },
    {
     "name": "stdout",
     "output_type": "stream",
     "text": [
      "\u001b[36m(RayTrainWorker pid=98836)\u001b[0m losses:\t tensor(0.2091, device='cuda:0', grad_fn=<AddBackward0>) tensor(1545039., device='cuda:0') tensor(0.1786, device='cuda:0', grad_fn=<MulBackward0>) tensor(0.0305, device='cuda:0', grad_fn=<MulBackward0>)\n"
     ]
    },
    {
     "name": "stderr",
     "output_type": "stream",
     "text": [
      "59it [00:24,  2.46it/s]d=98836)\u001b[0m \n",
      "\u001b[36m(RayTrainWorker pid=98836)\u001b[0m InitSpatiaMetaData() error:\"table spatial_ref_sys already exists\"\n"
     ]
    },
    {
     "name": "stdout",
     "output_type": "stream",
     "text": [
      "\u001b[36m(RayTrainWorker pid=98836)\u001b[0m losses:\t tensor(0.0949, device='cuda:0', grad_fn=<AddBackward0>) tensor(1072992., device='cuda:0') tensor(0.0735, device='cuda:0', grad_fn=<MulBackward0>) tensor(0.0214, device='cuda:0', grad_fn=<MulBackward0>)\n"
     ]
    },
    {
     "name": "stderr",
     "output_type": "stream",
     "text": [
      "60it [00:24,  2.51it/s]InitSpatiaMetaData() error:\"table spatial_ref_sys already exists\"\n"
     ]
    },
    {
     "name": "stdout",
     "output_type": "stream",
     "text": [
      "\u001b[36m(RayTrainWorker pid=98836)\u001b[0m losses:\t tensor(0.1374, device='cuda:0', grad_fn=<AddBackward0>) tensor(1130928., device='cuda:0') tensor(0.1082, device='cuda:0', grad_fn=<MulBackward0>) tensor(0.0292, device='cuda:0', grad_fn=<MulBackward0>)\n"
     ]
    },
    {
     "name": "stderr",
     "output_type": "stream",
     "text": [
      "61it [00:25,  2.53it/s]InitSpatiaMetaData() error:\"table spatial_ref_sys already exists\"\n"
     ]
    },
    {
     "name": "stdout",
     "output_type": "stream",
     "text": [
      "\u001b[36m(RayTrainWorker pid=98836)\u001b[0m losses:\t tensor(0.0581, device='cuda:0', grad_fn=<AddBackward0>) tensor(667884., device='cuda:0') tensor(0.0380, device='cuda:0', grad_fn=<MulBackward0>) tensor(0.0201, device='cuda:0', grad_fn=<MulBackward0>)\n"
     ]
    },
    {
     "name": "stderr",
     "output_type": "stream",
     "text": [
      "62it [00:25,  2.56it/s]InitSpatiaMetaData() error:\"table spatial_ref_sys already exists\"\n"
     ]
    },
    {
     "name": "stdout",
     "output_type": "stream",
     "text": [
      "\u001b[36m(RayTrainWorker pid=98836)\u001b[0m losses:\t tensor(0.0401, device='cuda:0', grad_fn=<AddBackward0>) tensor(59578., device='cuda:0') tensor(0.0051, device='cuda:0', grad_fn=<MulBackward0>) tensor(0.0351, device='cuda:0', grad_fn=<MulBackward0>)\n"
     ]
    },
    {
     "name": "stderr",
     "output_type": "stream",
     "text": [
      "63it [00:25,  2.66it/s]d=98836)\u001b[0m \n",
      "\u001b[36m(RayTrainWorker pid=98836)\u001b[0m InitSpatiaMetaData() error:\"table spatial_ref_sys already exists\"\n"
     ]
    },
    {
     "name": "stdout",
     "output_type": "stream",
     "text": [
      "\u001b[36m(RayTrainWorker pid=98836)\u001b[0m losses:\t tensor(0.0711, device='cuda:0', grad_fn=<AddBackward0>) tensor(706975., device='cuda:0') \n",
      "\u001b[36m(RayTrainWorker pid=98836)\u001b[0m tensor(0.0476, device='cuda:0', grad_fn=<MulBackward0>) \n",
      "\u001b[36m(RayTrainWorker pid=98836)\u001b[0m tensor(0.0235, device='cuda:0', grad_fn=<MulBackward0>)\n"
     ]
    },
    {
     "name": "stderr",
     "output_type": "stream",
     "text": [
      "64it [00:26,  1.90it/s]d=98836)\u001b[0m \n",
      "\u001b[36m(RayTrainWorker pid=98836)\u001b[0m InitSpatiaMetaData() error:\"table spatial_ref_sys already exists\"\n"
     ]
    },
    {
     "name": "stdout",
     "output_type": "stream",
     "text": [
      "\u001b[36m(RayTrainWorker pid=98836)\u001b[0m losses:\t tensor(0.0507, device='cuda:0', grad_fn=<AddBackward0>) tensor(255108., device='cuda:0') tensor(0.0199, device='cuda:0', grad_fn=<MulBackward0>) tensor(0.0308, device='cuda:0', grad_fn=<MulBackward0>)\n"
     ]
    },
    {
     "name": "stderr",
     "output_type": "stream",
     "text": [
      "65it [00:27,  2.09it/s]InitSpatiaMetaData() error:\"table spatial_ref_sys already exists\"\n"
     ]
    },
    {
     "name": "stdout",
     "output_type": "stream",
     "text": [
      "\u001b[36m(RayTrainWorker pid=98836)\u001b[0m losses:\t tensor(0.0563, device='cuda:0', grad_fn=<AddBackward0>) tensor(593415., device='cuda:0') tensor(0.0350, device='cuda:0', grad_fn=<MulBackward0>) tensor(0.0212, device='cuda:0', grad_fn=<MulBackward0>)\n"
     ]
    },
    {
     "name": "stderr",
     "output_type": "stream",
     "text": [
      "66it [00:27,  2.30it/s]InitSpatiaMetaData() error:\"table spatial_ref_sys already exists\"\n"
     ]
    },
    {
     "name": "stdout",
     "output_type": "stream",
     "text": [
      "\u001b[36m(RayTrainWorker pid=98836)\u001b[0m losses:\t tensor(0.3305, device='cuda:0', grad_fn=<AddBackward0>) tensor(2844769., device='cuda:0') tensor(0.3157, device='cuda:0', grad_fn=<MulBackward0>) tensor(0.0149, device='cuda:0', grad_fn=<MulBackward0>)\n"
     ]
    },
    {
     "name": "stderr",
     "output_type": "stream",
     "text": [
      "67it [00:27,  2.44it/s]d=98836)\u001b[0m \n",
      "\u001b[36m(RayTrainWorker pid=98836)\u001b[0m InitSpatiaMetaData() error:\"table spatial_ref_sys already exists\"\n"
     ]
    },
    {
     "name": "stdout",
     "output_type": "stream",
     "text": [
      "\u001b[36m(RayTrainWorker pid=98836)\u001b[0m losses:\t tensor(0.3317, device='cuda:0', grad_fn=<AddBackward0>) tensor(2911810., device='cuda:0') tensor(0.3178, device='cuda:0', grad_fn=<MulBackward0>) tensor(0.0139, device='cuda:0', grad_fn=<MulBackward0>)\n"
     ]
    },
    {
     "name": "stderr",
     "output_type": "stream",
     "text": [
      "68it [00:28,  2.02it/s]d=98836)\u001b[0m \n",
      "\u001b[36m(RayTrainWorker pid=98836)\u001b[0m InitSpatiaMetaData() error:\"table spatial_ref_sys already exists\"\n"
     ]
    },
    {
     "name": "stdout",
     "output_type": "stream",
     "text": [
      "\u001b[36m(RayTrainWorker pid=98836)\u001b[0m losses:\t tensor(0.2385, device='cuda:0', grad_fn=<AddBackward0>) tensor(2408509., device='cuda:0') tensor(0.2221, device='cuda:0', grad_fn=<MulBackward0>) tensor(0.0164, device='cuda:0', grad_fn=<MulBackward0>)\n"
     ]
    },
    {
     "name": "stderr",
     "output_type": "stream",
     "text": [
      "69it [00:28,  2.24it/s]InitSpatiaMetaData() error:\"table spatial_ref_sys already exists\"\n"
     ]
    },
    {
     "name": "stdout",
     "output_type": "stream",
     "text": [
      "\u001b[36m(RayTrainWorker pid=98836)\u001b[0m losses:\t tensor(0.0426, device='cuda:0', grad_fn=<AddBackward0>) tensor(185186., device='cuda:0') tensor(0.0134, device='cuda:0', grad_fn=<MulBackward0>) tensor(0.0291, device='cuda:0', grad_fn=<MulBackward0>)\n"
     ]
    },
    {
     "name": "stderr",
     "output_type": "stream",
     "text": [
      "70it [00:29,  2.41it/s]InitSpatiaMetaData() error:\"table spatial_ref_sys already exists\"\n"
     ]
    },
    {
     "name": "stdout",
     "output_type": "stream",
     "text": [
      "\u001b[36m(RayTrainWorker pid=98836)\u001b[0m losses:\t tensor(0.0513, device='cuda:0', grad_fn=<AddBackward0>) tensor(799432., device='cuda:0') tensor(0.0360, device='cuda:0', grad_fn=<MulBackward0>) tensor(0.0153, device='cuda:0', grad_fn=<MulBackward0>)\n"
     ]
    },
    {
     "name": "stderr",
     "output_type": "stream",
     "text": [
      "71it [00:29,  2.48it/s]d=98836)\u001b[0m \n",
      "\u001b[36m(RayTrainWorker pid=98836)\u001b[0m InitSpatiaMetaData() error:\"table spatial_ref_sys already exists\"\n"
     ]
    },
    {
     "name": "stdout",
     "output_type": "stream",
     "text": [
      "\u001b[36m(RayTrainWorker pid=98836)\u001b[0m losses:\t tensor(0.0524, device='cuda:0', grad_fn=<AddBackward0>) tensor(494643., device='cuda:0') tensor(0.0300, device='cuda:0', grad_fn=<MulBackward0>) tensor(0.0224, device='cuda:0', grad_fn=<MulBackward0>)\n"
     ]
    },
    {
     "name": "stderr",
     "output_type": "stream",
     "text": [
      "72it [00:30,  2.41it/s]InitSpatiaMetaData() error:\"table spatial_ref_sys already exists\"\n"
     ]
    },
    {
     "name": "stdout",
     "output_type": "stream",
     "text": [
      "\u001b[36m(RayTrainWorker pid=98836)\u001b[0m losses:\t \n",
      "\u001b[36m(RayTrainWorker pid=98836)\u001b[0m tensor(0.1160, device='cuda:0', grad_fn=<AddBackward0>) \n",
      "\u001b[36m(RayTrainWorker pid=98836)\u001b[0m tensor(852419., device='cuda:0') \n",
      "\u001b[36m(RayTrainWorker pid=98836)\u001b[0m tensor(0.0834, device='cuda:0', grad_fn=<MulBackward0>) \n",
      "\u001b[36m(RayTrainWorker pid=98836)\u001b[0m tensor(0.0326, device='cuda:0', grad_fn=<MulBackward0>)\n"
     ]
    },
    {
     "name": "stderr",
     "output_type": "stream",
     "text": [
      "73it [00:30,  2.49it/s]d=98836)\u001b[0m \n",
      "\u001b[36m(RayTrainWorker pid=98836)\u001b[0m InitSpatiaMetaData() error:\"table spatial_ref_sys already exists\"\n"
     ]
    },
    {
     "name": "stdout",
     "output_type": "stream",
     "text": [
      "\u001b[36m(RayTrainWorker pid=98836)\u001b[0m losses:\t tensor(0.1280, device='cuda:0', grad_fn=<AddBackward0>) tensor(1382747., device='cuda:0') tensor(0.1065, device='cuda:0', grad_fn=<MulBackward0>) tensor(0.0216, device='cuda:0', grad_fn=<MulBackward0>)\n"
     ]
    },
    {
     "name": "stderr",
     "output_type": "stream",
     "text": [
      "74it [00:30,  2.50it/s]InitSpatiaMetaData() error:\"table spatial_ref_sys already exists\"\n"
     ]
    },
    {
     "name": "stdout",
     "output_type": "stream",
     "text": [
      "\u001b[36m(RayTrainWorker pid=98836)\u001b[0m losses:\t tensor(0.1736, device='cuda:0', grad_fn=<AddBackward0>) tensor(1605621., device='cuda:0') tensor(0.1496, device='cuda:0', grad_fn=<MulBackward0>) tensor(0.0240, device='cuda:0', grad_fn=<MulBackward0>)\n"
     ]
    },
    {
     "name": "stderr",
     "output_type": "stream",
     "text": [
      "75it [00:31,  2.54it/s]InitSpatiaMetaData() error:\"table spatial_ref_sys already exists\"\n"
     ]
    },
    {
     "name": "stdout",
     "output_type": "stream",
     "text": [
      "\u001b[36m(RayTrainWorker pid=98836)\u001b[0m losses:\t tensor(0.3028, device='cuda:0', grad_fn=<AddBackward0>) tensor(2697798., device='cuda:0') tensor(0.2870, device='cuda:0', grad_fn=<MulBackward0>) tensor(0.0158, device='cuda:0', grad_fn=<MulBackward0>)\n"
     ]
    },
    {
     "name": "stderr",
     "output_type": "stream",
     "text": [
      "76it [00:31,  2.50it/s]InitSpatiaMetaData() error:\"table spatial_ref_sys already exists\"\n"
     ]
    },
    {
     "name": "stdout",
     "output_type": "stream",
     "text": [
      "\u001b[36m(RayTrainWorker pid=98836)\u001b[0m losses:\t tensor(0.1947, device='cuda:0', grad_fn=<AddBackward0>) tensor(1839029., device='cuda:0') tensor(0.1727, device='cuda:0', grad_fn=<MulBackward0>) tensor(0.0220, device='cuda:0', grad_fn=<MulBackward0>)\n"
     ]
    },
    {
     "name": "stderr",
     "output_type": "stream",
     "text": [
      "77it [00:32,  2.59it/s]InitSpatiaMetaData() error:\"table spatial_ref_sys already exists\"\n"
     ]
    },
    {
     "name": "stdout",
     "output_type": "stream",
     "text": [
      "\u001b[36m(RayTrainWorker pid=98836)\u001b[0m losses:\t tensor(0.3089, device='cuda:0', grad_fn=<AddBackward0>) tensor(2927456., device='cuda:0') tensor(0.2962, device='cuda:0', grad_fn=<MulBackward0>) tensor(0.0127, device='cuda:0', grad_fn=<MulBackward0>)\n"
     ]
    },
    {
     "name": "stderr",
     "output_type": "stream",
     "text": [
      "78it [00:32,  2.63it/s]InitSpatiaMetaData() error:\"table spatial_ref_sys already exists\"\n"
     ]
    },
    {
     "name": "stdout",
     "output_type": "stream",
     "text": [
      "\u001b[36m(RayTrainWorker pid=98836)\u001b[0m losses:\t tensor(0.1159, device='cuda:0', grad_fn=<AddBackward0>) tensor(1414928., device='cuda:0') tensor(0.0969, device='cuda:0', grad_fn=<MulBackward0>) tensor(0.0190, device='cuda:0', grad_fn=<MulBackward0>)\n"
     ]
    },
    {
     "name": "stderr",
     "output_type": "stream",
     "text": [
      "79it [00:32,  2.62it/s]d=98836)\u001b[0m \n",
      "\u001b[36m(RayTrainWorker pid=98836)\u001b[0m InitSpatiaMetaData() error:\"table spatial_ref_sys already exists\"\n"
     ]
    },
    {
     "name": "stdout",
     "output_type": "stream",
     "text": [
      "\u001b[36m(RayTrainWorker pid=98836)\u001b[0m losses:\t tensor(0.3201, device='cuda:0', grad_fn=<AddBackward0>) tensor(2684602., device='cuda:0') tensor(0.3033, device='cuda:0', grad_fn=<MulBackward0>) tensor(0.0168, device='cuda:0', grad_fn=<MulBackward0>)\n"
     ]
    },
    {
     "name": "stderr",
     "output_type": "stream",
     "text": [
      "80it [00:33,  2.29it/s]InitSpatiaMetaData() error:\"table spatial_ref_sys already exists\"\n"
     ]
    },
    {
     "name": "stdout",
     "output_type": "stream",
     "text": [
      "\u001b[36m(RayTrainWorker pid=98836)\u001b[0m losses:\t tensor(0.1068, device='cuda:0', grad_fn=<AddBackward0>) tensor(1473137., device='cuda:0') \n",
      "\u001b[36m(RayTrainWorker pid=98836)\u001b[0m tensor(0.0902, device='cuda:0', grad_fn=<MulBackward0>) tensor(0.0166, device='cuda:0', grad_fn=<MulBackward0>)\n"
     ]
    },
    {
     "name": "stderr",
     "output_type": "stream",
     "text": [
      "81it [00:33,  2.41it/s]InitSpatiaMetaData() error:\"table spatial_ref_sys already exists\"\n"
     ]
    },
    {
     "name": "stdout",
     "output_type": "stream",
     "text": [
      "\u001b[36m(RayTrainWorker pid=98836)\u001b[0m losses:\t tensor(0.0578, device='cuda:0', grad_fn=<AddBackward0>) tensor(447713., device='cuda:0') tensor(0.0315, device='cuda:0', grad_fn=<MulBackward0>) tensor(0.0263, device='cuda:0', grad_fn=<MulBackward0>)\n"
     ]
    },
    {
     "name": "stderr",
     "output_type": "stream",
     "text": [
      "82it [00:34,  2.53it/s]InitSpatiaMetaData() error:\"table spatial_ref_sys already exists\"\n"
     ]
    },
    {
     "name": "stdout",
     "output_type": "stream",
     "text": [
      "\u001b[36m(RayTrainWorker pid=98836)\u001b[0m losses:\t tensor(0.0631, device='cuda:0', grad_fn=<AddBackward0>) tensor(562562., device='cuda:0') tensor(0.0384, device='cuda:0', grad_fn=<MulBackward0>) tensor(0.0247, device='cuda:0', grad_fn=<MulBackward0>)\n"
     ]
    },
    {
     "name": "stderr",
     "output_type": "stream",
     "text": [
      "83it [00:34,  2.59it/s]d=98836)\u001b[0m \n",
      "\u001b[36m(RayTrainWorker pid=98836)\u001b[0m InitSpatiaMetaData() error:\"table spatial_ref_sys already exists\"\n"
     ]
    },
    {
     "name": "stdout",
     "output_type": "stream",
     "text": [
      "\u001b[36m(RayTrainWorker pid=98836)\u001b[0m losses:\t tensor(0.2872, device='cuda:0', grad_fn=<AddBackward0>) tensor(3152587., device='cuda:0') tensor(0.2781, device='cuda:0', grad_fn=<MulBackward0>) tensor(0.0091, device='cuda:0', grad_fn=<MulBackward0>)\n"
     ]
    },
    {
     "name": "stderr",
     "output_type": "stream",
     "text": [
      "84it [00:34,  2.66it/s]InitSpatiaMetaData() error:\"table spatial_ref_sys already exists\"\n"
     ]
    },
    {
     "name": "stdout",
     "output_type": "stream",
     "text": [
      "\u001b[36m(RayTrainWorker pid=98836)\u001b[0m losses:\t tensor(0.0584, device='cuda:0', grad_fn=<AddBackward0>) tensor(695849., device='cuda:0') tensor(0.0389, device='cuda:0', grad_fn=<MulBackward0>) tensor(0.0195, device='cuda:0', grad_fn=<MulBackward0>)\n"
     ]
    },
    {
     "name": "stderr",
     "output_type": "stream",
     "text": [
      "85it [00:35,  2.69it/s]d=98836)\u001b[0m \n",
      "\u001b[36m(RayTrainWorker pid=98836)\u001b[0m InitSpatiaMetaData() error:\"table spatial_ref_sys already exists\"\n"
     ]
    },
    {
     "name": "stdout",
     "output_type": "stream",
     "text": [
      "\u001b[36m(RayTrainWorker pid=98836)\u001b[0m losses:\t tensor(0.1295, device='cuda:0', grad_fn=<AddBackward0>) tensor(1853465., device='cuda:0') tensor(0.1150, device='cuda:0', grad_fn=<MulBackward0>) tensor(0.0145, device='cuda:0', grad_fn=<MulBackward0>)\n"
     ]
    },
    {
     "name": "stderr",
     "output_type": "stream",
     "text": [
      "86it [00:35,  2.67it/s]InitSpatiaMetaData() error:\"table spatial_ref_sys already exists\"\n"
     ]
    },
    {
     "name": "stdout",
     "output_type": "stream",
     "text": [
      "\u001b[36m(RayTrainWorker pid=98836)\u001b[0m losses:\t tensor(0.2892, device='cuda:0', grad_fn=<AddBackward0>) tensor(3072684., device='cuda:0') tensor(0.2791, device='cuda:0', grad_fn=<MulBackward0>) tensor(0.0101, device='cuda:0', grad_fn=<MulBackward0>)\n"
     ]
    },
    {
     "name": "stderr",
     "output_type": "stream",
     "text": [
      "87it [00:35,  2.67it/s]InitSpatiaMetaData() error:\"table spatial_ref_sys already exists\"\n"
     ]
    },
    {
     "name": "stdout",
     "output_type": "stream",
     "text": [
      "\u001b[36m(RayTrainWorker pid=98836)\u001b[0m losses:\t tensor(0.2427, device='cuda:0', grad_fn=<AddBackward0>) tensor(2763365., device='cuda:0') tensor(0.2309, device='cuda:0', grad_fn=<MulBackward0>) tensor(0.0118, device='cuda:0', grad_fn=<MulBackward0>)\n"
     ]
    },
    {
     "name": "stderr",
     "output_type": "stream",
     "text": [
      "88it [00:36,  2.64it/s]d=98836)\u001b[0m \n",
      "\u001b[36m(RayTrainWorker pid=98836)\u001b[0m InitSpatiaMetaData() error:\"table spatial_ref_sys already exists\"\n"
     ]
    },
    {
     "name": "stdout",
     "output_type": "stream",
     "text": [
      "\u001b[36m(RayTrainWorker pid=98836)\u001b[0m losses:\t tensor(0.1220, device='cuda:0', grad_fn=<AddBackward0>) tensor(2059029., device='cuda:0') tensor(0.1106, device='cuda:0', grad_fn=<MulBackward0>) tensor(0.0114, device='cuda:0', grad_fn=<MulBackward0>)\n"
     ]
    },
    {
     "name": "stderr",
     "output_type": "stream",
     "text": [
      "89it [00:36,  2.69it/s]d=98836)\u001b[0m \n",
      "\u001b[36m(RayTrainWorker pid=98836)\u001b[0m InitSpatiaMetaData() error:\"table spatial_ref_sys already exists\"\n"
     ]
    },
    {
     "name": "stdout",
     "output_type": "stream",
     "text": [
      "\u001b[36m(RayTrainWorker pid=98836)\u001b[0m losses:\t tensor(0.0575, device='cuda:0', grad_fn=<AddBackward0>) tensor(545612., device='cuda:0') tensor(0.0345, device='cuda:0', grad_fn=<MulBackward0>) tensor(0.0230, device='cuda:0', grad_fn=<MulBackward0>)\n"
     ]
    },
    {
     "name": "stderr",
     "output_type": "stream",
     "text": [
      "90it [00:37,  2.59it/s]InitSpatiaMetaData() error:\"table spatial_ref_sys already exists\"\n"
     ]
    }
   ],
   "source": [
    "ray.init()"
   ]
  },
  {
   "cell_type": "code",
   "execution_count": 7,
   "metadata": {},
   "outputs": [
    {
     "name": "stderr",
     "output_type": "stream",
     "text": [
      "InitSpatiaMetaData() error:\"table spatial_ref_sys already exists\"\n"
     ]
    }
   ],
   "source": [
    "from quickannotator.dl.training import train_model\n",
    "\n",
    "@ray.remote\n",
    "class DLActor:\n",
    "    def __init__(self,classid,tile_size,status=-1):\n",
    "        self.classid=classid\n",
    "        self.status=status\n",
    "        self.tile_size=tile_size\n",
    "        \n",
    "    def start_dlproc(self,is_train=True,allow_pred=True, tile_size=2_048):\n",
    "        #need to check if is already training, if yes, no opt\n",
    "        print(\"starting up\")\n",
    "        \n",
    "        #scaling_config = ray.train.ScalingConfig(num_workers=2, use_gpu=True,resources_per_worker={\"GPU\":.5})\n",
    "        ## will fail on single node single gpu --- (DLActor pid=174521) Duplicate GPU detected : rank 1 and rank 0 both on CUDA device 1000\n",
    "\n",
    "        #--- NEED A GPU CONTAINER TO TEST THIS        \n",
    "        total_gpus  = ray.cluster_resources().get(\"GPU\", 0)\n",
    "        # total_gpus_available=  ray.available_resources().get(\"GPU\", 0)\n",
    "        # print(total_gpus,total_gpus_available)\n",
    "        # resource_to_request = (total_gpus_available/total_gpus)/2 * 1.01\n",
    "        # print(f\"resource_to_request: {resource_to_request}\")\n",
    "\n",
    "        scaling_config = ray.train.ScalingConfig(num_workers=int(total_gpus), use_gpu=True,\n",
    "                                                resources_per_worker={\"GPU\":.01}, placement_strategy=\"STRICT_SPREAD\")\n",
    "        \n",
    "        #----\n",
    "#        scaling_config = ray.train.ScalingConfig(num_workers=1, use_gpu=False)\n",
    "        trainer = ray.train.torch.TorchTrainer(train_model,\n",
    "                                       scaling_config=scaling_config,\n",
    "                                       train_loop_config={'is_train':is_train, \n",
    "                                                          'allow_pred':allow_pred,\n",
    "                                                         'classid':self.classid,\n",
    "                                                         'tile_size':tile_size})\n",
    "        self.status = trainer.fit().hex() ##widly -- this doesn't save the result in the actor\n",
    "        return self.status\n",
    "    \n",
    "    def infer(self,image_id,tile_ids,status=1): #only bulk should be performed, there is no difference between doing 1 versus 100 tiles, so this reduces code complexity\n",
    "        import sqlalchemy, datetime\n",
    "        from quickannotator.dl.database import create_db_engine, get_database_path, get_session_aj\n",
    "        from quickannotator.db import db, Project, Image, AnnotationClass, Notification, Tile, Setting, Annotation, SearchCache\n",
    "\n",
    "        #open question --- seems like we're getting a lot of seessions, should be a factory process somewhere which also has a pool of existing sessions for reuse\n",
    "\n",
    "\n",
    "        # probably need to *Delete* the tiles that are associated with this tileid before executing the below, so that they're not duplicated\n",
    "        # i would do that in a seperate function as \"infer\" doesn't logically mean \"delete\", so the expected behavior might be weird if it delets stuff unprompted\n",
    "        # perhaps that could be clarified with a e.g., named function paramter - or perhaps a seperate function is really needed\n",
    "        session = get_session_aj(create_db_engine(get_database_path()))\n",
    "\n",
    "                #id should be modified one we have https://github.com/choosehappy/QuickAnnotator/pull/58\n",
    "                #imageid will need to be included - end result is a multikey -(imageid, tileid, classid)\n",
    "        stmt = sqlalchemy.update(Tile).where(Tile.tile_id.in_(tile_ids), Tile.image_id == image_id,\n",
    "                                              Tile.annotation_class_id == self.classid)\\\n",
    "                                                .values(seen=status) #  ,date=datetime.datetime.now())) ## should add date time\n",
    "\n",
    "        # Execute the update\n",
    "        session.execute(stmt)\n",
    "        session.commit()\n",
    "        \n",
    "        # Close the session\n",
    "        session.close()\n",
    "\n",
    "\n",
    "        #need a similar statement to get the DL starting\n",
    "        return True\n",
    "    \n",
    "\n",
    "    def getTileStatus(self,image_id,tile_ids): #probably belongs else where but need this for debug\n",
    "        import sqlalchemy, datetime\n",
    "        from quickannotator.dl.database import create_db_engine, get_database_path, get_session_aj\n",
    "        from quickannotator.db import db, Project, Image, AnnotationClass, Notification, Tile, Setting, Annotation, SearchCache\n",
    "\n",
    "        \n",
    "        session = get_session_aj(create_db_engine(get_database_path()))\n",
    "\n",
    "        stmt = session.query(Tile).filter(Tile.tile_id.in_(tile_ids),Tile.image_id == image_id,\n",
    "                          Tile.annotation_class_id == self.classid)\n",
    "\n",
    "        # Execute the query\n",
    "        result = stmt.all()\n",
    "        \n",
    "        # Close the session\n",
    "        session.close()\n",
    "\n",
    "        return result\n",
    "\n",
    "\n",
    "    def getclassid(self):\n",
    "        return self.classid\n",
    "        \n",
    "    \n",
    "    def getstatus(self):\n",
    "        print(\"in get status!\")\n",
    "        print(f\"self.status:\\t {self.status}\")\n",
    "        return self.status\n",
    "\n",
    "    def setstatus(self,status):\n",
    "        self.status=status\n",
    "        return self.status\n",
    "\n"
   ]
  },
  {
   "cell_type": "markdown",
   "metadata": {},
   "source": [
    "this section  is some non-ray testing to see if things work as expected. to use these, remove the @ray annotator in the actor above "
   ]
  },
  {
   "cell_type": "code",
   "execution_count": 8,
   "metadata": {},
   "outputs": [
    {
     "name": "stdout",
     "output_type": "stream",
     "text": [
      "ObjectRef(16310a0f0a45af5cd257f3eec8d9483be118a3af0100000001000000)\n"
     ]
    }
   ],
   "source": [
    "class2 = DLActor.options(max_concurrency=2).remote(classid=2,tile_size=2_048)\n",
    "ref2=class2.start_dlproc.remote()\n",
    "print(ref2)"
   ]
  },
  {
   "cell_type": "code",
   "execution_count": null,
   "metadata": {},
   "outputs": [],
   "source": []
  },
  {
   "cell_type": "code",
   "execution_count": null,
   "metadata": {},
   "outputs": [],
   "source": []
  },
  {
   "cell_type": "code",
   "execution_count": 6,
   "metadata": {},
   "outputs": [],
   "source": [
    "##not ray test\n",
    "class2=DLActor(classid=2)\n"
   ]
  },
  {
   "cell_type": "code",
   "execution_count": null,
   "metadata": {},
   "outputs": [],
   "source": [
    "class2.infer(image_id=1,tileids=[323],status=1)"
   ]
  },
  {
   "cell_type": "code",
   "execution_count": null,
   "metadata": {},
   "outputs": [],
   "source": [
    "# -- check it was set\n",
    "tile=class2.getTileStatus([323])\n",
    "tile[0].seen"
   ]
  },
  {
   "cell_type": "code",
   "execution_count": null,
   "metadata": {},
   "outputs": [],
   "source": [
    "ref2=class2.start_dlproc()\n"
   ]
  },
  {
   "cell_type": "markdown",
   "metadata": {},
   "source": [
    "This section is when the @Ray actor is enabled, and thus has remote. note we need max_concurrency = 2 for this to work"
   ]
  },
  {
   "cell_type": "code",
   "execution_count": 12,
   "metadata": {},
   "outputs": [],
   "source": [
    "class2 = DLActor.options(max_concurrency=2).remote(classid=2,tile_size=2_048)\n",
    "ref2=class2.start_dlproc.remote()\n",
    "print(ref2)"
   ]
  },
  {
   "cell_type": "code",
   "execution_count": null,
   "metadata": {},
   "outputs": [],
   "source": [
    "print(ray.get(class2.getclassid.remote()))\n"
   ]
  },
  {
   "cell_type": "code",
   "execution_count": null,
   "metadata": {},
   "outputs": [],
   "source": [
    "print(ray.get(class2.infer.remote(image_id=1,tileids=[323],status=1)))"
   ]
  },
  {
   "cell_type": "code",
   "execution_count": null,
   "metadata": {},
   "outputs": [],
   "source": [
    "tile=(ray.get(class2.getTileStatus.remote([323])))\n",
    "print(tile[0].seen)\n"
   ]
  },
  {
   "cell_type": "code",
   "execution_count": null,
   "metadata": {},
   "outputs": [],
   "source": [
    "ref2=class2.start_dlproc.remote()\n",
    "print(ref2)"
   ]
  },
  {
   "cell_type": "code",
   "execution_count": 14,
   "metadata": {},
   "outputs": [],
   "source": []
  },
  {
   "cell_type": "code",
   "execution_count": null,
   "metadata": {},
   "outputs": [],
   "source": []
  }
 ],
 "metadata": {
  "kernelspec": {
   "display_name": "venv",
   "language": "python",
   "name": "python3"
  },
  "language_info": {
   "codemirror_mode": {
    "name": "ipython",
    "version": 3
   },
   "file_extension": ".py",
   "mimetype": "text/x-python",
   "name": "python",
   "nbconvert_exporter": "python",
   "pygments_lexer": "ipython3",
   "version": "3.10.12"
  }
 },
 "nbformat": 4,
 "nbformat_minor": 4
}
