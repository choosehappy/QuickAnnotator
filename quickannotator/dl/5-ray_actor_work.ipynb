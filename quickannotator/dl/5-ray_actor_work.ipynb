{
 "cells": [
  {
   "cell_type": "code",
   "execution_count": null,
   "metadata": {},
   "outputs": [],
   "source": [
    "%load_ext autoreload\n",
    "%autoreload 2"
   ]
  },
  {
   "cell_type": "code",
   "execution_count": null,
   "metadata": {},
   "outputs": [],
   "source": [
    "#!pip install ray[train]"
   ]
  },
  {
   "cell_type": "code",
   "execution_count": null,
   "metadata": {},
   "outputs": [],
   "source": [
    "#!pip install -U ipywidgets\n",
    "# not needed for production, only for jupyter notebook"
   ]
  },
  {
   "cell_type": "code",
   "execution_count": null,
   "metadata": {},
   "outputs": [],
   "source": [
    "#--- need to run \n",
    "#memcached -m 10240 -I 20m -vv -u www-data &"
   ]
  },
  {
   "cell_type": "code",
   "execution_count": null,
   "metadata": {},
   "outputs": [],
   "source": [
    "#--- should clean imports - copy paste\n",
    "import ray\n",
    "from ray.train import ScalingConfig\n",
    "import torch\n",
    "from torch.nn import CrossEntropyLoss\n",
    "from torch.optim import Adam\n",
    "from torch.utils.data import DataLoader\n",
    "import ray.train.torch\n",
    "import ray.util.state\n",
    "import ray\n",
    "import torch\n",
    "import torch.nn as nn\n",
    "import ray.train.torch\n",
    "import ray.train\n",
    "from torch.nn import CrossEntropyLoss, MSELoss\n",
    "from torch.optim import Adam\n",
    "from quickannotator.constants import TileStatus"
   ]
  },
  {
   "cell_type": "code",
   "execution_count": null,
   "metadata": {},
   "outputs": [],
   "source": [
    "ray.init()"
   ]
  },
  {
   "cell_type": "code",
   "execution_count": null,
   "metadata": {},
   "outputs": [],
   "source": [
    "from quickannotator.dl.training import train_model\n",
    "\n",
    "@ray.remote\n",
    "class DLActor:\n",
    "    def __init__(self,classid,tile_size,status=-1):\n",
    "        self.classid=classid\n",
    "        self.status=status\n",
    "        self.tile_size=tile_size\n",
    "        \n",
    "    def start_dlproc(self,is_train=True,allow_pred=True, tile_size=2_048):\n",
    "        #need to check if is already training, if yes, no opt\n",
    "        print(\"starting up\")\n",
    "        \n",
    "        #scaling_config = ray.train.ScalingConfig(num_workers=2, use_gpu=True,resources_per_worker={\"GPU\":.5})\n",
    "        ## will fail on single node single gpu --- (DLActor pid=174521) Duplicate GPU detected : rank 1 and rank 0 both on CUDA device 1000\n",
    "\n",
    "        #--- NEED A GPU CONTAINER TO TEST THIS        \n",
    "        total_gpus  = ray.cluster_resources().get(\"GPU\", 0)\n",
    "        # total_gpus_available=  ray.available_resources().get(\"GPU\", 0)\n",
    "        # print(total_gpus,total_gpus_available)\n",
    "        # resource_to_request = (total_gpus_available/total_gpus)/2 * 1.01\n",
    "        # print(f\"resource_to_request: {resource_to_request}\")\n",
    "\n",
    "        scaling_config = ray.train.ScalingConfig(num_workers=int(total_gpus), use_gpu=True,\n",
    "                                                resources_per_worker={\"GPU\":.01}, placement_strategy=\"STRICT_SPREAD\")\n",
    "        \n",
    "        #----\n",
    "#        scaling_config = ray.train.ScalingConfig(num_workers=1, use_gpu=False)\n",
    "        trainer = ray.train.torch.TorchTrainer(train_model,\n",
    "                                       scaling_config=scaling_config,\n",
    "                                       train_loop_config={'is_train':is_train, \n",
    "                                                          'allow_pred':allow_pred,\n",
    "                                                         'classid':self.classid,\n",
    "                                                         'tile_size':tile_size})\n",
    "        self.status = trainer.fit().hex() ##widly -- this doesn't save the result in the actor\n",
    "        return self.status\n",
    "    \n",
    "    def infer(self,image_id,tileids,status=TileStatus.PROCESSING): #only bulk should be performed, there is no difference between doing 1 versus 100 tiles, so this reduces code complexity\n",
    "        import sqlalchemy, datetime\n",
    "        from quickannotator.dl.database import create_db_engine, get_database_path, get_session_aj\n",
    "        from quickannotator.db import db_session, Project, Image, AnnotationClass, Notification, Tile, Setting, Annotation, SearchCache\n",
    "\n",
    "        #open question --- seems like we're getting a lot of seessions, should be a factory process somewhere which also has a pool of existing sessions for reuse\n",
    "\n",
    "\n",
    "        # probably need to *Delete* the tiles that are associated with this tileid before executing the below, so that they're not duplicated\n",
    "        # i would do that in a seperate function as \"infer\" doesn't logically mean \"delete\", so the expected behavior might be weird if it delets stuff unprompted\n",
    "        # perhaps that could be clarified with a e.g., named function paramter - or perhaps a seperate function is really needed\n",
    "        session = get_session_aj(create_db_engine(get_database_path()))\n",
    "\n",
    "                #id should be modified one we have https://github.com/choosehappy/QuickAnnotator/pull/58\n",
    "                #imageid will need to be included - end result is a multikey -(imageid, tileid, classid)\n",
    "        stmt = sqlalchemy.update(Tile).where(Tile.tile_id.in_(tile_ids), Tile.image_id == image_id,\n",
    "                                              Tile.annotation_class_id == self.classid)\\\n",
    "                                                .values(seen=status) #  ,date=datetime.datetime.now())) ## should add date time\n",
    "\n",
    "        # Execute the update\n",
    "        session.execute(stmt)\n",
    "        session.commit()\n",
    "        \n",
    "        # Close the session\n",
    "        session.close()\n",
    "\n",
    "\n",
    "        #need a similar statement to get the DL starting\n",
    "        return True\n",
    "    \n",
    "\n",
    "    def getTileStatus(self,image_id,tile_ids): #probably belongs else where but need this for debug\n",
    "        import sqlalchemy, datetime\n",
    "        from quickannotator.dl.database import create_db_engine, get_database_path, get_session_aj\n",
    "        from quickannotator.db import db_session, Project, Image, AnnotationClass, Notification, Tile, Setting, Annotation, SearchCache\n",
    "\n",
    "        \n",
    "        session = get_session_aj(create_db_engine(get_database_path()))\n",
    "\n",
    "        stmt = session.query(Tile).filter(Tile.tile_id.in_(tile_ids),Tile.image_id == image_id,\n",
    "                          Tile.annotation_class_id == self.classid)\n",
    "\n",
    "        # Execute the query\n",
    "        result = stmt.all()\n",
    "        \n",
    "        # Close the session\n",
    "        session.close()\n",
    "\n",
    "        return result\n",
    "\n",
    "\n",
    "    def getclassid(self):\n",
    "        return self.classid\n",
    "        \n",
    "    \n",
    "    def getstatus(self):\n",
    "        print(\"in get status!\")\n",
    "        print(f\"self.status:\\t {self.status}\")\n",
    "        return self.status\n",
    "\n",
    "    def setstatus(self,status):\n",
    "        self.status=status\n",
    "        return self.status\n",
    "\n"
   ]
  },
  {
   "cell_type": "markdown",
   "metadata": {},
   "source": [
    "this section  is some non-ray testing to see if things work as expected. to use these, remove the @ray annotator in the actor above "
   ]
  },
  {
   "cell_type": "code",
   "execution_count": null,
   "metadata": {},
   "outputs": [],
   "source": [
    "classid=2\n",
    "actor = DLActor.options(name=f\"dlactor_{classid}\",lifetime=\"detached\",max_concurrency=2).remote(classid=classid,tile_size=2_048)\n",
    "ref2=actor.start_dlproc.remote()\n",
    "print(ref2)\n",
    "\n"
   ]
  },
  {
   "cell_type": "code",
   "execution_count": null,
   "metadata": {},
   "outputs": [],
   "source": []
  },
  {
   "cell_type": "code",
   "execution_count": null,
   "metadata": {},
   "outputs": [],
   "source": []
  },
  {
   "cell_type": "code",
   "execution_count": null,
   "metadata": {},
   "outputs": [],
   "source": [
    "##not ray test\n",
    "class2=DLActor(classid=2)\n"
   ]
  },
  {
   "cell_type": "code",
   "execution_count": null,
   "metadata": {},
   "outputs": [],
   "source": [
    "class2.infer(image_id=1,tileids=[323],status=1)"
   ]
  },
  {
   "cell_type": "code",
   "execution_count": null,
   "metadata": {},
   "outputs": [],
   "source": [
    "# -- check it was set\n",
    "tile=class2.getTileStatus([323])\n",
    "tile[0].seen"
   ]
  },
  {
   "cell_type": "code",
   "execution_count": null,
   "metadata": {},
   "outputs": [],
   "source": [
    "ref2=class2.start_dlproc()\n"
   ]
  },
  {
   "cell_type": "markdown",
   "metadata": {},
   "source": [
    "This section is when the @Ray actor is enabled, and thus has remote. note we need max_concurrency = 2 for this to work"
   ]
  },
  {
   "cell_type": "code",
   "execution_count": null,
   "metadata": {},
   "outputs": [],
   "source": [
    "class2 = DLActor.options(max_concurrency=2).remote(classid=2,tile_size=2_048)\n",
    "ref2=class2.start_dlproc.remote()\n",
    "print(ref2)"
   ]
  },
  {
   "cell_type": "code",
   "execution_count": null,
   "metadata": {},
   "outputs": [],
   "source": [
    "print(ray.get(class2.getclassid.remote()))\n"
   ]
  },
  {
   "cell_type": "code",
   "execution_count": null,
   "metadata": {},
   "outputs": [],
   "source": [
    "print(ray.get(class2.infer.remote(image_id=1,tileids=[323],status=1)))"
   ]
  },
  {
   "cell_type": "code",
   "execution_count": null,
   "metadata": {},
   "outputs": [],
   "source": [
    "tile=(ray.get(class2.getTileStatus.remote([323])))\n",
    "print(tile[0].seen)\n"
   ]
  },
  {
   "cell_type": "code",
   "execution_count": null,
   "metadata": {},
   "outputs": [],
   "source": [
    "ref2=class2.start_dlproc.remote()\n",
    "print(ref2)"
   ]
  },
  {
   "cell_type": "code",
   "execution_count": null,
   "metadata": {},
   "outputs": [],
   "source": []
  },
  {
   "cell_type": "code",
   "execution_count": null,
   "metadata": {},
   "outputs": [],
   "source": []
  }
 ],
 "metadata": {
  "kernelspec": {
   "display_name": "uv_venv",
   "language": "python",
   "name": "python3"
  },
  "language_info": {
   "codemirror_mode": {
    "name": "ipython",
    "version": 3
   },
   "file_extension": ".py",
   "mimetype": "text/x-python",
   "name": "python",
   "nbconvert_exporter": "python",
   "pygments_lexer": "ipython3",
   "version": "3.10.12"
  }
 },
 "nbformat": 4,
 "nbformat_minor": 4
}
