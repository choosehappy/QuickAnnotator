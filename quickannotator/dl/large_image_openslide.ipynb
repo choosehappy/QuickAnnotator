{
 "cells": [
  {
   "cell_type": "code",
   "execution_count": 1,
   "metadata": {},
   "outputs": [],
   "source": [
    "%load_ext autoreload\n",
    "%autoreload 2"
   ]
  },
  {
   "cell_type": "code",
   "execution_count": 2,
   "metadata": {},
   "outputs": [],
   "source": [
    "\n",
    "import openslide\n",
    "import numpy as np\n",
    "slide = openslide.OpenSlide(\"/opt/QuickAnnotator/quickannotator/data/test_ndpi/13_266069_040_003 L02 PAS.ndpi\")\n",
    "\n",
    "col,row= 0,0 \n",
    "tile_size = 2_048\n",
    "\n",
    "region = slide.read_region((int(col), int(row)), 0, (tile_size, tile_size)) #note: row/col swap is intentional, read_region is  x,y\n",
    "io_osh  = np.array(region.convert(\"RGB\"))\n"
   ]
  },
  {
   "cell_type": "code",
   "execution_count": 3,
   "metadata": {},
   "outputs": [],
   "source": [
    "import large_image\n",
    "\n",
    "ts = large_image.getTileSource(\"/opt/QuickAnnotator/quickannotator/data/test_ndpi/13_266069_040_003 L02 PAS.ndpi\")\n",
    "\n",
    "im_li, _ = ts.getRegion(\n",
    "    region=dict(left=col, top=row, width=tile_size, height=tile_size, units='base_pixels'),\n",
    "    format=large_image.tilesource.TILE_FORMAT_NUMPY,\n",
    ")"
   ]
  },
  {
   "cell_type": "code",
   "execution_count": 4,
   "metadata": {},
   "outputs": [
    {
     "data": {
      "text/plain": [
       "0"
      ]
     },
     "execution_count": 4,
     "metadata": {},
     "output_type": "execute_result"
    }
   ],
   "source": [
    "(im_li[:,:,0:3]-io_osh).sum()"
   ]
  },
  {
   "cell_type": "markdown",
   "metadata": {},
   "source": [
    "this section  is some non-ray testing to see if things work as expected. to use these, remove the @ray annotator in the actor above "
   ]
  }
 ],
 "metadata": {
  "kernelspec": {
   "display_name": "uv_venv",
   "language": "python",
   "name": "python3"
  },
  "language_info": {
   "codemirror_mode": {
    "name": "ipython",
    "version": 3
   },
   "file_extension": ".py",
   "mimetype": "text/x-python",
   "name": "python",
   "nbconvert_exporter": "python",
   "pygments_lexer": "ipython3",
   "version": "3.10.12"
  }
 },
 "nbformat": 4,
 "nbformat_minor": 4
}
