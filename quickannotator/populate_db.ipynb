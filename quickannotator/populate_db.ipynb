{
 "cells": [
  {
   "cell_type": "code",
   "id": "initial_id",
   "metadata": {
    "ExecuteTime": {
     "end_time": "2024-10-17T16:26:25.947865Z",
     "start_time": "2024-10-17T16:26:25.681192Z"
    }
   },
   "source": [
    "from flask_sqlalchemy import SQLAlchemy\n",
    "from sqlalchemy import Text, Column, Integer, DateTime, ForeignKey, JSON, Boolean, Float, event\n",
    "from geoalchemy2 import Geometry, load_spatialite\n",
    "from flask_caching import Cache\n",
    "from sqlalchemy import event\n",
    "import os\n",
    "from flask import Flask\n",
    "from quickannotator.db import Project, Image, AnnotationClass, Notification, Tile, Setting\n",
    "from quickannotator.db import db\n",
    "import large_image"
   ],
   "outputs": [],
   "execution_count": 1
  },
  {
   "cell_type": "code",
   "id": "ab38c5c452938b96",
   "metadata": {
    "ExecuteTime": {
     "end_time": "2024-10-17T16:26:25.956375Z",
     "start_time": "2024-10-17T16:26:25.952167Z"
    }
   },
   "source": [
    "def insert_project(app, db, name, description, is_dataset_large):\n",
    "    with app.app_context():\n",
    "        project = Project(name=name,\n",
    "                          description=description,\n",
    "                          is_dataset_large=is_dataset_large)\n",
    "        db.session.add(project)\n",
    "        db.session.commit()\n",
    "        \n",
    "        project_path = f\"data/{project.id}\"\n",
    "        if not os.path.exists(project_path):\n",
    "            os.mkdir(project_path)\n",
    "        \n",
    "def insert_image(app, db, project_id, name, path, height, width, dz_tilesize, embedding_coord, group_id, split):\n",
    "    with app.app_context():\n",
    "        image = Image(project_id=project_id,\n",
    "                      name=name,\n",
    "                      path=path,\n",
    "                      height=height,\n",
    "                      width=width,\n",
    "                      dz_tilesize=dz_tilesize,\n",
    "                      embedding_coord=embedding_coord,\n",
    "                      group_id=group_id,\n",
    "                      split=split)\n",
    "        db.session.add(image)\n",
    "        db.session.commit()\n",
    "        \n",
    "def insert_annotation_class(app, db, project_id, name, color, magnification, patchsize, tilesize, dl_model_objectref):\n",
    "    with app.app_context():\n",
    "        annotation_class = AnnotationClass(project_id=project_id,\n",
    "                                           name=name,\n",
    "                                           color=color,\n",
    "                                           magnification=magnification,\n",
    "                                           patchsize=patchsize,\n",
    "                                           tilesize=tilesize,\n",
    "                                           dl_model_objectref=dl_model_objectref)\n",
    "        db.session.add(annotation_class)\n",
    "        db.session.commit()\n"
   ],
   "outputs": [],
   "execution_count": 2
  },
  {
   "cell_type": "code",
   "id": "6c470570e9995f60",
   "metadata": {
    "ExecuteTime": {
     "end_time": "2024-10-17T16:26:26.192098Z",
     "start_time": "2024-10-17T16:26:26.037145Z"
    }
   },
   "source": [
    "app = Flask(\"app\")\n",
    "SearchCache = Cache(config={'CACHE_TYPE': 'SimpleCache'})\n",
    "SearchCache.init_app(app)\n",
    "app.config['SQLALCHEMY_DATABASE_URI'] = 'sqlite:///quickannotator.db'\n",
    "os.environ['SPATIALITE_LIBRARY_PATH'] = '/usr/lib/x86_64-linux-gnu/mod_spatialite.so'\n",
    "\n",
    "db.app = app\n",
    "db.init_app(app)\n",
    "models = [Project, Image, AnnotationClass, Notification, Tile, Setting]\n",
    "with app.app_context():\n",
    "    event.listen(db.engine, 'connect', load_spatialite)\n",
    "    db.drop_all()\n",
    "    db.metadata.create_all(bind=db.engine, tables=[item.__table__ for item in models])"
   ],
   "outputs": [],
   "execution_count": 3
  },
  {
   "metadata": {
    "ExecuteTime": {
     "end_time": "2024-10-17T16:26:26.242443Z",
     "start_time": "2024-10-17T16:26:26.198463Z"
    }
   },
   "cell_type": "code",
   "source": [
    "path = \"data/images/1/TCGA-23-2072-01Z-00-DX1.478243FF-BFF0-48A4-ADEA-DE789331A50E.svs\"\n",
    "slide = large_image.open(path)"
   ],
   "id": "55c483c3d3acfd5c",
   "outputs": [],
   "execution_count": 4
  },
  {
   "metadata": {
    "ExecuteTime": {
     "end_time": "2024-10-17T16:26:26.283620Z",
     "start_time": "2024-10-17T16:26:26.249998Z"
    }
   },
   "cell_type": "code",
   "source": [
    "insert_project(app, db, \n",
    "               name=\"example_project\", \n",
    "               description=\"test\", \n",
    "               is_dataset_large=False)\n",
    "\n",
    "insert_image(app, db, \n",
    "             project_id=1, \n",
    "             name=os.path.basename(path), \n",
    "             path=path, \n",
    "             height=slide.sizeY, \n",
    "             width=slide.sizeX, \n",
    "             dz_tilesize=slide.tileWidth,\n",
    "             embedding_coord=\"POINT(1 1)\", \n",
    "             group_id=1, \n",
    "             split=1)\n",
    "\n",
    "insert_annotation_class(app, db,\n",
    "                        project_id=None,\n",
    "                        name=\"Tissue Mask\",\n",
    "                        color=\"black\",\n",
    "                        magnification=None,\n",
    "                        patchsize=None,\n",
    "                        tilesize=None,\n",
    "                        dl_model_objectref=None)\n",
    "\n"
   ],
   "id": "71c1d6c415fb4a5a",
   "outputs": [],
   "execution_count": 5
  },
  {
   "metadata": {
    "ExecuteTime": {
     "end_time": "2024-10-17T16:26:26.299026Z",
     "start_time": "2024-10-17T16:26:26.297211Z"
    }
   },
   "cell_type": "code",
   "source": "",
   "id": "9e3607c2f4094592",
   "outputs": [],
   "execution_count": null
  }
 ],
 "metadata": {
  "kernelspec": {
   "display_name": "Python 3 (ipykernel)",
   "language": "python",
   "name": "python3"
  },
  "language_info": {
   "codemirror_mode": {
    "name": "ipython",
    "version": 3
   },
   "file_extension": ".py",
   "mimetype": "text/x-python",
   "name": "python",
   "nbconvert_exporter": "python",
   "pygments_lexer": "ipython3",
   "version": "3.10.12"
  }
 },
 "nbformat": 4,
 "nbformat_minor": 5
}
