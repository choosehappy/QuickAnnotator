{
 "cells": [
  {
   "cell_type": "code",
   "id": "initial_id",
   "metadata": {
    "ExecuteTime": {
     "end_time": "2024-10-24T21:45:18.916523Z",
     "start_time": "2024-10-24T21:45:18.913507Z"
    }
   },
   "source": [
    "from geoalchemy2 import Geometry, load_spatialite\n",
    "from flask_caching import Cache\n",
    "from sqlalchemy import event, Table, insert, func\n",
    "from sqlalchemy.orm import sessionmaker\n",
    "import os\n",
    "from flask import Flask\n",
    "from quickannotator.db import Project, Image, AnnotationClass, Notification, Tile, Setting, Annotation\n",
    "from quickannotator.db import db\n",
    "import large_image\n",
    "import math\n",
    "import numpy as np\n",
    "from shapely.geometry import Point, Polygon, LineString, MultiLineString, MultiPolygon\n",
    "import random\n",
    "from shapely.affinity import translate\n",
    "import json"
   ],
   "outputs": [],
   "execution_count": 13
  },
  {
   "cell_type": "code",
   "id": "209fd4ac277bf06c",
   "metadata": {
    "ExecuteTime": {
     "end_time": "2024-10-24T21:56:50.675129Z",
     "start_time": "2024-10-24T21:56:50.664102Z"
    }
   },
   "source": [
    "def insert_project(app, db, name, description, is_dataset_large):\n",
    "    with app.app_context():\n",
    "        project = Project(name=name,\n",
    "                          description=description,\n",
    "                          is_dataset_large=is_dataset_large)\n",
    "        db.session.add(project)\n",
    "        db.session.commit()\n",
    "        \n",
    "def insert_image(app, db, project_id, name, path, height, width, dz_tilesize, embedding_coord, group_id, split):\n",
    "    with app.app_context():\n",
    "        image = Image(project_id=project_id,\n",
    "                      name=name,\n",
    "                      path=path,\n",
    "                      height=height,\n",
    "                      width=width,\n",
    "                      dz_tilesize=dz_tilesize,\n",
    "                      embedding_coord=embedding_coord,\n",
    "                      group_id=group_id,\n",
    "                      split=split)\n",
    "        db.session.add(image)\n",
    "        db.session.commit()\n",
    "        \n",
    "def insert_annotation_class(app, db, project_id, name, color, magnification, patchsize, tilesize, dl_model_objectref):\n",
    "    with app.app_context():\n",
    "        annotation_class = AnnotationClass(project_id=project_id,\n",
    "                                           name=name,\n",
    "                                           color=color,\n",
    "                                           magnification=magnification,\n",
    "                                           patchsize=patchsize,\n",
    "                                           tilesize=tilesize,\n",
    "                                           dl_model_objectref=dl_model_objectref)\n",
    "        db.session.add(annotation_class)\n",
    "        db.session.commit()\n",
    "              \n",
    "def insert_tile(app, db, image_id, annotation_class_id, geom, seen):\n",
    "    with app.app_context():\n",
    "        tile = Tile(image_id=image_id,\n",
    "                    annotation_class_id=annotation_class_id,\n",
    "                    geom=geom,\n",
    "                    seen=seen)\n",
    "        \n",
    "        db.session.add(tile)\n",
    "        db.session.commit()\n",
    "        \n",
    "def insert_tiles(app, db, image_id, annotation_class_id):\n",
    "    image_width, image_height = get_image_dimensions(app, image_id)\n",
    "    \n",
    "    with app.app_context():\n",
    "        tile_size = AnnotationClass.query.filter_by(id=annotation_class_id).first().tilesize\n",
    "    \n",
    "    n_cols = math.ceil(image_width / tile_size)\n",
    "    n_rows = math.ceil(image_height / tile_size)\n",
    "    \n",
    "    tiles = []\n",
    "    for i in range(n_rows):\n",
    "        for j in range(n_cols):\n",
    "            t = Tile(image_id=image_id,\n",
    "                     annotation_class_id=annotation_class_id,\n",
    "                     geom=f\"POLYGON(({j*tile_size} {i*tile_size}, {j*tile_size} {(i+1)*tile_size}, {(j+1)*tile_size} {(i+1)*tile_size}, {(j+1)*tile_size} {i*tile_size}, {j*tile_size} {i*tile_size}))\",\n",
    "                     seen=2\n",
    "                     )\n",
    "            tiles.append(t)\n",
    "    with app.app_context():\n",
    "        db.session.add_all(tiles)\n",
    "        db.session.commit()\n",
    "            \n",
    "def get_tiles_within_bbox(app, image_id, annotation_class_id, x1y1, x2y2):\n",
    "    with app.app_context():\n",
    "        envelope = func.BuildMbr(x1y1[0], x1y1[1], x2y2[0], x2y2[1])\n",
    "        filter = Tile.geom.ST_intersects(envelope)\n",
    "        tiles = Tile.query.filter_by(image_id=image_id, annotation_class_id=annotation_class_id).filter(filter).all()\n",
    "        \n",
    "    return tiles\n",
    "\n",
    "def annotations_within_bbox(app, db, table, x1, y1, x2, y2):\n",
    "    envelope = func.BuildMbr(x1, y1, x2, y2)\n",
    "    # Right now we are selecting by centroid and not polygon.\n",
    "    with app.app_context():\n",
    "        stmt = table.select().where(func.ST_Intersects(table.c.centroid, envelope))\n",
    "        result = db.session.execute(stmt).fetchall()\n",
    "        \n",
    "    return result\n",
    "  \n",
    "def get_image_dimensions(app, image_id):\n",
    "    with app.app_context():\n",
    "        image = Image.query.filter_by(id=image_id).first()\n",
    "        return image.width, image.height\n",
    "        \n",
    "def create_annotation_table(db, image_id, annotation_class_id, gtpred):\n",
    "    table_name = f\"{image_id}_{annotation_class_id}_{gtpred}_annotation\"\n",
    "    table = Annotation.__table__.to_metadata(db.metadata, name=table_name)\n",
    "    db.metadata.create_all(bind=db.engine, tables=[table])\n",
    "            \n",
    "def generate_random_polygon(max_area=10, centroid=(0, 0)):\n",
    "    num_points = random.randint(10, 20)  # Polygons need at least 3 points\n",
    "\n",
    "    # Generate points in polar coordinates\n",
    "    radii = np.sqrt(np.random.uniform(0, 1, num_points))  # Square root ensures uniform distribution\n",
    "    angles = np.linspace(0, 2 * np.pi, num_points, endpoint=False)\n",
    "\n",
    "    # Convert polar coordinates to Cartesian coordinates\n",
    "    points = [(r * np.cos(a), r * np.sin(a)) for r, a in zip(radii, angles)]\n",
    "\n",
    "    # Sort points to form a simple polygon\n",
    "    sorted_points = sorted(points, key=lambda p: np.arctan2(p[1], p[0]))\n",
    "\n",
    "    # Create a Polygon and scale its area\n",
    "    polygon = Polygon(sorted_points)\n",
    "\n",
    "    # Calculate scaling factor\n",
    "    current_area = polygon.area\n",
    "    if current_area > 0:\n",
    "        scaling_factor = np.sqrt(max_area / current_area)\n",
    "        scaled_points = [(x * scaling_factor, y * scaling_factor) for x, y in sorted_points]\n",
    "        polygon = Polygon(scaled_points)\n",
    "\n",
    "    polygon = translate(polygon, xoff=centroid[0], yoff=centroid[1])\n",
    "\n",
    "    return polygon\n",
    "    \n",
    "def generate_annotations(image_width, image_height, n_polygons):\n",
    "    annotations = []\n",
    "    for i in range(n_polygons):\n",
    "        c = Point(np.random.randint(image_width), np.random.randint(image_height))\n",
    "        \n",
    "        poly: Polygon = generate_random_polygon(max_area=20, centroid=(c.x, c.y))\n",
    "        d = {\n",
    "            \"centroid\": poly.centroid.wkt,  # Adding SRID=0 for pixel-based coordinates\n",
    "            \"area\": poly.area,  # The area of the polygon\n",
    "            \"polygon\": poly.wkt,  # Adding SRID=0 for the polygon\n",
    "            \"custom_metrics\": json.dumps({\"iou\": 0.5})  # Convert custom_metrics to a JSON string\n",
    "        }\n",
    "        annotations.append(d)\n",
    "        \n",
    "    return annotations\n",
    "\n",
    "def insert_annotations(app, db, image_id, annotation_class_id, gtpred, n):\n",
    "    table_name = f\"{image_id}_{annotation_class_id}_{gtpred}_annotation\"\n",
    "\n",
    "    \n",
    "    with app.app_context():\n",
    "        table = Table(table_name, db.metadata, autoload_with=db.engine)\n",
    "        image = db.session.query(Image).filter_by(id=image_id).first()\n",
    "        annotations = generate_annotations(image.width, image.height, n)\n",
    "        \n",
    "        stmt = insert(table).values(annotations)\n",
    "        db.session.execute(stmt)\n",
    "        db.session.commit()\n",
    "        \n",
    "    "
   ],
   "outputs": [],
   "execution_count": 28
  },
  {
   "metadata": {
    "ExecuteTime": {
     "end_time": "2024-10-24T21:41:37.245207Z",
     "start_time": "2024-10-24T21:41:37.239600Z"
    }
   },
   "cell_type": "code",
   "source": "generate_random_polygon(max_area=10, centroid=(0, 0))",
   "id": "584dbc722c90df59",
   "outputs": [
    {
     "data": {
      "text/plain": [
       "<POLYGON ((-1.251 -0.308, -1.329 -1.178, -0.798 -2.103, 0.239 -1.968, 1.272 ...>"
      ],
      "image/svg+xml": "<svg xmlns=\"http://www.w3.org/2000/svg\" xmlns:xlink=\"http://www.w3.org/1999/xlink\" width=\"100.0\" height=\"100.0\" viewBox=\"-2.279566502691254 -2.273770567216908 4.547476157306562 4.6002166373254845\" preserveAspectRatio=\"xMinYMin meet\"><g transform=\"matrix(1,0,0,-1,0,0.05267550289166811)\"><path fill-rule=\"evenodd\" fill=\"#66cc99\" stroke=\"#555555\" stroke-width=\"0.0920043327465097\" opacity=\"0.6\" d=\"M -1.2507249193618175,-0.3082760053651427 L -1.3293857932559143,-1.1777330428525767 L -0.7977114299708938,-2.10339217324189 L 0.23897976141648072,-1.9681754083940013 L 1.2717936275760053,-1.8425111613848606 L 1.7663833052666382,-0.9270694748088691 L 1.3545896596473213,0.0 L 2.0975312606402903,1.1008693290969718 L 0.772336169878572,1.118922113216405 L 0.2617940131975476,2.156067676133558 L -0.4076077312358049,1.0747732568725505 L -1.3539601892062063,1.1995040579075211 L -2.109188108716236,0.5198681777688369 L -1.2507249193618175,-0.3082760053651427 z\" /></g></svg>"
     },
     "execution_count": 9,
     "metadata": {},
     "output_type": "execute_result"
    }
   ],
   "execution_count": 9
  },
  {
   "metadata": {
    "ExecuteTime": {
     "end_time": "2024-10-24T21:41:38.036482Z",
     "start_time": "2024-10-24T21:41:38.032555Z"
    }
   },
   "cell_type": "code",
   "source": "generate_annotations(1000, 1000, 1)",
   "id": "fdae12eae5ad5ec6",
   "outputs": [
    {
     "data": {
      "text/plain": [
       "[{'centroid': 'POINT (98.27740878350062 926.1301493695511)',\n",
       "  'area': 19.99999999999991,\n",
       "  'polygon': 'POLYGON ((95.94043674588909 924.1016311717723, 98.337511578015 924.2354476043885, 98.6613621659211 922.6447221296788, 99.10808160782817 924.7633342909795, 101.82654666646023 923.1834887573208, 100.12538589327721 925, 101.6403553957273 926.6968533786898, 99.99797426964547 927.1852588322463, 98.38771579375975 929.2585301941449, 96.5031622457204 927.8815043752281, 95.53737777709503 926.016717619682, 95.94043674588909 924.1016311717723))',\n",
       "  'custom_metrics': '{\"iou\": 0.5}'}]"
      ]
     },
     "execution_count": 10,
     "metadata": {},
     "output_type": "execute_result"
    }
   ],
   "execution_count": 10
  },
  {
   "cell_type": "code",
   "id": "6c470570e9995f60",
   "metadata": {
    "ExecuteTime": {
     "end_time": "2024-10-24T21:46:52.887135Z",
     "start_time": "2024-10-24T21:46:52.159275Z"
    }
   },
   "source": [
    "app = Flask(\"app\")\n",
    "SearchCache = Cache(config={'CACHE_TYPE': 'SimpleCache'})\n",
    "SearchCache.init_app(app)\n",
    "app.config['SQLALCHEMY_DATABASE_URI'] = 'sqlite:///quickannotator.db'\n",
    "os.environ['SPATIALITE_LIBRARY_PATH'] = '/usr/lib/x86_64-linux-gnu/mod_spatialite.so'\n",
    "\n",
    "db.app = app\n",
    "db.init_app(app)\n",
    "models = [Project, Image, AnnotationClass, Notification, Tile, Setting]\n",
    "with app.app_context():\n",
    "    event.listen(db.engine, 'connect', load_spatialite)\n",
    "    db.drop_all()\n",
    "    db.metadata.create_all(bind=db.engine, tables=[item.__table__ for item in models])\n",
    "\n",
    "    create_annotation_table(db, 1, 1, \"gt\")\n",
    "    create_annotation_table(db, 1, 2, \"gt\")"
   ],
   "outputs": [
    {
     "name": "stderr",
     "output_type": "stream",
     "text": [
      "/tmp/ipykernel_50451/705662013.py:83: SAWarning: Table 'annotation' already exists within the given MetaData - not copying.\n",
      "  table = Annotation.__table__.to_metadata(db.metadata, name=table_name)\n"
     ]
    }
   ],
   "execution_count": 18
  },
  {
   "metadata": {
    "ExecuteTime": {
     "end_time": "2024-10-24T21:46:55.076368Z",
     "start_time": "2024-10-24T21:46:54.866597Z"
    }
   },
   "cell_type": "code",
   "source": [
    "insert_project(app, db, \n",
    "               name=\"example_project\", \n",
    "               description=\"test\", \n",
    "               is_dataset_large=False)\n",
    "\n",
    "full_path = \"/home/jackson/research/code/HistoTools/QA_jackson/quickannotator/data/images/1/TCGA-23-2072-01Z-00-DX1.478243FF-BFF0-48A4-ADEA-DE789331A50E.svs\"\n",
    "\n",
    "path = full_path.split(\"quickannotator/\")[1]\n",
    "\n",
    "slide = large_image.getTileSource(full_path)\n",
    "insert_image(app, db, \n",
    "             project_id=1, \n",
    "             name=os.path.basename(path), \n",
    "             path=path, \n",
    "             height=slide.sizeY, \n",
    "             width=slide.sizeX, \n",
    "             dz_tilesize=slide.tileWidth,\n",
    "             embedding_coord=\"POINT(1 1)\", \n",
    "             group_id=1, \n",
    "             split=1)\n",
    "\n",
    "insert_annotation_class(app, db,\n",
    "                        project_id=None,\n",
    "                        name=\"Tissue Mask\",\n",
    "                        color=\"black\",\n",
    "                        magnification=None,\n",
    "                        patchsize=None,\n",
    "                        tilesize=None,\n",
    "                        dl_model_objectref=None)\n",
    "\n",
    "insert_annotation_class(app, db,\n",
    "                        project_id=1,\n",
    "                        name=\"Tubule\",\n",
    "                        color=\"red\",\n",
    "                        magnification=10,\n",
    "                        patchsize=256,\n",
    "                        tilesize=2048,\n",
    "                        dl_model_objectref=None)\n",
    "\n",
    "# insert_annotation(app, db, 1, 1, \"gt\")\n",
    "\n",
    "insert_tiles(app, db, image_id=1, annotation_class_id=2)\n",
    "\n",
    "insert_annotations(app, db, image_id=1, annotation_class_id=2, gtpred=\"gt\", n=1000)"
   ],
   "id": "71c1d6c415fb4a5a",
   "outputs": [],
   "execution_count": 19
  },
  {
   "metadata": {
    "ExecuteTime": {
     "end_time": "2024-10-23T19:52:40.993600Z",
     "start_time": "2024-10-23T19:52:40.982632Z"
    }
   },
   "cell_type": "code",
   "source": "len(get_tiles_within_bbox(app, 1, 2, [0, 0], [41000, 40000]))",
   "id": "2cb9b98a22de747f",
   "outputs": [
    {
     "data": {
      "text/plain": [
       "420"
      ]
     },
     "execution_count": 9,
     "metadata": {},
     "output_type": "execute_result"
    }
   ],
   "execution_count": 9
  },
  {
   "metadata": {
    "ExecuteTime": {
     "end_time": "2024-10-24T21:59:13.574646Z",
     "start_time": "2024-10-24T21:59:10.816514Z"
    }
   },
   "cell_type": "code",
   "source": "insert_annotations(app, db, image_id=1, annotation_class_id=2, gtpred=\"gt\", n=10000)",
   "id": "3690259f296d26ee",
   "outputs": [],
   "execution_count": 34
  },
  {
   "metadata": {
    "ExecuteTime": {
     "end_time": "2024-10-24T21:59:19.042632Z",
     "start_time": "2024-10-24T21:59:19.033821Z"
    }
   },
   "cell_type": "code",
   "source": [
    "with app.app_context():\n",
    "    table_name = '1_2_gt_annotation'\n",
    "    table = Table(table_name, db.metadata, autoload_with=db.engine)\n",
    "    anns = annotations_within_bbox(app, db, table, 0,0,5000,5000)"
   ],
   "id": "e2187ac88d5fd4b5",
   "outputs": [],
   "execution_count": 35
  },
  {
   "metadata": {
    "ExecuteTime": {
     "end_time": "2024-10-24T21:59:20.988077Z",
     "start_time": "2024-10-24T21:59:20.984132Z"
    }
   },
   "cell_type": "code",
   "source": "anns",
   "id": "61a008f1cf3ee467",
   "outputs": [
    {
     "data": {
      "text/plain": [
       "[(350, <WKBElement at 0x7fd1f02ec8b0; 0101000020ffffffffce4484ba63495940866d47434fe8a740>, 19.999999999999975, <WKBElement at 0x7fd1f02ed9f0; 0103000020ffffffff0100000010000000be998292be02594047287ad697e7a740c0da860b8cda58402f522952b2e5a740cd0a091244f05840adec0 ... (278 characters truncated) ... 0594043bb16ad9aeca740a492b0859b105940591d8bb090eaa740bcbf59ff5f9b58403cf947dbbceba74084abc37638225840e5c650f4e5e9a740be998292be02594047287ad697e7a740>, '{\"iou\": 0.5}', datetime.datetime(2024, 10, 24, 21, 49, 27)),\n",
       " (618, <WKBElement at 0x7fd1f02ed9c0; 0101000020ffffffff8c1af28664dca1408e36cd79da0f9840>, 20.000000000000377, <WKBElement at 0x7fd18a6bc7c0; 0103000020ffffffff0100000015000000a1cbd3f358daa140fd154816ed0e984078d7dba247d8a140b6866422980a9840d9f2aff722d9a1403fe57 ... (438 characters truncated) ... 7a14094841c7b391b984075aa65e7bfd8a140fc073e1bb91498401fc9138586d6a140af5aadbc8e139840b37af2df65d5a1400000000000109840a1cbd3f358daa140fd154816ed0e9840>, '{\"iou\": 0.5}', datetime.datetime(2024, 10, 24, 21, 49, 27)),\n",
       " (685, <WKBElement at 0x7fd18a6bd210; 0101000020ffffffff1927458f59b0894075455e5ed8f3ab40>, 19.999999999999574, <WKBElement at 0x7fd18a6bc7f0; 0103000020ffffffff010000000f0000001136b7cbb49a8940c850a8b56ff1ab40c9f4f1f842a18940934b7a3161efab40839ee9fc91aa8940aa546 ... (246 characters truncated) ... b894054d5e0cc86f8ab400ef6fc23a3a8894044437ee24ef6ab40b9607125e9a389405be8ca9974f5ab40b479ad18339a89400000000000f4ab401136b7cbb49a8940c850a8b56ff1ab40>, '{\"iou\": 0.5}', datetime.datetime(2024, 10, 24, 21, 49, 27)),\n",
       " (1083, <WKBElement at 0x7fd18a6bf9a0; 0101000020ffffffff154f715d1766a2402d78b50a3083a240>, 20.000000000000377, <WKBElement at 0x7fd18a6bebf0; 0103000020ffffffff0100000013000000d91eb7032360a240f21d9bafdd81a240f3e441799262a240a44a00ab1f81a240bfa48d3b8d63a240a9c93 ... (374 characters truncated) ... 4a2404857a1b06686a240d01c782ec061a24069f2bfc99087a240e6c7f86b0963a240a2e992191485a240cba529933760a240000000000084a240d91eb7032360a240f21d9bafdd81a240>, '{\"iou\": 0.5}', datetime.datetime(2024, 10, 24, 21, 59, 13)),\n",
       " (1231, <WKBElement at 0x7fd18a6bed40; 0101000020ffffffff420a072e300da240286cf75e81939240>, 19.99999999999971, <WKBElement at 0x7fd18a6bffa0; 0103000020ffffffff010000000d00000009418306dc07a2404b6dfb0b388f924083d0d0be8c0aa240cd0daeeff98e924000000000000ca240a33c0 ... (182 characters truncated) ... ca2406f46006d5f9c92407331300cd509a240620c5669829b92401a2e70b03207a240e14a5f7c8b99924012125b871d08a240000000000094924009418306dc07a2404b6dfb0b388f9240>, '{\"iou\": 0.5}', datetime.datetime(2024, 10, 24, 21, 59, 13)),\n",
       " (1549, <WKBElement at 0x7fd18a6bf220; 0101000020ffffffffcfa47713206eb140711357cbfa1a7140>, 19.999999999999908, <WKBElement at 0x7fd18a6bee00; 0103000020ffffffff010000000c000000dfa974e1ed6bb140f682edca92117140ff84cff35d6cb14069d8aab861ef7040006f013eb66eb140544d8 ... (150 characters truncated) ... 0b140efa90897e04b714081612695c96eb1404d540cb3a7377140cba66a2b056db140f7198f9d8e4471403fb2fd60776bb140111382ee99307140dfa974e1ed6bb140f682edca92117140>, '{\"iou\": 0.5}', datetime.datetime(2024, 10, 24, 21, 59, 13)),\n",
       " (1979, <WKBElement at 0x7fd18a6bdae0; 0101000020ffffffff60c0bcf13e439b40c1b1b38712b8b240>, 19.9999999999983, <WKBElement at 0x7fd18a6bef50; 0103000020ffffffff010000001500000040b28866e3379b40135b772304b7b2405791f6858b3c9b40dbc7455aa5b6b2408624de6b383e9b40e2a63 ... (438 characters truncated) ... f9b40fb181853b1b9b240c5a78bc0453b9b402c8aabd195b9b2407066a4fa7d399b40b3309c82dab8b240d45cf43f93369b400000000000b8b24040b28866e3379b40135b772304b7b240>, '{\"iou\": 0.5}', datetime.datetime(2024, 10, 24, 21, 59, 13)),\n",
       " (3464, <WKBElement at 0x7fd18a6beda0; 0101000020ffffffff951143727284aa4044e170e883f7a140>, 20.000000000000874, <WKBElement at 0x7fd18a6bf0a0; 0103000020ffffffff010000001000000096fb754a8e7daa40bd7cef57a1f6a1406be69d9c8481aa40c85f0a5d32f6a14019a65b739981aa40300eb ... (278 characters truncated) ... 3aa40aa0b8756aefaa140eb2898433c80aa40ad7f593d85fea140267160bf907faa40b00326cf38fba140f34f20ceda7faa40a1325d90e1f8a14096fb754a8e7daa40bd7cef57a1f6a140>, '{\"iou\": 0.5}', datetime.datetime(2024, 10, 24, 21, 59, 13)),\n",
       " (4246, <WKBElement at 0x7fd18a6bc130; 0101000020ffffffffd908c46319e09e40ef39ebe7dade9240>, 20.000000000000043, <WKBElement at 0x7fd18a6bd060; 0103000020ffffffff0100000014000000b017d7bac5d29e4053af73eecadd9240ac2415a2f8d59e404ee64b9c92da9240684745c909db9e40aad51 ... (406 characters truncated) ... c9e4053a5d00283e89240867e0bb077d99e404cc68d9d18e792405878725072d39e40dae6e528cbe692407883cd093ad99e40102cd75821e19240b017d7bac5d29e4053af73eecadd9240>, '{\"iou\": 0.5}', datetime.datetime(2024, 10, 24, 21, 59, 13)),\n",
       " (5250, <WKBElement at 0x7fd18a6bf610; 0101000020ffffffffb6e4a2ce6e56a94099efadc65460ae40>, 19.999999999998526, <WKBElement at 0x7fd18a6bfd30; 0103000020ffffffff0100000010000000cc51e5feae50a9405786a8b5de5eae40c0fdf92a7f53a940d96880682e5eae404373d88b4553a94050ac1 ... (278 characters truncated) ... 5a9403fd6040c2867ae4057b9ec898054a9404847a12c9862ae40a3aea32bde50a940626c938dba63ae405d8ee6e91850a940b8f0f9304161ae40cc51e5feae50a9405786a8b5de5eae40>, '{\"iou\": 0.5}', datetime.datetime(2024, 10, 24, 21, 59, 13)),\n",
       " (6084, <WKBElement at 0x7fd18a6bd300; 0101000020ffffffff6a32c3839519b340b47302f765d89b40>, 19.999999999999602, <WKBElement at 0x7fd18a6bf040; 0103000020ffffffff010000000e0000001445442df915b34062fdcb1704d59b4024131d463d17b340ee4719c4c2d19b40e7aef4657918b34064266 ... (214 characters truncated) ... 9b34031d43d3c4fe69b401dc2ddc0e217b3407395b788c0e39b401160db0d6117b340476b9a70bedd9b40302ec1c03418b340e9603362c8d89b401445442df915b34062fdcb1704d59b40>, '{\"iou\": 0.5}', datetime.datetime(2024, 10, 24, 21, 59, 13)),\n",
       " (6485, <WKBElement at 0x7fd18a6bdf00; 0101000020ffffffff461fd51e3e7c9e4003f7dbbcbb519240>, 20.00000000000014, <WKBElement at 0x7fd18a7afd30; 0103000020ffffffff010000001500000066832530cd6e9e402bf64e28b64b92402163c5be98759e407402fd02594b9240ecd6ce1ad4739e4051c7c ... (438 characters truncated) ... 49e403ae71ea9f859924045596d412f729e40a3a89d9d21579240a614493e3a779e4017670af98c51924003c62b3c6a769e40000000000050924066832530cd6e9e402bf64e28b64b9240>, '{\"iou\": 0.5}', datetime.datetime(2024, 10, 24, 21, 59, 13)),\n",
       " (6622, <WKBElement at 0x7fd18a7afca0; 0101000020ffffffff045e79ecbf6c9c40c09715903812a040>, 20.000000000000494, <WKBElement at 0x7fd18a7afb80; 0103000020ffffffff010000000d000000f9e8266b64639c408bda09475c0ea04078a4212e426b9c40b6a41ccde40da0400000000000709c40f8843 ... (182 characters truncated) ... 09c402c146be12819a040dcafa537af699c40388cc12c7817a040cb48638bb6659c407a668f36f814a04089393e3dd6609c40000000000012a040f9e8266b64639c408bda09475c0ea040>, '{\"iou\": 0.5}', datetime.datetime(2024, 10, 24, 21, 59, 13)),\n",
       " (6674, <WKBElement at 0x7fd18a7af940; 0101000020fffffffff8d4f8c6236fa8405eccd8c83db8ae40>, 19.999999999999446, <WKBElement at 0x7fd18a7af5b0; 0103000020ffffffff010000000c0000007dda25395368a8400ebce816bfb5ae40db7e791f9d6ba84018367c21f0b2ae403560e309616fa840f3443 ... (150 characters truncated) ... 1a840cafb3e2509bbae405d0bace8f56ea8402f2655b43abfae4020d5eb549d6ca840701f4230e8bbae4024e6fab71b6ca840060adb8824b9ae407dda25395368a8400ebce816bfb5ae40>, '{\"iou\": 0.5}', datetime.datetime(2024, 10, 24, 21, 59, 13)),\n",
       " (7122, <WKBElement at 0x7fd18a7af640; 0101000020ffffffff2c5572c70616ab403609c72d2f46a640>, 19.99999999999983, <WKBElement at 0x7fd1f02ab670; 0103000020ffffffff010000000c000000bcb68bf5e90eab40ef2c7c59eb43a64031ce1c0af813ab403f3800efa743a6405f8cf9790a15ab40b303a ... (150 characters truncated) ... 9ab40708c523c674da6405175d1071c15ab4086f0fa8f314ca6408d3cfa0e8313ab408ed8d511df48a640841d2e307e11ab408a842aca5247a640bcb68bf5e90eab40ef2c7c59eb43a640>, '{\"iou\": 0.5}', datetime.datetime(2024, 10, 24, 21, 59, 13)),\n",
       " (7131, <WKBElement at 0x7fd1846ef400; 0101000020ffffffff15681293f9b3b1406f77f9d97725b040>, 20.00000000000065, <WKBElement at 0x7fd1846ee230; 0103000020ffffffff010000000c000000c1f21be9efb0b140a35a44c51924b040525cf950d1b1b1407114a13e7b22b0401ca9c86bddb3b140aff27 ... (150 characters truncated) ... 5b140785c2aef6628b0400df3b0e2bab3b140236aaab3e026b040e80a33ae98b2b1406ade45ad9e26b040973ef2c9eab0b140eda3b9bbe725b040c1f21be9efb0b140a35a44c51924b040>, '{\"iou\": 0.5}', datetime.datetime(2024, 10, 24, 21, 59, 13)),\n",
       " (7205, <WKBElement at 0x7fd1846ec1f0; 0101000020ffffffffe00464391efcae40f91d702808ae8a40>, 19.99999999999978, <WKBElement at 0x7fd183908d00; 0103000020ffffffff010000000c00000043da4b39c5faae40db1e224b8eae8a40d058e192a7f7ae40dd9045c4f09b8a4006a4f76fd2faae403067e ... (150 characters truncated) ... cae402f6b389924b68a4065d908841dfbae40c5b311ee9cc88a40cb7dc01b6af8ae40e64aa6368dc08a405e2178d02af5ae4060b3d36d06b88a4043da4b39c5faae40db1e224b8eae8a40>, '{\"iou\": 0.5}', datetime.datetime(2024, 10, 24, 21, 59, 13)),\n",
       " (7755, <WKBElement at 0x7fd183909ed0; 0101000020ffffffff2b0b482d4cbfac40803e840dd50e9640>, 19.99999999999888, <WKBElement at 0x7fd183ba3e20; 0103000020ffffffff01000000120000006b4a07ed0bb8ac40f33998c8060d96409b00e9c8a1bbac403a38cc42970a964002ec5f2493bbac40c6241 ... (342 characters truncated) ... dac40d646c51cff1f96400746946be9bbac4097d48acad31a964095c9ede913bfac4068b2565b24119640f72bef1b16bbac403032f747d61196406b4a07ed0bb8ac40f33998c8060d9640>, '{\"iou\": 0.5}', datetime.datetime(2024, 10, 24, 21, 59, 13)),\n",
       " (7939, <WKBElement at 0x7fd183ba3eb0; 0101000020ffffffff719074e24affa04036e8b395ef8c9440>, 20.000000000000874, <WKBElement at 0x7fd183ba3d60; 0103000020ffffffff010000000d0000003789a1ea49fda04046d79b8ade889440e2553de07efda040a894c21453839440000000000000a14049129 ... (182 characters truncated) ... 0a140f61417ee989394408ad8e77d2afda040a579eb3bd1959440f9133256d7f9a0400502ef921c93944051825db420f9a04000000000008c94403789a1ea49fda04046d79b8ade889440>, '{\"iou\": 0.5}', datetime.datetime(2024, 10, 24, 21, 59, 13)),\n",
       " (7952, <WKBElement at 0x7fd183ba39a0; 0101000020ffffffffca82521b72a1ac40640b49f9c3c19740>, 20.000000000000476, <WKBElement at 0x7fd184673dc0; 0103000020ffffffff010000000e0000003cd56cc3309cac405576b2db22bd974080d144f3d79cac40d9f47213ddb69740a78b8c862ba0ac4017cf0 ... (214 characters truncated) ... 2ac40c874f02acecf97400f84abb1839fac40efbe189a1bcd97402ae4411f1b9cac407cc5937f71ca97408691bf97ae9fac40fcaa038624c197403cd56cc3309cac405576b2db22bd9740>, '{\"iou\": 0.5}', datetime.datetime(2024, 10, 24, 21, 59, 13)),\n",
       " (8255, <WKBElement at 0x7fd184691510; 0101000020ffffffffc7eb78d1065eb3407c03424a3a6bb140>, 19.999999999999268, <WKBElement at 0x7fd1f05da530; 0103000020ffffffff010000001200000044055b23ee5bb340de179ff39c6ab140a97a59f8615bb3407a4393226169b140bcd80aafed5bb3407a2a7 ... (342 characters truncated) ... cb340d31edd86896eb140ad4e7eabad5bb340b30b2f05136eb1406c2e2ba8f25ab340ce4f83c9e36cb1408d2a2b9daf5cb34016e0a6e13e6bb14044055b23ee5bb340de179ff39c6ab140>, '{\"iou\": 0.5}', datetime.datetime(2024, 10, 24, 21, 59, 13)),\n",
       " (8497, <WKBElement at 0x7fd184691540; 0101000020ffffffff0d965b5b18529a40aa2100ca9fa3b040>, 20.000000000000338, <WKBElement at 0x7fd1826ebf10; 0103000020ffffffff010000000d000000f78099240b489a400a664801daa2b040e924cb64384b9a403c7bb629eea1b0400000000000509a40d980e ... (182 characters truncated) ... 09a40c9e1572523a5b0404146eed5a24d9a40f249390b06a5b0405a138ea638469a4026facd5369a5b04014a880ed9d469a400000000000a4b040f78099240b489a400a664801daa2b040>, '{\"iou\": 0.5}', datetime.datetime(2024, 10, 24, 21, 59, 13)),\n",
       " (8522, <WKBElement at 0x7fd1826ebeb0; 0101000020ffffffffca59caa86942ad40cb677d29305aab40>, 19.99999999999904, <WKBElement at 0x7fd1826ebfa0; 0103000020ffffffff010000000b000000404133a9043ead40e76f25681b57ab409dbb25f3db40ad405ca871297d56ab40af146a8cb943ad40d638b ... (118 characters truncated) ... 3ad40e4959534f75eab408986be09fa3fad40e903781f3a60ab40828fa049dc3dad402b4d16ed015dab408f09a6dfa43dad4000000000005aab40404133a9043ead40e76f25681b57ab40>, '{\"iou\": 0.5}', datetime.datetime(2024, 10, 24, 21, 59, 13)),\n",
       " (9086, <WKBElement at 0x7fd1826ebe50; 0101000020ffffffffa95aa62ab28fa8400f52f7ed13079840>, 19.999999999999535, <WKBElement at 0x7fd1845518d0; 0103000020ffffffff0100000014000000d3e25c45198da8402543f21e08079840709128e2e989a8401ac3369469019840b6abe06fd18ba840077c0 ... (406 characters truncated) ... da840002e6d96ce11984062de6390848da84093aef288640d984020659c4c3e8ba840c7cd2ef9250d9840094ffd54a488a8405cd23da8740a9840d3e25c45198da8402543f21e08079840>, '{\"iou\": 0.5}', datetime.datetime(2024, 10, 24, 21, 59, 13)),\n",
       " (9973, <WKBElement at 0x7fd183bf9b70; 0101000020fffffffff37a3b9e1080a940c967860f0f4ba340>, 20.000000000000483, <WKBElement at 0x7fd183bf9cc0; 0103000020ffffffff010000000f000000315c2d11e07ba940f5e1507d0348a34047dcd3b8437ca940e7f183dd5045a3409c5b040dae7ea9406ed81 ... (246 characters truncated) ... ea940647c201d9051a3406f06ffba997aa9402af0a94fc550a340fdc6b5a9867ea940efde48b7b54aa340233797cfe57da94000000000004aa340315c2d11e07ba940f5e1507d0348a340>, '{\"iou\": 0.5}', datetime.datetime(2024, 10, 24, 21, 59, 13)),\n",
       " (10415, <WKBElement at 0x7fd18a4cd450; 0101000020ffffffff3493ba5e55e39740c55d04084beda240>, 19.99999999999969, <WKBElement at 0x7fd18a4ced10; 0103000020ffffffff010000000e0000000b3e69c6dbdf9740364ec9567deda2407b2d33db40d99740634183593de9a24076f653886fde9740f5e67 ... (214 characters truncated) ... 59740b0373d107ff2a240c094003bf9de9740254a5877a0f4a2407b8a67f272dc9740ef108f4458f1a2402be436f559de9740c8856c35b2eea2400b3e69c6dbdf9740364ec9567deda240>, '{\"iou\": 0.5}', datetime.datetime(2024, 10, 24, 21, 59, 13))]"
      ]
     },
     "execution_count": 36,
     "metadata": {},
     "output_type": "execute_result"
    }
   ],
   "execution_count": 36
  },
  {
   "metadata": {
    "ExecuteTime": {
     "end_time": "2024-10-23T19:52:40.998747Z",
     "start_time": "2024-10-23T19:52:40.995992Z"
    }
   },
   "cell_type": "code",
   "source": "get_image_dimensions(app, 1)",
   "id": "1dab8f445bd33df9",
   "outputs": [
    {
     "data": {
      "text/plain": [
       "(127487, 91863)"
      ]
     },
     "execution_count": 10,
     "metadata": {},
     "output_type": "execute_result"
    }
   ],
   "execution_count": 10
  }
 ],
 "metadata": {
  "kernelspec": {
   "display_name": "Python 3 (ipykernel)",
   "language": "python",
   "name": "python3"
  },
  "language_info": {
   "codemirror_mode": {
    "name": "ipython",
    "version": 3
   },
   "file_extension": ".py",
   "mimetype": "text/x-python",
   "name": "python",
   "nbconvert_exporter": "python",
   "pygments_lexer": "ipython3",
   "version": "3.10.12"
  }
 },
 "nbformat": 4,
 "nbformat_minor": 5
}
