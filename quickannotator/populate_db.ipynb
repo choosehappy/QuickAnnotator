{
 "cells": [
  {
   "cell_type": "code",
   "id": "initial_id",
   "metadata": {
    "ExecuteTime": {
     "end_time": "2024-10-30T19:04:08.024563Z",
     "start_time": "2024-10-30T19:04:07.594355Z"
    }
   },
   "source": [
    "from geoalchemy2 import Geometry, load_spatialite\n",
    "from flask_caching import Cache\n",
    "from sqlalchemy import event, Table, insert, func\n",
    "from sqlalchemy.orm import sessionmaker\n",
    "import os\n",
    "from flask import Flask\n",
    "from quickannotator.db import Project, Image, AnnotationClass, Notification, Tile, Setting, Annotation\n",
    "from quickannotator.db import db\n",
    "import large_image\n",
    "import math\n",
    "import numpy as np \n",
    "from shapely.geometry import Point, Polygon, LineString, MultiLineString, MultiPolygon\n",
    "import random\n",
    "from shapely.affinity import translate\n",
    "import json\n",
    "from tqdm import tqdm\n",
    "import shapely\n",
    "from shapely.geometry import shape\n",
    "from api.v1.tile.helper import tiles_within_bbox\n",
    "from api.v1.annotation.helper import count_annotations_within_bbox\n",
    "import geojson"
   ],
   "outputs": [],
   "execution_count": 1
  },
  {
   "cell_type": "code",
   "id": "bca4dff6768ff12f",
   "metadata": {
    "ExecuteTime": {
     "end_time": "2024-10-30T19:04:08.030274Z",
     "start_time": "2024-10-30T19:04:08.025461Z"
    }
   },
   "source": [
    "app = Flask(\"app\")\n",
    "SearchCache = Cache(config={'CACHE_TYPE': 'SimpleCache'})\n",
    "SearchCache.init_app(app)\n",
    "app.config['SQLALCHEMY_DATABASE_URI'] = 'sqlite:///quickannotator.db'\n",
    "os.environ['SPATIALITE_LIBRARY_PATH'] = '/usr/lib/x86_64-linux-gnu/mod_spatialite.so'\n",
    "\n",
    "db.app = app\n",
    "db.init_app(app)\n",
    "with app.app_context():\n",
    "    event.listen(db.engine, 'connect', load_spatialite)"
   ],
   "outputs": [],
   "execution_count": 2
  },
  {
   "metadata": {
    "ExecuteTime": {
     "end_time": "2024-10-30T15:59:11.348468Z",
     "start_time": "2024-10-30T15:59:11.249513Z"
    }
   },
   "cell_type": "code",
   "source": [
    "def insert_project(app, db, name, description, is_dataset_large):\n",
    "    with app.app_context():\n",
    "        project = Project(name=name,\n",
    "                          description=description,\n",
    "                          is_dataset_large=is_dataset_large)\n",
    "        db.session.add(project)\n",
    "        db.session.commit()\n",
    "        \n",
    "def insert_image(app, db, project_id, name, path, height, width, dz_tilesize, embedding_coord, group_id, split):\n",
    "    with app.app_context():\n",
    "        image = Image(project_id=project_id,\n",
    "                      name=name,\n",
    "                      path=path,\n",
    "                      height=height,\n",
    "                      width=width,\n",
    "                      dz_tilesize=dz_tilesize,\n",
    "                      embedding_coord=embedding_coord,\n",
    "                      group_id=group_id,\n",
    "                      split=split)\n",
    "        db.session.add(image)\n",
    "        db.session.commit()\n",
    "\n",
    "def insert_image_by_path(app, db, project_id, full_path):\n",
    "    slide = large_image.getTileSource(full_path)\n",
    "    path = full_path.split(\"quickannotator/\")[1]\n",
    "    name = os.path.basename(full_path)\n",
    "    \n",
    "    with app.app_context():\n",
    "        image = Image(project_id=project_id,\n",
    "                      name=name,\n",
    "                      path=path,\n",
    "                      height=slide.sizeY,\n",
    "                      width=slide.sizeX,\n",
    "                      dz_tilesize=slide.tileWidth,\n",
    "                      embedding_coord=\"POINT (1 1)\",\n",
    "                      group_id=0,\n",
    "                      split=0\n",
    "                      )\n",
    "        \n",
    "        db.session.add(image)\n",
    "        db.session.commit()\n",
    "    \n",
    "def insert_annotation_class(app, db, project_id, name, color, magnification, patchsize, tilesize, dl_model_objectref):\n",
    "    with app.app_context():\n",
    "        annotation_class = AnnotationClass(project_id=project_id,\n",
    "                                           name=name,\n",
    "                                           color=color,\n",
    "                                           magnification=magnification,\n",
    "                                           patchsize=patchsize,\n",
    "                                           tilesize=tilesize,\n",
    "                                           dl_model_objectref=dl_model_objectref)\n",
    "        db.session.add(annotation_class)\n",
    "        db.session.commit()\n",
    "              \n",
    "def insert_tile(app, db, image_id, annotation_class_id, geom, seen):\n",
    "    with app.app_context():\n",
    "        tile = Tile(image_id=image_id,\n",
    "                    annotation_class_id=annotation_class_id,\n",
    "                    geom=geom,\n",
    "                    seen=seen)\n",
    "        \n",
    "        db.session.add(tile)\n",
    "        db.session.commit()\n",
    "        \n",
    "def insert_tiles(app, db, image_id, annotation_class_id):\n",
    "    image_width, image_height = get_image_dimensions(app, image_id)\n",
    "    \n",
    "    with app.app_context():\n",
    "        tile_size = AnnotationClass.query.filter_by(id=annotation_class_id).first().tilesize\n",
    "    \n",
    "    n_cols = math.ceil(image_width / tile_size)\n",
    "    n_rows = math.ceil(image_height / tile_size)\n",
    "    \n",
    "    tiles = []\n",
    "    for i in range(n_rows):\n",
    "        for j in range(n_cols):\n",
    "            t = Tile(image_id=image_id,\n",
    "                     annotation_class_id=annotation_class_id,\n",
    "                     geom=f\"POLYGON(({j*tile_size} {i*tile_size}, {j*tile_size} {(i+1)*tile_size}, {(j+1)*tile_size} {(i+1)*tile_size}, {(j+1)*tile_size} {i*tile_size}, {j*tile_size} {i*tile_size}))\",\n",
    "                     seen=2\n",
    "                     )\n",
    "            tiles.append(t)\n",
    "    with app.app_context():\n",
    "        db.session.add_all(tiles)\n",
    "        db.session.commit()\n",
    "        \n",
    "\n",
    "def annotations_within_bbox(app, db, table, x1, y1, x2, y2):\n",
    "    envelope = func.BuildMbr(x1, y1, x2, y2)\n",
    "    # Right now we are selecting by centroid and not polygon.\n",
    "    with app.app_context():\n",
    "        stmt = table.select().where(func.ST_Intersects(table.c.centroid, envelope))\n",
    "        result = db.session.execute(stmt).fetchall()\n",
    "        \n",
    "    return result\n",
    "  \n",
    "def get_image_dimensions(app, image_id):\n",
    "    with app.app_context():\n",
    "        image = Image.query.filter_by(id=image_id).first()\n",
    "        return image.width, image.height\n",
    "        \n",
    "def create_annotation_table(db, image_id, annotation_class_id, gtpred):\n",
    "    table_name = f\"{image_id}_{annotation_class_id}_{gtpred}_annotation\"\n",
    "    table = Annotation.__table__.to_metadata(db.metadata, name=table_name)\n",
    "    db.metadata.create_all(bind=db.engine, tables=[table])\n",
    "            \n",
    "def generate_random_polygon(max_area=10, centroid=(0, 0)):\n",
    "    num_points = random.randint(10, 20)  # Polygons need at least 3 points\n",
    "\n",
    "    # Generate points in polar coordinates\n",
    "    radii = np.sqrt(np.random.uniform(0, 1, num_points))  # Square root ensures uniform distribution\n",
    "    angles = np.linspace(0, 2 * np.pi, num_points, endpoint=False)\n",
    "\n",
    "    # Convert polar coordinates to Cartesian coordinates\n",
    "    points = [(r * np.cos(a), r * np.sin(a)) for r, a in zip(radii, angles)]\n",
    "\n",
    "    # Sort points to form a simple polygon\n",
    "    sorted_points = sorted(points, key=lambda p: np.arctan2(p[1], p[0]))\n",
    "\n",
    "    # Create a Polygon and scale its area\n",
    "    polygon = Polygon(sorted_points)\n",
    "\n",
    "    # Calculate scaling factor\n",
    "    current_area = polygon.area\n",
    "    if current_area > 0:\n",
    "        scaling_factor = np.sqrt(max_area / current_area)\n",
    "        scaled_points = [(x * scaling_factor, y * scaling_factor) for x, y in sorted_points]\n",
    "        polygon = Polygon(scaled_points)\n",
    "\n",
    "    polygon = translate(polygon, xoff=centroid[0], yoff=centroid[1])\n",
    "\n",
    "    return polygon\n",
    "    \n",
    "def generate_annotations(image_width, image_height, n_polygons):\n",
    "    annotations = []\n",
    "    for i in range(n_polygons):\n",
    "        c = Point(np.random.randint(image_width), np.random.randint(image_height))\n",
    "        \n",
    "        poly: Polygon = generate_random_polygon(max_area=100000, centroid=(c.x, c.y))\n",
    "        d = {\n",
    "            \"centroid\": poly.centroid.wkt,  # Adding SRID=0 for pixel-based coordinates\n",
    "            \"area\": poly.area,  # The area of the polygon\n",
    "            \"polygon\": poly.wkt,  # Adding SRID=0 for the polygon\n",
    "            \"custom_metrics\": json.dumps({\"iou\": 0.5})  # Convert custom_metrics to a JSON string\n",
    "        }\n",
    "        annotations.append(d)\n",
    "        \n",
    "    return annotations\n",
    "\n",
    "def extract_annotations_from_geojson_file(filepath):\n",
    "    with open('/home/jackson/research/data/13_266069_040_003 L02 PAS.json', 'r') as file:\n",
    "        # Load the JSON data into a Python dictionary\n",
    "        data = json.load(file)\n",
    "    \n",
    "    annotations = []\n",
    "    for i, d in enumerate(tqdm(data)):\n",
    "        shapely_geometry = shape(d['geometry'])\n",
    "        annotation = {\n",
    "            \"centroid\": shapely_geometry.centroid.wkt,\n",
    "            \"area\": shapely_geometry.area,\n",
    "            \"polygon\": shapely_geometry.wkt,\n",
    "            \"custom_metrics\": json.dumps({\"iou\": 0.5}) \n",
    "        }\n",
    "        \n",
    "        annotations.append(annotation)\n",
    "        \n",
    "    return annotations\n",
    "\n",
    "def insert_annotations(app, db, image_id, annotation_class_id, gtpred, n):\n",
    "    table_name = f\"{image_id}_{annotation_class_id}_{gtpred}_annotation\"\n",
    "\n",
    "    \n",
    "    with app.app_context():\n",
    "        table = Table(table_name, db.metadata, autoload_with=db.engine)\n",
    "        image = db.session.query(Image).filter_by(id=image_id).first()\n",
    "        annotations = generate_annotations(image.width, image.height, n)\n",
    "        \n",
    "        stmt = insert(table).values(annotations)\n",
    "        db.session.execute(stmt)\n",
    "        db.session.commit()\n",
    "        \n",
    "def insert_existing_annotations(app, db, image_id, annotation_class_id, gtpred, filepath):\n",
    "    with open(filepath, 'r') as file:\n",
    "        # Load the JSON data into a Python dictionary\n",
    "        data = json.load(file)\n",
    "    all_anno = []\n",
    "    \n",
    "    table_name = f\"{image_id}_{annotation_class_id}_{gtpred}_annotation\"\n",
    "    \n",
    "    \n",
    "    for i, d in enumerate(tqdm(data)):\n",
    "        if d['properties']['classification']['name'] == 'tubule':\n",
    "            shapely_geometry = shape(d['geometry'])\n",
    "            annotation = {\n",
    "                \"centroid\": shapely_geometry.centroid.wkt,\n",
    "                \"area\": shapely_geometry.area,\n",
    "                \"polygon\": shapely_geometry.wkt,\n",
    "                \"custom_metrics\": json.dumps({\"iou\": 0.5}) \n",
    "            }\n",
    "            \n",
    "            all_anno.append(annotation)\n",
    "        if len(all_anno)==1_000:\n",
    "            with app.app_context():\n",
    "                table = Table(table_name, db.metadata, autoload_with=db.engine)\n",
    "                stmt = insert(table).values(all_anno)\n",
    "                db.session.execute(stmt)\n",
    "                db.session.commit()\n",
    "            all_anno = []\n",
    "    \n",
    "    # commit any remaining annotations\n",
    "    with app.app_context():\n",
    "        table = Table(table_name, db.metadata, autoload_with=db.engine)\n",
    "        stmt = insert(table).values(all_anno)\n",
    "        db.session.execute(stmt)\n",
    "        db.session.commit()\n",
    "            \n",
    "def insert_qupath_geojson_file(app, db, image_id, annotation_class_id, gtpred, filepath):\n",
    "    '''\n",
    "    This is expected to be a geojson feature collection file, with each polygon being a feature.\n",
    "    \n",
    "    '''\n",
    "    with open(filepath, 'r') as file:\n",
    "        # Load the JSON data into a Python dictionary\n",
    "        data = json.load(file)[\"features\"]\n",
    "    all_anno = []\n",
    "    \n",
    "    table_name = f\"{image_id}_{annotation_class_id}_{gtpred}_annotation\"\n",
    "    \n",
    "    \n",
    "    for i, d in enumerate(tqdm(data)):\n",
    "\n",
    "        shapely_geometry = shape(d['geometry'])\n",
    "        annotation = {\n",
    "            \"centroid\": shapely_geometry.centroid.wkt,\n",
    "            \"area\": shapely_geometry.area,\n",
    "            \"polygon\": shapely_geometry.wkt,\n",
    "            \"custom_metrics\": json.dumps({\"iou\": 0.5}) \n",
    "        }\n",
    "        \n",
    "        all_anno.append(annotation)\n",
    "        \n",
    "        if len(all_anno)==1_000:\n",
    "            with app.app_context():\n",
    "                table = Table(table_name, db.metadata, autoload_with=db.engine)\n",
    "                stmt = insert(table).values(all_anno)\n",
    "                db.session.execute(stmt)\n",
    "                db.session.commit()\n",
    "            all_anno = []\n",
    "    \n",
    "    # commit any remaining annotations\n",
    "    with app.app_context():\n",
    "        table = Table(table_name, db.metadata, autoload_with=db.engine)\n",
    "        stmt = insert(table).values(all_anno)\n",
    "        db.session.execute(stmt)\n",
    "        db.session.commit()\n",
    "\n",
    "insert_qupath_geojson_file(app, db,\n",
    "                            image_id=1,\n",
    "                            annotation_class_id=1,\n",
    "                            gtpred='gt',\n",
    "                            filepath='/home/jackson/research/data/test_ndpi/13_266069_040_003 L02 PAS_tissue_mask.geojson')\n"
   ],
   "id": "209fd4ac277bf06c",
   "outputs": [
    {
     "name": "stderr",
     "output_type": "stream",
     "text": [
      "100%|██████████| 3/3 [00:00<00:00, 1072.35it/s]\n"
     ]
    }
   ],
   "execution_count": 36
  },
  {
   "metadata": {
    "ExecuteTime": {
     "end_time": "2024-10-30T17:27:30.987575Z",
     "start_time": "2024-10-30T17:27:30.777324Z"
    }
   },
   "cell_type": "code",
   "source": [
    "with app.app_context():\n",
    "    result = tiles_within_bbox(db, 1, 2, 0, 0, 60000, 60000)\n",
    "    \n",
    "print(result)"
   ],
   "id": "218d8e76bef4cb4e",
   "outputs": [
    {
     "name": "stdout",
     "output_type": "stream",
     "text": [
      "[<Tile 249>, <Tile 250>, <Tile 322>, <Tile 323>, <Tile 324>, <Tile 396>, <Tile 397>, <Tile 398>, <Tile 469>, <Tile 470>, <Tile 471>, <Tile 472>, <Tile 542>, <Tile 543>, <Tile 544>, <Tile 545>, <Tile 546>, <Tile 614>, <Tile 615>, <Tile 616>, <Tile 617>, <Tile 618>, <Tile 619>, <Tile 688>, <Tile 689>, <Tile 690>, <Tile 691>, <Tile 692>, <Tile 761>, <Tile 762>, <Tile 763>, <Tile 764>, <Tile 766>, <Tile 767>, <Tile 768>, <Tile 834>, <Tile 835>, <Tile 836>, <Tile 837>, <Tile 839>, <Tile 840>, <Tile 841>, <Tile 842>, <Tile 905>, <Tile 906>, <Tile 907>, <Tile 908>, <Tile 909>, <Tile 910>, <Tile 911>, <Tile 912>, <Tile 913>, <Tile 914>, <Tile 915>, <Tile 916>, <Tile 978>, <Tile 979>, <Tile 980>, <Tile 981>, <Tile 982>, <Tile 983>, <Tile 984>, <Tile 985>, <Tile 986>, <Tile 987>, <Tile 988>, <Tile 989>, <Tile 1051>, <Tile 1052>, <Tile 1053>, <Tile 1054>, <Tile 1055>, <Tile 1056>, <Tile 1058>, <Tile 1059>, <Tile 1060>, <Tile 1061>, <Tile 1062>, <Tile 1123>, <Tile 1124>, <Tile 1125>, <Tile 1126>, <Tile 1127>, <Tile 1128>, <Tile 1131>, <Tile 1132>, <Tile 1133>, <Tile 1134>, <Tile 1135>, <Tile 1136>, <Tile 1137>, <Tile 1195>, <Tile 1196>, <Tile 1197>, <Tile 1198>, <Tile 1199>, <Tile 1200>, <Tile 1201>, <Tile 1204>, <Tile 1205>, <Tile 1206>, <Tile 1207>, <Tile 1208>, <Tile 1209>, <Tile 1210>, <Tile 1211>, <Tile 1268>, <Tile 1269>, <Tile 1270>, <Tile 1271>, <Tile 1272>, <Tile 1273>, <Tile 1277>, <Tile 1278>, <Tile 1279>, <Tile 1280>, <Tile 1281>, <Tile 1282>, <Tile 1283>, <Tile 1284>, <Tile 1342>, <Tile 1343>, <Tile 1344>, <Tile 1345>, <Tile 1349>, <Tile 1350>, <Tile 1351>, <Tile 1352>, <Tile 1353>, <Tile 1354>, <Tile 1355>, <Tile 1356>, <Tile 1357>, <Tile 1358>, <Tile 1414>, <Tile 1415>, <Tile 1416>, <Tile 1417>, <Tile 1418>, <Tile 1422>, <Tile 1423>, <Tile 1424>, <Tile 1425>, <Tile 1426>, <Tile 1427>, <Tile 1428>, <Tile 1429>, <Tile 1430>, <Tile 1431>, <Tile 1432>, <Tile 1488>, <Tile 1489>, <Tile 1490>, <Tile 1491>, <Tile 1495>, <Tile 1496>, <Tile 1497>, <Tile 1498>, <Tile 1499>, <Tile 1500>, <Tile 1501>, <Tile 1502>, <Tile 1503>, <Tile 1504>, <Tile 1505>, <Tile 1561>, <Tile 1562>, <Tile 1563>, <Tile 1564>, <Tile 1568>, <Tile 1569>, <Tile 1570>, <Tile 1571>, <Tile 1572>, <Tile 1574>, <Tile 1575>, <Tile 1576>, <Tile 1577>, <Tile 1634>, <Tile 1635>, <Tile 1636>, <Tile 1637>, <Tile 1638>, <Tile 1642>, <Tile 1643>, <Tile 1644>, <Tile 1645>, <Tile 1647>, <Tile 1648>, <Tile 1649>, <Tile 1650>, <Tile 1651>, <Tile 1707>, <Tile 1708>, <Tile 1709>, <Tile 1710>, <Tile 1711>, <Tile 1715>, <Tile 1716>, <Tile 1717>, <Tile 1718>, <Tile 1720>, <Tile 1721>, <Tile 1722>, <Tile 1723>, <Tile 1724>, <Tile 1781>, <Tile 1782>, <Tile 1783>, <Tile 1784>, <Tile 1788>, <Tile 1789>, <Tile 1790>, <Tile 1791>, <Tile 1793>, <Tile 1794>, <Tile 1795>, <Tile 1796>, <Tile 1797>, <Tile 1855>, <Tile 1856>, <Tile 1857>, <Tile 1860>, <Tile 1861>, <Tile 1862>, <Tile 1863>, <Tile 1864>, <Tile 1865>, <Tile 1866>, <Tile 1867>, <Tile 1868>, <Tile 1869>, <Tile 1870>, <Tile 1929>, <Tile 1930>, <Tile 1931>, <Tile 1934>, <Tile 1935>, <Tile 1936>, <Tile 1937>, <Tile 1938>, <Tile 1939>, <Tile 1940>, <Tile 1941>, <Tile 1942>, <Tile 2002>, <Tile 2003>, <Tile 2004>, <Tile 2005>, <Tile 2008>, <Tile 2009>, <Tile 2010>, <Tile 2011>, <Tile 2012>, <Tile 2013>, <Tile 2014>, <Tile 2015>, <Tile 2074>, <Tile 2075>, <Tile 2076>, <Tile 2077>, <Tile 2078>, <Tile 2079>, <Tile 2082>, <Tile 2083>, <Tile 2084>, <Tile 2085>, <Tile 2086>, <Tile 2087>, <Tile 2088>, <Tile 2148>, <Tile 2149>, <Tile 2150>, <Tile 2151>, <Tile 2152>, <Tile 2153>, <Tile 2156>, <Tile 2157>, <Tile 2158>, <Tile 2159>, <Tile 2160>, <Tile 2161>, <Tile 2162>]\n"
     ]
    }
   ],
   "execution_count": 43
  },
  {
   "metadata": {
    "ExecuteTime": {
     "end_time": "2024-10-30T19:11:05.394483Z",
     "start_time": "2024-10-30T19:11:05.388055Z"
    }
   },
   "cell_type": "code",
   "source": [
    "with app.app_context():\n",
    "    table_name = '1_2_gt_annotation'\n",
    "    table = Table(table_name, db.metadata, autoload_with=db.engine)\n",
    "    \n",
    "    annotations = count_annotations_within_bbox(table, 30000,30000,60000,60000)"
   ],
   "id": "3c0ef51d9692227f",
   "outputs": [],
   "execution_count": 21
  },
  {
   "metadata": {
    "ExecuteTime": {
     "end_time": "2024-10-30T19:11:05.704425Z",
     "start_time": "2024-10-30T19:11:05.701688Z"
    }
   },
   "cell_type": "code",
   "source": "annotations",
   "id": "7cd23e5177f73798",
   "outputs": [
    {
     "data": {
      "text/plain": [
       "1231"
      ]
     },
     "execution_count": 22,
     "metadata": {},
     "output_type": "execute_result"
    }
   ],
   "execution_count": 22
  },
  {
   "metadata": {},
   "cell_type": "code",
   "outputs": [
    {
     "data": {
      "text/plain": [
       "<POLYGON ((-2.309 -0.75, -1.693 -1.23, -1.388 -1.91, -0.634 -1.951, 0 -2.207...>"
      ],
      "image/svg+xml": "<svg xmlns=\"http://www.w3.org/2000/svg\" xmlns:xlink=\"http://www.w3.org/1999/xlink\" width=\"100.0\" height=\"100.0\" viewBox=\"-2.5004513587623602 -2.5592557803691496 5.16548526388363 4.5174028373342825\" preserveAspectRatio=\"xMinYMin meet\"><g transform=\"matrix(1,0,0,-1,0,-0.6011087234040169)\"><path fill-rule=\"evenodd\" fill=\"#66cc99\" stroke=\"#555555\" stroke-width=\"0.1033097052776726\" opacity=\"0.6\" d=\"M -2.3091370897296333,-0.7502841217550894 L -1.6932208079542792,-1.2301969262823813 L -1.3876459206271101,-1.9099307571667312 L -0.6339714063053387,-1.9511633602257834 L -4.0537751329861275e-16,-2.206772399360928 L 0.7693908365607189,-2.3679415113364226 L 1.0422320312420108,-1.4345093247374519 L 1.4440178772793533,-1.0491403990434767 L 1.699213302804724,-0.5521078701822248 L 2.4737196360885423,0.0 L 2.3519194001463535,0.7641849370598324 L 1.0534778590428238,0.7653964669066483 L 1.2836791603071698,1.7668327879324057 L 0.32178907084955377,0.9903649257965925 L 3.224384641951473e-17,0.5265819735447665 L -0.32870291216820435,1.0116435414016463 L -0.7008498919261903,0.9646371202113846 L -0.8940606237219773,0.6495730657490152 L -1.1093489487207584,0.3604493234346429 L -1.4483686425613225,1.7737400220981205e-16 L -2.3091370897296333,-0.7502841217550894 z\" /></g></svg>"
     },
     "execution_count": 14,
     "metadata": {},
     "output_type": "execute_result"
    }
   ],
   "execution_count": 14,
   "source": "generate_random_polygon(max_area=10, centroid=(0, 0))",
   "id": "584dbc722c90df59"
  },
  {
   "metadata": {},
   "cell_type": "code",
   "outputs": [
    {
     "data": {
      "text/plain": [
       "[{'centroid': 'POINT (60.56744754485924 234.89904734669702)',\n",
       "  'area': 100000.00000000001,\n",
       "  'polygon': 'POLYGON ((-72.08890719140521 158.5698053560821, -113.5938061481846 14.316090686223134, 78.78331263237743 154.60332634379932, 126.36578731038618 -50.08475816773961, 117.63356929391533 168.65836404558516, 295.2101034486657 95.4464722180461, 263.4301289835106 200, 239.90057969718603 275.52485038032216, 232.85238858415886 398.2649133956455, 113.52048238944744 344.29415435734165, 10.748356095898089 424.7901105672206, -61.24533860300218 339.3072139380438, -191.33667891903093 270.82213059066834, -72.08890719140521 158.5698053560821))',\n",
       "  'custom_metrics': '{\"iou\": 0.5}'}]"
      ]
     },
     "execution_count": 15,
     "metadata": {},
     "output_type": "execute_result"
    }
   ],
   "execution_count": 15,
   "source": "generate_annotations(1000, 1000, 1)",
   "id": "fdae12eae5ad5ec6"
  },
  {
   "metadata": {},
   "cell_type": "code",
   "outputs": [
    {
     "name": "stderr",
     "output_type": "stream",
     "text": [
      "updateTableTriggers: \"table \"idx_tile_geom\" already exists\"\n",
      "/tmp/ipykernel_192564/3585515477.py:111: SAWarning: Table 'annotation' already exists within the given MetaData - not copying.\n",
      "  table = Annotation.__table__.to_metadata(db.metadata, name=table_name)\n"
     ]
    }
   ],
   "execution_count": 24,
   "source": [
    "models = [Project, Image, AnnotationClass, Notification, Tile, Setting]\n",
    "with app.app_context():\n",
    "    db.metadata.create_all(bind=db.engine, tables=[item.__table__ for item in models])\n",
    "    create_annotation_table(db, 1, 1, \"gt\")\n",
    "    create_annotation_table(db, 1, 2, \"gt\")\n",
    "    create_annotation_table(db, 2, 1, \"gt\")\n",
    "    create_annotation_table(db, 2, 2, \"gt\")\n",
    "    "
   ],
   "id": "6c470570e9995f60"
  },
  {
   "metadata": {
    "ExecuteTime": {
     "end_time": "2024-10-29T21:33:26.363946Z",
     "start_time": "2024-10-29T21:33:11.119347Z"
    }
   },
   "cell_type": "code",
   "source": [
    "insert_project(app, db, \n",
    "               name=\"example_project\", \n",
    "               description=\"test\", \n",
    "               is_dataset_large=False)\n",
    "\n",
    "insert_image_by_path(app, db,\n",
    "                     project_id=1,\n",
    "                     full_path=\"/home/jackson/research/code/HistoTools/QA_jackson/quickannotator/data/mnts/FSGS/13_266069_040_003 L02 PAS.ndpi\"\n",
    "                     )\n",
    "\n",
    "insert_image_by_path(app, db,\n",
    "                     project_id=1,\n",
    "                     full_path=\"/home/jackson/research/code/HistoTools/QA_jackson/quickannotator/data/images/1/TCGA-23-2072-01Z-00-DX1.478243FF-BFF0-48A4-ADEA-DE789331A50E.svs\")\n",
    "\n",
    "insert_annotation_class(app, db,\n",
    "                        project_id=None,\n",
    "                        name=\"Tissue Mask\",\n",
    "                        color=\"black\",\n",
    "                        magnification=None,\n",
    "                        patchsize=None,\n",
    "                        tilesize=None,\n",
    "                        dl_model_objectref=None)\n",
    "\n",
    "insert_annotation_class(app, db,\n",
    "                        project_id=1,\n",
    "                        name=\"Tubule\",\n",
    "                        color=\"red\",\n",
    "                        magnification=10,\n",
    "                        patchsize=256,\n",
    "                        tilesize=2048,\n",
    "                        dl_model_objectref=None)\n",
    "\n",
    "insert_tiles(app, db, image_id=1, annotation_class_id=2)\n",
    "\n",
    "insert_tiles(app, db, image_id=2, annotation_class_id=2)\n",
    "\n",
    "insert_annotations(app, db, image_id=2, annotation_class_id=2, gtpred=\"gt\", n=10000)\n",
    "\n",
    "insert_existing_annotations(app, db,\n",
    "                            image_id=1,\n",
    "                            annotation_class_id=2,\n",
    "                            gtpred=\"gt\",\n",
    "                            filepath='/home/jackson/research/data/test_ndpi/13_266069_040_003 L02 PAS.json'\n",
    "                            )\n",
    "\n",
    "\n",
    "insert_qupath_geojson_file(app, db,\n",
    "                            image_id=1,\n",
    "                            annotation_class_id=1,\n",
    "                            gtpred='gt',\n",
    "                            filepath='/home/jackson/research/data/test_ndpi/13_266069_040_003 L02 PAS_tissue_mask.geojson')"
   ],
   "id": "71c1d6c415fb4a5a",
   "outputs": [
    {
     "name": "stderr",
     "output_type": "stream",
     "text": [
      "100%|██████████| 88605/88605 [00:04<00:00, 17995.35it/s]\n"
     ]
    }
   ],
   "execution_count": 17
  },
  {
   "metadata": {
    "ExecuteTime": {
     "end_time": "2024-10-29T21:42:12.069935Z",
     "start_time": "2024-10-29T21:42:11.921159Z"
    }
   },
   "cell_type": "code",
   "source": "insert_tiles(app, db, image_id=2, annotation_class_id=2)",
   "id": "cf9438547618a66a",
   "outputs": [],
   "execution_count": 26
  },
  {
   "metadata": {
    "ExecuteTime": {
     "end_time": "2024-10-29T21:33:26.377570Z",
     "start_time": "2024-10-29T21:33:26.375828Z"
    }
   },
   "cell_type": "code",
   "source": "# insert_annotations(app, db, image_id=1, annotation_class_id=2, gtpred=\"gt\", n=10000)",
   "id": "3690259f296d26ee",
   "outputs": [],
   "execution_count": 19
  },
  {
   "metadata": {
    "ExecuteTime": {
     "end_time": "2024-10-29T21:33:26.384090Z",
     "start_time": "2024-10-29T21:33:26.378128Z"
    }
   },
   "cell_type": "code",
   "source": [
    "with app.app_context():\n",
    "    table_name = '1_2_gt_annotation'\n",
    "    table = Table(table_name, db.metadata, autoload_with=db.engine)\n",
    "    anns = annotations_within_bbox(app, db, table, 0,0,5000,5000)"
   ],
   "id": "e2187ac88d5fd4b5",
   "outputs": [],
   "execution_count": 20
  },
  {
   "metadata": {
    "ExecuteTime": {
     "end_time": "2024-10-29T21:33:26.386680Z",
     "start_time": "2024-10-29T21:33:26.384632Z"
    }
   },
   "cell_type": "code",
   "source": "anns",
   "id": "61a008f1cf3ee467",
   "outputs": [
    {
     "data": {
      "text/plain": [
       "[]"
      ]
     },
     "execution_count": 21,
     "metadata": {},
     "output_type": "execute_result"
    }
   ],
   "execution_count": 21
  },
  {
   "metadata": {
    "ExecuteTime": {
     "end_time": "2024-10-29T21:33:26.390468Z",
     "start_time": "2024-10-29T21:33:26.387377Z"
    }
   },
   "cell_type": "code",
   "source": "get_image_dimensions(app, 1)",
   "id": "1dab8f445bd33df9",
   "outputs": [
    {
     "data": {
      "text/plain": [
       "(150784, 71936)"
      ]
     },
     "execution_count": 22,
     "metadata": {},
     "output_type": "execute_result"
    }
   ],
   "execution_count": 22
  }
 ],
 "metadata": {
  "kernelspec": {
   "display_name": "Python 3 (ipykernel)",
   "language": "python",
   "name": "python3"
  },
  "language_info": {
   "codemirror_mode": {
    "name": "ipython",
    "version": 3
   },
   "file_extension": ".py",
   "mimetype": "text/x-python",
   "name": "python",
   "nbconvert_exporter": "python",
   "pygments_lexer": "ipython3",
   "version": "3.10.12"
  }
 },
 "nbformat": 4,
 "nbformat_minor": 5
}
