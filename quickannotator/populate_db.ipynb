{
 "cells": [
  {
   "cell_type": "code",
   "id": "initial_id",
   "metadata": {
    "ExecuteTime": {
     "end_time": "2024-10-29T21:33:10.451130Z",
     "start_time": "2024-10-29T21:33:10.445866Z"
    }
   },
   "source": [
    "from geoalchemy2 import Geometry, load_spatialite\n",
    "from flask_caching import Cache\n",
    "from sqlalchemy import event, Table, insert, func\n",
    "from sqlalchemy.orm import sessionmaker\n",
    "import os\n",
    "from flask import Flask\n",
    "from quickannotator.db import Project, Image, AnnotationClass, Notification, Tile, Setting, Annotation\n",
    "from quickannotator.db import db\n",
    "import large_image\n",
    "import math\n",
    "import numpy as np\n",
    "from shapely.geometry import Point, Polygon, LineString, MultiLineString, MultiPolygon\n",
    "import random\n",
    "from shapely.affinity import translate\n",
    "import json\n",
    "from tqdm import tqdm\n",
    "import shapely\n",
    "from shapely.geometry import shape"
   ],
   "outputs": [],
   "execution_count": 12
  },
  {
   "cell_type": "code",
   "id": "209fd4ac277bf06c",
   "metadata": {
    "ExecuteTime": {
     "end_time": "2024-10-29T21:33:10.465531Z",
     "start_time": "2024-10-29T21:33:10.452642Z"
    }
   },
   "source": [
    "def insert_project(app, db, name, description, is_dataset_large):\n",
    "    with app.app_context():\n",
    "        project = Project(name=name,\n",
    "                          description=description,\n",
    "                          is_dataset_large=is_dataset_large)\n",
    "        db.session.add(project)\n",
    "        db.session.commit()\n",
    "        \n",
    "def insert_image(app, db, project_id, name, path, height, width, dz_tilesize, embedding_coord, group_id, split):\n",
    "    with app.app_context():\n",
    "        image = Image(project_id=project_id,\n",
    "                      name=name,\n",
    "                      path=path,\n",
    "                      height=height,\n",
    "                      width=width,\n",
    "                      dz_tilesize=dz_tilesize,\n",
    "                      embedding_coord=embedding_coord,\n",
    "                      group_id=group_id,\n",
    "                      split=split)\n",
    "        db.session.add(image)\n",
    "        db.session.commit()\n",
    "\n",
    "def insert_image_by_path(app, db, project_id, full_path):\n",
    "    slide = large_image.getTileSource(full_path)\n",
    "    path = full_path.split(\"quickannotator/\")[1]\n",
    "    name = os.path.basename(full_path)\n",
    "    \n",
    "    with app.app_context():\n",
    "        image = Image(project_id=project_id,\n",
    "                      name=name,\n",
    "                      path=path,\n",
    "                      height=slide.sizeY,\n",
    "                      width=slide.sizeX,\n",
    "                      dz_tilesize=slide.tileWidth,\n",
    "                      embedding_coord=\"POINT (1 1)\",\n",
    "                      group_id=0,\n",
    "                      split=0\n",
    "                      )\n",
    "        \n",
    "        db.session.add(image)\n",
    "        db.session.commit()\n",
    "    \n",
    "def insert_annotation_class(app, db, project_id, name, color, magnification, patchsize, tilesize, dl_model_objectref):\n",
    "    with app.app_context():\n",
    "        annotation_class = AnnotationClass(project_id=project_id,\n",
    "                                           name=name,\n",
    "                                           color=color,\n",
    "                                           magnification=magnification,\n",
    "                                           patchsize=patchsize,\n",
    "                                           tilesize=tilesize,\n",
    "                                           dl_model_objectref=dl_model_objectref)\n",
    "        db.session.add(annotation_class)\n",
    "        db.session.commit()\n",
    "              \n",
    "def insert_tile(app, db, image_id, annotation_class_id, geom, seen):\n",
    "    with app.app_context():\n",
    "        tile = Tile(image_id=image_id,\n",
    "                    annotation_class_id=annotation_class_id,\n",
    "                    geom=geom,\n",
    "                    seen=seen)\n",
    "        \n",
    "        db.session.add(tile)\n",
    "        db.session.commit()\n",
    "        \n",
    "def insert_tiles(app, db, image_id, annotation_class_id):\n",
    "    image_width, image_height = get_image_dimensions(app, image_id)\n",
    "    \n",
    "    with app.app_context():\n",
    "        tile_size = AnnotationClass.query.filter_by(id=annotation_class_id).first().tilesize\n",
    "    \n",
    "    n_cols = math.ceil(image_width / tile_size)\n",
    "    n_rows = math.ceil(image_height / tile_size)\n",
    "    \n",
    "    tiles = []\n",
    "    for i in range(n_rows):\n",
    "        for j in range(n_cols):\n",
    "            t = Tile(image_id=image_id,\n",
    "                     annotation_class_id=annotation_class_id,\n",
    "                     geom=f\"POLYGON(({j*tile_size} {i*tile_size}, {j*tile_size} {(i+1)*tile_size}, {(j+1)*tile_size} {(i+1)*tile_size}, {(j+1)*tile_size} {i*tile_size}, {j*tile_size} {i*tile_size}))\",\n",
    "                     seen=2\n",
    "                     )\n",
    "            tiles.append(t)\n",
    "    with app.app_context():\n",
    "        db.session.add_all(tiles)\n",
    "        db.session.commit()\n",
    "            \n",
    "def get_tiles_within_bbox(app, image_id, annotation_class_id, x1y1, x2y2):\n",
    "    with app.app_context():\n",
    "        envelope = func.BuildMbr(x1y1[0], x1y1[1], x2y2[0], x2y2[1])\n",
    "        filter = Tile.geom.ST_intersects(envelope)\n",
    "        tiles = Tile.query.filter_by(image_id=image_id, annotation_class_id=annotation_class_id).filter(filter).all()\n",
    "        \n",
    "    return tiles\n",
    "\n",
    "def annotations_within_bbox(app, db, table, x1, y1, x2, y2):\n",
    "    envelope = func.BuildMbr(x1, y1, x2, y2)\n",
    "    # Right now we are selecting by centroid and not polygon.\n",
    "    with app.app_context():\n",
    "        stmt = table.select().where(func.ST_Intersects(table.c.centroid, envelope))\n",
    "        result = db.session.execute(stmt).fetchall()\n",
    "        \n",
    "    return result\n",
    "  \n",
    "def get_image_dimensions(app, image_id):\n",
    "    with app.app_context():\n",
    "        image = Image.query.filter_by(id=image_id).first()\n",
    "        return image.width, image.height\n",
    "        \n",
    "def create_annotation_table(db, image_id, annotation_class_id, gtpred):\n",
    "    table_name = f\"{image_id}_{annotation_class_id}_{gtpred}_annotation\"\n",
    "    table = Annotation.__table__.to_metadata(db.metadata, name=table_name)\n",
    "    db.metadata.create_all(bind=db.engine, tables=[table])\n",
    "            \n",
    "def generate_random_polygon(max_area=10, centroid=(0, 0)):\n",
    "    num_points = random.randint(10, 20)  # Polygons need at least 3 points\n",
    "\n",
    "    # Generate points in polar coordinates\n",
    "    radii = np.sqrt(np.random.uniform(0, 1, num_points))  # Square root ensures uniform distribution\n",
    "    angles = np.linspace(0, 2 * np.pi, num_points, endpoint=False)\n",
    "\n",
    "    # Convert polar coordinates to Cartesian coordinates\n",
    "    points = [(r * np.cos(a), r * np.sin(a)) for r, a in zip(radii, angles)]\n",
    "\n",
    "    # Sort points to form a simple polygon\n",
    "    sorted_points = sorted(points, key=lambda p: np.arctan2(p[1], p[0]))\n",
    "\n",
    "    # Create a Polygon and scale its area\n",
    "    polygon = Polygon(sorted_points)\n",
    "\n",
    "    # Calculate scaling factor\n",
    "    current_area = polygon.area\n",
    "    if current_area > 0:\n",
    "        scaling_factor = np.sqrt(max_area / current_area)\n",
    "        scaled_points = [(x * scaling_factor, y * scaling_factor) for x, y in sorted_points]\n",
    "        polygon = Polygon(scaled_points)\n",
    "\n",
    "    polygon = translate(polygon, xoff=centroid[0], yoff=centroid[1])\n",
    "\n",
    "    return polygon\n",
    "    \n",
    "def generate_annotations(image_width, image_height, n_polygons):\n",
    "    annotations = []\n",
    "    for i in range(n_polygons):\n",
    "        c = Point(np.random.randint(image_width), np.random.randint(image_height))\n",
    "        \n",
    "        poly: Polygon = generate_random_polygon(max_area=100000, centroid=(c.x, c.y))\n",
    "        d = {\n",
    "            \"centroid\": poly.centroid.wkt,  # Adding SRID=0 for pixel-based coordinates\n",
    "            \"area\": poly.area,  # The area of the polygon\n",
    "            \"polygon\": poly.wkt,  # Adding SRID=0 for the polygon\n",
    "            \"custom_metrics\": json.dumps({\"iou\": 0.5})  # Convert custom_metrics to a JSON string\n",
    "        }\n",
    "        annotations.append(d)\n",
    "        \n",
    "    return annotations\n",
    "\n",
    "def extract_annotations_from_geojson_file(filepath):\n",
    "    with open('/home/jackson/research/data/13_266069_040_003 L02 PAS.json', 'r') as file:\n",
    "        # Load the JSON data into a Python dictionary\n",
    "        data = json.load(file)\n",
    "    \n",
    "    annotations = []\n",
    "    for i, d in enumerate(tqdm(data)):\n",
    "        shapely_geometry = shape(d['geometry'])\n",
    "        annotation = {\n",
    "            \"centroid\": shapely_geometry.centroid.wkt,\n",
    "            \"area\": shapely_geometry.area,\n",
    "            \"polygon\": shapely_geometry.wkt,\n",
    "            \"custom_metrics\": json.dumps({\"iou\": 0.5}) \n",
    "        }\n",
    "        \n",
    "        annotations.append(annotation)\n",
    "        \n",
    "    return annotations\n",
    "\n",
    "def insert_annotations(app, db, image_id, annotation_class_id, gtpred, n):\n",
    "    table_name = f\"{image_id}_{annotation_class_id}_{gtpred}_annotation\"\n",
    "\n",
    "    \n",
    "    with app.app_context():\n",
    "        table = Table(table_name, db.metadata, autoload_with=db.engine)\n",
    "        image = db.session.query(Image).filter_by(id=image_id).first()\n",
    "        annotations = generate_annotations(image.width, image.height, n)\n",
    "        \n",
    "        stmt = insert(table).values(annotations)\n",
    "        db.session.execute(stmt)\n",
    "        db.session.commit()\n",
    "        \n",
    "def insert_existing_annotations(app, db, image_id, annotation_class_id, gtpred, filepath):\n",
    "    with open(filepath, 'r') as file:\n",
    "        # Load the JSON data into a Python dictionary\n",
    "        data = json.load(file)\n",
    "    all_anno = []\n",
    "    \n",
    "    table_name = f\"{image_id}_{annotation_class_id}_{gtpred}_annotation\"\n",
    "    \n",
    "    \n",
    "    for i, d in enumerate(tqdm(data)):\n",
    "        if d['properties']['classification']['name'] == 'tubule':\n",
    "            shapely_geometry = shape(d['geometry'])\n",
    "            annotation = {\n",
    "                \"centroid\": shapely_geometry.centroid.wkt,\n",
    "                \"area\": shapely_geometry.area,\n",
    "                \"polygon\": shapely_geometry.wkt,\n",
    "                \"custom_metrics\": json.dumps({\"iou\": 0.5}) \n",
    "            }\n",
    "            \n",
    "            all_anno.append(annotation)\n",
    "        if len(all_anno)==1_000:\n",
    "            with app.app_context():\n",
    "                table = Table(table_name, db.metadata, autoload_with=db.engine)\n",
    "                stmt = insert(table).values(all_anno)\n",
    "                db.session.execute(stmt)\n",
    "                db.session.commit()\n",
    "            all_anno = []"
   ],
   "outputs": [],
   "execution_count": 13
  },
  {
   "metadata": {
    "ExecuteTime": {
     "end_time": "2024-10-29T21:33:10.470166Z",
     "start_time": "2024-10-29T21:33:10.466391Z"
    }
   },
   "cell_type": "code",
   "source": "generate_random_polygon(max_area=10, centroid=(0, 0))",
   "id": "584dbc722c90df59",
   "outputs": [
    {
     "data": {
      "text/plain": [
       "<POLYGON ((-2.309 -0.75, -1.693 -1.23, -1.388 -1.91, -0.634 -1.951, 0 -2.207...>"
      ],
      "image/svg+xml": "<svg xmlns=\"http://www.w3.org/2000/svg\" xmlns:xlink=\"http://www.w3.org/1999/xlink\" width=\"100.0\" height=\"100.0\" viewBox=\"-2.5004513587623602 -2.5592557803691496 5.16548526388363 4.5174028373342825\" preserveAspectRatio=\"xMinYMin meet\"><g transform=\"matrix(1,0,0,-1,0,-0.6011087234040169)\"><path fill-rule=\"evenodd\" fill=\"#66cc99\" stroke=\"#555555\" stroke-width=\"0.1033097052776726\" opacity=\"0.6\" d=\"M -2.3091370897296333,-0.7502841217550894 L -1.6932208079542792,-1.2301969262823813 L -1.3876459206271101,-1.9099307571667312 L -0.6339714063053387,-1.9511633602257834 L -4.0537751329861275e-16,-2.206772399360928 L 0.7693908365607189,-2.3679415113364226 L 1.0422320312420108,-1.4345093247374519 L 1.4440178772793533,-1.0491403990434767 L 1.699213302804724,-0.5521078701822248 L 2.4737196360885423,0.0 L 2.3519194001463535,0.7641849370598324 L 1.0534778590428238,0.7653964669066483 L 1.2836791603071698,1.7668327879324057 L 0.32178907084955377,0.9903649257965925 L 3.224384641951473e-17,0.5265819735447665 L -0.32870291216820435,1.0116435414016463 L -0.7008498919261903,0.9646371202113846 L -0.8940606237219773,0.6495730657490152 L -1.1093489487207584,0.3604493234346429 L -1.4483686425613225,1.7737400220981205e-16 L -2.3091370897296333,-0.7502841217550894 z\" /></g></svg>"
     },
     "execution_count": 14,
     "metadata": {},
     "output_type": "execute_result"
    }
   ],
   "execution_count": 14
  },
  {
   "metadata": {
    "ExecuteTime": {
     "end_time": "2024-10-29T21:33:10.475082Z",
     "start_time": "2024-10-29T21:33:10.471038Z"
    }
   },
   "cell_type": "code",
   "source": "generate_annotations(1000, 1000, 1)",
   "id": "fdae12eae5ad5ec6",
   "outputs": [
    {
     "data": {
      "text/plain": [
       "[{'centroid': 'POINT (60.56744754485924 234.89904734669702)',\n",
       "  'area': 100000.00000000001,\n",
       "  'polygon': 'POLYGON ((-72.08890719140521 158.5698053560821, -113.5938061481846 14.316090686223134, 78.78331263237743 154.60332634379932, 126.36578731038618 -50.08475816773961, 117.63356929391533 168.65836404558516, 295.2101034486657 95.4464722180461, 263.4301289835106 200, 239.90057969718603 275.52485038032216, 232.85238858415886 398.2649133956455, 113.52048238944744 344.29415435734165, 10.748356095898089 424.7901105672206, -61.24533860300218 339.3072139380438, -191.33667891903093 270.82213059066834, -72.08890719140521 158.5698053560821))',\n",
       "  'custom_metrics': '{\"iou\": 0.5}'}]"
      ]
     },
     "execution_count": 15,
     "metadata": {},
     "output_type": "execute_result"
    }
   ],
   "execution_count": 15
  },
  {
   "cell_type": "code",
   "id": "6c470570e9995f60",
   "metadata": {
    "ExecuteTime": {
     "end_time": "2024-10-29T21:41:55.715696Z",
     "start_time": "2024-10-29T21:41:55.649389Z"
    }
   },
   "source": [
    "app = Flask(\"app\")\n",
    "SearchCache = Cache(config={'CACHE_TYPE': 'SimpleCache'})\n",
    "SearchCache.init_app(app)\n",
    "app.config['SQLALCHEMY_DATABASE_URI'] = 'sqlite:///quickannotator.db'\n",
    "os.environ['SPATIALITE_LIBRARY_PATH'] = '/usr/lib/x86_64-linux-gnu/mod_spatialite.so'\n",
    "\n",
    "db.app = app\n",
    "db.init_app(app)\n",
    "models = [Project, Image, AnnotationClass, Notification, Tile, Setting]\n",
    "with app.app_context():\n",
    "    event.listen(db.engine, 'connect', load_spatialite)\n",
    "    db.metadata.create_all(bind=db.engine, tables=[item.__table__ for item in models])\n",
    "    create_annotation_table(db, 1, 1, \"gt\")\n",
    "    create_annotation_table(db, 1, 2, \"gt\")\n",
    "    create_annotation_table(db, 2, 1, \"gt\")\n",
    "    create_annotation_table(db, 2, 2, \"gt\")\n",
    "    "
   ],
   "outputs": [
    {
     "name": "stderr",
     "output_type": "stream",
     "text": [
      "updateTableTriggers: \"table \"idx_tile_geom\" already exists\"\n",
      "/tmp/ipykernel_192564/3585515477.py:111: SAWarning: Table 'annotation' already exists within the given MetaData - not copying.\n",
      "  table = Annotation.__table__.to_metadata(db.metadata, name=table_name)\n"
     ]
    }
   ],
   "execution_count": 24
  },
  {
   "metadata": {
    "ExecuteTime": {
     "end_time": "2024-10-29T21:33:26.363946Z",
     "start_time": "2024-10-29T21:33:11.119347Z"
    }
   },
   "cell_type": "code",
   "source": [
    "insert_project(app, db, \n",
    "               name=\"example_project\", \n",
    "               description=\"test\", \n",
    "               is_dataset_large=False)\n",
    "\n",
    "insert_image_by_path(app, db,\n",
    "                     project_id=1,\n",
    "                     full_path=\"/home/jackson/research/code/HistoTools/QA_jackson/quickannotator/data/mnts/FSGS/13_266069_040_003 L02 PAS.ndpi\"\n",
    "                     )\n",
    "\n",
    "insert_image_by_path(app, db,\n",
    "                     project_id=1,\n",
    "                     full_path=\"/home/jackson/research/code/HistoTools/QA_jackson/quickannotator/data/images/1/TCGA-23-2072-01Z-00-DX1.478243FF-BFF0-48A4-ADEA-DE789331A50E.svs\")\n",
    "\n",
    "insert_annotation_class(app, db,\n",
    "                        project_id=None,\n",
    "                        name=\"Tissue Mask\",\n",
    "                        color=\"black\",\n",
    "                        magnification=None,\n",
    "                        patchsize=None,\n",
    "                        tilesize=None,\n",
    "                        dl_model_objectref=None)\n",
    "\n",
    "insert_annotation_class(app, db,\n",
    "                        project_id=1,\n",
    "                        name=\"Tubule\",\n",
    "                        color=\"red\",\n",
    "                        magnification=10,\n",
    "                        patchsize=256,\n",
    "                        tilesize=2048,\n",
    "                        dl_model_objectref=None)\n",
    "\n",
    "insert_tiles(app, db, image_id=1, annotation_class_id=2)\n",
    "\n",
    "insert_tiles(app, db, image_id=2, annotation_class_id=2)\n",
    "\n",
    "insert_annotations(app, db, image_id=2, annotation_class_id=2, gtpred=\"gt\", n=10000)\n",
    "\n",
    "insert_existing_annotations(app, db,\n",
    "                            image_id=1,\n",
    "                            annotation_class_id=2,\n",
    "                            gtpred=\"gt\",\n",
    "                            filepath='/home/jackson/research/data/13_266069_040_003 L02 PAS.json'\n",
    "                            )\n"
   ],
   "id": "71c1d6c415fb4a5a",
   "outputs": [
    {
     "name": "stderr",
     "output_type": "stream",
     "text": [
      "100%|██████████| 88605/88605 [00:04<00:00, 17995.35it/s]\n"
     ]
    }
   ],
   "execution_count": 17
  },
  {
   "metadata": {},
   "cell_type": "code",
   "outputs": [],
   "execution_count": null,
   "source": "",
   "id": "8f998a97944b1a"
  },
  {
   "metadata": {
    "ExecuteTime": {
     "end_time": "2024-10-29T21:42:12.069935Z",
     "start_time": "2024-10-29T21:42:11.921159Z"
    }
   },
   "cell_type": "code",
   "source": "insert_tiles(app, db, image_id=2, annotation_class_id=2)",
   "id": "cf9438547618a66a",
   "outputs": [],
   "execution_count": 26
  },
  {
   "metadata": {
    "ExecuteTime": {
     "end_time": "2024-10-29T21:33:26.374969Z",
     "start_time": "2024-10-29T21:33:26.365024Z"
    }
   },
   "cell_type": "code",
   "source": "len(get_tiles_within_bbox(app, 1, 2, [0, 0], [41000, 40000]))",
   "id": "2cb9b98a22de747f",
   "outputs": [
    {
     "data": {
      "text/plain": [
       "420"
      ]
     },
     "execution_count": 18,
     "metadata": {},
     "output_type": "execute_result"
    }
   ],
   "execution_count": 18
  },
  {
   "metadata": {
    "ExecuteTime": {
     "end_time": "2024-10-29T21:33:26.377570Z",
     "start_time": "2024-10-29T21:33:26.375828Z"
    }
   },
   "cell_type": "code",
   "source": "# insert_annotations(app, db, image_id=1, annotation_class_id=2, gtpred=\"gt\", n=10000)",
   "id": "3690259f296d26ee",
   "outputs": [],
   "execution_count": 19
  },
  {
   "metadata": {
    "ExecuteTime": {
     "end_time": "2024-10-29T21:33:26.384090Z",
     "start_time": "2024-10-29T21:33:26.378128Z"
    }
   },
   "cell_type": "code",
   "source": [
    "with app.app_context():\n",
    "    table_name = '1_2_gt_annotation'\n",
    "    table = Table(table_name, db.metadata, autoload_with=db.engine)\n",
    "    anns = annotations_within_bbox(app, db, table, 0,0,5000,5000)"
   ],
   "id": "e2187ac88d5fd4b5",
   "outputs": [],
   "execution_count": 20
  },
  {
   "metadata": {
    "ExecuteTime": {
     "end_time": "2024-10-29T21:33:26.386680Z",
     "start_time": "2024-10-29T21:33:26.384632Z"
    }
   },
   "cell_type": "code",
   "source": "anns",
   "id": "61a008f1cf3ee467",
   "outputs": [
    {
     "data": {
      "text/plain": [
       "[]"
      ]
     },
     "execution_count": 21,
     "metadata": {},
     "output_type": "execute_result"
    }
   ],
   "execution_count": 21
  },
  {
   "metadata": {
    "ExecuteTime": {
     "end_time": "2024-10-29T21:33:26.390468Z",
     "start_time": "2024-10-29T21:33:26.387377Z"
    }
   },
   "cell_type": "code",
   "source": "get_image_dimensions(app, 1)",
   "id": "1dab8f445bd33df9",
   "outputs": [
    {
     "data": {
      "text/plain": [
       "(150784, 71936)"
      ]
     },
     "execution_count": 22,
     "metadata": {},
     "output_type": "execute_result"
    }
   ],
   "execution_count": 22
  }
 ],
 "metadata": {
  "kernelspec": {
   "display_name": "Python 3 (ipykernel)",
   "language": "python",
   "name": "python3"
  },
  "language_info": {
   "codemirror_mode": {
    "name": "ipython",
    "version": 3
   },
   "file_extension": ".py",
   "mimetype": "text/x-python",
   "name": "python",
   "nbconvert_exporter": "python",
   "pygments_lexer": "ipython3",
   "version": "3.10.12"
  }
 },
 "nbformat": 4,
 "nbformat_minor": 5
}
