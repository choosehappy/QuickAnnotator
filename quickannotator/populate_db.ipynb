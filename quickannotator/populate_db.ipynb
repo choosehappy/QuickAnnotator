{
 "cells": [
  {
   "cell_type": "code",
   "execution_count": 3,
   "id": "initial_id",
   "metadata": {
    "ExecuteTime": {
     "end_time": "2024-11-08T14:35:07.546312Z",
     "start_time": "2024-11-08T14:35:06.944945Z"
    }
   },
   "outputs": [
    {
     "name": "stderr",
     "output_type": "stream",
     "text": [
      "/opt/venv/lib/python3.10/site-packages/tqdm/auto.py:21: TqdmWarning: IProgress not found. Please update jupyter and ipywidgets. See https://ipywidgets.readthedocs.io/en/stable/user_install.html\n",
      "  from .autonotebook import tqdm as notebook_tqdm\n",
      "2025-01-30 20:54:46,653\tINFO util.py:154 -- Missing packages: ['ipywidgets']. Run `pip install -U ipywidgets`, then restart the notebook server for rich notebook output.\n"
     ]
    }
   ],
   "source": [
    "from geoalchemy2 import Geometry, load_spatialite\n",
    "from sqlalchemy import event, Table, insert, func, select, text\n",
    "from sqlalchemy.orm import sessionmaker\n",
    "import os\n",
    "from flask import Flask\n",
    "from quickannotator.db import Project, Image, AnnotationClass, Notification, Tile, Setting, Annotation\n",
    "from quickannotator.db import db\n",
    "import large_image\n",
    "import math\n",
    "import numpy as np \n",
    "from shapely.geometry import Point, Polygon\n",
    "import random\n",
    "from shapely.affinity import translate\n",
    "import json\n",
    "from tqdm import tqdm\n",
    "import shapely\n",
    "from shapely.geometry import shape\n",
    "from quickannotator.api.v1.annotation.helper import count_annotations_within_bbox, delete_all_annotations\n",
    "from quickannotator.api.v1.tile.helper import reset_all_tiles_seen, get_tile_ids_within_bbox, get_tile_id_for_point\n",
    "from quickannotator.api.v1.annotation_class.helper import get_annotation_class_by_id\n",
    "from quickannotator.db import build_annotation_table_name, create_dynamic_model"
   ]
  },
  {
   "cell_type": "code",
   "execution_count": 4,
   "id": "bca4dff6768ff12f",
   "metadata": {
    "ExecuteTime": {
     "end_time": "2024-11-08T14:35:07.555966Z",
     "start_time": "2024-11-08T14:35:07.549569Z"
    }
   },
   "outputs": [],
   "source": [
    "app = Flask(\"app\")\n",
    "app.config['SQLALCHEMY_DATABASE_URI'] = 'sqlite:///quickannotator.db'\n",
    "os.environ['SPATIALITE_LIBRARY_PATH'] = '/usr/lib/x86_64-linux-gnu/mod_spatialite.so'\n",
    "\n",
    "db.app = app\n",
    "db.init_app(app)\n",
    "\n",
    "\n",
    "with app.app_context():\n",
    "    db.engine.echo = False\n",
    "    event.listen(db.engine, 'connect', load_spatialite)"
   ]
  },
  {
   "cell_type": "code",
   "execution_count": null,
   "id": "f3a5833b",
   "metadata": {},
   "outputs": [],
   "source": [
    "\n",
    "with app.app_context():\n",
    "    model = create_dynamic_model('annotation_1_2_gt')\n",
    "    result = db.session.query(model).first()\n",
    "    print(result.centroid)"
   ]
  },
  {
   "cell_type": "code",
   "execution_count": 1,
   "id": "209fd4ac277bf06c",
   "metadata": {
    "ExecuteTime": {
     "end_time": "2024-11-08T14:35:07.616656Z",
     "start_time": "2024-11-08T14:35:07.602332Z"
    }
   },
   "outputs": [],
   "source": [
    "def insert_project(app, db, name, description, is_dataset_large):\n",
    "    with app.app_context():\n",
    "        project = Project(name=name,\n",
    "                          description=description,\n",
    "                          is_dataset_large=is_dataset_large)\n",
    "        db.session.add(project)\n",
    "        db.session.commit()\n",
    "        \n",
    "def insert_image(app, db, project_id, name, path, height, width, dz_tilesize, embedding_coord, group_id, split):\n",
    "    with app.app_context():\n",
    "        image = Image(project_id=project_id,\n",
    "                      name=name,\n",
    "                      path=path,\n",
    "                      height=height,\n",
    "                      width=width,\n",
    "                      dz_tilesize=dz_tilesize,\n",
    "                      embedding_coord=embedding_coord,\n",
    "                      group_id=group_id,\n",
    "                      split=split)\n",
    "        db.session.add(image)\n",
    "        db.session.commit()\n",
    "\n",
    "def insert_image_by_path(app, db, project_id, full_path):\n",
    "    path = full_path.split(\"quickannotator/\")[1]\n",
    "    slide = large_image.getTileSource(path)\n",
    "    name = os.path.basename(full_path)\n",
    "    \n",
    "    with app.app_context():\n",
    "        image = Image(project_id=project_id,\n",
    "                      name=name,\n",
    "                      path=path,\n",
    "                      height=slide.sizeY,\n",
    "                      width=slide.sizeX,\n",
    "                      dz_tilesize=slide.tileWidth,\n",
    "                      embedding_coord=\"POINT (1 1)\",\n",
    "                      group_id=0,\n",
    "                      split=0\n",
    "                      )\n",
    "        \n",
    "        db.session.add(image)\n",
    "        db.session.commit()\n",
    "    \n",
    "def insert_annotation_class(app, db, project_id, name, color, magnification, patchsize, tilesize, dl_model_objectref):\n",
    "    with app.app_context():\n",
    "        annotation_class = AnnotationClass(project_id=project_id,\n",
    "                                           name=name,\n",
    "                                           color=color,\n",
    "                                           magnification=magnification,\n",
    "                                           patchsize=patchsize,\n",
    "                                           tilesize=tilesize,\n",
    "                                           dl_model_objectref=dl_model_objectref)\n",
    "        db.session.add(annotation_class)\n",
    "        db.session.commit()\n",
    "              \n",
    "def insert_tiles(app, db, image_id, annotation_class_id):\n",
    "    image_width, image_height = get_image_dimensions(app, image_id)\n",
    "    \n",
    "    with app.app_context():\n",
    "        tilesize = AnnotationClass.query.filter_by(id=annotation_class_id).first().tilesize\n",
    "\n",
    "\n",
    "    image_bbox = (0, 0, image_width, image_height)\n",
    "    tile_ids = get_tile_ids_within_bbox(tilesize, image_bbox, image_width, image_height)\n",
    "    tiles = [Tile(image_id=image_id, annotation_class_id=annotation_class_id, tile_id=id) for id in tile_ids]\n",
    "    \n",
    "    with app.app_context():\n",
    "        db.session.add_all(tiles)\n",
    "        db.session.commit()\n",
    "        \n",
    "  \n",
    "def get_image_dimensions(app, image_id):\n",
    "    with app.app_context():\n",
    "        image = Image.query.filter_by(id=image_id).first()\n",
    "        return image.width, image.height\n",
    "        \n",
    "def create_annotation_table(db, image_id: int, annotation_class_id: int, is_gt: bool):\n",
    "    table_name = build_annotation_table_name(image_id, annotation_class_id, is_gt=is_gt)\n",
    "    table = Annotation.__table__.to_metadata(db.metadata, name=table_name)\n",
    "    db.metadata.create_all(bind=db.engine, tables=[table])\n",
    "            \n",
    "def generate_random_polygon(max_area=10, centroid=(0, 0)):\n",
    "    num_points = random.randint(10, 20)  # Polygons need at least 3 points\n",
    "\n",
    "    # Generate points in polar coordinates\n",
    "    radii = np.sqrt(np.random.uniform(0, 1, num_points))  # Square root ensures uniform distribution\n",
    "    angles = np.linspace(0, 2 * np.pi, num_points, endpoint=False)\n",
    "\n",
    "    # Convert polar coordinates to Cartesian coordinates\n",
    "    points = [(r * np.cos(a), r * np.sin(a)) for r, a in zip(radii, angles)]\n",
    "\n",
    "    # Sort points to form a simple polygon\n",
    "    sorted_points = sorted(points, key=lambda p: np.arctan2(p[1], p[0]))\n",
    "\n",
    "    # Create a Polygon and scale its area\n",
    "    polygon = Polygon(sorted_points)\n",
    "\n",
    "    # Calculate scaling factor\n",
    "    current_area = polygon.area\n",
    "    if current_area > 0:\n",
    "        scaling_factor = np.sqrt(max_area / current_area)\n",
    "        scaled_points = [(x * scaling_factor, y * scaling_factor) for x, y in sorted_points]\n",
    "        polygon = Polygon(scaled_points)\n",
    "\n",
    "    polygon = translate(polygon, xoff=centroid[0], yoff=centroid[1])\n",
    "\n",
    "    return polygon\n",
    "    \n",
    "def generate_annotations(tilesize, image_width, image_height, n_polygons, image_id, annotation_class_id, gtpred):\n",
    "    annotations = []\n",
    "    for i in range(n_polygons):\n",
    "        c = Point(np.random.randint(image_width), np.random.randint(image_height))\n",
    "        \n",
    "        poly: Polygon = generate_random_polygon(max_area=10000, centroid=(c.x, c.y))\n",
    "        x = poly.centroid.x\n",
    "        y = poly.centroid.y\n",
    "\n",
    "        tile_id = get_tile_id_for_point(tilesize, x, y, image_width, image_height)\n",
    "\n",
    "        if tile_id:\n",
    "            d = {\n",
    "                \"image_id\": image_id,\n",
    "                \"annotation_class_id\": annotation_class_id,\n",
    "                \"isgt\": gtpred == \"gt\",\n",
    "                \"centroid\": poly.centroid.wkt,  # Adding SRID=0 for pixel-based coordinates\n",
    "                \"area\": poly.area,  # The area of the polygon\n",
    "                \"polygon\": poly.wkt,  # Adding SRID=0 for the polygon\n",
    "                \"custom_metrics\": {\"iou\": 0.5},  # Convert custom_metrics to a JSON string\n",
    "                \"tile_id\": tile_id\n",
    "            }\n",
    "            annotations.append(d)\n",
    "        \n",
    "    return annotations\n",
    "\n",
    "        \n",
    "def insert_annotations(app, db, image_id, annotation_class_id, gtpred, annotations, is_geojson=False, is_mask=False):\n",
    "    all_anno = []\n",
    "    \n",
    "    with app.app_context():\n",
    "        image_width, image_height = get_image_dimensions(app, image_id)\n",
    "        tilesize = get_annotation_class_by_id(annotation_class_id).tilesize\n",
    "        tablename = build_annotation_table_name(image_id, annotation_class_id, gtpred)\n",
    "        model = create_dynamic_model(tablename)\n",
    "\n",
    "        for i, d in enumerate(tqdm(annotations)):\n",
    "            if is_geojson:\n",
    "                if not is_mask and d['properties']['classification']['name'] != 'tubule':\n",
    "                    continue\n",
    "                shapely_geometry = shape(d['geometry'])\n",
    "            else:\n",
    "                shapely_geometry = generate_random_polygon(max_area=10000, centroid=(np.random.randint(30, image_width - 30), np.random.randint(30, image_height - 30)))\n",
    "            \n",
    "            if is_mask:\n",
    "                tile_id = None\n",
    "            else:\n",
    "                x = shapely_geometry.centroid.x\n",
    "                y = shapely_geometry.centroid.y\n",
    "                tile_id = get_tile_id_for_point(tilesize, x, y, image_width, image_height)\n",
    "\n",
    "            annotation = model(image_id=image_id,\n",
    "                               annotation_class_id=annotation_class_id,\n",
    "                               isgt=gtpred == \"gt\",\n",
    "                               centroid=shapely_geometry.centroid.wkt,\n",
    "                               area=shapely_geometry.area,\n",
    "                               polygon=shapely_geometry.wkt,\n",
    "                               custom_metrics={\"iou\": 0.5},\n",
    "                               tile_id=tile_id)\n",
    "            \n",
    "            all_anno.append(annotation)\n",
    "            \n",
    "            if len(all_anno) == 1_000:\n",
    "                db.session.bulk_save_objects(all_anno)\n",
    "                db.session.commit()\n",
    "                all_anno = []\n",
    "    \n",
    "        if all_anno:\n",
    "            db.session.bulk_save_objects(all_anno)\n",
    "            db.session.commit()\n",
    "\n",
    "def insert_existing_annotations(app, db, image_id, annotation_class_id, gtpred, filepath):\n",
    "    path = filepath.split(\"quickannotator/\")[1]\n",
    "    with open(path, 'r') as file:\n",
    "        data = json.load(file)\n",
    "    insert_annotations(app, db, image_id, annotation_class_id, gtpred, data, is_geojson=True, is_mask=False)\n",
    "\n",
    "def insert_generated_annotations(app, db, image_id, annotation_class_id, gtpred, n):\n",
    "    annotations = [None] * n  # Placeholder for generating n annotations\n",
    "    insert_annotations(app, db, image_id, annotation_class_id, gtpred, annotations, is_geojson=False, is_mask=False)\n",
    "\n",
    "def insert_geojson_mask_file(app, db, image_id, annotation_class_id, gtpred, filepath):\n",
    "    path = filepath.split(\"quickannotator/\")[1]\n",
    "    with open(path, 'r') as file:\n",
    "        data = json.load(file)[\"features\"]\n",
    "    insert_annotations(app, db, image_id, annotation_class_id, gtpred, data, is_geojson=True, is_mask=True)\n",
    "\n"
   ]
  },
  {
   "cell_type": "code",
   "execution_count": 4,
   "id": "6c470570e9995f60",
   "metadata": {
    "ExecuteTime": {
     "end_time": "2024-11-08T14:35:08.299209Z",
     "start_time": "2024-11-08T14:35:07.667888Z"
    }
   },
   "outputs": [],
   "source": [
    "models = [Project, Image, AnnotationClass, Notification, Tile, Setting]\n",
    "with app.app_context():\n",
    "    db.metadata.create_all(bind=db.engine, tables=[item.__table__ for item in models])\n",
    "    create_annotation_table(db, 1, 1, is_gt=True)\n",
    "    create_annotation_table(db, 1, 2, is_gt=True)\n",
    "    create_annotation_table(db, 1, 3, is_gt=True)\n",
    "    create_annotation_table(db, 2, 1, is_gt=True)\n",
    "    create_annotation_table(db, 2, 2, is_gt=True)\n",
    "    create_annotation_table(db, 2, 3, is_gt=True)\n",
    "\n",
    "    create_annotation_table(db, 1, 2, is_gt=False)\n",
    "    create_annotation_table(db, 1, 3, is_gt=False)\n",
    "    create_annotation_table(db, 2, 2, is_gt=False)\n",
    "    create_annotation_table(db, 2, 3, is_gt=False)\n",
    "    "
   ]
  },
  {
   "cell_type": "code",
   "execution_count": 5,
   "id": "a2bb8615",
   "metadata": {},
   "outputs": [],
   "source": [
    "with app.app_context():\n",
    "    reset_all_tiles_seen(db.session)\n",
    "    delete_all_annotations(db.session, 1, 2, False)"
   ]
  },
  {
   "cell_type": "code",
   "execution_count": 6,
   "id": "71c1d6c415fb4a5a",
   "metadata": {
    "ExecuteTime": {
     "end_time": "2024-11-08T14:41:40.317697Z",
     "start_time": "2024-11-08T14:35:08.312880Z"
    }
   },
   "outputs": [],
   "source": [
    "insert_project(app, db, \n",
    "               name=\"example_project\", \n",
    "               description=\"test\", \n",
    "               is_dataset_large=False)\n"
   ]
  },
  {
   "cell_type": "code",
   "execution_count": 7,
   "id": "a343d2e5",
   "metadata": {},
   "outputs": [],
   "source": [
    "\n",
    "insert_image_by_path(app, db,\n",
    "                     project_id=1,\n",
    "                     full_path=\"quickannotator/data/test_ndpi/13_266069_040_003 L02 PAS.ndpi\"\n",
    "                     )\n",
    "\n",
    "insert_image_by_path(app, db,\n",
    "                     project_id=1,\n",
    "                     full_path=\"quickannotator/data/test_ndpi/TCGA-23-2072-01Z-00-DX1.478243FF-BFF0-48A4-ADEA-DE789331A50E.svs\")\n"
   ]
  },
  {
   "cell_type": "code",
   "execution_count": 8,
   "id": "568ec772",
   "metadata": {},
   "outputs": [],
   "source": [
    "\n",
    "insert_annotation_class(app, db,\n",
    "                        project_id=None,\n",
    "                        name=\"Tissue Mask\",\n",
    "                        color=\"black\",\n",
    "                        magnification=None,\n",
    "                        patchsize=None,\n",
    "                        tilesize=None,\n",
    "                        dl_model_objectref=None)\n",
    "\n",
    "insert_annotation_class(app, db,\n",
    "                        project_id=1,\n",
    "                        name=\"Tubule\",\n",
    "                        color=\"red\",\n",
    "                        magnification=10,\n",
    "                        patchsize=256,\n",
    "                        tilesize=2048,\n",
    "                        dl_model_objectref=None)\n",
    "\n",
    "insert_annotation_class(app, db,\n",
    "                        project_id=1,\n",
    "                        name=\"Lumen\",\n",
    "                        color=\"blue\",\n",
    "                        magnification=10,\n",
    "                        patchsize=256,\n",
    "                        tilesize=4096,\n",
    "                        dl_model_objectref=None)\n"
   ]
  },
  {
   "cell_type": "code",
   "execution_count": 9,
   "id": "4b784cf0",
   "metadata": {},
   "outputs": [],
   "source": [
    "\n",
    "insert_tiles(app, db, image_id=1, annotation_class_id=2)\n",
    "\n",
    "insert_tiles(app, db, image_id=2, annotation_class_id=2)\n"
   ]
  },
  {
   "cell_type": "code",
   "execution_count": 10,
   "id": "84e25430",
   "metadata": {},
   "outputs": [],
   "source": [
    "\n",
    "insert_tiles(app, db, image_id=1, annotation_class_id=3)\n",
    "\n",
    "insert_tiles(app, db, image_id=2, annotation_class_id=3)\n"
   ]
  },
  {
   "cell_type": "code",
   "execution_count": 11,
   "id": "fe49e7aa",
   "metadata": {
    "ExecuteTime": {
     "end_time": "2024-11-08T14:41:54.035138Z",
     "start_time": "2024-11-08T14:41:54.017313Z"
    }
   },
   "outputs": [
    {
     "name": "stderr",
     "output_type": "stream",
     "text": [
      "/opt/QuickAnnotator/quickannotator/db/__init__.py:17: SAWarning: This declarative base already contains a class with the same class name and module name as quickannotator.db.DynamicAnnotation, and will be replaced in the string-lookup table.\n",
      "  class DynamicAnnotation(base):\n",
      "100%|██████████| 3/3 [00:00<00:00, 252.50it/s]\n"
     ]
    }
   ],
   "source": [
    "\n",
    "insert_geojson_mask_file(app, db,\n",
    "                            image_id=1,\n",
    "                            annotation_class_id=1,\n",
    "                            gtpred='gt',\n",
    "                            filepath='quickannotator/data/test_ndpi/13_266069_040_003 L02 PAS_tissue_mask.geojson')\n"
   ]
  },
  {
   "cell_type": "code",
   "execution_count": 5,
   "id": "c41c4ce245fc68d2",
   "metadata": {
    "ExecuteTime": {
     "end_time": "2024-11-08T14:41:54.012654Z",
     "start_time": "2024-11-08T14:41:40.323315Z"
    }
   },
   "outputs": [
    {
     "name": "stderr",
     "output_type": "stream",
     "text": [
      "100%|██████████| 88605/88605 [00:05<00:00, 15659.60it/s]\n"
     ]
    }
   ],
   "source": [
    "insert_existing_annotations(app, db,\n",
    "                            image_id=1,\n",
    "                            annotation_class_id=2,\n",
    "                            gtpred=\"gt\",\n",
    "                            filepath='quickannotator/data/test_ndpi/13_266069_040_003 L02 PAS.json'\n",
    "                            )"
   ]
  },
  {
   "cell_type": "code",
   "execution_count": null,
   "id": "d6877d2d",
   "metadata": {},
   "outputs": [],
   "source": [
    "\n",
    "insert_geojson_mask_file(app, db, \n",
    "                           image_id=2,\n",
    "                           annotation_class_id=1,\n",
    "                           gtpred='gt',\n",
    "                           filepath='quickannotator/data/test_ndpi/TCGA-23-2072-01Z-00-DX1.478243FF-BFF0-48A4-ADEA-DE789331A50E_tissue_mask.geojson')\n"
   ]
  },
  {
   "cell_type": "code",
   "execution_count": null,
   "id": "7863bc6c",
   "metadata": {},
   "outputs": [],
   "source": [
    "insert_generated_annotations(app, db, image_id=2, annotation_class_id=2, gtpred=\"gt\", n=1_000_000)\n",
    "insert_generated_annotations(app, db, image_id=2, annotation_class_id=3, gtpred=\"gt\", n=100_000)"
   ]
  },
  {
   "cell_type": "code",
   "execution_count": null,
   "id": "ffd977e7",
   "metadata": {},
   "outputs": [],
   "source": []
  }
 ],
 "metadata": {
  "kernelspec": {
   "display_name": "venv",
   "language": "python",
   "name": "python3"
  },
  "language_info": {
   "codemirror_mode": {
    "name": "ipython",
    "version": 3
   },
   "file_extension": ".py",
   "mimetype": "text/x-python",
   "name": "python",
   "nbconvert_exporter": "python",
   "pygments_lexer": "ipython3",
   "version": "3.10.12"
  }
 },
 "nbformat": 4,
 "nbformat_minor": 5
}
