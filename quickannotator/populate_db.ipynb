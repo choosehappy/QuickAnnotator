{
 "cells": [
  {
   "cell_type": "code",
   "id": "initial_id",
   "metadata": {
    "collapsed": true,
    "ExecuteTime": {
     "end_time": "2024-10-04T13:43:40.189676Z",
     "start_time": "2024-10-04T13:43:39.989635Z"
    }
   },
   "source": [
    "from flask_sqlalchemy import SQLAlchemy\n",
    "from sqlalchemy import Text, Column, Integer, DateTime, ForeignKey, JSON, Boolean, Float, event\n",
    "from geoalchemy2 import Geometry, load_spatialite\n",
    "from flask_caching import Cache\n",
    "from sqlalchemy import event\n",
    "import os\n",
    "from flask import Flask\n",
    "from quickannotator.db import Project, Image, AnnotationClass, Notification, Tile, Setting\n",
    "from quickannotator.db import db"
   ],
   "execution_count": 1,
   "outputs": []
  },
  {
   "metadata": {
    "ExecuteTime": {
     "end_time": "2024-10-04T14:02:17.870871Z",
     "start_time": "2024-10-04T14:02:17.865572Z"
    }
   },
   "cell_type": "code",
   "source": [
    "def insert_project(app, db, name, description, is_dataset_large):\n",
    "    with app.app_context():\n",
    "        project = Project(name=name,\n",
    "                          description=description,\n",
    "                          is_dataset_large=is_dataset_large)\n",
    "        db.session.add(project)\n",
    "        db.session.commit()\n",
    "        \n",
    "        project_path = f\"data/{project.id}\"\n",
    "        if not os.path.exists(project_path):\n",
    "            os.mkdir(project_path)\n",
    "        \n",
    "def insert_image(app, db, project_id, name, path, height, width, embedding_coord, group_id, split):\n",
    "    with app.app_context():\n",
    "        image = Image(project_id=project_id,\n",
    "                      name=name,\n",
    "                      path=path,\n",
    "                      height=height,\n",
    "                      width=width,\n",
    "                      embedding_coord=embedding_coord,\n",
    "                      group_id=group_id,\n",
    "                      split=split)\n",
    "        db.session.add(image)\n",
    "        db.session.commit()\n",
    "        \n",
    "        image_path = f\"data/{image.project_id}/{image.name}\"\n",
    "        if not os.path.exists(image_path):\n",
    "            os.mkdir(image_path)\n",
    "            open(f'{image_path}/{image.name}.pdf', 'a').close()\n",
    "        \n",
    "def insert_annotation_class(app, db, project_id, name, color, magnification, patchsize, tilesize, dl_model_objectref):\n",
    "    with app.app_context():\n",
    "        annotation_class = AnnotationClass(project_id=project_id,\n",
    "                                           name=name,\n",
    "                                           color=color,\n",
    "                                           magnification=magnification,\n",
    "                                           patchsize=patchsize,\n",
    "                                           tilesize=tilesize,\n",
    "                                           dl_model_objectref=dl_model_objectref)\n",
    "        db.session.add(annotation_class)\n",
    "        db.session.commit()\n"
   ],
   "id": "ab38c5c452938b96",
   "execution_count": 5,
   "outputs": []
  },
  {
   "metadata": {
    "ExecuteTime": {
     "end_time": "2024-10-04T13:43:40.303483Z",
     "start_time": "2024-10-04T13:43:40.274577Z"
    }
   },
   "cell_type": "code",
   "source": [
    "app = Flask(\"app\")\n",
    "SearchCache = Cache(config={'CACHE_TYPE': 'SimpleCache'})\n",
    "SearchCache.init_app(app)\n",
    "app.config['SQLALCHEMY_DATABASE_URI'] = 'sqlite:///quickannotator.db'\n",
    "os.environ['SPATIALITE_LIBRARY_PATH'] = '/usr/lib/x86_64-linux-gnu/mod_spatialite.so'\n",
    "\n",
    "db.app = app\n",
    "db.init_app(app)\n",
    "models = [Project, Image, AnnotationClass, Notification, Tile, Setting]\n",
    "with app.app_context():\n",
    "    event.listen(db.engine, 'connect', load_spatialite)\n",
    "    db.drop_all()\n",
    "    db.metadata.create_all(bind=db.engine, tables=[item.__table__ for item in models])"
   ],
   "id": "6c470570e9995f60",
   "execution_count": 3,
   "outputs": []
  },
  {
   "metadata": {
    "ExecuteTime": {
     "end_time": "2024-10-04T13:43:40.339156Z",
     "start_time": "2024-10-04T13:43:40.318055Z"
    }
   },
   "cell_type": "code",
   "source": [
    "insert_project(app, db, \n",
    "               name=\"test2\", \n",
    "               description=\"test\", \n",
    "               is_dataset_large=False)\n",
    "\n",
    "insert_image(app, db, \n",
    "             project_id=1, \n",
    "             name=\"image\", \n",
    "             path=\"/\", \n",
    "             height=1, \n",
    "             width=1, \n",
    "             embedding_coord=\"POINT(1 1)\", \n",
    "             group_id=1, \n",
    "             split=1)\n",
    "\n",
    "insert_annotation_class(app, db,\n",
    "                        project_id=None,\n",
    "                        name=\"Tissue Mask\",\n",
    "                        color=\"black\",\n",
    "                        magnification=None,\n",
    "                        patchsize=None,\n",
    "                        tilesize=None,\n",
    "                        dl_model_objectref=None)\n",
    "\n"
   ],
   "id": "71c1d6c415fb4a5a",
   "execution_count": 4,
   "outputs": []
  },
  {
   "metadata": {},
   "cell_type": "markdown",
   "source": "",
   "id": "1d4c8fe551a2c003"
  }
 ],
 "metadata": {
  "kernelspec": {
   "display_name": "Python 3",
   "language": "python",
   "name": "python3"
  },
  "language_info": {
   "codemirror_mode": {
    "name": "ipython",
    "version": 2
   },
   "file_extension": ".py",
   "mimetype": "text/x-python",
   "name": "python",
   "nbconvert_exporter": "python",
   "pygments_lexer": "ipython2",
   "version": "2.7.6"
  }
 },
 "nbformat": 4,
 "nbformat_minor": 5
}
