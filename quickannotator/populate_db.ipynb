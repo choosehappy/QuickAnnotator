{
 "cells": [
  {
   "cell_type": "code",
   "id": "initial_id",
   "metadata": {
    "ExecuteTime": {
     "end_time": "2024-10-21T22:58:16.167642Z",
     "start_time": "2024-10-21T22:58:15.824525Z"
    }
   },
   "source": [
    "from geoalchemy2 import Geometry, load_spatialite\n",
    "from flask_caching import Cache\n",
    "from sqlalchemy import event, Table, insert, func\n",
    "from sqlalchemy.orm import sessionmaker\n",
    "import os\n",
    "from flask import Flask\n",
    "from quickannotator.db import Project, Image, AnnotationClass, Notification, Tile, Setting, Annotation\n",
    "from quickannotator.db import db\n",
    "import large_image\n",
    "import math\n",
    "import numpy as np"
   ],
   "outputs": [],
   "execution_count": 1
  },
  {
   "cell_type": "code",
   "id": "ab38c5c452938b96",
   "metadata": {
    "ExecuteTime": {
     "end_time": "2024-10-21T22:58:16.186569Z",
     "start_time": "2024-10-21T22:58:16.173046Z"
    }
   },
   "source": [
    "def insert_project(app, db, name, description, is_dataset_large):\n",
    "    with app.app_context():\n",
    "        project = Project(name=name,\n",
    "                          description=description,\n",
    "                          is_dataset_large=is_dataset_large)\n",
    "        db.session.add(project)\n",
    "        db.session.commit()\n",
    "        \n",
    "def insert_image(app, db, project_id, name, path, height, width, dz_tilesize, embedding_coord, group_id, split):\n",
    "    with app.app_context():\n",
    "        image = Image(project_id=project_id,\n",
    "                      name=name,\n",
    "                      path=path,\n",
    "                      height=height,\n",
    "                      width=width,\n",
    "                      dz_tilesize=dz_tilesize,\n",
    "                      embedding_coord=embedding_coord,\n",
    "                      group_id=group_id,\n",
    "                      split=split)\n",
    "        db.session.add(image)\n",
    "        db.session.commit()\n",
    "        \n",
    "def insert_annotation_class(app, db, project_id, name, color, magnification, patchsize, tilesize, dl_model_objectref):\n",
    "    with app.app_context():\n",
    "        annotation_class = AnnotationClass(project_id=project_id,\n",
    "                                           name=name,\n",
    "                                           color=color,\n",
    "                                           magnification=magnification,\n",
    "                                           patchsize=patchsize,\n",
    "                                           tilesize=tilesize,\n",
    "                                           dl_model_objectref=dl_model_objectref)\n",
    "        db.session.add(annotation_class)\n",
    "        db.session.commit()\n",
    "              \n",
    "def insert_tile(app, db, image_id, annotation_class_id, geom, seen):\n",
    "    with app.app_context():\n",
    "        tile = Tile(image_id=image_id,\n",
    "                    annotation_class_id=annotation_class_id,\n",
    "                    geom=geom,\n",
    "                    seen=seen)\n",
    "        \n",
    "        db.session.add(tile)\n",
    "        db.session.commit()\n",
    "        \n",
    "def insert_tiles(app, db, image_id, annotation_class_id):\n",
    "    image_width, image_height = get_image_dimensions(app, image_id)\n",
    "    \n",
    "    with app.app_context():\n",
    "        tile_size = AnnotationClass.query.filter_by(id=annotation_class_id).first().tilesize\n",
    "    \n",
    "    n_cols = math.ceil(image_width / tile_size)\n",
    "    n_rows = math.ceil(image_height / tile_size)\n",
    "    \n",
    "    tiles = []\n",
    "    for i in range(n_rows):\n",
    "        for j in range(n_cols):\n",
    "            t = Tile(image_id=image_id,\n",
    "                     annotation_class_id=annotation_class_id,\n",
    "                     geom=f\"POLYGON(({j*tile_size} {i*tile_size}, {j*tile_size} {(i+1)*tile_size}, {(j+1)*tile_size} {(i+1)*tile_size}, {(j+1)*tile_size} {i*tile_size}, {j*tile_size} {i*tile_size}))\",\n",
    "                     seen=2\n",
    "                     )\n",
    "            tiles.append(t)\n",
    "    with app.app_context():\n",
    "        db.session.add_all(tiles)\n",
    "        db.session.commit()\n",
    "            \n",
    "def get_tiles_within_bbox(app, image_id, annotation_class_id, x1y1, x2y2):\n",
    "    with app.app_context():\n",
    "        envelope = func.BuildMbr(x1y1[0], x1y1[1], x2y2[0], x2y2[1])\n",
    "        filter = Tile.geom.ST_intersects(envelope)\n",
    "        tiles = Tile.query.filter_by(image_id=image_id, annotation_class_id=annotation_class_id).filter(filter).all()\n",
    "        \n",
    "    return tiles\n",
    "\n",
    "    \n",
    "def get_image_dimensions(app, image_id):\n",
    "    with app.app_context():\n",
    "        image = Image.query.filter_by(id=image_id).first()\n",
    "        return image.width, image.height\n",
    "        \n",
    "def create_annotation_table(db, image_id, annotation_class_id, gtpred):\n",
    "    table_name = f\"{image_id}_{annotation_class_id}_{gtpred}_annotation\"\n",
    "    table = Annotation.__table__.to_metadata(db.metadata, name=table_name)\n",
    "    db.metadata.create_all(bind=db.engine, tables=[table])\n",
    "    \n",
    "    \n",
    "def insert_annotation(app, db, image_id, annotation_class_id, gtpred):\n",
    "    with app.app_context():\n",
    "        table_name = f\"{image_id}_{annotation_class_id}_{gtpred}_annotation\"\n",
    "        annotation = {\"centroid\" : \"POINT(1 1)\",\n",
    "                                \"area\" : 1000,\n",
    "                                \"polygon\" : \"MULTIPOLYGON(((0 0, 0 1, 1 1, 1 0, 0 0)))\",\n",
    "                                \"custom_metrics\" : {\"iou\": 0.5}\n",
    "        }\n",
    "        \n",
    "        table = Table(table_name, db.metadata, autoload_with=db.engine)\n",
    "        stmt = insert(table).values(annotation)\n",
    "        db.session.execute(stmt)\n",
    "        db.session.commit()"
   ],
   "outputs": [],
   "execution_count": 2
  },
  {
   "cell_type": "code",
   "id": "6c470570e9995f60",
   "metadata": {
    "ExecuteTime": {
     "end_time": "2024-10-21T22:58:16.520361Z",
     "start_time": "2024-10-21T22:58:16.250563Z"
    }
   },
   "source": [
    "app = Flask(\"app\")\n",
    "SearchCache = Cache(config={'CACHE_TYPE': 'SimpleCache'})\n",
    "SearchCache.init_app(app)\n",
    "app.config['SQLALCHEMY_DATABASE_URI'] = 'sqlite:///quickannotator.db'\n",
    "os.environ['SPATIALITE_LIBRARY_PATH'] = '/usr/lib/x86_64-linux-gnu/mod_spatialite.so'\n",
    "\n",
    "db.app = app\n",
    "db.init_app(app)\n",
    "models = [Project, Image, AnnotationClass, Notification, Tile, Setting]\n",
    "with app.app_context():\n",
    "    event.listen(db.engine, 'connect', load_spatialite)\n",
    "    db.drop_all()\n",
    "    db.metadata.create_all(bind=db.engine, tables=[item.__table__ for item in models])\n",
    "\n",
    "    create_annotation_table(db, 1, 1, \"gt\")"
   ],
   "outputs": [],
   "execution_count": 3
  },
  {
   "metadata": {
    "ExecuteTime": {
     "end_time": "2024-10-21T22:58:16.838042Z",
     "start_time": "2024-10-21T22:58:16.533846Z"
    }
   },
   "cell_type": "code",
   "source": [
    "insert_project(app, db, \n",
    "               name=\"example_project\", \n",
    "               description=\"test\", \n",
    "               is_dataset_large=False)\n",
    "\n",
    "full_path = \"/home/jackson/code/research/histotools/QuickAnnotator/quickannotator/data/images/1/TCGA-23-2072-01Z-00-DX1.478243FF-BFF0-48A4-ADEA-DE789331A50E.svs\"\n",
    "\n",
    "path = full_path.split(\"quickannotator/\")[1]\n",
    "\n",
    "slide = large_image.getTileSource(full_path)\n",
    "insert_image(app, db, \n",
    "             project_id=1, \n",
    "             name=os.path.basename(path), \n",
    "             path=path, \n",
    "             height=slide.sizeY, \n",
    "             width=slide.sizeX, \n",
    "             dz_tilesize=slide.tileWidth,\n",
    "             embedding_coord=\"POINT(1 1)\", \n",
    "             group_id=1, \n",
    "             split=1)\n",
    "\n",
    "insert_annotation_class(app, db,\n",
    "                        project_id=None,\n",
    "                        name=\"Tissue Mask\",\n",
    "                        color=\"black\",\n",
    "                        magnification=None,\n",
    "                        patchsize=None,\n",
    "                        tilesize=None,\n",
    "                        dl_model_objectref=None)\n",
    "\n",
    "insert_annotation_class(app, db,\n",
    "                        project_id=1,\n",
    "                        name=\"Tubule\",\n",
    "                        color=\"red\",\n",
    "                        magnification=10,\n",
    "                        patchsize=256,\n",
    "                        tilesize=2048,\n",
    "                        dl_model_objectref=None)\n",
    "\n",
    "insert_annotation(app, db, 1, 1, \"gt\")\n",
    "\n",
    "insert_tiles(app, db, image_id=1, annotation_class_id=2)"
   ],
   "id": "71c1d6c415fb4a5a",
   "outputs": [],
   "execution_count": 4
  },
  {
   "metadata": {
    "ExecuteTime": {
     "end_time": "2024-10-21T22:58:16.869398Z",
     "start_time": "2024-10-21T22:58:16.845629Z"
    }
   },
   "cell_type": "code",
   "source": "len(get_tiles_within_bbox(app, 1, 2, [0, 0], [41000, 40000]))",
   "id": "2cb9b98a22de747f",
   "outputs": [
    {
     "data": {
      "text/plain": [
       "420"
      ]
     },
     "execution_count": 5,
     "metadata": {},
     "output_type": "execute_result"
    }
   ],
   "execution_count": 5
  },
  {
   "metadata": {
    "ExecuteTime": {
     "end_time": "2024-10-21T22:58:16.904018Z",
     "start_time": "2024-10-21T22:58:16.900552Z"
    }
   },
   "cell_type": "code",
   "source": "",
   "id": "3690259f296d26ee",
   "outputs": [],
   "execution_count": null
  },
  {
   "metadata": {
    "ExecuteTime": {
     "end_time": "2024-10-21T22:58:16.966879Z",
     "start_time": "2024-10-21T22:58:16.956226Z"
    }
   },
   "cell_type": "code",
   "source": "get_image_dimensions(app, 1)",
   "id": "1dab8f445bd33df9",
   "outputs": [
    {
     "data": {
      "text/plain": [
       "(127487, 91863)"
      ]
     },
     "execution_count": 6,
     "metadata": {},
     "output_type": "execute_result"
    }
   ],
   "execution_count": 6
  }
 ],
 "metadata": {
  "kernelspec": {
   "display_name": "Python 3 (ipykernel)",
   "language": "python",
   "name": "python3"
  },
  "language_info": {
   "codemirror_mode": {
    "name": "ipython",
    "version": 3
   },
   "file_extension": ".py",
   "mimetype": "text/x-python",
   "name": "python",
   "nbconvert_exporter": "python",
   "pygments_lexer": "ipython3",
   "version": "3.10.12"
  }
 },
 "nbformat": 4,
 "nbformat_minor": 5
}
