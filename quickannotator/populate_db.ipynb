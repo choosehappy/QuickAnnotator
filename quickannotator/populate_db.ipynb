{
 "cells": [
  {
   "cell_type": "code",
   "id": "initial_id",
   "metadata": {
    "ExecuteTime": {
     "end_time": "2024-10-18T13:26:52.075993Z",
     "start_time": "2024-10-18T13:26:52.072588Z"
    }
   },
   "source": [
    "from geoalchemy2 import Geometry, load_spatialite\n",
    "from flask_caching import Cache\n",
    "from sqlalchemy import event, Table, insert\n",
    "from sqlalchemy.orm import sessionmaker\n",
    "import os\n",
    "from flask import Flask\n",
    "from quickannotator.db import Project, Image, AnnotationClass, Notification, Tile, Setting, Annotation\n",
    "from quickannotator.db import db\n",
    "import large_image"
   ],
   "outputs": [],
   "execution_count": 82
  },
  {
   "cell_type": "code",
   "id": "ab38c5c452938b96",
   "metadata": {
    "ExecuteTime": {
     "end_time": "2024-10-18T13:26:52.127902Z",
     "start_time": "2024-10-18T13:26:52.120353Z"
    }
   },
   "source": [
    "def insert_project(app, db, name, description, is_dataset_large):\n",
    "    with app.app_context():\n",
    "        project = Project(name=name,\n",
    "                          description=description,\n",
    "                          is_dataset_large=is_dataset_large)\n",
    "        db.session.add(project)\n",
    "        db.session.commit()\n",
    "        \n",
    "        project_path = f\"data/{project.id}\"\n",
    "        if not os.path.exists(project_path):\n",
    "            os.mkdir(project_path)\n",
    "        \n",
    "def insert_image(app, db, project_id, name, path, height, width, dz_tilesize, embedding_coord, group_id, split):\n",
    "    with app.app_context():\n",
    "        image = Image(project_id=project_id,\n",
    "                      name=name,\n",
    "                      path=path,\n",
    "                      height=height,\n",
    "                      width=width,\n",
    "                      dz_tilesize=dz_tilesize,\n",
    "                      embedding_coord=embedding_coord,\n",
    "                      group_id=group_id,\n",
    "                      split=split)\n",
    "        db.session.add(image)\n",
    "        db.session.commit()\n",
    "        \n",
    "def insert_annotation_class(app, db, project_id, name, color, magnification, patchsize, tilesize, dl_model_objectref):\n",
    "    with app.app_context():\n",
    "        annotation_class = AnnotationClass(project_id=project_id,\n",
    "                                           name=name,\n",
    "                                           color=color,\n",
    "                                           magnification=magnification,\n",
    "                                           patchsize=patchsize,\n",
    "                                           tilesize=tilesize,\n",
    "                                           dl_model_objectref=dl_model_objectref)\n",
    "        db.session.add(annotation_class)\n",
    "        db.session.commit()\n",
    "        \n",
    "def insert_annotation(app, db, image_id, annotation_class_id, gtpred):\n",
    "    with app.app_context():\n",
    "        table_name = f\"{image_id}_{annotation_class_id}_{gtpred}_annotation\"\n",
    "        annotation = Annotation(centroid=\"POINT(1 1)\",\n",
    "                                area=1000,\n",
    "                                polygon=\"MULTIPOLYGON(((0 0, 0 1, 1 1, 1 0, 0 0)))\",\n",
    "                                custom_metrics={\"iou\": 0.5})\n",
    "        \n",
    "        table = Table(table_name, db.metadata, autoload_with=db.engine)\n",
    "        stmt = table.insert().values([annotation])\n",
    "        db.session.execute(stmt)\n",
    "        db.session.commit()\n",
    "        \n",
    "\n",
    "def create_annotation_table(db, image_id, annotation_class_id, gtpred):\n",
    "    table_name = f\"{image_id}_{annotation_class_id}_{gtpred}_annotation\"\n",
    "    table = Annotation.__table__.to_metadata(db.metadata, name=table_name)\n",
    "    db.metadata.create_all(bind=db.engine, tables=[table])\n",
    "    \n",
    "        "
   ],
   "outputs": [],
   "execution_count": 83
  },
  {
   "cell_type": "code",
   "id": "6c470570e9995f60",
   "metadata": {
    "ExecuteTime": {
     "end_time": "2024-10-18T13:26:52.413411Z",
     "start_time": "2024-10-18T13:26:52.173061Z"
    }
   },
   "source": [
    "app = Flask(\"app\")\n",
    "SearchCache = Cache(config={'CACHE_TYPE': 'SimpleCache'})\n",
    "SearchCache.init_app(app)\n",
    "app.config['SQLALCHEMY_DATABASE_URI'] = 'sqlite:///quickannotator.db'\n",
    "os.environ['SPATIALITE_LIBRARY_PATH'] = '/usr/lib/x86_64-linux-gnu/mod_spatialite.so'\n",
    "\n",
    "db.app = app\n",
    "db.init_app(app)\n",
    "models = [Project, Image, AnnotationClass, Notification, Tile, Setting]\n",
    "with app.app_context():\n",
    "    event.listen(db.engine, 'connect', load_spatialite)\n",
    "    db.drop_all()\n",
    "    db.metadata.create_all(bind=db.engine, tables=[item.__table__ for item in models])\n",
    "\n",
    "    create_annotation_table(db, 1, 1, \"gt\")"
   ],
   "outputs": [
    {
     "name": "stderr",
     "output_type": "stream",
     "text": [
      "/tmp/ipykernel_160875/2472280254.py:55: SAWarning: Table 'annotation' already exists within the given MetaData - not copying.\n",
      "  table = Annotation.__table__.to_metadata(db.metadata, name=table_name)\n"
     ]
    }
   ],
   "execution_count": 84
  },
  {
   "metadata": {
    "ExecuteTime": {
     "end_time": "2024-10-18T13:26:52.431691Z",
     "start_time": "2024-10-18T13:26:52.429614Z"
    }
   },
   "cell_type": "code",
   "source": [
    "path = \"data/images/1/TCGA-23-2072-01Z-00-DX1.478243FF-BFF0-48A4-ADEA-DE789331A50E.svs\"\n",
    "slide = large_image.open(path)"
   ],
   "id": "55c483c3d3acfd5c",
   "outputs": [],
   "execution_count": 85
  },
  {
   "metadata": {
    "ExecuteTime": {
     "end_time": "2024-10-18T13:26:52.487623Z",
     "start_time": "2024-10-18T13:26:52.473104Z"
    }
   },
   "cell_type": "code",
   "source": [
    "insert_project(app, db, \n",
    "               name=\"example_project\", \n",
    "               description=\"test\", \n",
    "               is_dataset_large=False)\n",
    "\n",
    "insert_image(app, db, \n",
    "             project_id=1, \n",
    "             name=os.path.basename(path), \n",
    "             path=path, \n",
    "             height=slide.sizeY, \n",
    "             width=slide.sizeX, \n",
    "             dz_tilesize=slide.tileWidth,\n",
    "             embedding_coord=\"POINT(1 1)\", \n",
    "             group_id=1, \n",
    "             split=1)\n",
    "\n",
    "insert_annotation_class(app, db,\n",
    "                        project_id=None,\n",
    "                        name=\"Tissue Mask\",\n",
    "                        color=\"black\",\n",
    "                        magnification=None,\n",
    "                        patchsize=None,\n",
    "                        tilesize=None,\n",
    "                        dl_model_objectref=None)\n",
    "\n"
   ],
   "id": "71c1d6c415fb4a5a",
   "outputs": [],
   "execution_count": 86
  },
  {
   "metadata": {
    "ExecuteTime": {
     "end_time": "2024-10-18T13:26:52.527641Z",
     "start_time": "2024-10-18T13:26:52.524076Z"
    }
   },
   "cell_type": "code",
   "source": [
    "def insert_annotation(app, db, image_id, annotation_class_id, gtpred):\n",
    "    with app.app_context():\n",
    "        table_name = f\"{image_id}_{annotation_class_id}_{gtpred}_annotation\"\n",
    "        annotation = {\"centroid\" : \"POINT(1 1)\",\n",
    "                                \"area\" : 1000,\n",
    "                                \"polygon\" : \"MULTIPOLYGON(((0 0, 0 1, 1 1, 1 0, 0 0)))\",\n",
    "                                \"custom_metrics\" : {\"iou\": 0.5}\n",
    "        }\n",
    "        \n",
    "        \n",
    "        \n",
    "        table = Table(table_name, db.metadata, autoload_with=db.engine)\n",
    "        stmt = insert(table).values(annotation)\n",
    "        db.session.execute(stmt)\n",
    "        db.session.commit()"
   ],
   "id": "4c5a281db4d6d8fa",
   "outputs": [],
   "execution_count": 87
  },
  {
   "metadata": {
    "ExecuteTime": {
     "end_time": "2024-10-18T13:26:52.611820Z",
     "start_time": "2024-10-18T13:26:52.575770Z"
    }
   },
   "cell_type": "code",
   "source": "insert_annotation(app, db, 1, 1, \"gt\")",
   "id": "2138964a84ad5a08",
   "outputs": [],
   "execution_count": 88
  },
  {
   "metadata": {
    "ExecuteTime": {
     "end_time": "2024-10-18T13:26:52.628564Z",
     "start_time": "2024-10-18T13:26:52.624262Z"
    }
   },
   "cell_type": "code",
   "source": [
    "table_name = f\"1_1_gt_annotation\"\n",
    "\n",
    "\n",
    "\n",
    "with app.app_context():\n",
    "    table = Table(table_name, db.metadata, autoload_with=db.engine)\n",
    "    stmt = table.select()\n",
    "    result = db.session.execute(stmt)\n",
    "\n"
   ],
   "id": "6950eb8402658ce9",
   "outputs": [],
   "execution_count": 89
  },
  {
   "metadata": {
    "ExecuteTime": {
     "end_time": "2024-10-18T13:26:52.681536Z",
     "start_time": "2024-10-18T13:26:52.677892Z"
    }
   },
   "cell_type": "code",
   "source": "result.fetchall()",
   "id": "c79ec8c5b75033a8",
   "outputs": [
    {
     "data": {
      "text/plain": [
       "[(1, <WKBElement at 0x796de9e7e170; 0101000020ffffffff000000000000f03f000000000000f03f>, 1000.0, <WKBElement at 0x796de9e7cb50; 0106000020ffffffff0100000001030000000100000005000000000000000000000000000000000000000000000000000000000000000000f03f000000000000f03f000000000000f03f000000000000f03f000000000000000000000000000000000000000000000000>, {'iou': 0.5}, datetime.datetime(2024, 10, 18, 13, 26, 52))]"
      ]
     },
     "execution_count": 90,
     "metadata": {},
     "output_type": "execute_result"
    }
   ],
   "execution_count": 90
  },
  {
   "metadata": {},
   "cell_type": "markdown",
   "source": "",
   "id": "d49ca56677445216"
  },
  {
   "metadata": {},
   "cell_type": "markdown",
   "source": "",
   "id": "1677736762c64bca"
  },
  {
   "metadata": {
    "ExecuteTime": {
     "end_time": "2024-10-18T13:26:52.730601Z",
     "start_time": "2024-10-18T13:26:52.728612Z"
    }
   },
   "cell_type": "code",
   "source": "",
   "id": "db469bef1347163e",
   "outputs": [],
   "execution_count": null
  }
 ],
 "metadata": {
  "kernelspec": {
   "display_name": "Python 3 (ipykernel)",
   "language": "python",
   "name": "python3"
  },
  "language_info": {
   "codemirror_mode": {
    "name": "ipython",
    "version": 3
   },
   "file_extension": ".py",
   "mimetype": "text/x-python",
   "name": "python",
   "nbconvert_exporter": "python",
   "pygments_lexer": "ipython3",
   "version": "3.10.12"
  }
 },
 "nbformat": 4,
 "nbformat_minor": 5
}
