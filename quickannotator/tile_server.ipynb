{
 "cells": [
  {
   "cell_type": "code",
   "id": "initial_id",
   "metadata": {
    "collapsed": true,
    "ExecuteTime": {
     "end_time": "2024-10-16T21:40:33.937241Z",
     "start_time": "2024-10-16T21:40:33.386400Z"
    }
   },
   "source": [
    "import openslide as ops\n",
    "import PIL\n",
    "import openslide.deepzoom as deepzoom\n",
    "import large_image\n",
    "import matplotlib.pyplot as plt\n",
    "import large_image"
   ],
   "outputs": [],
   "execution_count": 1
  },
  {
   "metadata": {
    "ExecuteTime": {
     "end_time": "2024-10-16T21:40:33.968630Z",
     "start_time": "2024-10-16T21:40:33.957803Z"
    }
   },
   "cell_type": "code",
   "source": [
    "def getTileSize(s: ops.OpenSlide):\n",
    "    \"\"\"\n",
    "    Get the tile size.  The tile size isn't in the official openslide\n",
    "    interface documentation, but every example has the tile size in the\n",
    "    properties.  If the tile size has an excessive aspect ratio or isn't\n",
    "    set, fall back to a default of 256 x 256.  The read_region function\n",
    "    abstracts reading the tiles, so this may be less efficient, but will\n",
    "    still work.\n",
    "    \"\"\"\n",
    "    # Try to read it, but fall back to 256 if it isn't set.\n",
    "    width = height = 256\n",
    "    try:\n",
    "        width = int(s.properties[\n",
    "            'openslide.level[0].tile-width'])\n",
    "    except (ValueError, KeyError):\n",
    "        pass\n",
    "    try:\n",
    "        height = int(s.properties[\n",
    "            'openslide.level[0].tile-height'])\n",
    "    except (ValueError, KeyError):\n",
    "        pass\n",
    "    # If the tile size is too small (<4) or wrong (<=0), use a default value\n",
    "    if width < 4:\n",
    "        width = 256\n",
    "    if height < 4:\n",
    "        height = 256\n",
    "    # If the tile has an excessive aspect ratio, use default values\n",
    "    if max(width, height) / min(width, height) >= 4:\n",
    "        width = height = 256\n",
    "    # Don't let tiles be bigger than the whole image.\n",
    "    tileWidth = min(width, s.level_dimensions[-1][0])\n",
    "    tileHeight = min(height, s.level_dimensions[-1][1])\n",
    "    \n",
    "    return tileWidth, tileHeight\n",
    "\n",
    "def getTile(x, y, z, slide: ops.OpenSlide, tileWidth, tileHeight):\n",
    "    # When we read a region from the SVS, we have to ask for it in the\n",
    "    # SVS level 0 coordinate system.  Our x and y is in tile space at the\n",
    "    # specified z level, so the offset in SVS level 0 coordinates has to be\n",
    "    # scaled by the tile size and by the z level.\n",
    "    scale = 2 ** (slide.level_count - 1 - z)\n",
    "    offsetx = x * tileWidth * scale\n",
    "    offsety = y * tileHeight * scale\n",
    "\n",
    "    retries = 3\n",
    "    while retries > 0:\n",
    "        try:\n",
    "            tile = slide.read_region(\n",
    "                (offsetx, offsety), z,\n",
    "                (tileWidth * scale,\n",
    "                 tileHeight * scale))\n",
    "            break\n",
    "        except ops.lowlevel.OpenSlideError as exc:\n",
    "            raise exc\n",
    "    # Always scale to the svs level 0 tile size.\n",
    "    if scale != 1:\n",
    "        img = tile.resize((tileWidth, tileHeight), getattr(PIL.Image, 'Resampling', PIL.Image).LANCZOS)\n",
    "    return img\n",
    "        \n",
    "        "
   ],
   "id": "483dc1f6d9e1fbf9",
   "outputs": [],
   "execution_count": 2
  },
  {
   "metadata": {
    "ExecuteTime": {
     "end_time": "2024-10-16T21:40:44.727207Z",
     "start_time": "2024-10-16T21:40:44.695923Z"
    }
   },
   "cell_type": "code",
   "source": [
    "# test deepzoom image\n",
    "full_path = \"/home/jackson/code/research/histotools/QuickAnnotator/quickannotator/data/example_project/example_image/example_image.svs\"\n",
    "\n",
    "slide = ops.OpenSlide(full_path)\n",
    "# dz = deepzoom.DeepZoomGenerator(slide, tile_size=254, overlap=1)"
   ],
   "id": "2fbb9996e1359527",
   "outputs": [],
   "execution_count": 3
  },
  {
   "metadata": {
    "ExecuteTime": {
     "end_time": "2024-10-16T21:41:24.468572Z",
     "start_time": "2024-10-16T21:41:24.460140Z"
    }
   },
   "cell_type": "code",
   "source": "w, h = getTileSize(slide)",
   "id": "ecd062272fd9fc22",
   "outputs": [],
   "execution_count": 4
  },
  {
   "metadata": {
    "ExecuteTime": {
     "end_time": "2024-10-16T21:41:32.360555Z",
     "start_time": "2024-10-16T21:41:32.343399Z"
    }
   },
   "cell_type": "code",
   "source": "w",
   "id": "f7a8644eef584521",
   "outputs": [
    {
     "data": {
      "text/plain": [
       "240"
      ]
     },
     "execution_count": 5,
     "metadata": {},
     "output_type": "execute_result"
    }
   ],
   "execution_count": 5
  },
  {
   "metadata": {
    "ExecuteTime": {
     "end_time": "2024-10-16T21:41:37.220053Z",
     "start_time": "2024-10-16T21:41:37.211832Z"
    }
   },
   "cell_type": "code",
   "source": "h",
   "id": "4cc6e7235e51f549",
   "outputs": [
    {
     "data": {
      "text/plain": [
       "240"
      ]
     },
     "execution_count": 6,
     "metadata": {},
     "output_type": "execute_result"
    }
   ],
   "execution_count": 6
  },
  {
   "metadata": {
    "ExecuteTime": {
     "end_time": "2024-10-16T22:07:04.710288Z",
     "start_time": "2024-10-16T22:07:04.612423Z"
    }
   },
   "cell_type": "code",
   "source": "getTile(0, 0, 4, slide, w, h)",
   "id": "ca275581e910af4a",
   "outputs": [
    {
     "ename": "TypeError",
     "evalue": "can't multiply sequence by non-int of type 'float'",
     "output_type": "error",
     "traceback": [
      "\u001B[0;31m---------------------------------------------------------------------------\u001B[0m",
      "\u001B[0;31mTypeError\u001B[0m                                 Traceback (most recent call last)",
      "Cell \u001B[0;32mIn[13], line 1\u001B[0m\n\u001B[0;32m----> 1\u001B[0m \u001B[43mgetTile\u001B[49m\u001B[43m(\u001B[49m\u001B[38;5;241;43m0\u001B[39;49m\u001B[43m,\u001B[49m\u001B[43m \u001B[49m\u001B[38;5;241;43m0\u001B[39;49m\u001B[43m,\u001B[49m\u001B[43m \u001B[49m\u001B[38;5;241;43m4\u001B[39;49m\u001B[43m,\u001B[49m\u001B[43m \u001B[49m\u001B[43mslide\u001B[49m\u001B[43m,\u001B[49m\u001B[43m \u001B[49m\u001B[43mw\u001B[49m\u001B[43m,\u001B[49m\u001B[43m \u001B[49m\u001B[43mh\u001B[49m\u001B[43m)\u001B[49m\n",
      "Cell \u001B[0;32mIn[2], line 48\u001B[0m, in \u001B[0;36mgetTile\u001B[0;34m(x, y, z, slide, tileWidth, tileHeight)\u001B[0m\n\u001B[1;32m     46\u001B[0m \u001B[38;5;28;01mwhile\u001B[39;00m retries \u001B[38;5;241m>\u001B[39m \u001B[38;5;241m0\u001B[39m:\n\u001B[1;32m     47\u001B[0m     \u001B[38;5;28;01mtry\u001B[39;00m:\n\u001B[0;32m---> 48\u001B[0m         tile \u001B[38;5;241m=\u001B[39m \u001B[43mslide\u001B[49m\u001B[38;5;241;43m.\u001B[39;49m\u001B[43mread_region\u001B[49m\u001B[43m(\u001B[49m\n\u001B[1;32m     49\u001B[0m \u001B[43m            \u001B[49m\u001B[43m(\u001B[49m\u001B[43moffsetx\u001B[49m\u001B[43m,\u001B[49m\u001B[43m \u001B[49m\u001B[43moffsety\u001B[49m\u001B[43m)\u001B[49m\u001B[43m,\u001B[49m\u001B[43m \u001B[49m\u001B[43mz\u001B[49m\u001B[43m,\u001B[49m\n\u001B[1;32m     50\u001B[0m \u001B[43m            \u001B[49m\u001B[43m(\u001B[49m\u001B[43mtileWidth\u001B[49m\u001B[43m \u001B[49m\u001B[38;5;241;43m*\u001B[39;49m\u001B[43m \u001B[49m\u001B[43mscale\u001B[49m\u001B[43m,\u001B[49m\n\u001B[1;32m     51\u001B[0m \u001B[43m             \u001B[49m\u001B[43mtileHeight\u001B[49m\u001B[43m \u001B[49m\u001B[38;5;241;43m*\u001B[39;49m\u001B[43m \u001B[49m\u001B[43mscale\u001B[49m\u001B[43m)\u001B[49m\u001B[43m)\u001B[49m\n\u001B[1;32m     52\u001B[0m         \u001B[38;5;28;01mbreak\u001B[39;00m\n\u001B[1;32m     53\u001B[0m     \u001B[38;5;28;01mexcept\u001B[39;00m ops\u001B[38;5;241m.\u001B[39mlowlevel\u001B[38;5;241m.\u001B[39mOpenSlideError \u001B[38;5;28;01mas\u001B[39;00m exc:\n",
      "File \u001B[0;32m~/code/research/histotools/QuickAnnotator/venv/lib/python3.10/site-packages/openslide/__init__.py:251\u001B[0m, in \u001B[0;36mOpenSlide.read_region\u001B[0;34m(self, location, level, size)\u001B[0m\n\u001B[1;32m    241\u001B[0m \u001B[38;5;28;01mdef\u001B[39;00m \u001B[38;5;21mread_region\u001B[39m(\u001B[38;5;28mself\u001B[39m, location, level, size):\n\u001B[1;32m    242\u001B[0m \u001B[38;5;250m    \u001B[39m\u001B[38;5;124;03m\"\"\"Return a PIL.Image containing the contents of the region.\u001B[39;00m\n\u001B[1;32m    243\u001B[0m \n\u001B[1;32m    244\u001B[0m \u001B[38;5;124;03m    location: (x, y) tuple giving the top left pixel in the level 0\u001B[39;00m\n\u001B[0;32m   (...)\u001B[0m\n\u001B[1;32m    249\u001B[0m \u001B[38;5;124;03m    Unlike in the C interface, the image data returned by this\u001B[39;00m\n\u001B[1;32m    250\u001B[0m \u001B[38;5;124;03m    function is not premultiplied.\"\"\"\u001B[39;00m\n\u001B[0;32m--> 251\u001B[0m     region \u001B[38;5;241m=\u001B[39m \u001B[43mlowlevel\u001B[49m\u001B[38;5;241;43m.\u001B[39;49m\u001B[43mread_region\u001B[49m\u001B[43m(\u001B[49m\n\u001B[1;32m    252\u001B[0m \u001B[43m        \u001B[49m\u001B[38;5;28;43mself\u001B[39;49m\u001B[38;5;241;43m.\u001B[39;49m\u001B[43m_osr\u001B[49m\u001B[43m,\u001B[49m\u001B[43m \u001B[49m\u001B[43mlocation\u001B[49m\u001B[43m[\u001B[49m\u001B[38;5;241;43m0\u001B[39;49m\u001B[43m]\u001B[49m\u001B[43m,\u001B[49m\u001B[43m \u001B[49m\u001B[43mlocation\u001B[49m\u001B[43m[\u001B[49m\u001B[38;5;241;43m1\u001B[39;49m\u001B[43m]\u001B[49m\u001B[43m,\u001B[49m\u001B[43m \u001B[49m\u001B[43mlevel\u001B[49m\u001B[43m,\u001B[49m\u001B[43m \u001B[49m\u001B[43msize\u001B[49m\u001B[43m[\u001B[49m\u001B[38;5;241;43m0\u001B[39;49m\u001B[43m]\u001B[49m\u001B[43m,\u001B[49m\u001B[43m \u001B[49m\u001B[43msize\u001B[49m\u001B[43m[\u001B[49m\u001B[38;5;241;43m1\u001B[39;49m\u001B[43m]\u001B[49m\n\u001B[1;32m    253\u001B[0m \u001B[43m    \u001B[49m\u001B[43m)\u001B[49m\n\u001B[1;32m    254\u001B[0m     \u001B[38;5;28;01mif\u001B[39;00m \u001B[38;5;28mself\u001B[39m\u001B[38;5;241m.\u001B[39m_profile \u001B[38;5;129;01mis\u001B[39;00m \u001B[38;5;129;01mnot\u001B[39;00m \u001B[38;5;28;01mNone\u001B[39;00m:\n\u001B[1;32m    255\u001B[0m         region\u001B[38;5;241m.\u001B[39minfo[\u001B[38;5;124m'\u001B[39m\u001B[38;5;124micc_profile\u001B[39m\u001B[38;5;124m'\u001B[39m] \u001B[38;5;241m=\u001B[39m \u001B[38;5;28mself\u001B[39m\u001B[38;5;241m.\u001B[39m_profile\n",
      "File \u001B[0;32m~/code/research/histotools/QuickAnnotator/venv/lib/python3.10/site-packages/openslide/lowlevel.py:334\u001B[0m, in \u001B[0;36mread_region\u001B[0;34m(slide, x, y, level, w, h)\u001B[0m\n\u001B[1;32m    331\u001B[0m \u001B[38;5;28;01mif\u001B[39;00m w \u001B[38;5;241m==\u001B[39m \u001B[38;5;241m0\u001B[39m \u001B[38;5;129;01mor\u001B[39;00m h \u001B[38;5;241m==\u001B[39m \u001B[38;5;241m0\u001B[39m:\n\u001B[1;32m    332\u001B[0m     \u001B[38;5;66;03m# Image.frombuffer() would raise an exception\u001B[39;00m\n\u001B[1;32m    333\u001B[0m     \u001B[38;5;28;01mreturn\u001B[39;00m Image\u001B[38;5;241m.\u001B[39mnew(\u001B[38;5;124m'\u001B[39m\u001B[38;5;124mRGBA\u001B[39m\u001B[38;5;124m'\u001B[39m, (w, h))\n\u001B[0;32m--> 334\u001B[0m buf \u001B[38;5;241m=\u001B[39m (\u001B[43mw\u001B[49m\u001B[43m \u001B[49m\u001B[38;5;241;43m*\u001B[39;49m\u001B[43m \u001B[49m\u001B[43mh\u001B[49m\u001B[43m \u001B[49m\u001B[38;5;241;43m*\u001B[39;49m\u001B[43m \u001B[49m\u001B[43mc_uint32\u001B[49m)()\n\u001B[1;32m    335\u001B[0m _read_region(slide, buf, x, y, level, w, h)\n\u001B[1;32m    336\u001B[0m \u001B[38;5;28;01mreturn\u001B[39;00m _load_image(buf, (w, h))\n",
      "\u001B[0;31mTypeError\u001B[0m: can't multiply sequence by non-int of type 'float'"
     ]
    }
   ],
   "execution_count": 13
  },
  {
   "metadata": {},
   "cell_type": "code",
   "outputs": [],
   "execution_count": null,
   "source": "",
   "id": "1b1e768ed77429a5"
  }
 ],
 "metadata": {
  "kernelspec": {
   "display_name": "Python 3",
   "language": "python",
   "name": "python3"
  },
  "language_info": {
   "codemirror_mode": {
    "name": "ipython",
    "version": 2
   },
   "file_extension": ".py",
   "mimetype": "text/x-python",
   "name": "python",
   "nbconvert_exporter": "python",
   "pygments_lexer": "ipython2",
   "version": "2.7.6"
  }
 },
 "nbformat": 4,
 "nbformat_minor": 5
}
